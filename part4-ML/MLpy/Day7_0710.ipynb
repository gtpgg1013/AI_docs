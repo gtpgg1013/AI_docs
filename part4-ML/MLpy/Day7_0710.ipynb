{
 "cells": [
  {
   "cell_type": "code",
   "execution_count": 5,
   "metadata": {},
   "outputs": [],
   "source": [
    "# import re\n",
    "# names = \\\n",
    "# '''\n",
    "# kang 931111-1233222\n",
    "# kim 949222-2132232\n",
    "# '''\n",
    "# pat = re.compile(\"\\d{6}[-]\\d{7}\")\n",
    "# pat.sub(\"\\g<1>-*******\", names)"
   ]
  },
  {
   "cell_type": "code",
   "execution_count": 6,
   "metadata": {},
   "outputs": [],
   "source": [
    "import re"
   ]
  },
  {
   "cell_type": "code",
   "execution_count": 8,
   "metadata": {},
   "outputs": [
    {
     "data": {
      "text/plain": [
       "<re.Match object; span=(0, 1), match='d'>"
      ]
     },
     "execution_count": 8,
     "metadata": {},
     "output_type": "execute_result"
    }
   ],
   "source": [
    "pat = re.compile('[a-z]')\n",
    "pat.match(\"deep\")\n",
    "# 이렇게 하면 1글자만!"
   ]
  },
  {
   "cell_type": "code",
   "execution_count": 9,
   "metadata": {},
   "outputs": [
    {
     "data": {
      "text/plain": [
       "<re.Match object; span=(0, 4), match='deep'>"
      ]
     },
     "execution_count": 9,
     "metadata": {},
     "output_type": "execute_result"
    }
   ],
   "source": [
    "pat = re.compile('[a-z]+')\n",
    "pat.match(\"deep\")\n",
    "# 이렇게 하면 전체로!"
   ]
  },
  {
   "cell_type": "code",
   "execution_count": 13,
   "metadata": {},
   "outputs": [
    {
     "data": {
      "text/plain": [
       "<re.Match object; span=(0, 4), match='deep'>"
      ]
     },
     "execution_count": 13,
     "metadata": {},
     "output_type": "execute_result"
    }
   ],
   "source": [
    "pat = re.compile('[a-z]*')\n",
    "pat.match(\"deep\")\n",
    "# 이렇게 하면 전체로!"
   ]
  },
  {
   "cell_type": "code",
   "execution_count": 15,
   "metadata": {},
   "outputs": [
    {
     "data": {
      "text/plain": [
       "<re.Match object; span=(0, 2), match='hi'>"
      ]
     },
     "execution_count": 15,
     "metadata": {},
     "output_type": "execute_result"
    }
   ],
   "source": [
    "pat = re.compile('[a-z]*')\n",
    "pat.match(\"hi deep\")\n",
    "# hi만 되누"
   ]
  },
  {
   "cell_type": "code",
   "execution_count": 16,
   "metadata": {},
   "outputs": [
    {
     "data": {
      "text/plain": [
       "<re.Match object; span=(0, 7), match='hi deep'>"
      ]
     },
     "execution_count": 16,
     "metadata": {},
     "output_type": "execute_result"
    }
   ],
   "source": [
    "pat = re.compile('[ a-z]*')\n",
    "pat.match(\"hi deep\")\n",
    "# 스페이스 추가"
   ]
  },
  {
   "cell_type": "code",
   "execution_count": 17,
   "metadata": {},
   "outputs": [
    {
     "data": {
      "text/plain": [
       "<re.Match object; span=(0, 9), match='hi dee77p'>"
      ]
     },
     "execution_count": 17,
     "metadata": {},
     "output_type": "execute_result"
    }
   ],
   "source": [
    "pat = re.compile('[ a-z6-8]*')\n",
    "res = pat.match(\"hi dee77p\")\n",
    "# 걍 1칸 띄면 space 넣은것이다!"
   ]
  },
  {
   "cell_type": "code",
   "execution_count": 27,
   "metadata": {},
   "outputs": [
    {
     "name": "stdout",
     "output_type": "stream",
     "text": [
      "None\n",
      "fail\n"
     ]
    }
   ],
   "source": [
    "pat = re.compile('[a-z6-8]+')\n",
    "res = pat.match(\"3hi dee77p\")\n",
    "print(res)\n",
    "# 아무것도 못 찾으면 res가 None임\n",
    "# 그래서 이런식으로 많이 쓴다\n",
    "if res: # 객체 저장되었다면\n",
    "    print('matched')\n",
    "else: # 매치되이 않았다면 => 객체저장 x\n",
    "    print('fail')"
   ]
  },
  {
   "cell_type": "code",
   "execution_count": 29,
   "metadata": {},
   "outputs": [
    {
     "name": "stdout",
     "output_type": "stream",
     "text": [
      "matched\n",
      "hi dee77p\n"
     ]
    }
   ],
   "source": [
    "# 그래서 이런식으로 많이 쓴다\n",
    "pat = re.compile('[ a-z6-8]*')\n",
    "res = pat.match(\"hi dee77p\")\n",
    "\n",
    "if res: # 객체 저장되었다면\n",
    "    print('matched')\n",
    "    print(res.group())\n",
    "else: # 매치되이 않았다면 => 객체저장 x\n",
    "    print('fail')"
   ]
  },
  {
   "cell_type": "code",
   "execution_count": 35,
   "metadata": {},
   "outputs": [
    {
     "name": "stdout",
     "output_type": "stream",
     "text": [
      "matched\n",
      "a-z3\n"
     ]
    }
   ],
   "source": [
    "pat = re.compile('a-z[0-3]')\n",
    "res = pat.match(\"a-z323\")\n",
    "\n",
    "if res: # 객체 저장되었다면\n",
    "    print('matched')\n",
    "    print(res.group())\n",
    "else: # 매치되이 않았다면 => 객체저장 x\n",
    "    print('fail')"
   ]
  },
  {
   "cell_type": "code",
   "execution_count": 36,
   "metadata": {},
   "outputs": [
    {
     "name": "stdout",
     "output_type": "stream",
     "text": [
      "matched\n",
      "a-z\n"
     ]
    }
   ],
   "source": [
    "pat = re.compile('.{3}')\n",
    "res = pat.match(\"a-z323\")\n",
    "\n",
    "if res: # 객체 저장되었다면\n",
    "    print('matched')\n",
    "    print(res.group())\n",
    "else: # 매치되이 않았다면 => 객체저장 x\n",
    "    print('fail')"
   ]
  },
  {
   "cell_type": "code",
   "execution_count": 37,
   "metadata": {},
   "outputs": [
    {
     "name": "stdout",
     "output_type": "stream",
     "text": [
      "None\n"
     ]
    }
   ],
   "source": [
    "# match는 왼쪽에서부터 차례로! 안맞으면 종료!\n",
    "pat = re.compile('[a-z]+')\n",
    "res = pat.match(\"3 test\")\n",
    "print(res)"
   ]
  },
  {
   "cell_type": "code",
   "execution_count": 38,
   "metadata": {},
   "outputs": [
    {
     "name": "stdout",
     "output_type": "stream",
     "text": [
      "<re.Match object; span=(2, 6), match='test'>\n"
     ]
    }
   ],
   "source": [
    "# search는 문자열 전체 검색!\n",
    "res = pat.search(\"3 test\")\n",
    "print(res)"
   ]
  },
  {
   "cell_type": "code",
   "execution_count": 42,
   "metadata": {},
   "outputs": [
    {
     "data": {
      "text/plain": [
       "['life', 'is', 'too', 'short']"
      ]
     },
     "execution_count": 42,
     "metadata": {},
     "output_type": "execute_result"
    }
   ],
   "source": [
    "# 만족하는 모든 단어 데려와서 리스트로 리턴!\n",
    "pat.findall(\"7 life is too short\")"
   ]
  },
  {
   "cell_type": "code",
   "execution_count": 43,
   "metadata": {},
   "outputs": [],
   "source": [
    "pat.match('7 life is too short') # None"
   ]
  },
  {
   "cell_type": "code",
   "execution_count": 44,
   "metadata": {},
   "outputs": [
    {
     "data": {
      "text/plain": [
       "<re.Match object; span=(2, 6), match='life'>"
      ]
     },
     "execution_count": 44,
     "metadata": {},
     "output_type": "execute_result"
    }
   ],
   "source": [
    "pat.search('7 life is too short') # 딱 하나씩만"
   ]
  },
  {
   "cell_type": "code",
   "execution_count": 45,
   "metadata": {},
   "outputs": [
    {
     "name": "stdout",
     "output_type": "stream",
     "text": [
      "<callable_iterator object at 0x000001D04D19CB70>\n"
     ]
    }
   ],
   "source": [
    "res = pat.finditer('7 life is too short')\n",
    "print(res)"
   ]
  },
  {
   "cell_type": "code",
   "execution_count": null,
   "metadata": {},
   "outputs": [],
   "source": []
  }
 ],
 "metadata": {
  "kernelspec": {
   "display_name": "Python 3",
   "language": "python",
   "name": "python3"
  },
  "language_info": {
   "codemirror_mode": {
    "name": "ipython",
    "version": 3
   },
   "file_extension": ".py",
   "mimetype": "text/x-python",
   "name": "python",
   "nbconvert_exporter": "python",
   "pygments_lexer": "ipython3",
   "version": "3.7.3"
  }
 },
 "nbformat": 4,
 "nbformat_minor": 2
}
