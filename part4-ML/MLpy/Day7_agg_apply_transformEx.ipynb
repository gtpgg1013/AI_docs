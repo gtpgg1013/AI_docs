{
 "cells": [
  {
   "cell_type": "code",
   "execution_count": 1,
   "metadata": {},
   "outputs": [],
   "source": [
    "import numpy as np\n",
    "import pandas as pd"
   ]
  },
  {
   "cell_type": "code",
   "execution_count": 2,
   "metadata": {},
   "outputs": [],
   "source": [
    "import seaborn as sns\n",
    "titanic = sns.load_dataset('titanic')"
   ]
  },
  {
   "cell_type": "code",
   "execution_count": 3,
   "metadata": {},
   "outputs": [
    {
     "name": "stdout",
     "output_type": "stream",
     "text": [
      "<class 'pandas.core.frame.DataFrame'>\n",
      "RangeIndex: 891 entries, 0 to 890\n",
      "Data columns (total 15 columns):\n",
      "survived       891 non-null int64\n",
      "pclass         891 non-null int64\n",
      "sex            891 non-null object\n",
      "age            714 non-null float64\n",
      "sibsp          891 non-null int64\n",
      "parch          891 non-null int64\n",
      "fare           891 non-null float64\n",
      "embarked       889 non-null object\n",
      "class          891 non-null category\n",
      "who            891 non-null object\n",
      "adult_male     891 non-null bool\n",
      "deck           203 non-null category\n",
      "embark_town    889 non-null object\n",
      "alive          891 non-null object\n",
      "alone          891 non-null bool\n",
      "dtypes: bool(2), category(2), float64(2), int64(4), object(5)\n",
      "memory usage: 80.6+ KB\n"
     ]
    }
   ],
   "source": [
    "titanic.info()"
   ]
  },
  {
   "cell_type": "code",
   "execution_count": 4,
   "metadata": {},
   "outputs": [
    {
     "data": {
      "text/plain": [
       "13365"
      ]
     },
     "execution_count": 4,
     "metadata": {},
     "output_type": "execute_result"
    }
   ],
   "source": [
    "titanic.size"
   ]
  },
  {
   "cell_type": "code",
   "execution_count": 5,
   "metadata": {},
   "outputs": [],
   "source": [
    "def count_missing(data):\n",
    "    null_data = pd.isnull(data)\n",
    "    null_count = np.sum(null_data)\n",
    "    return null_count\n",
    "\n",
    "def prop_missing(data):\n",
    "    n = count_missing(data)\n",
    "    return n / data.size"
   ]
  },
  {
   "cell_type": "code",
   "execution_count": 10,
   "metadata": {},
   "outputs": [
    {
     "data": {
      "text/plain": [
       "survived      0\n",
       "pclass        0\n",
       "sex           0\n",
       "age         177\n",
       "sibsp         0\n",
       "dtype: int64"
      ]
     },
     "execution_count": 10,
     "metadata": {},
     "output_type": "execute_result"
    }
   ],
   "source": [
    "count_missing(titanic).head()"
   ]
  },
  {
   "cell_type": "code",
   "execution_count": 9,
   "metadata": {},
   "outputs": [
    {
     "data": {
      "text/plain": [
       "0    1\n",
       "1    0\n",
       "2    1\n",
       "3    0\n",
       "4    1\n",
       "dtype: int64"
      ]
     },
     "execution_count": 9,
     "metadata": {},
     "output_type": "execute_result"
    }
   ],
   "source": [
    "titanic.apply(count_missing, axis=1).head()\n",
    "# apply를 쓰는 이유! row/col을 선택가능!"
   ]
  },
  {
   "cell_type": "code",
   "execution_count": 18,
   "metadata": {},
   "outputs": [
    {
     "data": {
      "text/plain": [
       "881    0.066667\n",
       "882    0.066667\n",
       "883    0.066667\n",
       "884    0.066667\n",
       "885    0.066667\n",
       "886    0.066667\n",
       "887    0.000000\n",
       "888    0.133333\n",
       "889    0.000000\n",
       "890    0.066667\n",
       "dtype: float64"
      ]
     },
     "execution_count": 18,
     "metadata": {},
     "output_type": "execute_result"
    }
   ],
   "source": [
    "titanic.apply(prop_missing, axis=1).tail(10) \n",
    "# 아 이렇게 axis만 바꾸면 되서 짱 편하네!\n",
    "# apply 굿!"
   ]
  },
  {
   "cell_type": "code",
   "execution_count": 19,
   "metadata": {},
   "outputs": [
    {
     "data": {
      "text/plain": [
       "survived       0.000000\n",
       "pclass         0.000000\n",
       "sex            0.000000\n",
       "age            0.198653\n",
       "sibsp          0.000000\n",
       "parch          0.000000\n",
       "fare           0.000000\n",
       "embarked       0.002245\n",
       "class          0.000000\n",
       "who            0.000000\n",
       "adult_male     0.000000\n",
       "deck           0.772166\n",
       "embark_town    0.002245\n",
       "alive          0.000000\n",
       "alone          0.000000\n",
       "dtype: float64"
      ]
     },
     "execution_count": 19,
     "metadata": {},
     "output_type": "execute_result"
    }
   ],
   "source": [
    "titanic.apply(prop_missing,axis=0) #"
   ]
  },
  {
   "cell_type": "code",
   "execution_count": 15,
   "metadata": {},
   "outputs": [
    {
     "data": {
      "text/plain": [
       "array([1952, 1957, 1962, 1967, 1972, 1977, 1982, 1987, 1992, 1997, 2002,\n",
       "       2007], dtype=int64)"
      ]
     },
     "execution_count": 15,
     "metadata": {},
     "output_type": "execute_result"
    }
   ],
   "source": [
    "df=pd.read_csv(\"data_0705/gapminder.tsv\",sep=\"\\t\")\n",
    "df\n",
    "df.groupby('year').lifeExp.mean()\n",
    "df.year.unique()"
   ]
  },
  {
   "cell_type": "code",
   "execution_count": 21,
   "metadata": {},
   "outputs": [
    {
     "data": {
      "text/plain": [
       "49.05761971830987"
      ]
     },
     "execution_count": 21,
     "metadata": {},
     "output_type": "execute_result"
    }
   ],
   "source": [
    "y1952=df[df.year==1952]\n",
    "y1952\n",
    "y1952_mean=y1952.lifeExp.mean()\n",
    "y1952_mean"
   ]
  },
  {
   "cell_type": "code",
   "execution_count": 24,
   "metadata": {},
   "outputs": [
    {
     "data": {
      "text/html": [
       "<div>\n",
       "<style scoped>\n",
       "    .dataframe tbody tr th:only-of-type {\n",
       "        vertical-align: middle;\n",
       "    }\n",
       "\n",
       "    .dataframe tbody tr th {\n",
       "        vertical-align: top;\n",
       "    }\n",
       "\n",
       "    .dataframe thead th {\n",
       "        text-align: right;\n",
       "    }\n",
       "</style>\n",
       "<table border=\"1\" class=\"dataframe\">\n",
       "  <thead>\n",
       "    <tr style=\"text-align: right;\">\n",
       "      <th></th>\n",
       "      <th>country</th>\n",
       "      <th>continent</th>\n",
       "      <th>year</th>\n",
       "      <th>lifeExp</th>\n",
       "      <th>pop</th>\n",
       "      <th>gdpPercap</th>\n",
       "    </tr>\n",
       "  </thead>\n",
       "  <tbody>\n",
       "    <tr>\n",
       "      <th>0</th>\n",
       "      <td>Afghanistan</td>\n",
       "      <td>Asia</td>\n",
       "      <td>1952</td>\n",
       "      <td>28.801</td>\n",
       "      <td>8425333</td>\n",
       "      <td>779.445314</td>\n",
       "    </tr>\n",
       "    <tr>\n",
       "      <th>12</th>\n",
       "      <td>Albania</td>\n",
       "      <td>Europe</td>\n",
       "      <td>1952</td>\n",
       "      <td>55.230</td>\n",
       "      <td>1282697</td>\n",
       "      <td>1601.056136</td>\n",
       "    </tr>\n",
       "    <tr>\n",
       "      <th>24</th>\n",
       "      <td>Algeria</td>\n",
       "      <td>Africa</td>\n",
       "      <td>1952</td>\n",
       "      <td>43.077</td>\n",
       "      <td>9279525</td>\n",
       "      <td>2449.008185</td>\n",
       "    </tr>\n",
       "    <tr>\n",
       "      <th>36</th>\n",
       "      <td>Angola</td>\n",
       "      <td>Africa</td>\n",
       "      <td>1952</td>\n",
       "      <td>30.015</td>\n",
       "      <td>4232095</td>\n",
       "      <td>3520.610273</td>\n",
       "    </tr>\n",
       "    <tr>\n",
       "      <th>48</th>\n",
       "      <td>Argentina</td>\n",
       "      <td>Americas</td>\n",
       "      <td>1952</td>\n",
       "      <td>62.485</td>\n",
       "      <td>17876956</td>\n",
       "      <td>5911.315053</td>\n",
       "    </tr>\n",
       "    <tr>\n",
       "      <th>60</th>\n",
       "      <td>Australia</td>\n",
       "      <td>Oceania</td>\n",
       "      <td>1952</td>\n",
       "      <td>69.120</td>\n",
       "      <td>8691212</td>\n",
       "      <td>10039.595640</td>\n",
       "    </tr>\n",
       "    <tr>\n",
       "      <th>72</th>\n",
       "      <td>Austria</td>\n",
       "      <td>Europe</td>\n",
       "      <td>1952</td>\n",
       "      <td>66.800</td>\n",
       "      <td>6927772</td>\n",
       "      <td>6137.076492</td>\n",
       "    </tr>\n",
       "    <tr>\n",
       "      <th>84</th>\n",
       "      <td>Bahrain</td>\n",
       "      <td>Asia</td>\n",
       "      <td>1952</td>\n",
       "      <td>50.939</td>\n",
       "      <td>120447</td>\n",
       "      <td>9867.084765</td>\n",
       "    </tr>\n",
       "    <tr>\n",
       "      <th>96</th>\n",
       "      <td>Bangladesh</td>\n",
       "      <td>Asia</td>\n",
       "      <td>1952</td>\n",
       "      <td>37.484</td>\n",
       "      <td>46886859</td>\n",
       "      <td>684.244172</td>\n",
       "    </tr>\n",
       "    <tr>\n",
       "      <th>108</th>\n",
       "      <td>Belgium</td>\n",
       "      <td>Europe</td>\n",
       "      <td>1952</td>\n",
       "      <td>68.000</td>\n",
       "      <td>8730405</td>\n",
       "      <td>8343.105127</td>\n",
       "    </tr>\n",
       "  </tbody>\n",
       "</table>\n",
       "</div>"
      ],
      "text/plain": [
       "         country continent  year  lifeExp       pop     gdpPercap\n",
       "0    Afghanistan      Asia  1952   28.801   8425333    779.445314\n",
       "12       Albania    Europe  1952   55.230   1282697   1601.056136\n",
       "24       Algeria    Africa  1952   43.077   9279525   2449.008185\n",
       "36        Angola    Africa  1952   30.015   4232095   3520.610273\n",
       "48     Argentina  Americas  1952   62.485  17876956   5911.315053\n",
       "60     Australia   Oceania  1952   69.120   8691212  10039.595640\n",
       "72       Austria    Europe  1952   66.800   6927772   6137.076492\n",
       "84       Bahrain      Asia  1952   50.939    120447   9867.084765\n",
       "96    Bangladesh      Asia  1952   37.484  46886859    684.244172\n",
       "108      Belgium    Europe  1952   68.000   8730405   8343.105127"
      ]
     },
     "execution_count": 24,
     "metadata": {},
     "output_type": "execute_result"
    }
   ],
   "source": [
    "y1952=df[df.year==1952]\n",
    "y1952.head(10)"
   ]
  },
  {
   "cell_type": "code",
   "execution_count": 26,
   "metadata": {},
   "outputs": [
    {
     "data": {
      "text/plain": [
       "year\n",
       "1952    49.057620\n",
       "1957    51.507401\n",
       "1962    53.609249\n",
       "1967    55.678290\n",
       "1972    57.647386\n",
       "1977    59.570157\n",
       "1982    61.533197\n",
       "1987    63.212613\n",
       "1992    64.160338\n",
       "1997    65.014676\n",
       "2002    65.694923\n",
       "2007    67.007423\n",
       "Name: lifeExp, dtype: float64"
      ]
     },
     "execution_count": 26,
     "metadata": {},
     "output_type": "execute_result"
    }
   ],
   "source": [
    "df.groupby('year')['lifeExp'].mean() \n",
    "# 보통 이런식으로 우리는 써왔다 => group화한 후, 통계함수 적용!"
   ]
  },
  {
   "cell_type": "code",
   "execution_count": 27,
   "metadata": {},
   "outputs": [
    {
     "data": {
      "text/plain": [
       "year\n",
       "1952    49.057620\n",
       "1957    51.507401\n",
       "1962    53.609249\n",
       "1967    55.678290\n",
       "1972    57.647386\n",
       "1977    59.570157\n",
       "1982    61.533197\n",
       "1987    63.212613\n",
       "1992    64.160338\n",
       "1997    65.014676\n",
       "2002    65.694923\n",
       "2007    67.007423\n",
       "Name: lifeExp, dtype: float64"
      ]
     },
     "execution_count": 27,
     "metadata": {},
     "output_type": "execute_result"
    }
   ],
   "source": [
    "# 하지만 '내가 직접 만든 함수로' 더 복잡한 연산도 실행시킬 수 있다!\n",
    "df.groupby('year')['lifeExp'].agg(np.mean)"
   ]
  },
  {
   "cell_type": "code",
   "execution_count": 28,
   "metadata": {},
   "outputs": [
    {
     "data": {
      "text/plain": [
       "year\n",
       "1952    72.670\n",
       "1957    73.470\n",
       "1962    73.680\n",
       "1967    74.160\n",
       "1972    74.720\n",
       "1977    76.110\n",
       "1982    77.110\n",
       "1987    78.670\n",
       "1992    79.360\n",
       "1997    80.690\n",
       "2002    82.000\n",
       "2007    82.603\n",
       "Name: lifeExp, dtype: float64"
      ]
     },
     "execution_count": 28,
     "metadata": {},
     "output_type": "execute_result"
    }
   ],
   "source": [
    "df.groupby('year')['lifeExp'].agg(np.max)"
   ]
  },
  {
   "cell_type": "code",
   "execution_count": 29,
   "metadata": {},
   "outputs": [
    {
     "data": {
      "text/plain": [
       "year\n",
       "1952    142.0\n",
       "1957    142.0\n",
       "1962    142.0\n",
       "1967    142.0\n",
       "1972    142.0\n",
       "1977    142.0\n",
       "1982    142.0\n",
       "1987    142.0\n",
       "1992    142.0\n",
       "1997    142.0\n",
       "2002    142.0\n",
       "2007    142.0\n",
       "Name: lifeExp, dtype: float64"
      ]
     },
     "execution_count": 29,
     "metadata": {},
     "output_type": "execute_result"
    }
   ],
   "source": [
    "df.groupby('year')['lifeExp'].agg(np.size)"
   ]
  },
  {
   "cell_type": "code",
   "execution_count": 30,
   "metadata": {},
   "outputs": [],
   "source": [
    "def myMean(v): # 요놈은 만들떄부터 '한 행'을 가지고 연산하는걸로 만듬!\n",
    "    n = len(v)\n",
    "    sum = 0\n",
    "    for val in v:\n",
    "        sum += val\n",
    "    return sum / n"
   ]
  },
  {
   "cell_type": "code",
   "execution_count": 32,
   "metadata": {},
   "outputs": [
    {
     "data": {
      "text/plain": [
       "59.47443936619713"
      ]
     },
     "execution_count": 32,
     "metadata": {},
     "output_type": "execute_result"
    }
   ],
   "source": [
    "myMean(df['lifeExp']) "
   ]
  },
  {
   "cell_type": "code",
   "execution_count": 35,
   "metadata": {},
   "outputs": [
    {
     "name": "stdout",
     "output_type": "stream",
     "text": [
      "<class 'pandas.core.frame.DataFrame'>\n",
      "RangeIndex: 1704 entries, 0 to 1703\n",
      "Data columns (total 6 columns):\n",
      "country      1704 non-null object\n",
      "continent    1704 non-null object\n",
      "year         1704 non-null int64\n",
      "lifeExp      1704 non-null float64\n",
      "pop          1704 non-null int64\n",
      "gdpPercap    1704 non-null float64\n",
      "dtypes: float64(2), int64(2), object(2)\n",
      "memory usage: 80.0+ KB\n"
     ]
    },
    {
     "data": {
      "text/plain": [
       "continent  year\n",
       "Africa     1952    4.570010e+06\n",
       "           1957    5.093033e+06\n",
       "           1962    5.702247e+06\n",
       "           1967    6.447875e+06\n",
       "           1972    7.305376e+06\n",
       "           1977    8.328097e+06\n",
       "           1982    9.602857e+06\n",
       "           1987    1.105450e+07\n",
       "           1992    1.267464e+07\n",
       "           1997    1.430448e+07\n",
       "           2002    1.603315e+07\n",
       "           2007    1.787576e+07\n",
       "Americas   1952    1.380610e+07\n",
       "           1957    1.547816e+07\n",
       "           1962    1.733081e+07\n",
       "           1967    1.922986e+07\n",
       "           1972    2.117537e+07\n",
       "           1977    2.312271e+07\n",
       "           1982    2.521164e+07\n",
       "           1987    2.731016e+07\n",
       "           1992    2.957096e+07\n",
       "           1997    3.187602e+07\n",
       "           2002    3.399091e+07\n",
       "           2007    3.595485e+07\n",
       "Asia       1952    4.228356e+07\n",
       "           1957    4.735699e+07\n",
       "           1962    5.140476e+07\n",
       "           1967    5.774736e+07\n",
       "           1972    6.518098e+07\n",
       "           1977    7.225799e+07\n",
       "           1982    7.909502e+07\n",
       "           1987    8.700669e+07\n",
       "           1992    9.494825e+07\n",
       "           1997    1.025238e+08\n",
       "           2002    1.091455e+08\n",
       "           2007    1.155138e+08\n",
       "Europe     1952    1.393736e+07\n",
       "           1957    1.459635e+07\n",
       "           1962    1.534517e+07\n",
       "           1967    1.603930e+07\n",
       "           1972    1.668784e+07\n",
       "           1977    1.723882e+07\n",
       "           1982    1.770890e+07\n",
       "           1987    1.810314e+07\n",
       "           1992    1.860476e+07\n",
       "           1997    1.896480e+07\n",
       "           2002    1.927413e+07\n",
       "           2007    1.953662e+07\n",
       "Oceania    1952    5.343003e+06\n",
       "           1957    5.970988e+06\n",
       "           1962    6.641759e+06\n",
       "           1967    7.300207e+06\n",
       "           1972    8.053050e+06\n",
       "           1977    8.619500e+06\n",
       "           1982    9.197425e+06\n",
       "           1987    9.787208e+06\n",
       "           1992    1.045983e+07\n",
       "           1997    1.112072e+07\n",
       "           2002    1.172741e+07\n",
       "           2007    1.227497e+07\n",
       "Name: pop, dtype: float64"
      ]
     },
     "execution_count": 35,
     "metadata": {},
     "output_type": "execute_result"
    }
   ],
   "source": [
    "# 근데 만약에 이걸 그룹화 한다면?\n",
    "df.info()\n",
    "df.groupby(['continent','year'])['pop'].agg(myMean)\n",
    "# 요런식으로 사용할 수 있을것이다\n",
    "# => 보통 만드는 function은 행과 열에 대해서 적용하는 걸로 만든당"
   ]
  },
  {
   "cell_type": "code",
   "execution_count": 36,
   "metadata": {},
   "outputs": [],
   "source": [
    "df = pd.DataFrame(data={'data1': np.random.normal(4),\n",
    "                        'data2': np.random.normal(4),\n",
    "                        'key1' : ['a','a','b','b'],\n",
    "                         })"
   ]
  },
  {
   "cell_type": "code",
   "execution_count": 45,
   "metadata": {},
   "outputs": [
    {
     "data": {
      "text/plain": [
       "<re.Match object; span=(0, 34), match='sflnfdslnksf@sldfknlfs.com.com.com'>"
      ]
     },
     "execution_count": 45,
     "metadata": {},
     "output_type": "execute_result"
    }
   ],
   "source": [
    "import re\n",
    "pat = re.compile('.*@.+(\\.[^@\\s\\.]+)+')\n",
    "pat.match('sflnfdslnksf@sldfknlfs.com.com.com')"
   ]
  },
  {
   "cell_type": "code",
   "execution_count": null,
   "metadata": {},
   "outputs": [],
   "source": []
  }
 ],
 "metadata": {
  "kernelspec": {
   "display_name": "Python 3",
   "language": "python",
   "name": "python3"
  },
  "language_info": {
   "codemirror_mode": {
    "name": "ipython",
    "version": 3
   },
   "file_extension": ".py",
   "mimetype": "text/x-python",
   "name": "python",
   "nbconvert_exporter": "python",
   "pygments_lexer": "ipython3",
   "version": "3.7.3"
  }
 },
 "nbformat": 4,
 "nbformat_minor": 2
}
