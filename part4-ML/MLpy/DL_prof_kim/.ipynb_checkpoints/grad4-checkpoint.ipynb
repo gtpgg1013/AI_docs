{
 "cells": [
  {
   "cell_type": "code",
   "execution_count": 38,
   "metadata": {},
   "outputs": [],
   "source": [
    "import tensorflow as tf\n",
    "import numpy as np\n",
    "\n",
    "tf.set_random_seed(777)\n",
    "## 그래프 생성 부분\n",
    "xtrain = np.array([[1.,1.,1.],[1.,2.,3.]]) # 하나당 하나의 b까지 포함\n",
    "ytrain = np.array([1.,2.,3.]).reshape(1,-1)\n",
    "x = tf.placeholder(dtype=tf.float32, shape=[2,None]) \n",
    "y = tf.placeholder(dtype=tf.float32, shape=[1,None])\n",
    "# b = tf.Variable(tf.random_uniform([1,1]), name='bias') # 이렇게 해야 2차원으로 만들어지네!\n",
    "w = tf.Variable([[1.,2.]], name='weight')\n",
    "hf = tf.matmul(w,x)\n",
    "cost = tf.reduce_mean(tf.square(hf-y))\n",
    "\n",
    "lr = 0.02\n",
    "gradient_b = tf.reduce_mean(hf-y)\n",
    "gradient_w = tf.reduce_mean((hf-y)*xtrain[1])\n",
    "temp = tf.reshape(tf.stack([gradient_b, gradient_w], axis=0),[1,2])\n",
    "# 밑으로 붙이는 함수!\n",
    "# 그래프를 상상하라! 그냥 variable은 '선언'하는 노드지 '합치는' 노드가 아니다!\n",
    "# 만약에 여러개의 텐서(혹은 스칼라값)을 하나로 묶으려면 tf.stack함수 활용하라! (크기맞출땐 reshape)\n",
    "descent = w - lr*temp\n",
    "update = tf.assign(w,descent)\n",
    "\n",
    "sess = tf.Session()\n",
    "init = tf.global_variables_initializer()\n",
    "sess.run(init)"
   ]
  },
  {
   "cell_type": "code",
   "execution_count": 41,
   "metadata": {},
   "outputs": [
    {
     "name": "stdout",
     "output_type": "stream",
     "text": [
      "0\n",
      "cost: 7.647451877593994\n",
      "w: [[0.94      1.8666667]]\n",
      "2000\n",
      "cost: 2.0722945919260383e-06\n",
      "w: [[0.00380069 0.9983281 ]]\n",
      "4000\n",
      "cost: 1.3728158887449382e-10\n",
      "w: [[3.0993833e-05 9.9998635e-01]]\n",
      "6000\n",
      "cost: 3.069544618483633e-12\n",
      "w: [[4.3504970e-06 9.9999785e-01]]\n",
      "8000\n",
      "cost: 3.069544618483633e-12\n",
      "w: [[4.3504970e-06 9.9999785e-01]]\n",
      "10000\n",
      "cost: 3.069544618483633e-12\n",
      "w: [[4.3504970e-06 9.9999785e-01]]\n",
      "12000\n",
      "cost: 3.069544618483633e-12\n",
      "w: [[4.3504970e-06 9.9999785e-01]]\n",
      "14000\n",
      "cost: 3.069544618483633e-12\n",
      "w: [[4.3504970e-06 9.9999785e-01]]\n",
      "16000\n",
      "cost: 3.069544618483633e-12\n",
      "w: [[4.3504970e-06 9.9999785e-01]]\n",
      "18000\n",
      "cost: 3.069544618483633e-12\n",
      "w: [[4.3504970e-06 9.9999785e-01]]\n",
      "20000\n",
      "cost: 3.069544618483633e-12\n",
      "w: [[4.3504970e-06 9.9999785e-01]]\n",
      "[[99.999794]]\n"
     ]
    }
   ],
   "source": [
    "for step in range(20001):\n",
    "    sess.run(update, feed_dict={x:xtrain,y:ytrain})\n",
    "    if step%2000==0:\n",
    "        print(step)\n",
    "        print(\"cost: {}\".format(sess.run(cost,feed_dict={x:xtrain,y:ytrain})))\n",
    "        print(\"w: {}\".format(sess.run(w,feed_dict={x:xtrain,y:ytrain})))\n",
    "print(sess.run(hf,feed_dict={x:[[1.],[100.]]}))"
   ]
  },
  {
   "cell_type": "code",
   "execution_count": 39,
   "metadata": {},
   "outputs": [
    {
     "data": {
      "text/plain": [
       "<tf.Tensor 'Reshape_12:0' shape=(1, 2) dtype=float32>"
      ]
     },
     "execution_count": 39,
     "metadata": {},
     "output_type": "execute_result"
    }
   ],
   "source": [
    "temp"
   ]
  },
  {
   "cell_type": "code",
   "execution_count": 40,
   "metadata": {},
   "outputs": [
    {
     "data": {
      "text/plain": [
       "<tf.Variable 'weight_16:0' shape=(1, 2) dtype=float32_ref>"
      ]
     },
     "execution_count": 40,
     "metadata": {},
     "output_type": "execute_result"
    }
   ],
   "source": [
    "w"
   ]
  },
  {
   "cell_type": "code",
   "execution_count": 46,
   "metadata": {},
   "outputs": [
    {
     "data": {
      "text/plain": [
       "<tf.Tensor 'stack_18:0' shape=(2,) dtype=float32>"
      ]
     },
     "execution_count": 46,
     "metadata": {},
     "output_type": "execute_result"
    }
   ],
   "source": [
    "tf.stack([gradient_b, gradient_w], axis=0)"
   ]
  },
  {
   "cell_type": "code",
   "execution_count": null,
   "metadata": {},
   "outputs": [],
   "source": []
  }
 ],
 "metadata": {
  "kernelspec": {
   "display_name": "Python 3",
   "language": "python",
   "name": "python3"
  },
  "language_info": {
   "codemirror_mode": {
    "name": "ipython",
    "version": 3
   },
   "file_extension": ".py",
   "mimetype": "text/x-python",
   "name": "python",
   "nbconvert_exporter": "python",
   "pygments_lexer": "ipython3",
   "version": "3.7.3"
  }
 },
 "nbformat": 4,
 "nbformat_minor": 2
}
