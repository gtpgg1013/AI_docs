{
  "nbformat": 4,
  "nbformat_minor": 0,
  "metadata": {
    "colab": {
      "name": "seq2seq_tutorial_0918.ipynb",
      "provenance": []
    },
    "kernelspec": {
      "name": "python3",
      "display_name": "Python 3"
    },
    "accelerator": "GPU"
  },
  "cells": [
    {
      "cell_type": "code",
      "metadata": {
        "id": "ApswHvX_q4o6",
        "colab_type": "code",
        "colab": {
          "base_uri": "https://localhost:8080/",
          "height": 127
        },
        "outputId": "a57b8a8a-5f18-40ef-8643-a1955030bbcb"
      },
      "source": [
        "import pandas as pd\n",
        "import matplotlib.pyplot as plt\n",
        "import seaborn as sns\n",
        "import tensorflow as tf\n",
        "import numpy as np\n",
        "\n",
        "from google.colab import drive\n",
        "drive.mount('/content/drive')"
      ],
      "execution_count": 1,
      "outputs": [
        {
          "output_type": "stream",
          "text": [
            "Go to this URL in a browser: https://accounts.google.com/o/oauth2/auth?client_id=947318989803-6bn6qk8qdgf4n4g3pfee6491hc0brc4i.apps.googleusercontent.com&redirect_uri=urn%3Aietf%3Awg%3Aoauth%3A2.0%3Aoob&scope=email%20https%3A%2F%2Fwww.googleapis.com%2Fauth%2Fdocs.test%20https%3A%2F%2Fwww.googleapis.com%2Fauth%2Fdrive%20https%3A%2F%2Fwww.googleapis.com%2Fauth%2Fdrive.photos.readonly%20https%3A%2F%2Fwww.googleapis.com%2Fauth%2Fpeopleapi.readonly&response_type=code\n",
            "\n",
            "Enter your authorization code:\n",
            "··········\n",
            "Mounted at /content/drive\n"
          ],
          "name": "stdout"
        }
      ]
    },
    {
      "cell_type": "code",
      "metadata": {
        "id": "maaMmHY2rBWn",
        "colab_type": "code",
        "colab": {
          "base_uri": "https://localhost:8080/",
          "height": 35
        },
        "outputId": "c12484f0-ac97-4a4c-ca09-bbf1dd5b0bb8"
      },
      "source": [
        "colabdir = '/content/drive/My Drive/Colab Notebooks'\n",
        "import os\n",
        "import pandas as pd\n",
        "df = pd.read_csv(os.path.join(colabdir,'fra.txt'), names=['eng','fra'], sep='\\t', header=None)\n",
        "len(df)"
      ],
      "execution_count": 2,
      "outputs": [
        {
          "output_type": "execute_result",
          "data": {
            "text/plain": [
              "170190"
            ]
          },
          "metadata": {
            "tags": []
          },
          "execution_count": 2
        }
      ]
    },
    {
      "cell_type": "code",
      "metadata": {
        "id": "MNL5qhrNrSkR",
        "colab_type": "code",
        "colab": {}
      },
      "source": [
        "df.columns = ['eng', 'fra']"
      ],
      "execution_count": 0,
      "outputs": []
    },
    {
      "cell_type": "code",
      "metadata": {
        "id": "GraSjhvqrTkc",
        "colab_type": "code",
        "colab": {
          "base_uri": "https://localhost:8080/",
          "height": 272
        },
        "outputId": "98ae59c6-4fb5-40fb-8bbd-4bb553f562a6"
      },
      "source": [
        "df.tail()"
      ],
      "execution_count": 4,
      "outputs": [
        {
          "output_type": "execute_result",
          "data": {
            "text/html": [
              "<div>\n",
              "<style scoped>\n",
              "    .dataframe tbody tr th:only-of-type {\n",
              "        vertical-align: middle;\n",
              "    }\n",
              "\n",
              "    .dataframe tbody tr th {\n",
              "        vertical-align: top;\n",
              "    }\n",
              "\n",
              "    .dataframe thead th {\n",
              "        text-align: right;\n",
              "    }\n",
              "</style>\n",
              "<table border=\"1\" class=\"dataframe\">\n",
              "  <thead>\n",
              "    <tr style=\"text-align: right;\">\n",
              "      <th></th>\n",
              "      <th>eng</th>\n",
              "      <th>fra</th>\n",
              "    </tr>\n",
              "  </thead>\n",
              "  <tbody>\n",
              "    <tr>\n",
              "      <th>170185</th>\n",
              "      <td>A carbon footprint is the amount of carbon dio...</td>\n",
              "      <td>Une empreinte carbone est la somme de pollutio...</td>\n",
              "    </tr>\n",
              "    <tr>\n",
              "      <th>170186</th>\n",
              "      <td>Death is something that we're often discourage...</td>\n",
              "      <td>La mort est une chose qu'on nous décourage sou...</td>\n",
              "    </tr>\n",
              "    <tr>\n",
              "      <th>170187</th>\n",
              "      <td>Since there are usually multiple websites on a...</td>\n",
              "      <td>Puisqu'il y a de multiples sites web sur chaqu...</td>\n",
              "    </tr>\n",
              "    <tr>\n",
              "      <th>170188</th>\n",
              "      <td>If someone who doesn't know your background sa...</td>\n",
              "      <td>Si quelqu'un qui ne connaît pas vos antécédent...</td>\n",
              "    </tr>\n",
              "    <tr>\n",
              "      <th>170189</th>\n",
              "      <td>It may be impossible to get a completely error...</td>\n",
              "      <td>Il est peut-être impossible d'obtenir un Corpu...</td>\n",
              "    </tr>\n",
              "  </tbody>\n",
              "</table>\n",
              "</div>"
            ],
            "text/plain": [
              "                                                      eng                                                fra\n",
              "170185  A carbon footprint is the amount of carbon dio...  Une empreinte carbone est la somme de pollutio...\n",
              "170186  Death is something that we're often discourage...  La mort est une chose qu'on nous décourage sou...\n",
              "170187  Since there are usually multiple websites on a...  Puisqu'il y a de multiples sites web sur chaqu...\n",
              "170188  If someone who doesn't know your background sa...  Si quelqu'un qui ne connaît pas vos antécédent...\n",
              "170189  It may be impossible to get a completely error...  Il est peut-être impossible d'obtenir un Corpu..."
            ]
          },
          "metadata": {
            "tags": []
          },
          "execution_count": 4
        }
      ]
    },
    {
      "cell_type": "code",
      "metadata": {
        "id": "H1LcF3NCrUYy",
        "colab_type": "code",
        "colab": {
          "base_uri": "https://localhost:8080/",
          "height": 35
        },
        "outputId": "a2fdd609-003c-452b-fd53-98ebe7a2213f"
      },
      "source": [
        "from keras.preprocessing.text import Tokenizer"
      ],
      "execution_count": 5,
      "outputs": [
        {
          "output_type": "stream",
          "text": [
            "Using TensorFlow backend.\n"
          ],
          "name": "stderr"
        }
      ]
    },
    {
      "cell_type": "code",
      "metadata": {
        "id": "fsD5hjO_rVmz",
        "colab_type": "code",
        "colab": {}
      },
      "source": [
        "eng_tok = Tokenizer(char_level=True)"
      ],
      "execution_count": 0,
      "outputs": []
    },
    {
      "cell_type": "code",
      "metadata": {
        "id": "y0aBoB5_rWc7",
        "colab_type": "code",
        "colab": {}
      },
      "source": [
        "eng_tok.fit_on_texts(df['eng'].tolist())"
      ],
      "execution_count": 0,
      "outputs": []
    },
    {
      "cell_type": "code",
      "metadata": {
        "id": "vPI4H5ckrYAY",
        "colab_type": "code",
        "colab": {}
      },
      "source": [
        "eng_data = eng_tok.texts_to_sequences(df['eng'].tolist())"
      ],
      "execution_count": 0,
      "outputs": []
    },
    {
      "cell_type": "code",
      "metadata": {
        "id": "A726wO9Yrhcf",
        "colab_type": "code",
        "colab": {}
      },
      "source": [
        "fra_tok = Tokenizer(char_level=True)\n",
        "fra_tok.fit_on_texts(df['fra'].tolist())\n",
        "fra_data = fra_tok.texts_to_sequences(df['fra'].tolist())"
      ],
      "execution_count": 0,
      "outputs": []
    },
    {
      "cell_type": "code",
      "metadata": {
        "id": "whe2WgzrriyW",
        "colab_type": "code",
        "colab": {}
      },
      "source": [
        "fra_tok.word_index['<START>'] = len(fra_tok.word_index) + 1\n",
        "fra_tok.word_index['<END>'] = len(fra_tok.word_index) + 1"
      ],
      "execution_count": 0,
      "outputs": []
    },
    {
      "cell_type": "code",
      "metadata": {
        "id": "kw1JUMdrrkiz",
        "colab_type": "code",
        "colab": {}
      },
      "source": [
        "new_fra_data = []\n",
        "for s in fra_data:\n",
        "    new_s = [fra_tok.word_index['<START>']] + s + [fra_tok.word_index['<END>']]\n",
        "    new_fra_data.append(new_s)\n",
        "fra_data = new_fra_data"
      ],
      "execution_count": 0,
      "outputs": []
    },
    {
      "cell_type": "code",
      "metadata": {
        "id": "Fw0g0DeJrllq",
        "colab_type": "code",
        "colab": {}
      },
      "source": [
        "NUM_ENG_CHAR = len(eng_tok.word_index) + 1\n",
        "NUM_FRA_CHAR = len(fra_tok.word_index) + 1"
      ],
      "execution_count": 0,
      "outputs": []
    },
    {
      "cell_type": "code",
      "metadata": {
        "id": "NrdlxufbrmlF",
        "colab_type": "code",
        "colab": {}
      },
      "source": [
        "from keras.preprocessing.sequence import pad_sequences"
      ],
      "execution_count": 0,
      "outputs": []
    },
    {
      "cell_type": "code",
      "metadata": {
        "id": "WBN3ciw9rndm",
        "colab_type": "code",
        "colab": {}
      },
      "source": [
        "eng_pad = pad_sequences(eng_data, padding='pre')\n",
        "fra_pad = pad_sequences(fra_data, padding='post')"
      ],
      "execution_count": 0,
      "outputs": []
    },
    {
      "cell_type": "code",
      "metadata": {
        "id": "cj_RpX5prqCh",
        "colab_type": "code",
        "colab": {
          "base_uri": "https://localhost:8080/",
          "height": 145
        },
        "outputId": "a14bc6a5-58a2-4979-d6cb-c4d04d8b462a"
      },
      "source": [
        "from keras.models import Model\n",
        "from keras.layers import Dense, Embedding, Input, LSTM\n",
        "\n",
        "enc_input = Input(shape=(None, NUM_ENG_CHAR))\n",
        "encoder = LSTM(16, return_state=True, return_sequences=False)\n",
        "enc_output, state_h, state_c = encoder(enc_input)\n",
        "enc_state = [state_h, state_c]"
      ],
      "execution_count": 19,
      "outputs": [
        {
          "output_type": "stream",
          "text": [
            "WARNING:tensorflow:From /usr/local/lib/python3.6/dist-packages/keras/backend/tensorflow_backend.py:66: The name tf.get_default_graph is deprecated. Please use tf.compat.v1.get_default_graph instead.\n",
            "\n",
            "WARNING:tensorflow:From /usr/local/lib/python3.6/dist-packages/keras/backend/tensorflow_backend.py:541: The name tf.placeholder is deprecated. Please use tf.compat.v1.placeholder instead.\n",
            "\n",
            "WARNING:tensorflow:From /usr/local/lib/python3.6/dist-packages/keras/backend/tensorflow_backend.py:4432: The name tf.random_uniform is deprecated. Please use tf.random.uniform instead.\n",
            "\n"
          ],
          "name": "stdout"
        }
      ]
    },
    {
      "cell_type": "code",
      "metadata": {
        "id": "346OT-DJrzda",
        "colab_type": "code",
        "colab": {}
      },
      "source": [
        "dec_input = Input(shape=(None, NUM_FRA_CHAR))\n",
        "decoder = LSTM(16, return_sequences=True, return_state=True)\n",
        "dec_output, _, _ = decoder(dec_input, initial_state=enc_state)\n",
        "predict_layer = Dense(NUM_FRA_CHAR, activation='softmax')\n",
        "next_char = predict_layer(dec_output)\n",
        "model = Model([enc_input, dec_input], next_char)"
      ],
      "execution_count": 0,
      "outputs": []
    },
    {
      "cell_type": "code",
      "metadata": {
        "id": "yZ1WoSknr7En",
        "colab_type": "code",
        "colab": {}
      },
      "source": [
        "from keras.utils import Sequence\n",
        "import numpy as np\n",
        "\n",
        "class OneHotSequence(Sequence):\n",
        "    def __init__(self, x, y):\n",
        "        self.x = x\n",
        "        self.y = y\n",
        "        self.batch_size = 32\n",
        "\n",
        "    def __len__(self):\n",
        "        return len(self.x) // self.batch_size\n",
        "\n",
        "    def __getitem__(self, idx):\n",
        "        start = idx * self.batch_size\n",
        "        end = start + self.batch_size\n",
        "\n",
        "        # one-hot encoding\n",
        "        x = np.eye(NUM_ENG_CHAR)[self.x[start:end,]]\n",
        "        y = np.eye(NUM_FRA_CHAR)[self.y[start:end,]]\n",
        "\n",
        "        target = np.expand_dims(self.y[start:end,], 2)\n",
        "\n",
        "        return [x, y], target"
      ],
      "execution_count": 0,
      "outputs": []
    },
    {
      "cell_type": "code",
      "metadata": {
        "id": "_bUUS0hmr96_",
        "colab_type": "code",
        "colab": {
          "base_uri": "https://localhost:8080/",
          "height": 35
        },
        "outputId": "61dd748e-bae4-4ab6-e98b-85f1872fba79"
      },
      "source": [
        "seq = OneHotSequence(eng_pad, fra_pad)\n",
        "len(seq)"
      ],
      "execution_count": 22,
      "outputs": [
        {
          "output_type": "execute_result",
          "data": {
            "text/plain": [
              "5318"
            ]
          },
          "metadata": {
            "tags": []
          },
          "execution_count": 22
        }
      ]
    },
    {
      "cell_type": "code",
      "metadata": {
        "id": "KzNyTuQ7sAHM",
        "colab_type": "code",
        "colab": {
          "base_uri": "https://localhost:8080/",
          "height": 235
        },
        "outputId": "88e6a823-0821-4b17-e763-f4f2c80ce2ca"
      },
      "source": [
        "colabdir = '/content/drive/My Drive/Colab Notebooks'\n",
        "model.compile(optimizer='adam', loss='sparse_categorical_crossentropy')\n",
        "model.fit_generator(seq, epochs=1)\n",
        "model.save(os.path.join(colabdir,'seq2seq.krs'))"
      ],
      "execution_count": 23,
      "outputs": [
        {
          "output_type": "stream",
          "text": [
            "WARNING:tensorflow:From /usr/local/lib/python3.6/dist-packages/keras/optimizers.py:793: The name tf.train.Optimizer is deprecated. Please use tf.compat.v1.train.Optimizer instead.\n",
            "\n",
            "WARNING:tensorflow:From /usr/local/lib/python3.6/dist-packages/keras/backend/tensorflow_backend.py:3622: The name tf.log is deprecated. Please use tf.math.log instead.\n",
            "\n",
            "WARNING:tensorflow:From /usr/local/lib/python3.6/dist-packages/tensorflow/python/ops/math_grad.py:1250: add_dispatch_support.<locals>.wrapper (from tensorflow.python.ops.array_ops) is deprecated and will be removed in a future version.\n",
            "Instructions for updating:\n",
            "Use tf.where in 2.0, which has the same broadcast rule as np.where\n",
            "WARNING:tensorflow:From /usr/local/lib/python3.6/dist-packages/keras/backend/tensorflow_backend.py:1033: The name tf.assign_add is deprecated. Please use tf.compat.v1.assign_add instead.\n",
            "\n",
            "Epoch 1/1\n",
            "5318/5318 [==============================] - 5301s 997ms/step - loss: 0.1720\n"
          ],
          "name": "stdout"
        }
      ]
    },
    {
      "cell_type": "code",
      "metadata": {
        "id": "BDvvO4UQsM_l",
        "colab_type": "code",
        "colab": {}
      },
      "source": [
        "encoder_model = Model(enc_input, enc_state)"
      ],
      "execution_count": 0,
      "outputs": []
    },
    {
      "cell_type": "code",
      "metadata": {
        "id": "ZRlsNbxTsX37",
        "colab_type": "code",
        "colab": {}
      },
      "source": [
        "prev_h = Input(shape=(16,))\n",
        "prev_c = Input(shape=(16,))\n",
        "\n",
        "prev_state = [prev_h, prev_c]\n",
        " \n",
        "dec_output, current_h, current_c = decoder(dec_input, initial_state=prev_state)\n",
        "current_state = [current_h, current_c]\n",
        "\n",
        "pred_char = predict_layer(dec_output)\n",
        "decoder_model = Model([dec_input] + prev_state, [pred_char] + current_state)"
      ],
      "execution_count": 0,
      "outputs": []
    },
    {
      "cell_type": "code",
      "metadata": {
        "id": "62KMMq-Fslis",
        "colab_type": "code",
        "colab": {}
      },
      "source": [
        "_, ENG_LENGTH = eng_pad.shape\n",
        "x = eng_tok.texts_to_sequences([\"This class is great!\"])\n",
        "x = pad_sequences(x, ENG_LENGTH, padding='pre')\n",
        "x = np.eye(NUM_ENG_CHAR)[x]"
      ],
      "execution_count": 0,
      "outputs": []
    },
    {
      "cell_type": "code",
      "metadata": {
        "id": "xBJ3iw15Ds_0",
        "colab_type": "code",
        "colab": {
          "base_uri": "https://localhost:8080/",
          "height": 35
        },
        "outputId": "8142f169-d340-4e53-f8f0-616248f5d27e"
      },
      "source": [
        "NUM_FRA_CHAR"
      ],
      "execution_count": 54,
      "outputs": [
        {
          "output_type": "execute_result",
          "data": {
            "text/plain": [
              "84"
            ]
          },
          "metadata": {
            "tags": []
          },
          "execution_count": 54
        }
      ]
    },
    {
      "cell_type": "code",
      "metadata": {
        "id": "2pEsUAvlspW8",
        "colab_type": "code",
        "colab": {}
      },
      "source": [
        "state = encoder_model.predict(x)\n",
        "target_sentence = ''\n",
        "target_seq = np.eye(NUM_FRA_CHAR)[fra_tok.word_index['<START>']]\n",
        "target_seq = np.array([[target_seq]])\n",
        "output_token, h, c = decoder_model.predict([target_seq] + state)\n",
        "token_index = output_token[0, -1, :].argmax()\n",
        "char = fra_tok.index_word[token_index-1]\n",
        "target_sentence += char"
      ],
      "execution_count": 0,
      "outputs": []
    },
    {
      "cell_type": "code",
      "metadata": {
        "id": "CLiZ7i4TsyO0",
        "colab_type": "code",
        "colab": {}
      },
      "source": [
        "while token_index != fra_tok.word_index['<END>']:\n",
        "    target_seq = np.eye(NUM_FRA_CHAR)[token_index]\n",
        "    target_seq = np.array([[target_seq]])\n",
        "\n",
        "    output_token, h, c = decoder_model.predict([target_seq, h, c])\n",
        "\n",
        "    token_index = output_token[0, -1, :].argmax()\n",
        "\n",
        "    char = fra_tok.index_word[token_index-1]\n",
        "    target_sentence += char\n",
        "\n",
        "    # 무한 루프 방지를 위해 300글자가 넘으면 강제 중단한다.\n",
        "    if len(target_sentence) > 300:\n",
        "        break"
      ],
      "execution_count": 0,
      "outputs": []
    },
    {
      "cell_type": "code",
      "metadata": {
        "id": "RPAx3MUuCuDb",
        "colab_type": "code",
        "colab": {}
      },
      "source": [
        "# 왤케안되누"
      ],
      "execution_count": 0,
      "outputs": []
    },
    {
      "cell_type": "code",
      "metadata": {
        "id": "bMTOusXjE2JJ",
        "colab_type": "code",
        "colab": {}
      },
      "source": [
        ""
      ],
      "execution_count": 0,
      "outputs": []
    }
  ]
}