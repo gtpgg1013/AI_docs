{
  "nbformat": 4,
  "nbformat_minor": 0,
  "metadata": {
    "colab": {
      "name": "Day30_CNN_RNN.ipynb",
      "version": "0.3.2",
      "provenance": [],
      "collapsed_sections": []
    },
    "kernelspec": {
      "name": "python3",
      "display_name": "Python 3"
    },
    "accelerator": "GPU"
  },
  "cells": [
    {
      "cell_type": "code",
      "metadata": {
        "id": "53NmEWMLTRv9",
        "colab_type": "code",
        "outputId": "ca659f64-91ed-4278-c0f7-8eba2e53f544",
        "colab": {
          "base_uri": "https://localhost:8080/",
          "height": 55
        }
      },
      "source": [
        "from google.colab import drive\n",
        "drive.mount('/content/drive')"
      ],
      "execution_count": 0,
      "outputs": [
        {
          "output_type": "stream",
          "text": [
            "Drive already mounted at /content/drive; to attempt to forcibly remount, call drive.mount(\"/content/drive\", force_remount=True).\n"
          ],
          "name": "stdout"
        }
      ]
    },
    {
      "cell_type": "code",
      "metadata": {
        "id": "LpLftEfYTSks",
        "colab_type": "code",
        "colab": {}
      },
      "source": [
        "import tensorflow as tf\n",
        "from tensorflow.examples.tutorials.mnist import input_data"
      ],
      "execution_count": 0,
      "outputs": []
    },
    {
      "cell_type": "code",
      "metadata": {
        "id": "ujvN8YdCrJTo",
        "colab_type": "code",
        "outputId": "abdc1837-093f-4208-eaf6-15cfa14e84a7",
        "colab": {
          "base_uri": "https://localhost:8080/",
          "height": 577
        }
      },
      "source": [
        "mnist=input_data.read_data_sets(\"./mnist/data/\",one_hot=True)"
      ],
      "execution_count": 0,
      "outputs": [
        {
          "output_type": "stream",
          "text": [
            "WARNING: Logging before flag parsing goes to stderr.\n",
            "W0819 04:28:48.325124 140030088619904 deprecation.py:323] From <ipython-input-5-613c41b1bcd6>:1: read_data_sets (from tensorflow.contrib.learn.python.learn.datasets.mnist) is deprecated and will be removed in a future version.\n",
            "Instructions for updating:\n",
            "Please use alternatives such as official/mnist/dataset.py from tensorflow/models.\n",
            "W0819 04:28:48.328006 140030088619904 deprecation.py:323] From /usr/local/lib/python3.6/dist-packages/tensorflow/contrib/learn/python/learn/datasets/mnist.py:260: maybe_download (from tensorflow.contrib.learn.python.learn.datasets.base) is deprecated and will be removed in a future version.\n",
            "Instructions for updating:\n",
            "Please write your own downloading logic.\n",
            "W0819 04:28:48.331629 140030088619904 deprecation.py:323] From /usr/local/lib/python3.6/dist-packages/tensorflow/contrib/learn/python/learn/datasets/base.py:252: _internal_retry.<locals>.wrap.<locals>.wrapped_fn (from tensorflow.contrib.learn.python.learn.datasets.base) is deprecated and will be removed in a future version.\n",
            "Instructions for updating:\n",
            "Please use urllib or similar directly.\n",
            "W0819 04:28:48.444778 140030088619904 deprecation.py:323] From /usr/local/lib/python3.6/dist-packages/tensorflow/contrib/learn/python/learn/datasets/mnist.py:262: extract_images (from tensorflow.contrib.learn.python.learn.datasets.mnist) is deprecated and will be removed in a future version.\n",
            "Instructions for updating:\n",
            "Please use tf.data to implement this functionality.\n"
          ],
          "name": "stderr"
        },
        {
          "output_type": "stream",
          "text": [
            "Successfully downloaded train-images-idx3-ubyte.gz 9912422 bytes.\n",
            "Extracting ./mnist/data/train-images-idx3-ubyte.gz\n"
          ],
          "name": "stdout"
        },
        {
          "output_type": "stream",
          "text": [
            "W0819 04:28:48.743639 140030088619904 deprecation.py:323] From /usr/local/lib/python3.6/dist-packages/tensorflow/contrib/learn/python/learn/datasets/mnist.py:267: extract_labels (from tensorflow.contrib.learn.python.learn.datasets.mnist) is deprecated and will be removed in a future version.\n",
            "Instructions for updating:\n",
            "Please use tf.data to implement this functionality.\n",
            "W0819 04:28:48.747850 140030088619904 deprecation.py:323] From /usr/local/lib/python3.6/dist-packages/tensorflow/contrib/learn/python/learn/datasets/mnist.py:110: dense_to_one_hot (from tensorflow.contrib.learn.python.learn.datasets.mnist) is deprecated and will be removed in a future version.\n",
            "Instructions for updating:\n",
            "Please use tf.one_hot on tensors.\n",
            "W0819 04:28:48.840430 140030088619904 deprecation.py:323] From /usr/local/lib/python3.6/dist-packages/tensorflow/contrib/learn/python/learn/datasets/mnist.py:290: DataSet.__init__ (from tensorflow.contrib.learn.python.learn.datasets.mnist) is deprecated and will be removed in a future version.\n",
            "Instructions for updating:\n",
            "Please use alternatives such as official/mnist/dataset.py from tensorflow/models.\n"
          ],
          "name": "stderr"
        },
        {
          "output_type": "stream",
          "text": [
            "Successfully downloaded train-labels-idx1-ubyte.gz 28881 bytes.\n",
            "Extracting ./mnist/data/train-labels-idx1-ubyte.gz\n",
            "Successfully downloaded t10k-images-idx3-ubyte.gz 1648877 bytes.\n",
            "Extracting ./mnist/data/t10k-images-idx3-ubyte.gz\n",
            "Successfully downloaded t10k-labels-idx1-ubyte.gz 4542 bytes.\n",
            "Extracting ./mnist/data/t10k-labels-idx1-ubyte.gz\n"
          ],
          "name": "stdout"
        }
      ]
    },
    {
      "cell_type": "code",
      "metadata": {
        "id": "j8SP1fv3sAUj",
        "colab_type": "code",
        "colab": {}
      },
      "source": [
        "x=tf.placeholder(tf.float32, [None,28,28,1])\n",
        "y=tf.placeholder(tf.float32, [None,10])\n",
        "keep_prob=tf.placeholder(tf.float32)"
      ],
      "execution_count": 0,
      "outputs": []
    },
    {
      "cell_type": "code",
      "metadata": {
        "id": "BeGrECooI3dg",
        "colab_type": "code",
        "colab": {}
      },
      "source": [
        "w1=tf.get_variable(\"w1\",shape=[3,3,1,32],initializer=tf.contrib.layers.xavier_initializer())\n",
        "# w1=tf.Variable(tf.random_normal([3,3,1,32]))\n",
        "#[3,3] :필터(커널)크기, 1:채널 특성, 32:필터 개수\n",
        "L1=tf.nn.conv2d(x,w1,strides=[1,1,1,1], padding='SAME')               \n",
        "               #strides=[1,칸,줄,1]\n",
        "L1=tf.nn.relu(L1)        \n",
        "L1=tf.nn.max_pool(L1, ksize=[1,2,2,1], strides=[1,2,2,1], padding=\"SAME\")\n",
        "#X:[None,28,28,1]\n",
        "#W1:[3 3 1 32]\n",
        "#L1: CONV -> [None,28,28,32]\n",
        "#pooling => [None,14,14,32]\n",
        "               \n",
        "w2=tf.get_variable(\"w2\",shape=[3,3,32,64],initializer=tf.contrib.layers.xavier_initializer())\n",
        "w2=tf.Variable(tf.random_normal([3,3,32,64]))\n",
        "#[3,3] :필터(커널)크기, 32:채널 특성, 64:필터 개수\n",
        "L2=tf.nn.conv2d(L1,w2,strides=[1,1,1,1], padding='SAME')               \n",
        "               #strides=[1,칸,줄,1]\n",
        "L2=tf.nn.relu(L2)        \n",
        "L2=tf.nn.max_pool(L2, ksize=[1,2,2,1], strides=[1,2,2,1], padding=\"SAME\")\n",
        "#L2 CONV => [None, 14, 14, 64]\n",
        "#pooling => [None, 7, 7, 64]\n",
        "\n",
        "#FC계층: 입력 7*7*64 -> 출력 256\n",
        "# w3=tf.Variable(tf.random_normal([7*7*64, 256]))\n",
        "w3=tf.get_variable(\"w3\",[7*7*64, 256],initializer=tf.contrib.layers.xavier_initializer())\n",
        "L3=tf.reshape(L2, [-1, 7*7*64])\n",
        "L3=tf.matmul(L3,w3) #[-1,256]\n",
        "L3=tf.nn.relu(L3)\n",
        "L3=tf.nn.dropout(L3, keep_prob)\n",
        "\n",
        "w4=tf.get_variable(\"w4\",[256, 10],initializer=tf.contrib.layers.xavier_initializer())\n",
        "model=tf.matmul(L3, w4)\n",
        "\n",
        "cost=tf.reduce_mean(tf.nn.softmax_cross_entropy_with_logits_v2(logits=model, labels=y))\n",
        "optimizer=tf.train.AdamOptimizer(0.01).minimize(cost)            "
      ],
      "execution_count": 0,
      "outputs": []
    },
    {
      "cell_type": "code",
      "metadata": {
        "id": "UMt7IVgTJM7t",
        "colab_type": "code",
        "outputId": "b3ef91b5-369f-4181-d89b-177c70ab6f28",
        "colab": {
          "base_uri": "https://localhost:8080/",
          "height": 233
        }
      },
      "source": [
        "with tf.Session() as sess:\n",
        "  sess.run(tf.global_variables_initializer())\n",
        "  batch_size = 100\n",
        "  total_batch = mnist.train.num_examples // batch_size\n",
        "  for epoch in range(10):\n",
        "    total_cost = 0\n",
        "    for i in range(total_batch):\n",
        "      batch_xs, batch_ys = mnist.train.next_batch(batch_size)\n",
        "      batch_xs = batch_xs.reshape(-1,28,28,1)\n",
        "      _, cv = sess.run([optimizer, cost],\n",
        "                      feed_dict={x:batch_xs, y:batch_ys, keep_prob:0.7})\n",
        "      total_cost += cv / total_batch\n",
        "    print(\"epoch : {}, avg_cost : {:.3f}\".format(epoch+1, total_cost))\n",
        "  print(\"model created\")\n",
        "\n",
        "  is_correct = tf.cast(tf.equal(tf.arg_max(model,1), tf.argmax(y,1)), dtype=tf.float32)\n",
        "  accuracy = tf.reduce_mean(is_correct)\n",
        "  print(\"accuracy : {}\".format(sess.run(accuracy, feed_dict={x:mnist.test.images.reshape(-1,28,28,1),\n",
        "                                                            y:mnist.test.labels,\n",
        "                                                          keep_prob:1})))"
      ],
      "execution_count": 0,
      "outputs": [
        {
          "output_type": "stream",
          "text": [
            "epoch : 1, avg_cost : 0.388\n",
            "epoch : 2, avg_cost : 0.094\n",
            "epoch : 3, avg_cost : 0.078\n",
            "epoch : 4, avg_cost : 0.065\n",
            "epoch : 5, avg_cost : 0.067\n",
            "epoch : 6, avg_cost : 0.065\n",
            "epoch : 7, avg_cost : 0.058\n",
            "epoch : 8, avg_cost : 0.066\n",
            "epoch : 9, avg_cost : 0.065\n",
            "epoch : 10, avg_cost : 0.060\n",
            "model created\n",
            "accuracy : 0.9865999817848206\n"
          ],
          "name": "stdout"
        }
      ]
    },
    {
      "cell_type": "code",
      "metadata": {
        "id": "v-HOR5MHP7Oj",
        "colab_type": "code",
        "colab": {}
      },
      "source": [
        "w1=tf.Variable(tf.random_normal([3,3,1,32]))\n",
        "#[3,3] :필터(커널)크기, 1:채널 특성, 32:필터 개수\n",
        "L1=tf.nn.conv2d(x,w1,strides=[1,1,1,1], padding='SAME')               \n",
        "               #strides=[1,칸,줄,1]\n",
        "L1=tf.nn.relu(L1)        \n",
        "L1=tf.nn.max_pool(L1, ksize=[1,2,2,1], strides=[1,2,2,1], padding=\"SAME\")\n",
        "#X:[None,28,28,1]\n",
        "#W1:[3 3 1 32]\n",
        "#L1: CONV -> [None,28,28,32]\n",
        "#pooling => [None,14,14,32]\n",
        "               \n",
        "w2=tf.Variable(tf.random_normal([3,3,32,64]))\n",
        "#[3,3] :필터(커널)크기, 32:채널 특성, 64:필터 개수\n",
        "L2=tf.nn.conv2d(L1,w2,strides=[1,1,1,1], padding='SAME')               \n",
        "               #strides=[1,칸,줄,1]\n",
        "L2=tf.nn.relu(L2)        \n",
        "L2=tf.nn.max_pool(L2, ksize=[1,2,2,1], strides=[1,2,2,1], padding=\"SAME\")\n",
        "#L2 CONV => [None, 14, 14, 64]\n",
        "#pooling => [None, 7, 7, 64]\n",
        "\n",
        "#FC계층: 입력 7*7*64 -> 출력 256\n",
        "w3=tf.Variable(tf.random_normal([7*7*64, 256]))\n",
        "L3=tf.reshape(L2, [-1, 7*7*64])\n",
        "L3=tf.matmul(L3,w3) #[-1,256]\n",
        "L3=tf.nn.relu(L3)\n",
        "L3=tf.nn.dropout(L3, keep_prob)\n",
        "\n",
        "w4=tf.Variable(tf.random_normal([256,10]))\n",
        "model=tf.matmul(L3, w4)\n",
        "\n",
        "cost=tf.reduce_mean(tf.nn.softmax_cross_entropy_with_logits_v2(logits=model, labels=y))\n",
        "optimizer=tf.train.AdamOptimizer(0.001).minimize(cost)            "
      ],
      "execution_count": 0,
      "outputs": []
    },
    {
      "cell_type": "code",
      "metadata": {
        "id": "n5jKqMNsLSjj",
        "colab_type": "code",
        "outputId": "e6d6d9a3-88c6-41bb-a5b4-156a2055bfcb",
        "colab": {
          "base_uri": "https://localhost:8080/",
          "height": 503
        }
      },
      "source": [
        "with tf.Session() as sess:\n",
        "  sess.run(tf.global_variables_initializer())\n",
        "  batch_size = 100\n",
        "  total_batch = mnist.train.num_examples // batch_size\n",
        "  for epoch in range(25):\n",
        "    total_cost = 0\n",
        "    for i in range(total_batch):\n",
        "      batch_xs, batch_ys = mnist.train.next_batch(batch_size)\n",
        "      batch_xs = batch_xs.reshape(-1,28,28,1)\n",
        "      _, cv = sess.run([optimizer, cost],\n",
        "                      feed_dict={x:batch_xs, y:batch_ys, keep_prob:0.7})\n",
        "      total_cost += cv / total_batch\n",
        "    print(\"epoch : {}, avg_cost : {:.3f}\".format(epoch+1, total_cost))\n",
        "  print(\"model created\")\n",
        "\n",
        "  is_correct = tf.cast(tf.equal(tf.arg_max(model,1), tf.argmax(y,1)), dtype=tf.float32)\n",
        "  accuracy = tf.reduce_mean(is_correct)\n",
        "  print(\"accuracy : {}\".format(sess.run(accuracy, feed_dict={x:mnist.test.images.reshape(-1,28,28,1),\n",
        "                                                            y:mnist.test.labels,\n",
        "                                                          keep_prob:1})))"
      ],
      "execution_count": 0,
      "outputs": [
        {
          "output_type": "stream",
          "text": [
            "epoch : 1, avg_cost : 1052.954\n",
            "epoch : 2, avg_cost : 111.274\n",
            "epoch : 3, avg_cost : 48.615\n",
            "epoch : 4, avg_cost : 16.663\n",
            "epoch : 5, avg_cost : 4.793\n",
            "epoch : 6, avg_cost : 2.739\n",
            "epoch : 7, avg_cost : 2.222\n",
            "epoch : 8, avg_cost : 2.010\n",
            "epoch : 9, avg_cost : 1.822\n",
            "epoch : 10, avg_cost : 1.792\n",
            "epoch : 11, avg_cost : 1.698\n",
            "epoch : 12, avg_cost : 1.600\n",
            "epoch : 13, avg_cost : 1.594\n",
            "epoch : 14, avg_cost : 1.548\n",
            "epoch : 15, avg_cost : 1.476\n",
            "epoch : 16, avg_cost : 1.408\n",
            "epoch : 17, avg_cost : 1.428\n",
            "epoch : 18, avg_cost : 1.377\n",
            "epoch : 19, avg_cost : 1.356\n",
            "epoch : 20, avg_cost : 1.299\n",
            "epoch : 21, avg_cost : 1.299\n",
            "epoch : 22, avg_cost : 1.259\n",
            "epoch : 23, avg_cost : 1.227\n",
            "epoch : 24, avg_cost : 1.168\n",
            "epoch : 25, avg_cost : 1.148\n",
            "model created\n",
            "accuracy : 0.6969000101089478\n"
          ],
          "name": "stdout"
        }
      ]
    },
    {
      "cell_type": "markdown",
      "metadata": {
        "id": "arz5sGVWWGFN",
        "colab_type": "text"
      },
      "source": [
        "# Layers 이용"
      ]
    },
    {
      "cell_type": "code",
      "metadata": {
        "id": "HlLhDXALLyky",
        "colab_type": "code",
        "colab": {}
      },
      "source": [
        "# tf.layers subpackage 이용 cnn modeling"
      ],
      "execution_count": 0,
      "outputs": []
    },
    {
      "cell_type": "code",
      "metadata": {
        "id": "22Xp9zfbWKyY",
        "colab_type": "code",
        "colab": {}
      },
      "source": [
        "x = tf.placeholder(tf.float32, [None,28,28,1])\n",
        "y = tf.placeholder(tf.float32, [None,10])"
      ],
      "execution_count": 0,
      "outputs": []
    },
    {
      "cell_type": "code",
      "metadata": {
        "id": "AKnhjKScWZ4M",
        "colab_type": "code",
        "colab": {}
      },
      "source": [
        "L1 = tf.layers.conv2d(x,32,[3,3],activation=tf.nn.relu)\n",
        "L1 = tf.layers.max_pooling2d(L1,[2,2],[2,2])\n",
        "L1 = tf.layers.dropout(L1,0.7)\n",
        "\n",
        "L2 = tf.layers.conv2d(x,64,[3,3],activation=tf.nn.relu)\n",
        "L2 = tf.layers.max_pooling2d(L2,[2,2],[2,2])\n",
        "L2 = tf.layers.dropout(L2,0.7)\n",
        "\n",
        "L3 = tf.layers.conv2d(x,128,[3,3],activation=tf.nn.relu)\n",
        "L3 = tf.layers.max_pooling2d(L3,[2,2],[2,2])\n",
        "L3 = tf.layers.dropout(L3,0.7)\n",
        "\n",
        "L4 = tf.contrib.layers.flatten(L3)\n",
        "L4 = tf.layers.dense(L4, 256, activation=tf.nn.relu)\n",
        "L4 = tf.layers.dropout(L4,0.5)\n",
        "\n",
        "model = tf.layers.dense(L4, 10, activation=None)"
      ],
      "execution_count": 0,
      "outputs": []
    },
    {
      "cell_type": "code",
      "metadata": {
        "id": "zHPtFBB6Xq8F",
        "colab_type": "code",
        "colab": {}
      },
      "source": [
        "cost = tf.reduce_mean(tf.nn.softmax_cross_entropy_with_logits_v2(logits=model, labels=y))\n",
        "train = tf.train.AdamOptimizer(0.001).minimize(cost)"
      ],
      "execution_count": 0,
      "outputs": []
    },
    {
      "cell_type": "code",
      "metadata": {
        "id": "bcMUr8N0YHNZ",
        "colab_type": "code",
        "outputId": "e5fc127b-d417-47f0-8284-092aa1680deb",
        "colab": {
          "base_uri": "https://localhost:8080/",
          "height": 503
        }
      },
      "source": [
        "with tf.Session() as sess:\n",
        "  sess.run(tf.global_variables_initializer())\n",
        "  batch_size = 100\n",
        "  total_batch = mnist.train.num_examples // batch_size\n",
        "  for epoch in range(25):\n",
        "    total_cost = 0\n",
        "    for i in range(total_batch):\n",
        "      batch_xs, batch_ys = mnist.train.next_batch(batch_size)\n",
        "      batch_xs = batch_xs.reshape(-1,28,28,1)\n",
        "      _, cv = sess.run([train, cost],\n",
        "                      feed_dict={x:batch_xs, y:batch_ys, keep_prob:0.7})\n",
        "      total_cost += cv / total_batch\n",
        "    print(\"epoch : {}, avg_cost : {:.3f}\".format(epoch+1, total_cost))\n",
        "  print(\"model created\")\n",
        "\n",
        "  is_correct = tf.cast(tf.equal(tf.arg_max(model,1), tf.argmax(y,1)), dtype=tf.float32)\n",
        "  accuracy = tf.reduce_mean(is_correct)\n",
        "  print(\"accuracy : {}\".format(sess.run(accuracy, feed_dict={x:mnist.test.images.reshape(-1,28,28,1),\n",
        "                                                            y:mnist.test.labels,\n",
        "                                                          keep_prob:1})))"
      ],
      "execution_count": 0,
      "outputs": [
        {
          "output_type": "stream",
          "text": [
            "epoch : 1, avg_cost : 0.150\n",
            "epoch : 2, avg_cost : 0.048\n",
            "epoch : 3, avg_cost : 0.028\n",
            "epoch : 4, avg_cost : 0.019\n",
            "epoch : 5, avg_cost : 0.012\n",
            "epoch : 6, avg_cost : 0.009\n",
            "epoch : 7, avg_cost : 0.009\n",
            "epoch : 8, avg_cost : 0.005\n",
            "epoch : 9, avg_cost : 0.004\n",
            "epoch : 10, avg_cost : 0.006\n",
            "epoch : 11, avg_cost : 0.004\n",
            "epoch : 12, avg_cost : 0.003\n",
            "epoch : 13, avg_cost : 0.002\n",
            "epoch : 14, avg_cost : 0.005\n",
            "epoch : 15, avg_cost : 0.004\n",
            "epoch : 16, avg_cost : 0.002\n",
            "epoch : 17, avg_cost : 0.003\n",
            "epoch : 18, avg_cost : 0.002\n",
            "epoch : 19, avg_cost : 0.003\n",
            "epoch : 20, avg_cost : 0.002\n",
            "epoch : 21, avg_cost : 0.000\n",
            "epoch : 22, avg_cost : 0.000\n",
            "epoch : 23, avg_cost : 0.000\n",
            "epoch : 24, avg_cost : 0.000\n",
            "epoch : 25, avg_cost : 0.000\n",
            "model created\n",
            "accuracy : 0.9887999892234802\n"
          ],
          "name": "stdout"
        }
      ]
    },
    {
      "cell_type": "code",
      "metadata": {
        "id": "Y4iZ7GxvYrxz",
        "colab_type": "code",
        "colab": {}
      },
      "source": [
        "from keras import layers\n",
        "from keras import models"
      ],
      "execution_count": 0,
      "outputs": []
    },
    {
      "cell_type": "code",
      "metadata": {
        "id": "2JEF0CNyZZAt",
        "colab_type": "code",
        "colab": {}
      },
      "source": [
        "model = models.Sequential()\n",
        "model.add(layers.Conv2D(32,(3,3),activation='relu', input_shape=(28,28,1)))\n",
        "model.add(layers.MaxPooling2D(2,2))\n",
        "\n",
        "model.add(layers.Conv2D(64,(3,3),activation='relu'))\n",
        "model.add(layers.MaxPooling2D(2,2))\n",
        "\n",
        "model.add(layers.Conv2D(64, (3,3),activation='relu'))"
      ],
      "execution_count": 0,
      "outputs": []
    },
    {
      "cell_type": "code",
      "metadata": {
        "id": "8vfwOryncXqW",
        "colab_type": "code",
        "colab": {}
      },
      "source": [
        "model.add(layers.Flatten())"
      ],
      "execution_count": 0,
      "outputs": []
    },
    {
      "cell_type": "code",
      "metadata": {
        "id": "ETbf1a-NcnX_",
        "colab_type": "code",
        "colab": {}
      },
      "source": [
        "model.add(layers.Dense(64, activation='relu'))"
      ],
      "execution_count": 0,
      "outputs": []
    },
    {
      "cell_type": "code",
      "metadata": {
        "id": "4ci52xqWdEdL",
        "colab_type": "code",
        "colab": {}
      },
      "source": [
        "model.add(layers.Dense(10, activation='softmax'))"
      ],
      "execution_count": 0,
      "outputs": []
    },
    {
      "cell_type": "code",
      "metadata": {
        "id": "cI4v3sjUaxtx",
        "colab_type": "code",
        "outputId": "3e29ccc0-a2f4-489f-cc4b-12368e53b9bc",
        "colab": {
          "base_uri": "https://localhost:8080/",
          "height": 431
        }
      },
      "source": [
        "model.summary()"
      ],
      "execution_count": 0,
      "outputs": [
        {
          "output_type": "stream",
          "text": [
            "_________________________________________________________________\n",
            "Layer (type)                 Output Shape              Param #   \n",
            "=================================================================\n",
            "conv2d_26 (Conv2D)           (None, 26, 26, 32)        320       \n",
            "_________________________________________________________________\n",
            "max_pooling2d_18 (MaxPooling (None, 13, 13, 32)        0         \n",
            "_________________________________________________________________\n",
            "conv2d_27 (Conv2D)           (None, 11, 11, 64)        18496     \n",
            "_________________________________________________________________\n",
            "max_pooling2d_19 (MaxPooling (None, 5, 5, 64)          0         \n",
            "_________________________________________________________________\n",
            "conv2d_28 (Conv2D)           (None, 3, 3, 64)          36928     \n",
            "_________________________________________________________________\n",
            "flatten_7 (Flatten)          (None, 576)               0         \n",
            "_________________________________________________________________\n",
            "dense_13 (Dense)             (None, 64)                36928     \n",
            "_________________________________________________________________\n",
            "dense_14 (Dense)             (None, 10)                650       \n",
            "=================================================================\n",
            "Total params: 93,322\n",
            "Trainable params: 93,322\n",
            "Non-trainable params: 0\n",
            "_________________________________________________________________\n"
          ],
          "name": "stdout"
        }
      ]
    },
    {
      "cell_type": "code",
      "metadata": {
        "id": "FZtBCKVqa7NK",
        "colab_type": "code",
        "colab": {}
      },
      "source": [
        "from keras.datasets import mnist\n",
        "from keras.utils import to_categorical"
      ],
      "execution_count": 0,
      "outputs": []
    },
    {
      "cell_type": "code",
      "metadata": {
        "id": "JghrfAujdgt-",
        "colab_type": "code",
        "colab": {}
      },
      "source": [
        "(train_images, train_labels), (test_images, test_labels) = mnist.load_data()"
      ],
      "execution_count": 0,
      "outputs": []
    },
    {
      "cell_type": "code",
      "metadata": {
        "id": "zWGWG1Nzd8Qa",
        "colab_type": "code",
        "outputId": "cf4068b4-9de3-4666-dbfb-ea2e2c95a1b7",
        "colab": {
          "base_uri": "https://localhost:8080/",
          "height": 35
        }
      },
      "source": [
        "train_images.shape"
      ],
      "execution_count": 0,
      "outputs": [
        {
          "output_type": "execute_result",
          "data": {
            "text/plain": [
              "(60000, 28, 28)"
            ]
          },
          "metadata": {
            "tags": []
          },
          "execution_count": 234
        }
      ]
    },
    {
      "cell_type": "code",
      "metadata": {
        "id": "NMSWjBeWeP9R",
        "colab_type": "code",
        "colab": {}
      },
      "source": [
        "train_images = train_images.reshape((60000,28,28,1))\n",
        "train_images = train_images.astype('float32')/255\n",
        "test_images = test_images.reshape((-1,28,28,1))\n",
        "test_images = test_images.astype('float32')/255"
      ],
      "execution_count": 0,
      "outputs": []
    },
    {
      "cell_type": "code",
      "metadata": {
        "id": "aYwBW7m6eiHp",
        "colab_type": "code",
        "colab": {}
      },
      "source": [
        "train_labels = to_categorical(train_labels)\n",
        "test_labels = to_categorical(test_labels)"
      ],
      "execution_count": 0,
      "outputs": []
    },
    {
      "cell_type": "code",
      "metadata": {
        "id": "qjzUTLJve2XG",
        "colab_type": "code",
        "colab": {}
      },
      "source": [
        "model.compile(optimizer='rmsprop',\n",
        "             loss='categorical_crossentropy',\n",
        "             metrics=['accuracy'])"
      ],
      "execution_count": 0,
      "outputs": []
    },
    {
      "cell_type": "code",
      "metadata": {
        "id": "jvru2Cl7lWg0",
        "colab_type": "code",
        "colab": {}
      },
      "source": [
        "import keras\n",
        "\n",
        "class LossHistory(keras.callbacks.Callback):\n",
        "  def on_train_begin(self, logs={}):\n",
        "        self.losses = []\n",
        "        self.val_losses = []\n",
        "        self.acces = []\n",
        "        self.val_acces = []\n",
        "\n",
        "\n",
        "  def on_batch_end(self, batch, logs={}):\n",
        "    self.losses.append(logs.get('loss'))\n",
        "    self.val_losses.append(logs.get('val_loss'))\n",
        "    self.acces.append(logs.get('acc'))\n",
        "    self.val_acces.append(logs.get('val_acc'))"
      ],
      "execution_count": 0,
      "outputs": []
    },
    {
      "cell_type": "code",
      "metadata": {
        "id": "gjM_4P9UlXZv",
        "colab_type": "code",
        "colab": {}
      },
      "source": [
        "loss_history = LossHistory()"
      ],
      "execution_count": 0,
      "outputs": []
    },
    {
      "cell_type": "code",
      "metadata": {
        "id": "9XcMM2AyfPxm",
        "colab_type": "code",
        "outputId": "33117092-a7c2-4f39-c91b-4ab420401617",
        "colab": {
          "base_uri": "https://localhost:8080/",
          "height": 253
        }
      },
      "source": [
        "model.fit(train_images, train_labels, epochs=5, batch_size=256,\\\n",
        "          validation_data=(test_images, test_labels), callbacks=[loss_history])"
      ],
      "execution_count": 0,
      "outputs": [
        {
          "output_type": "stream",
          "text": [
            "Train on 60000 samples, validate on 10000 samples\n",
            "Epoch 1/5\n",
            "60000/60000 [==============================] - 5s 88us/step - loss: 0.3486 - acc: 0.8919 - val_loss: 0.1340 - val_acc: 0.9561\n",
            "Epoch 2/5\n",
            "60000/60000 [==============================] - 4s 64us/step - loss: 0.0764 - acc: 0.9760 - val_loss: 0.0709 - val_acc: 0.9771\n",
            "Epoch 3/5\n",
            "60000/60000 [==============================] - 4s 63us/step - loss: 0.0478 - acc: 0.9847 - val_loss: 0.0368 - val_acc: 0.9887\n",
            "Epoch 4/5\n",
            "60000/60000 [==============================] - 4s 63us/step - loss: 0.0356 - acc: 0.9890 - val_loss: 0.0480 - val_acc: 0.9843\n",
            "Epoch 5/5\n",
            "60000/60000 [==============================] - 4s 63us/step - loss: 0.0275 - acc: 0.9912 - val_loss: 0.0279 - val_acc: 0.9914\n"
          ],
          "name": "stdout"
        },
        {
          "output_type": "execute_result",
          "data": {
            "text/plain": [
              "<keras.callbacks.History at 0x7f5aa13cc8d0>"
            ]
          },
          "metadata": {
            "tags": []
          },
          "execution_count": 240
        }
      ]
    },
    {
      "cell_type": "code",
      "metadata": {
        "id": "Nv2m1nUeffns",
        "colab_type": "code",
        "outputId": "aba7ad0b-523a-4f51-e4d1-d4a7f215773e",
        "colab": {
          "base_uri": "https://localhost:8080/",
          "height": 53
        }
      },
      "source": [
        "test_loss, test_acc = model.evaluate(test_images, test_labels)\n",
        "print(test_loss, test_acc)"
      ],
      "execution_count": 0,
      "outputs": [
        {
          "output_type": "stream",
          "text": [
            "10000/10000 [==============================] - 1s 90us/step\n",
            "0.027899222914595158 0.9914\n"
          ],
          "name": "stdout"
        }
      ]
    },
    {
      "cell_type": "code",
      "metadata": {
        "id": "5kQGwnwtgP7B",
        "colab_type": "code",
        "colab": {}
      },
      "source": [
        "history = model.history"
      ],
      "execution_count": 0,
      "outputs": []
    },
    {
      "cell_type": "code",
      "metadata": {
        "id": "gOYG980SgaCG",
        "colab_type": "code",
        "outputId": "301305cc-007b-49f6-ad65-54b34be58470",
        "colab": {
          "base_uri": "https://localhost:8080/",
          "height": 295
        }
      },
      "source": [
        "import matplotlib.pyplot as plt\n",
        "\n",
        "plt.plot(history.history['acc'])\n",
        "plt.plot(history.history['val_acc'])\n",
        "plt.title('Model accuracy')\n",
        "plt.ylabel('Accuracy')\n",
        "plt.xlabel('Epoch')\n",
        "plt.legend(['Train', 'Test'], loc='upper left')\n",
        "plt.show()"
      ],
      "execution_count": 0,
      "outputs": [
        {
          "output_type": "display_data",
          "data": {
            "image/png": "[encoded data removed]",
            "text/plain": [
              "<Figure size 432x288 with 1 Axes>"
            ]
          },
          "metadata": {
            "tags": []
          }
        }
      ]
    },
    {
      "cell_type": "code",
      "metadata": {
        "id": "i8iYzxLygz3R",
        "colab_type": "code",
        "outputId": "6983dbaf-ffec-47f0-af65-bbc25a94b5b8",
        "colab": {
          "base_uri": "https://localhost:8080/",
          "height": 295
        }
      },
      "source": [
        "# Plot training & validation loss values\n",
        "plt.plot(history.history['loss'])\n",
        "plt.plot(history.history['val_loss'])\n",
        "plt.title('Model loss')\n",
        "plt.ylabel('Loss')\n",
        "plt.xlabel('Epoch')\n",
        "plt.legend(['Train', 'Test'], loc='upper left')\n",
        "plt.show()"
      ],
      "execution_count": 0,
      "outputs": [
        {
          "output_type": "display_data",
          "data": {
            "image/png": "[encoded data removed]",
            "text/plain": [
              "<Figure size 432x288 with 1 Axes>"
            ]
          },
          "metadata": {
            "tags": []
          }
        }
      ]
    },
    {
      "cell_type": "code",
      "metadata": {
        "id": "Cw_px9Rxmvdt",
        "colab_type": "code",
        "outputId": "1c300a9b-4bab-408a-9f88-4fc6a312d8a2",
        "colab": {
          "base_uri": "https://localhost:8080/",
          "height": 35
        }
      },
      "source": [
        "type(loss_history.val_acces)"
      ],
      "execution_count": 0,
      "outputs": [
        {
          "output_type": "execute_result",
          "data": {
            "text/plain": [
              "list"
            ]
          },
          "metadata": {
            "tags": []
          },
          "execution_count": 252
        }
      ]
    },
    {
      "cell_type": "code",
      "metadata": {
        "id": "PNBHHO1XoCgx",
        "colab_type": "code",
        "outputId": "b41c5c43-a60d-456f-fc41-578f9e930b01",
        "colab": {
          "base_uri": "https://localhost:8080/",
          "height": 35
        }
      },
      "source": [
        "import pandas as pd\n",
        "pd.Series(loss_history.val_acces).value_counts()"
      ],
      "execution_count": 0,
      "outputs": [
        {
          "output_type": "execute_result",
          "data": {
            "text/plain": [
              "Series([], dtype: int64)"
            ]
          },
          "metadata": {
            "tags": []
          },
          "execution_count": 255
        }
      ]
    },
    {
      "cell_type": "code",
      "metadata": {
        "id": "62ZBnHGooQ_t",
        "colab_type": "code",
        "outputId": "5ddb51d5-801a-4a41-f7cd-9ce5443a0e7b",
        "colab": {
          "base_uri": "https://localhost:8080/",
          "height": 1000
        }
      },
      "source": [
        "pd.Series(loss_history.acces).value_counts()"
      ],
      "execution_count": 0,
      "outputs": [
        {
          "output_type": "execute_result",
          "data": {
            "text/plain": [
              "0.988281    173\n",
              "0.992188    162\n",
              "0.984375    136\n",
              "0.996094    125\n",
              "0.980469     99\n",
              "0.976562     86\n",
              "0.972656     53\n",
              "1.000000     45\n",
              "0.968750     44\n",
              "0.964844     32\n",
              "0.957031     27\n",
              "0.960938     23\n",
              "0.949219     17\n",
              "0.941406     15\n",
              "0.953125     13\n",
              "0.945312      9\n",
              "0.937500      7\n",
              "0.929688      6\n",
              "0.914062      6\n",
              "0.933594      6\n",
              "0.902344      6\n",
              "0.910156      5\n",
              "0.925781      4\n",
              "0.898438      4\n",
              "0.796875      3\n",
              "0.789062      3\n",
              "0.847656      3\n",
              "0.906250      3\n",
              "0.824219      3\n",
              "0.921875      3\n",
              "           ... \n",
              "0.648438      1\n",
              "0.460938      1\n",
              "0.449219      1\n",
              "0.414062      1\n",
              "0.398438      1\n",
              "0.468750      1\n",
              "0.363281      1\n",
              "0.136719      1\n",
              "0.785156      1\n",
              "0.769531      1\n",
              "0.472656      1\n",
              "0.542969      1\n",
              "0.730469      1\n",
              "0.433594      1\n",
              "0.554688      1\n",
              "0.679688      1\n",
              "0.773438      1\n",
              "0.804688      1\n",
              "0.863281      1\n",
              "0.777344      1\n",
              "0.800781      1\n",
              "0.683594      1\n",
              "0.753906      1\n",
              "0.820312      1\n",
              "0.832031      1\n",
              "0.867188      1\n",
              "0.855469      1\n",
              "0.882812      1\n",
              "0.989583      1\n",
              "0.109375      1\n",
              "Length: 77, dtype: int64"
            ]
          },
          "metadata": {
            "tags": []
          },
          "execution_count": 258
        }
      ]
    },
    {
      "cell_type": "code",
      "metadata": {
        "id": "EiVwfH_7g8Jb",
        "colab_type": "code",
        "outputId": "978ebc45-fb21-421b-dca1-4416819b392b",
        "colab": {
          "base_uri": "https://localhost:8080/",
          "height": 295
        }
      },
      "source": [
        "import matplotlib.pyplot as plt\n",
        "\n",
        "plt.plot(loss_history.acces)\n",
        "plt.plot(loss_history.val_acces)\n",
        "plt.title('Model accuracy')\n",
        "plt.ylabel('Accuracy')\n",
        "plt.xlabel('Epoch')\n",
        "plt.legend(['Train', 'Test'], loc='upper left')\n",
        "plt.show()"
      ],
      "execution_count": 0,
      "outputs": [
        {
          "output_type": "display_data",
          "data": {
            "image/png": "[encoded data removed]",
            "text/plain": [
              "<Figure size 432x288 with 1 Axes>"
            ]
          },
          "metadata": {
            "tags": []
          }
        }
      ]
    },
    {
      "cell_type": "code",
      "metadata": {
        "id": "8ygh6I2hjm0Y",
        "colab_type": "code",
        "outputId": "050ed27b-1359-4a53-aa8a-128e9b1e9f2f",
        "colab": {
          "base_uri": "https://localhost:8080/",
          "height": 295
        }
      },
      "source": [
        "# Plot training & validation loss values\n",
        "plt.plot(loss_history.losses)\n",
        "plt.plot(loss_history.val_losses)\n",
        "plt.title('Model loss')\n",
        "plt.ylabel('Loss')\n",
        "plt.xlabel('Epoch')\n",
        "plt.legend(['Train', 'Test'], loc='upper left')\n",
        "plt.show()"
      ],
      "execution_count": 0,
      "outputs": [
        {
          "output_type": "display_data",
          "data": {
            "image/png": "[encoded data removed]",
            "text/plain": [
              "<Figure size 432x288 with 1 Axes>"
            ]
          },
          "metadata": {
            "tags": []
          }
        }
      ]
    },
    {
      "cell_type": "code",
      "metadata": {
        "id": "KEICXNKCj23o",
        "colab_type": "code",
        "outputId": "0703c9a0-f0aa-40df-9583-2e94ea73e371",
        "colab": {
          "base_uri": "https://localhost:8080/",
          "height": 35
        }
      },
      "source": [
        "history.history.values"
      ],
      "execution_count": 0,
      "outputs": [
        {
          "output_type": "execute_result",
          "data": {
            "text/plain": [
              "<function dict.values>"
            ]
          },
          "metadata": {
            "tags": []
          },
          "execution_count": 248
        }
      ]
    },
    {
      "cell_type": "code",
      "metadata": {
        "id": "FCNr9LiMncDD",
        "colab_type": "code",
        "colab": {}
      },
      "source": [
        ""
      ],
      "execution_count": 0,
      "outputs": []
    }
  ]
}