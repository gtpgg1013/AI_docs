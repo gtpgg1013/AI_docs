{
 "cells": [
  {
   "cell_type": "code",
   "execution_count": 1,
   "metadata": {},
   "outputs": [],
   "source": [
    "import numpy as np\n",
    "import pandas as pd\n",
    "import matplotlib.pyplot as plt\n",
    "import seaborn as sns\n",
    "import tensorflow as tf\n",
    "import matplotlib as mpl\n",
    "from sklearn.decomposition import PCA"
   ]
  },
  {
   "cell_type": "code",
   "execution_count": 2,
   "metadata": {},
   "outputs": [],
   "source": [
    "df = pd.DataFrame(columns=['calory', 'breakfast', 'lunch', 'dinner', 'exercise', 'body_shape'])\n",
    "#칼로리, 식습관 운동습관과 그에 따른 체형 데이터를\n",
    "df.loc[0] = [1200, 1, 0, 0, 2, 'Skinny']\n",
    "df.loc[1] = [2800, 1, 1, 1, 1, 'Normal']\n",
    "df.loc[2] = [3500, 2, 2, 1, 0, 'Fat']\n",
    "df.loc[3] = [1400, 0, 1, 0, 3, 'Skinny']\n",
    "df.loc[4] = [5000, 2, 2, 2, 0, 'Fat']\n",
    "df.loc[5] = [1300, 0, 0, 1, 2, 'Skinny']\n",
    "df.loc[6] = [3000, 1, 0, 1, 1, 'Normal']\n",
    "df.loc[7] = [4000, 2, 2, 2, 0, 'Fat']\n",
    "df.loc[8] = [2600, 0, 2, 0, 0, 'Normal']\n",
    "df.loc[9] = [3000, 1, 2, 1, 1, 'Fat']"
   ]
  },
  {
   "cell_type": "code",
   "execution_count": 3,
   "metadata": {},
   "outputs": [
    {
     "data": {
      "text/html": [
       "<div>\n",
       "<style scoped>\n",
       "    .dataframe tbody tr th:only-of-type {\n",
       "        vertical-align: middle;\n",
       "    }\n",
       "\n",
       "    .dataframe tbody tr th {\n",
       "        vertical-align: top;\n",
       "    }\n",
       "\n",
       "    .dataframe thead th {\n",
       "        text-align: right;\n",
       "    }\n",
       "</style>\n",
       "<table border=\"1\" class=\"dataframe\">\n",
       "  <thead>\n",
       "    <tr style=\"text-align: right;\">\n",
       "      <th></th>\n",
       "      <th>calory</th>\n",
       "      <th>breakfast</th>\n",
       "      <th>lunch</th>\n",
       "      <th>dinner</th>\n",
       "      <th>exercise</th>\n",
       "      <th>body_shape</th>\n",
       "    </tr>\n",
       "  </thead>\n",
       "  <tbody>\n",
       "    <tr>\n",
       "      <th>0</th>\n",
       "      <td>1200</td>\n",
       "      <td>1</td>\n",
       "      <td>0</td>\n",
       "      <td>0</td>\n",
       "      <td>2</td>\n",
       "      <td>Skinny</td>\n",
       "    </tr>\n",
       "    <tr>\n",
       "      <th>1</th>\n",
       "      <td>2800</td>\n",
       "      <td>1</td>\n",
       "      <td>1</td>\n",
       "      <td>1</td>\n",
       "      <td>1</td>\n",
       "      <td>Normal</td>\n",
       "    </tr>\n",
       "    <tr>\n",
       "      <th>2</th>\n",
       "      <td>3500</td>\n",
       "      <td>2</td>\n",
       "      <td>2</td>\n",
       "      <td>1</td>\n",
       "      <td>0</td>\n",
       "      <td>Fat</td>\n",
       "    </tr>\n",
       "    <tr>\n",
       "      <th>3</th>\n",
       "      <td>1400</td>\n",
       "      <td>0</td>\n",
       "      <td>1</td>\n",
       "      <td>0</td>\n",
       "      <td>3</td>\n",
       "      <td>Skinny</td>\n",
       "    </tr>\n",
       "    <tr>\n",
       "      <th>4</th>\n",
       "      <td>5000</td>\n",
       "      <td>2</td>\n",
       "      <td>2</td>\n",
       "      <td>2</td>\n",
       "      <td>0</td>\n",
       "      <td>Fat</td>\n",
       "    </tr>\n",
       "    <tr>\n",
       "      <th>5</th>\n",
       "      <td>1300</td>\n",
       "      <td>0</td>\n",
       "      <td>0</td>\n",
       "      <td>1</td>\n",
       "      <td>2</td>\n",
       "      <td>Skinny</td>\n",
       "    </tr>\n",
       "    <tr>\n",
       "      <th>6</th>\n",
       "      <td>3000</td>\n",
       "      <td>1</td>\n",
       "      <td>0</td>\n",
       "      <td>1</td>\n",
       "      <td>1</td>\n",
       "      <td>Normal</td>\n",
       "    </tr>\n",
       "    <tr>\n",
       "      <th>7</th>\n",
       "      <td>4000</td>\n",
       "      <td>2</td>\n",
       "      <td>2</td>\n",
       "      <td>2</td>\n",
       "      <td>0</td>\n",
       "      <td>Fat</td>\n",
       "    </tr>\n",
       "    <tr>\n",
       "      <th>8</th>\n",
       "      <td>2600</td>\n",
       "      <td>0</td>\n",
       "      <td>2</td>\n",
       "      <td>0</td>\n",
       "      <td>0</td>\n",
       "      <td>Normal</td>\n",
       "    </tr>\n",
       "    <tr>\n",
       "      <th>9</th>\n",
       "      <td>3000</td>\n",
       "      <td>1</td>\n",
       "      <td>2</td>\n",
       "      <td>1</td>\n",
       "      <td>1</td>\n",
       "      <td>Fat</td>\n",
       "    </tr>\n",
       "  </tbody>\n",
       "</table>\n",
       "</div>"
      ],
      "text/plain": [
       "  calory breakfast lunch dinner exercise body_shape\n",
       "0   1200         1     0      0        2     Skinny\n",
       "1   2800         1     1      1        1     Normal\n",
       "2   3500         2     2      1        0        Fat\n",
       "3   1400         0     1      0        3     Skinny\n",
       "4   5000         2     2      2        0        Fat\n",
       "5   1300         0     0      1        2     Skinny\n",
       "6   3000         1     0      1        1     Normal\n",
       "7   4000         2     2      2        0        Fat\n",
       "8   2600         0     2      0        0     Normal\n",
       "9   3000         1     2      1        1        Fat"
      ]
     },
     "execution_count": 3,
     "metadata": {},
     "output_type": "execute_result"
    }
   ],
   "source": [
    "df"
   ]
  },
  {
   "cell_type": "code",
   "execution_count": 6,
   "metadata": {},
   "outputs": [
    {
     "data": {
      "text/html": [
       "<div>\n",
       "<style scoped>\n",
       "    .dataframe tbody tr th:only-of-type {\n",
       "        vertical-align: middle;\n",
       "    }\n",
       "\n",
       "    .dataframe tbody tr th {\n",
       "        vertical-align: top;\n",
       "    }\n",
       "\n",
       "    .dataframe thead th {\n",
       "        text-align: right;\n",
       "    }\n",
       "</style>\n",
       "<table border=\"1\" class=\"dataframe\">\n",
       "  <thead>\n",
       "    <tr style=\"text-align: right;\">\n",
       "      <th></th>\n",
       "      <th>calory</th>\n",
       "      <th>breakfast</th>\n",
       "      <th>lunch</th>\n",
       "      <th>dinner</th>\n",
       "      <th>exercise</th>\n",
       "    </tr>\n",
       "  </thead>\n",
       "  <tbody>\n",
       "    <tr>\n",
       "      <th>0</th>\n",
       "      <td>1200</td>\n",
       "      <td>1</td>\n",
       "      <td>0</td>\n",
       "      <td>0</td>\n",
       "      <td>2</td>\n",
       "    </tr>\n",
       "    <tr>\n",
       "      <th>1</th>\n",
       "      <td>2800</td>\n",
       "      <td>1</td>\n",
       "      <td>1</td>\n",
       "      <td>1</td>\n",
       "      <td>1</td>\n",
       "    </tr>\n",
       "    <tr>\n",
       "      <th>2</th>\n",
       "      <td>3500</td>\n",
       "      <td>2</td>\n",
       "      <td>2</td>\n",
       "      <td>1</td>\n",
       "      <td>0</td>\n",
       "    </tr>\n",
       "    <tr>\n",
       "      <th>3</th>\n",
       "      <td>1400</td>\n",
       "      <td>0</td>\n",
       "      <td>1</td>\n",
       "      <td>0</td>\n",
       "      <td>3</td>\n",
       "    </tr>\n",
       "    <tr>\n",
       "      <th>4</th>\n",
       "      <td>5000</td>\n",
       "      <td>2</td>\n",
       "      <td>2</td>\n",
       "      <td>2</td>\n",
       "      <td>0</td>\n",
       "    </tr>\n",
       "    <tr>\n",
       "      <th>5</th>\n",
       "      <td>1300</td>\n",
       "      <td>0</td>\n",
       "      <td>0</td>\n",
       "      <td>1</td>\n",
       "      <td>2</td>\n",
       "    </tr>\n",
       "    <tr>\n",
       "      <th>6</th>\n",
       "      <td>3000</td>\n",
       "      <td>1</td>\n",
       "      <td>0</td>\n",
       "      <td>1</td>\n",
       "      <td>1</td>\n",
       "    </tr>\n",
       "    <tr>\n",
       "      <th>7</th>\n",
       "      <td>4000</td>\n",
       "      <td>2</td>\n",
       "      <td>2</td>\n",
       "      <td>2</td>\n",
       "      <td>0</td>\n",
       "    </tr>\n",
       "    <tr>\n",
       "      <th>8</th>\n",
       "      <td>2600</td>\n",
       "      <td>0</td>\n",
       "      <td>2</td>\n",
       "      <td>0</td>\n",
       "      <td>0</td>\n",
       "    </tr>\n",
       "    <tr>\n",
       "      <th>9</th>\n",
       "      <td>3000</td>\n",
       "      <td>1</td>\n",
       "      <td>2</td>\n",
       "      <td>1</td>\n",
       "      <td>1</td>\n",
       "    </tr>\n",
       "  </tbody>\n",
       "</table>\n",
       "</div>"
      ],
      "text/plain": [
       "  calory breakfast lunch dinner exercise\n",
       "0   1200         1     0      0        2\n",
       "1   2800         1     1      1        1\n",
       "2   3500         2     2      1        0\n",
       "3   1400         0     1      0        3\n",
       "4   5000         2     2      2        0\n",
       "5   1300         0     0      1        2\n",
       "6   3000         1     0      1        1\n",
       "7   4000         2     2      2        0\n",
       "8   2600         0     2      0        0\n",
       "9   3000         1     2      1        1"
      ]
     },
     "execution_count": 6,
     "metadata": {},
     "output_type": "execute_result"
    }
   ],
   "source": [
    "X = df[['calory', 'breakfast', 'lunch', 'dinner', 'exercise']]\n",
    "X"
   ]
  },
  {
   "cell_type": "code",
   "execution_count": 7,
   "metadata": {},
   "outputs": [
    {
     "data": {
      "text/html": [
       "<div>\n",
       "<style scoped>\n",
       "    .dataframe tbody tr th:only-of-type {\n",
       "        vertical-align: middle;\n",
       "    }\n",
       "\n",
       "    .dataframe tbody tr th {\n",
       "        vertical-align: top;\n",
       "    }\n",
       "\n",
       "    .dataframe thead th {\n",
       "        text-align: right;\n",
       "    }\n",
       "</style>\n",
       "<table border=\"1\" class=\"dataframe\">\n",
       "  <thead>\n",
       "    <tr style=\"text-align: right;\">\n",
       "      <th></th>\n",
       "      <th>body_shape</th>\n",
       "    </tr>\n",
       "  </thead>\n",
       "  <tbody>\n",
       "    <tr>\n",
       "      <th>0</th>\n",
       "      <td>Skinny</td>\n",
       "    </tr>\n",
       "    <tr>\n",
       "      <th>1</th>\n",
       "      <td>Normal</td>\n",
       "    </tr>\n",
       "    <tr>\n",
       "      <th>2</th>\n",
       "      <td>Fat</td>\n",
       "    </tr>\n",
       "    <tr>\n",
       "      <th>3</th>\n",
       "      <td>Skinny</td>\n",
       "    </tr>\n",
       "    <tr>\n",
       "      <th>4</th>\n",
       "      <td>Fat</td>\n",
       "    </tr>\n",
       "    <tr>\n",
       "      <th>5</th>\n",
       "      <td>Skinny</td>\n",
       "    </tr>\n",
       "    <tr>\n",
       "      <th>6</th>\n",
       "      <td>Normal</td>\n",
       "    </tr>\n",
       "    <tr>\n",
       "      <th>7</th>\n",
       "      <td>Fat</td>\n",
       "    </tr>\n",
       "    <tr>\n",
       "      <th>8</th>\n",
       "      <td>Normal</td>\n",
       "    </tr>\n",
       "    <tr>\n",
       "      <th>9</th>\n",
       "      <td>Fat</td>\n",
       "    </tr>\n",
       "  </tbody>\n",
       "</table>\n",
       "</div>"
      ],
      "text/plain": [
       "  body_shape\n",
       "0     Skinny\n",
       "1     Normal\n",
       "2        Fat\n",
       "3     Skinny\n",
       "4        Fat\n",
       "5     Skinny\n",
       "6     Normal\n",
       "7        Fat\n",
       "8     Normal\n",
       "9        Fat"
      ]
     },
     "execution_count": 7,
     "metadata": {},
     "output_type": "execute_result"
    }
   ],
   "source": [
    "Y = df[['body_shape']]\n",
    "Y"
   ]
  },
  {
   "cell_type": "code",
   "execution_count": 8,
   "metadata": {},
   "outputs": [
    {
     "name": "stderr",
     "output_type": "stream",
     "text": [
      "C:\\Users\\user\\Anaconda3\\lib\\site-packages\\sklearn\\preprocessing\\data.py:645: DataConversionWarning: Data with input dtype object were all converted to float64 by StandardScaler.\n",
      "  return self.partial_fit(X, y)\n",
      "C:\\Users\\user\\Anaconda3\\lib\\site-packages\\sklearn\\base.py:464: DataConversionWarning: Data with input dtype object were all converted to float64 by StandardScaler.\n",
      "  return self.fit(X, **fit_params).transform(X)\n"
     ]
    }
   ],
   "source": [
    "# 어디한번 scaling을 해봅시다\n",
    "from sklearn.preprocessing import StandardScaler\n",
    "scaler = StandardScaler()\n",
    "x_std = scaler.fit_transform(X)"
   ]
  },
  {
   "cell_type": "code",
   "execution_count": 9,
   "metadata": {},
   "outputs": [
    {
     "data": {
      "text/plain": [
       "array([[-1.35205803,  0.        , -1.3764944 , -1.28571429,  1.        ],\n",
       "       [ 0.01711466,  0.        , -0.22941573,  0.14285714,  0.        ],\n",
       "       [ 0.61612771,  1.29099445,  0.91766294,  0.14285714, -1.        ],\n",
       "       [-1.18091145, -1.29099445, -0.22941573, -1.28571429,  2.        ],\n",
       "       [ 1.89972711,  1.29099445,  0.91766294,  1.57142857, -1.        ],\n",
       "       [-1.26648474, -1.29099445, -1.3764944 ,  0.14285714,  1.        ],\n",
       "       [ 0.18826125,  0.        , -1.3764944 ,  0.14285714,  0.        ],\n",
       "       [ 1.04399418,  1.29099445,  0.91766294,  1.57142857, -1.        ],\n",
       "       [-0.15403193, -1.29099445,  0.91766294, -1.28571429, -1.        ],\n",
       "       [ 0.18826125,  0.        ,  0.91766294,  0.14285714,  0.        ]])"
      ]
     },
     "execution_count": 9,
     "metadata": {},
     "output_type": "execute_result"
    }
   ],
   "source": [
    "x_std"
   ]
  },
  {
   "cell_type": "code",
   "execution_count": 11,
   "metadata": {},
   "outputs": [
    {
     "data": {
      "text/plain": [
       "(5, 10)"
      ]
     },
     "execution_count": 11,
     "metadata": {},
     "output_type": "execute_result"
    }
   ],
   "source": [
    "# 공분산행렬\n",
    "# 피처가 컬럼에 있는데 row로 바꾸기 위해 변환\n",
    "x_std.T.shape"
   ]
  },
  {
   "cell_type": "code",
   "execution_count": 12,
   "metadata": {},
   "outputs": [
    {
     "data": {
      "text/plain": [
       "array([[-1.35205803,  0.01711466,  0.61612771, -1.18091145,  1.89972711,\n",
       "        -1.26648474,  0.18826125,  1.04399418, -0.15403193,  0.18826125],\n",
       "       [ 0.        ,  0.        ,  1.29099445, -1.29099445,  1.29099445,\n",
       "        -1.29099445,  0.        ,  1.29099445, -1.29099445,  0.        ],\n",
       "       [-1.3764944 , -0.22941573,  0.91766294, -0.22941573,  0.91766294,\n",
       "        -1.3764944 , -1.3764944 ,  0.91766294,  0.91766294,  0.91766294],\n",
       "       [-1.28571429,  0.14285714,  0.14285714, -1.28571429,  1.57142857,\n",
       "         0.14285714,  0.14285714,  1.57142857, -1.28571429,  0.14285714],\n",
       "       [ 1.        ,  0.        , -1.        ,  2.        , -1.        ,\n",
       "         1.        ,  0.        , -1.        , -1.        ,  0.        ]])"
      ]
     },
     "execution_count": 12,
     "metadata": {},
     "output_type": "execute_result"
    }
   ],
   "source": [
    "features = x_std.T\n",
    "features"
   ]
  },
  {
   "cell_type": "code",
   "execution_count": 15,
   "metadata": {},
   "outputs": [
    {
     "name": "stdout",
     "output_type": "stream",
     "text": [
      "[[ 1.11111111  0.88379717  0.76782385  0.89376551 -0.93179808]\n",
      " [ 0.88379717  1.11111111  0.49362406  0.81967902 -0.71721914]\n",
      " [ 0.76782385  0.49362406  1.11111111  0.40056715 -0.76471911]\n",
      " [ 0.89376551  0.81967902  0.40056715  1.11111111 -0.63492063]\n",
      " [-0.93179808 -0.71721914 -0.76471911 -0.63492063  1.11111111]]\n",
      "(5, 5)\n"
     ]
    }
   ],
   "source": [
    "print(np.cov(features))\n",
    "print(np.cov(features).shape) # 5x5 : "
   ]
  },
  {
   "cell_type": "code",
   "execution_count": 17,
   "metadata": {},
   "outputs": [
    {
     "data": {
      "text/plain": [
       "array([[ 1.11111111,  0.88379717,  0.76782385,  0.89376551, -0.93179808],\n",
       "       [ 0.88379717,  1.11111111,  0.49362406,  0.81967902, -0.71721914],\n",
       "       [ 0.76782385,  0.49362406,  1.11111111,  0.40056715, -0.76471911],\n",
       "       [ 0.89376551,  0.81967902,  0.40056715,  1.11111111, -0.63492063],\n",
       "       [-0.93179808, -0.71721914, -0.76471911, -0.63492063,  1.11111111]])"
      ]
     },
     "execution_count": 17,
     "metadata": {},
     "output_type": "execute_result"
    }
   ],
   "source": [
    "cov_matrix = np.cov(features)\n",
    "cov_matrix"
   ]
  },
  {
   "cell_type": "code",
   "execution_count": 19,
   "metadata": {},
   "outputs": [
    {
     "data": {
      "text/plain": [
       "(array([4.0657343 , 0.8387565 , 0.07629538, 0.27758568, 0.2971837 ]),\n",
       " array([[ 0.508005  ,  0.0169937 , -0.84711404,  0.11637853,  0.10244985],\n",
       "        [ 0.44660335,  0.36890361,  0.12808055, -0.63112016, -0.49973822],\n",
       "        [ 0.38377913, -0.70804084,  0.20681005, -0.40305226,  0.38232213],\n",
       "        [ 0.42845209,  0.53194699,  0.3694462 ,  0.22228235,  0.58954327],\n",
       "        [-0.46002038,  0.2816592 , -0.29450345, -0.61341895,  0.49601841]]))"
      ]
     },
     "execution_count": 19,
     "metadata": {},
     "output_type": "execute_result"
    }
   ],
   "source": [
    "# 공분산 행렬로부터 아이겐벡터와 아이겐밸류 추출\n",
    "np.linalg.eig(cov_matrix)"
   ]
  },
  {
   "cell_type": "code",
   "execution_count": 20,
   "metadata": {},
   "outputs": [
    {
     "name": "stdout",
     "output_type": "stream",
     "text": [
      "고유벡터: [[ 0.508005    0.0169937  -0.84711404  0.11637853  0.10244985]\n",
      " [ 0.44660335  0.36890361  0.12808055 -0.63112016 -0.49973822]\n",
      " [ 0.38377913 -0.70804084  0.20681005 -0.40305226  0.38232213]\n",
      " [ 0.42845209  0.53194699  0.3694462   0.22228235  0.58954327]\n",
      " [-0.46002038  0.2816592  -0.29450345 -0.61341895  0.49601841]]\n",
      "고유값: [4.0657343  0.8387565  0.07629538 0.27758568 0.2971837 ]\n"
     ]
    }
   ],
   "source": [
    "eig_vals, eig_vecs = np.linalg.eig(cov_matrix)\n",
    "print(\"고유벡터: {}\".format(eig_vecs))\n",
    "print(\"고유값: {}\".format(eig_vals))"
   ]
  },
  {
   "cell_type": "code",
   "execution_count": 22,
   "metadata": {},
   "outputs": [
    {
     "data": {
      "text/plain": [
       "0.7318321731427544"
      ]
     },
     "execution_count": 22,
     "metadata": {},
     "output_type": "execute_result"
    }
   ],
   "source": [
    "# 고유벡터는 해당 행렬이 벡터에 작용하는 힘의 방향\n",
    "# PCA 후 본래의 의미를 얼마나 가지고 있는지 체크하는 것이 중요!\n",
    "eig_vals[0]/sum(eig_vals) # 첫번째 축이 전체 정보의 73%정보를 표현함!"
   ]
  },
  {
   "cell_type": "code",
   "execution_count": 24,
   "metadata": {},
   "outputs": [
    {
     "data": {
      "text/plain": [
       "array([-2.22600943, -0.0181432 ,  1.76296611, -2.73542407,  3.02711544,\n",
       "       -2.14702579, -0.37142473,  2.59239883, -0.39347815,  0.50902498])"
      ]
     },
     "execution_count": 24,
     "metadata": {},
     "output_type": "execute_result"
    }
   ],
   "source": [
    "projected_X = x_std.dot(eig_vecs.T[0]) # 새로운 기저로 변환시켜줌! # 얘는 pc1으로 변환된 놈\n",
    "# 전체 73%의 정보 표현하는 1차원 정보로 변환\n",
    "projected_X"
   ]
  },
  {
   "cell_type": "code",
   "execution_count": 26,
   "metadata": {},
   "outputs": [],
   "source": [
    "res = pd.DataFrame(projected_X, columns=['PC1'])\n",
    "res['yaxis'] = 0.0\n",
    "res['label'] = Y"
   ]
  },
  {
   "cell_type": "code",
   "execution_count": 27,
   "metadata": {},
   "outputs": [
    {
     "data": {
      "text/plain": [
       "<seaborn.axisgrid.FacetGrid at 0x12f81997b70>"
      ]
     },
     "execution_count": 27,
     "metadata": {},
     "output_type": "execute_result"
    },
    {
     "data": {
      "image/png": "[encoded data removed]",
      "text/plain": [
       "<Figure size 432.25x360 with 1 Axes>"
      ]
     },
     "metadata": {
      "needs_background": "light"
     },
     "output_type": "display_data"
    }
   ],
   "source": [
    "sns.lmplot('PC1','yaxis', data=res, hue='label')"
   ]
  },
  {
   "cell_type": "code",
   "execution_count": 28,
   "metadata": {},
   "outputs": [
    {
     "data": {
      "text/plain": [
       "<matplotlib.axes._subplots.AxesSubplot at 0x12f833053c8>"
      ]
     },
     "execution_count": 28,
     "metadata": {},
     "output_type": "execute_result"
    },
    {
     "data": {
      "image/png": "[encoded data removed]",
      "text/plain": [
       "<Figure size 432x288 with 1 Axes>"
      ]
     },
     "metadata": {
      "needs_background": "light"
     },
     "output_type": "display_data"
    }
   ],
   "source": [
    "sns.scatterplot('PC1','yaxis', data=res, hue='label')\n",
    "# 5차원이었던 데이터가 PC1이라는 축에 정사영 되어진 것!"
   ]
  },
  {
   "cell_type": "code",
   "execution_count": 2,
   "metadata": {},
   "outputs": [
    {
     "data": {
      "text/plain": [
       "(14999, 10)"
      ]
     },
     "execution_count": 2,
     "metadata": {},
     "output_type": "execute_result"
    }
   ],
   "source": [
    "df = pd.read_csv('HR_comma_sep.csv')\n",
    "df.shape"
   ]
  },
  {
   "cell_type": "code",
   "execution_count": 3,
   "metadata": {},
   "outputs": [
    {
     "name": "stdout",
     "output_type": "stream",
     "text": [
      "<class 'pandas.core.frame.DataFrame'>\n",
      "RangeIndex: 14999 entries, 0 to 14998\n",
      "Data columns (total 10 columns):\n",
      "satisfaction_level       14999 non-null float64\n",
      "last_evaluation          14999 non-null float64\n",
      "number_project           14999 non-null int64\n",
      "average_montly_hours     14999 non-null int64\n",
      "time_spend_company       14999 non-null int64\n",
      "Work_accident            14999 non-null int64\n",
      "left                     14999 non-null int64\n",
      "promotion_last_5years    14999 non-null int64\n",
      "sales                    14999 non-null object\n",
      "salary                   14999 non-null object\n",
      "dtypes: float64(2), int64(6), object(2)\n",
      "memory usage: 1.1+ MB\n"
     ]
    }
   ],
   "source": [
    "df.info()\n",
    "# 타겟 컬럼은 left"
   ]
  },
  {
   "cell_type": "code",
   "execution_count": 4,
   "metadata": {},
   "outputs": [
    {
     "data": {
      "text/plain": [
       "['satisfaction_level',\n",
       " 'last_evaluation',\n",
       " 'number_project',\n",
       " 'average_montly_hours',\n",
       " 'time_spend_company',\n",
       " 'Work_accident',\n",
       " 'left',\n",
       " 'promotion_last_5years',\n",
       " 'sales',\n",
       " 'salary']"
      ]
     },
     "execution_count": 4,
     "metadata": {},
     "output_type": "execute_result"
    }
   ],
   "source": [
    "df.columns.tolist()"
   ]
  },
  {
   "cell_type": "code",
   "execution_count": 5,
   "metadata": {},
   "outputs": [
    {
     "data": {
      "text/html": [
       "<div>\n",
       "<style scoped>\n",
       "    .dataframe tbody tr th:only-of-type {\n",
       "        vertical-align: middle;\n",
       "    }\n",
       "\n",
       "    .dataframe tbody tr th {\n",
       "        vertical-align: top;\n",
       "    }\n",
       "\n",
       "    .dataframe thead th {\n",
       "        text-align: right;\n",
       "    }\n",
       "</style>\n",
       "<table border=\"1\" class=\"dataframe\">\n",
       "  <thead>\n",
       "    <tr style=\"text-align: right;\">\n",
       "      <th></th>\n",
       "      <th>satisfaction_level</th>\n",
       "      <th>last_evaluation</th>\n",
       "      <th>number_project</th>\n",
       "      <th>average_montly_hours</th>\n",
       "      <th>time_spend_company</th>\n",
       "      <th>Work_accident</th>\n",
       "      <th>left</th>\n",
       "      <th>promotion_last_5years</th>\n",
       "      <th>sales</th>\n",
       "      <th>salary</th>\n",
       "    </tr>\n",
       "  </thead>\n",
       "  <tbody>\n",
       "    <tr>\n",
       "      <th>0</th>\n",
       "      <td>0.38</td>\n",
       "      <td>0.53</td>\n",
       "      <td>2</td>\n",
       "      <td>157</td>\n",
       "      <td>3</td>\n",
       "      <td>0</td>\n",
       "      <td>1</td>\n",
       "      <td>0</td>\n",
       "      <td>sales</td>\n",
       "      <td>low</td>\n",
       "    </tr>\n",
       "    <tr>\n",
       "      <th>1</th>\n",
       "      <td>0.80</td>\n",
       "      <td>0.86</td>\n",
       "      <td>5</td>\n",
       "      <td>262</td>\n",
       "      <td>6</td>\n",
       "      <td>0</td>\n",
       "      <td>1</td>\n",
       "      <td>0</td>\n",
       "      <td>sales</td>\n",
       "      <td>medium</td>\n",
       "    </tr>\n",
       "    <tr>\n",
       "      <th>2</th>\n",
       "      <td>0.11</td>\n",
       "      <td>0.88</td>\n",
       "      <td>7</td>\n",
       "      <td>272</td>\n",
       "      <td>4</td>\n",
       "      <td>0</td>\n",
       "      <td>1</td>\n",
       "      <td>0</td>\n",
       "      <td>sales</td>\n",
       "      <td>medium</td>\n",
       "    </tr>\n",
       "    <tr>\n",
       "      <th>3</th>\n",
       "      <td>0.72</td>\n",
       "      <td>0.87</td>\n",
       "      <td>5</td>\n",
       "      <td>223</td>\n",
       "      <td>5</td>\n",
       "      <td>0</td>\n",
       "      <td>1</td>\n",
       "      <td>0</td>\n",
       "      <td>sales</td>\n",
       "      <td>low</td>\n",
       "    </tr>\n",
       "    <tr>\n",
       "      <th>4</th>\n",
       "      <td>0.37</td>\n",
       "      <td>0.52</td>\n",
       "      <td>2</td>\n",
       "      <td>159</td>\n",
       "      <td>3</td>\n",
       "      <td>0</td>\n",
       "      <td>1</td>\n",
       "      <td>0</td>\n",
       "      <td>sales</td>\n",
       "      <td>low</td>\n",
       "    </tr>\n",
       "  </tbody>\n",
       "</table>\n",
       "</div>"
      ],
      "text/plain": [
       "   satisfaction_level  last_evaluation  number_project  average_montly_hours  \\\n",
       "0                0.38             0.53               2                   157   \n",
       "1                0.80             0.86               5                   262   \n",
       "2                0.11             0.88               7                   272   \n",
       "3                0.72             0.87               5                   223   \n",
       "4                0.37             0.52               2                   159   \n",
       "\n",
       "   time_spend_company  Work_accident  left  promotion_last_5years  sales  \\\n",
       "0                   3              0     1                      0  sales   \n",
       "1                   6              0     1                      0  sales   \n",
       "2                   4              0     1                      0  sales   \n",
       "3                   5              0     1                      0  sales   \n",
       "4                   3              0     1                      0  sales   \n",
       "\n",
       "   salary  \n",
       "0     low  \n",
       "1  medium  \n",
       "2  medium  \n",
       "3     low  \n",
       "4     low  "
      ]
     },
     "execution_count": 5,
     "metadata": {},
     "output_type": "execute_result"
    }
   ],
   "source": [
    "df.head()"
   ]
  },
  {
   "cell_type": "code",
   "execution_count": 6,
   "metadata": {},
   "outputs": [
    {
     "data": {
      "text/html": [
       "<div>\n",
       "<style scoped>\n",
       "    .dataframe tbody tr th:only-of-type {\n",
       "        vertical-align: middle;\n",
       "    }\n",
       "\n",
       "    .dataframe tbody tr th {\n",
       "        vertical-align: top;\n",
       "    }\n",
       "\n",
       "    .dataframe thead th {\n",
       "        text-align: right;\n",
       "    }\n",
       "</style>\n",
       "<table border=\"1\" class=\"dataframe\">\n",
       "  <thead>\n",
       "    <tr style=\"text-align: right;\">\n",
       "      <th></th>\n",
       "      <th>satisfaction_level</th>\n",
       "      <th>last_evaluation</th>\n",
       "      <th>number_project</th>\n",
       "      <th>average_montly_hours</th>\n",
       "      <th>time_spend_company</th>\n",
       "      <th>Work_accident</th>\n",
       "      <th>left</th>\n",
       "      <th>promotion_last_5years</th>\n",
       "    </tr>\n",
       "  </thead>\n",
       "  <tbody>\n",
       "    <tr>\n",
       "      <th>satisfaction_level</th>\n",
       "      <td>1.000000</td>\n",
       "      <td>0.105021</td>\n",
       "      <td>-0.142970</td>\n",
       "      <td>-0.020048</td>\n",
       "      <td>-0.100866</td>\n",
       "      <td>0.058697</td>\n",
       "      <td>-0.388375</td>\n",
       "      <td>0.025605</td>\n",
       "    </tr>\n",
       "    <tr>\n",
       "      <th>last_evaluation</th>\n",
       "      <td>0.105021</td>\n",
       "      <td>1.000000</td>\n",
       "      <td>0.349333</td>\n",
       "      <td>0.339742</td>\n",
       "      <td>0.131591</td>\n",
       "      <td>-0.007104</td>\n",
       "      <td>0.006567</td>\n",
       "      <td>-0.008684</td>\n",
       "    </tr>\n",
       "    <tr>\n",
       "      <th>number_project</th>\n",
       "      <td>-0.142970</td>\n",
       "      <td>0.349333</td>\n",
       "      <td>1.000000</td>\n",
       "      <td>0.417211</td>\n",
       "      <td>0.196786</td>\n",
       "      <td>-0.004741</td>\n",
       "      <td>0.023787</td>\n",
       "      <td>-0.006064</td>\n",
       "    </tr>\n",
       "    <tr>\n",
       "      <th>average_montly_hours</th>\n",
       "      <td>-0.020048</td>\n",
       "      <td>0.339742</td>\n",
       "      <td>0.417211</td>\n",
       "      <td>1.000000</td>\n",
       "      <td>0.127755</td>\n",
       "      <td>-0.010143</td>\n",
       "      <td>0.071287</td>\n",
       "      <td>-0.003544</td>\n",
       "    </tr>\n",
       "    <tr>\n",
       "      <th>time_spend_company</th>\n",
       "      <td>-0.100866</td>\n",
       "      <td>0.131591</td>\n",
       "      <td>0.196786</td>\n",
       "      <td>0.127755</td>\n",
       "      <td>1.000000</td>\n",
       "      <td>0.002120</td>\n",
       "      <td>0.144822</td>\n",
       "      <td>0.067433</td>\n",
       "    </tr>\n",
       "    <tr>\n",
       "      <th>Work_accident</th>\n",
       "      <td>0.058697</td>\n",
       "      <td>-0.007104</td>\n",
       "      <td>-0.004741</td>\n",
       "      <td>-0.010143</td>\n",
       "      <td>0.002120</td>\n",
       "      <td>1.000000</td>\n",
       "      <td>-0.154622</td>\n",
       "      <td>0.039245</td>\n",
       "    </tr>\n",
       "    <tr>\n",
       "      <th>left</th>\n",
       "      <td>-0.388375</td>\n",
       "      <td>0.006567</td>\n",
       "      <td>0.023787</td>\n",
       "      <td>0.071287</td>\n",
       "      <td>0.144822</td>\n",
       "      <td>-0.154622</td>\n",
       "      <td>1.000000</td>\n",
       "      <td>-0.061788</td>\n",
       "    </tr>\n",
       "    <tr>\n",
       "      <th>promotion_last_5years</th>\n",
       "      <td>0.025605</td>\n",
       "      <td>-0.008684</td>\n",
       "      <td>-0.006064</td>\n",
       "      <td>-0.003544</td>\n",
       "      <td>0.067433</td>\n",
       "      <td>0.039245</td>\n",
       "      <td>-0.061788</td>\n",
       "      <td>1.000000</td>\n",
       "    </tr>\n",
       "  </tbody>\n",
       "</table>\n",
       "</div>"
      ],
      "text/plain": [
       "                       satisfaction_level  last_evaluation  number_project  \\\n",
       "satisfaction_level               1.000000         0.105021       -0.142970   \n",
       "last_evaluation                  0.105021         1.000000        0.349333   \n",
       "number_project                  -0.142970         0.349333        1.000000   \n",
       "average_montly_hours            -0.020048         0.339742        0.417211   \n",
       "time_spend_company              -0.100866         0.131591        0.196786   \n",
       "Work_accident                    0.058697        -0.007104       -0.004741   \n",
       "left                            -0.388375         0.006567        0.023787   \n",
       "promotion_last_5years            0.025605        -0.008684       -0.006064   \n",
       "\n",
       "                       average_montly_hours  time_spend_company  \\\n",
       "satisfaction_level                -0.020048           -0.100866   \n",
       "last_evaluation                    0.339742            0.131591   \n",
       "number_project                     0.417211            0.196786   \n",
       "average_montly_hours               1.000000            0.127755   \n",
       "time_spend_company                 0.127755            1.000000   \n",
       "Work_accident                     -0.010143            0.002120   \n",
       "left                               0.071287            0.144822   \n",
       "promotion_last_5years             -0.003544            0.067433   \n",
       "\n",
       "                       Work_accident      left  promotion_last_5years  \n",
       "satisfaction_level          0.058697 -0.388375               0.025605  \n",
       "last_evaluation            -0.007104  0.006567              -0.008684  \n",
       "number_project             -0.004741  0.023787              -0.006064  \n",
       "average_montly_hours       -0.010143  0.071287              -0.003544  \n",
       "time_spend_company          0.002120  0.144822               0.067433  \n",
       "Work_accident               1.000000 -0.154622               0.039245  \n",
       "left                       -0.154622  1.000000              -0.061788  \n",
       "promotion_last_5years       0.039245 -0.061788               1.000000  "
      ]
     },
     "execution_count": 6,
     "metadata": {},
     "output_type": "execute_result"
    }
   ],
   "source": [
    "df.corr()\n",
    "# 이거 표준화 안하고 상관계수 구해도 상관없나?"
   ]
  },
  {
   "cell_type": "code",
   "execution_count": 7,
   "metadata": {},
   "outputs": [
    {
     "data": {
      "text/plain": [
       "<matplotlib.axes._subplots.AxesSubplot at 0x1863185be10>"
      ]
     },
     "execution_count": 7,
     "metadata": {},
     "output_type": "execute_result"
    },
    {
     "data": {
      "image/png": "[encoded data removed]",
      "text/plain": [
       "<Figure size 720x864 with 2 Axes>"
      ]
     },
     "metadata": {
      "needs_background": "light"
     },
     "output_type": "display_data"
    }
   ],
   "source": [
    "f, ax = plt.subplots(figsize=(10,12))\n",
    "sns.heatmap(df.corr(), annot=True, ax=ax, cmap='cubehelix')"
   ]
  },
  {
   "cell_type": "code",
   "execution_count": 8,
   "metadata": {},
   "outputs": [
    {
     "data": {
      "text/plain": [
       "Index(['satisfaction_level', 'last_evaluation', 'number_project',\n",
       "       'average_montly_hours', 'time_spend_company', 'Work_accident', 'left',\n",
       "       'promotion_last_5years', 'sales', 'salary'],\n",
       "      dtype='object')"
      ]
     },
     "execution_count": 8,
     "metadata": {},
     "output_type": "execute_result"
    }
   ],
   "source": [
    "df.columns"
   ]
  },
  {
   "cell_type": "code",
   "execution_count": 9,
   "metadata": {},
   "outputs": [
    {
     "data": {
      "text/plain": [
       "sales          4140\n",
       "technical      2720\n",
       "support        2229\n",
       "IT             1227\n",
       "product_mng     902\n",
       "marketing       858\n",
       "RandD           787\n",
       "accounting      767\n",
       "hr              739\n",
       "management      630\n",
       "Name: sales, dtype: int64"
      ]
     },
     "execution_count": 9,
     "metadata": {},
     "output_type": "execute_result"
    }
   ],
   "source": [
    "df['sales'].value_counts()"
   ]
  },
  {
   "cell_type": "code",
   "execution_count": 10,
   "metadata": {},
   "outputs": [
    {
     "data": {
      "text/plain": [
       "array(['sales', 'accounting', 'hr', 'technical', 'support', 'management',\n",
       "       'IT', 'product_mng', 'marketing', 'RandD'], dtype=object)"
      ]
     },
     "execution_count": 10,
     "metadata": {},
     "output_type": "execute_result"
    }
   ],
   "source": [
    "df['sales'].unique()"
   ]
  },
  {
   "cell_type": "code",
   "execution_count": 11,
   "metadata": {},
   "outputs": [
    {
     "data": {
      "text/plain": [
       "low       7316\n",
       "medium    6446\n",
       "high      1237\n",
       "Name: salary, dtype: int64"
      ]
     },
     "execution_count": 11,
     "metadata": {},
     "output_type": "execute_result"
    }
   ],
   "source": [
    "df['salary'].value_counts()"
   ]
  },
  {
   "cell_type": "code",
   "execution_count": 12,
   "metadata": {},
   "outputs": [
    {
     "data": {
      "text/html": [
       "<div>\n",
       "<style scoped>\n",
       "    .dataframe tbody tr th:only-of-type {\n",
       "        vertical-align: middle;\n",
       "    }\n",
       "\n",
       "    .dataframe tbody tr th {\n",
       "        vertical-align: top;\n",
       "    }\n",
       "\n",
       "    .dataframe thead th {\n",
       "        text-align: right;\n",
       "    }\n",
       "</style>\n",
       "<table border=\"1\" class=\"dataframe\">\n",
       "  <thead>\n",
       "    <tr style=\"text-align: right;\">\n",
       "      <th></th>\n",
       "      <th>satisfaction_level</th>\n",
       "      <th>last_evaluation</th>\n",
       "      <th>number_project</th>\n",
       "      <th>average_montly_hours</th>\n",
       "      <th>time_spend_company</th>\n",
       "      <th>Work_accident</th>\n",
       "      <th>left</th>\n",
       "      <th>promotion_last_5years</th>\n",
       "    </tr>\n",
       "    <tr>\n",
       "      <th>sales</th>\n",
       "      <th></th>\n",
       "      <th></th>\n",
       "      <th></th>\n",
       "      <th></th>\n",
       "      <th></th>\n",
       "      <th></th>\n",
       "      <th></th>\n",
       "      <th></th>\n",
       "    </tr>\n",
       "  </thead>\n",
       "  <tbody>\n",
       "    <tr>\n",
       "      <th>IT</th>\n",
       "      <td>758.46</td>\n",
       "      <td>879.55</td>\n",
       "      <td>4683</td>\n",
       "      <td>248119</td>\n",
       "      <td>4256</td>\n",
       "      <td>164</td>\n",
       "      <td>273</td>\n",
       "      <td>3</td>\n",
       "    </tr>\n",
       "    <tr>\n",
       "      <th>RandD</th>\n",
       "      <td>487.80</td>\n",
       "      <td>560.44</td>\n",
       "      <td>3033</td>\n",
       "      <td>158030</td>\n",
       "      <td>2650</td>\n",
       "      <td>134</td>\n",
       "      <td>121</td>\n",
       "      <td>27</td>\n",
       "    </tr>\n",
       "    <tr>\n",
       "      <th>accounting</th>\n",
       "      <td>446.51</td>\n",
       "      <td>550.49</td>\n",
       "      <td>2934</td>\n",
       "      <td>154292</td>\n",
       "      <td>2702</td>\n",
       "      <td>96</td>\n",
       "      <td>204</td>\n",
       "      <td>14</td>\n",
       "    </tr>\n",
       "    <tr>\n",
       "      <th>hr</th>\n",
       "      <td>442.52</td>\n",
       "      <td>523.84</td>\n",
       "      <td>2701</td>\n",
       "      <td>146828</td>\n",
       "      <td>2480</td>\n",
       "      <td>89</td>\n",
       "      <td>215</td>\n",
       "      <td>15</td>\n",
       "    </tr>\n",
       "    <tr>\n",
       "      <th>management</th>\n",
       "      <td>391.45</td>\n",
       "      <td>456.12</td>\n",
       "      <td>2432</td>\n",
       "      <td>126787</td>\n",
       "      <td>2711</td>\n",
       "      <td>103</td>\n",
       "      <td>91</td>\n",
       "      <td>69</td>\n",
       "    </tr>\n",
       "    <tr>\n",
       "      <th>marketing</th>\n",
       "      <td>530.76</td>\n",
       "      <td>614.23</td>\n",
       "      <td>3164</td>\n",
       "      <td>171073</td>\n",
       "      <td>3063</td>\n",
       "      <td>138</td>\n",
       "      <td>203</td>\n",
       "      <td>43</td>\n",
       "    </tr>\n",
       "    <tr>\n",
       "      <th>product_mng</th>\n",
       "      <td>558.91</td>\n",
       "      <td>644.71</td>\n",
       "      <td>3434</td>\n",
       "      <td>180369</td>\n",
       "      <td>3135</td>\n",
       "      <td>132</td>\n",
       "      <td>198</td>\n",
       "      <td>0</td>\n",
       "    </tr>\n",
       "    <tr>\n",
       "      <th>sales</th>\n",
       "      <td>2543.81</td>\n",
       "      <td>2938.23</td>\n",
       "      <td>15634</td>\n",
       "      <td>831773</td>\n",
       "      <td>14631</td>\n",
       "      <td>587</td>\n",
       "      <td>1014</td>\n",
       "      <td>100</td>\n",
       "    </tr>\n",
       "    <tr>\n",
       "      <th>support</th>\n",
       "      <td>1378.19</td>\n",
       "      <td>1611.81</td>\n",
       "      <td>8479</td>\n",
       "      <td>447490</td>\n",
       "      <td>7563</td>\n",
       "      <td>345</td>\n",
       "      <td>555</td>\n",
       "      <td>20</td>\n",
       "    </tr>\n",
       "    <tr>\n",
       "      <th>technical</th>\n",
       "      <td>1653.48</td>\n",
       "      <td>1961.39</td>\n",
       "      <td>10548</td>\n",
       "      <td>550793</td>\n",
       "      <td>9279</td>\n",
       "      <td>381</td>\n",
       "      <td>697</td>\n",
       "      <td>28</td>\n",
       "    </tr>\n",
       "  </tbody>\n",
       "</table>\n",
       "</div>"
      ],
      "text/plain": [
       "             satisfaction_level  last_evaluation  number_project  \\\n",
       "sales                                                              \n",
       "IT                       758.46           879.55            4683   \n",
       "RandD                    487.80           560.44            3033   \n",
       "accounting               446.51           550.49            2934   \n",
       "hr                       442.52           523.84            2701   \n",
       "management               391.45           456.12            2432   \n",
       "marketing                530.76           614.23            3164   \n",
       "product_mng              558.91           644.71            3434   \n",
       "sales                   2543.81          2938.23           15634   \n",
       "support                 1378.19          1611.81            8479   \n",
       "technical               1653.48          1961.39           10548   \n",
       "\n",
       "             average_montly_hours  time_spend_company  Work_accident  left  \\\n",
       "sales                                                                        \n",
       "IT                         248119                4256            164   273   \n",
       "RandD                      158030                2650            134   121   \n",
       "accounting                 154292                2702             96   204   \n",
       "hr                         146828                2480             89   215   \n",
       "management                 126787                2711            103    91   \n",
       "marketing                  171073                3063            138   203   \n",
       "product_mng                180369                3135            132   198   \n",
       "sales                      831773               14631            587  1014   \n",
       "support                    447490                7563            345   555   \n",
       "technical                  550793                9279            381   697   \n",
       "\n",
       "             promotion_last_5years  \n",
       "sales                               \n",
       "IT                               3  \n",
       "RandD                           27  \n",
       "accounting                      14  \n",
       "hr                              15  \n",
       "management                      69  \n",
       "marketing                       43  \n",
       "product_mng                      0  \n",
       "sales                          100  \n",
       "support                         20  \n",
       "technical                       28  "
      ]
     },
     "execution_count": 12,
     "metadata": {},
     "output_type": "execute_result"
    }
   ],
   "source": [
    "sales = df.groupby('sales').sum()\n",
    "sales"
   ]
  },
  {
   "cell_type": "code",
   "execution_count": 13,
   "metadata": {
    "scrolled": true
   },
   "outputs": [
    {
     "data": {
      "text/html": [
       "<div>\n",
       "<style scoped>\n",
       "    .dataframe tbody tr th:only-of-type {\n",
       "        vertical-align: middle;\n",
       "    }\n",
       "\n",
       "    .dataframe tbody tr th {\n",
       "        vertical-align: top;\n",
       "    }\n",
       "\n",
       "    .dataframe thead th {\n",
       "        text-align: right;\n",
       "    }\n",
       "</style>\n",
       "<table border=\"1\" class=\"dataframe\">\n",
       "  <thead>\n",
       "    <tr style=\"text-align: right;\">\n",
       "      <th></th>\n",
       "      <th>satisfaction_level</th>\n",
       "      <th>last_evaluation</th>\n",
       "      <th>number_project</th>\n",
       "      <th>average_montly_hours</th>\n",
       "      <th>time_spend_company</th>\n",
       "      <th>Work_accident</th>\n",
       "      <th>left</th>\n",
       "      <th>promotion_last_5years</th>\n",
       "    </tr>\n",
       "    <tr>\n",
       "      <th>sales</th>\n",
       "      <th></th>\n",
       "      <th></th>\n",
       "      <th></th>\n",
       "      <th></th>\n",
       "      <th></th>\n",
       "      <th></th>\n",
       "      <th></th>\n",
       "      <th></th>\n",
       "    </tr>\n",
       "  </thead>\n",
       "  <tbody>\n",
       "    <tr>\n",
       "      <th>IT</th>\n",
       "      <td>0.618142</td>\n",
       "      <td>0.716830</td>\n",
       "      <td>3.816626</td>\n",
       "      <td>202.215974</td>\n",
       "      <td>3.468623</td>\n",
       "      <td>0.133659</td>\n",
       "      <td>0.222494</td>\n",
       "      <td>0.002445</td>\n",
       "    </tr>\n",
       "    <tr>\n",
       "      <th>RandD</th>\n",
       "      <td>0.619822</td>\n",
       "      <td>0.712122</td>\n",
       "      <td>3.853875</td>\n",
       "      <td>200.800508</td>\n",
       "      <td>3.367217</td>\n",
       "      <td>0.170267</td>\n",
       "      <td>0.153748</td>\n",
       "      <td>0.034307</td>\n",
       "    </tr>\n",
       "    <tr>\n",
       "      <th>accounting</th>\n",
       "      <td>0.582151</td>\n",
       "      <td>0.717718</td>\n",
       "      <td>3.825293</td>\n",
       "      <td>201.162973</td>\n",
       "      <td>3.522816</td>\n",
       "      <td>0.125163</td>\n",
       "      <td>0.265971</td>\n",
       "      <td>0.018253</td>\n",
       "    </tr>\n",
       "    <tr>\n",
       "      <th>hr</th>\n",
       "      <td>0.598809</td>\n",
       "      <td>0.708850</td>\n",
       "      <td>3.654939</td>\n",
       "      <td>198.684709</td>\n",
       "      <td>3.355886</td>\n",
       "      <td>0.120433</td>\n",
       "      <td>0.290934</td>\n",
       "      <td>0.020298</td>\n",
       "    </tr>\n",
       "    <tr>\n",
       "      <th>management</th>\n",
       "      <td>0.621349</td>\n",
       "      <td>0.724000</td>\n",
       "      <td>3.860317</td>\n",
       "      <td>201.249206</td>\n",
       "      <td>4.303175</td>\n",
       "      <td>0.163492</td>\n",
       "      <td>0.144444</td>\n",
       "      <td>0.109524</td>\n",
       "    </tr>\n",
       "    <tr>\n",
       "      <th>marketing</th>\n",
       "      <td>0.618601</td>\n",
       "      <td>0.715886</td>\n",
       "      <td>3.687646</td>\n",
       "      <td>199.385781</td>\n",
       "      <td>3.569930</td>\n",
       "      <td>0.160839</td>\n",
       "      <td>0.236597</td>\n",
       "      <td>0.050117</td>\n",
       "    </tr>\n",
       "    <tr>\n",
       "      <th>product_mng</th>\n",
       "      <td>0.619634</td>\n",
       "      <td>0.714756</td>\n",
       "      <td>3.807095</td>\n",
       "      <td>199.965632</td>\n",
       "      <td>3.475610</td>\n",
       "      <td>0.146341</td>\n",
       "      <td>0.219512</td>\n",
       "      <td>0.000000</td>\n",
       "    </tr>\n",
       "    <tr>\n",
       "      <th>sales</th>\n",
       "      <td>0.614447</td>\n",
       "      <td>0.709717</td>\n",
       "      <td>3.776329</td>\n",
       "      <td>200.911353</td>\n",
       "      <td>3.534058</td>\n",
       "      <td>0.141787</td>\n",
       "      <td>0.244928</td>\n",
       "      <td>0.024155</td>\n",
       "    </tr>\n",
       "    <tr>\n",
       "      <th>support</th>\n",
       "      <td>0.618300</td>\n",
       "      <td>0.723109</td>\n",
       "      <td>3.803948</td>\n",
       "      <td>200.758188</td>\n",
       "      <td>3.393001</td>\n",
       "      <td>0.154778</td>\n",
       "      <td>0.248991</td>\n",
       "      <td>0.008973</td>\n",
       "    </tr>\n",
       "    <tr>\n",
       "      <th>technical</th>\n",
       "      <td>0.607897</td>\n",
       "      <td>0.721099</td>\n",
       "      <td>3.877941</td>\n",
       "      <td>202.497426</td>\n",
       "      <td>3.411397</td>\n",
       "      <td>0.140074</td>\n",
       "      <td>0.256250</td>\n",
       "      <td>0.010294</td>\n",
       "    </tr>\n",
       "  </tbody>\n",
       "</table>\n",
       "</div>"
      ],
      "text/plain": [
       "             satisfaction_level  last_evaluation  number_project  \\\n",
       "sales                                                              \n",
       "IT                     0.618142         0.716830        3.816626   \n",
       "RandD                  0.619822         0.712122        3.853875   \n",
       "accounting             0.582151         0.717718        3.825293   \n",
       "hr                     0.598809         0.708850        3.654939   \n",
       "management             0.621349         0.724000        3.860317   \n",
       "marketing              0.618601         0.715886        3.687646   \n",
       "product_mng            0.619634         0.714756        3.807095   \n",
       "sales                  0.614447         0.709717        3.776329   \n",
       "support                0.618300         0.723109        3.803948   \n",
       "technical              0.607897         0.721099        3.877941   \n",
       "\n",
       "             average_montly_hours  time_spend_company  Work_accident  \\\n",
       "sales                                                                  \n",
       "IT                     202.215974            3.468623       0.133659   \n",
       "RandD                  200.800508            3.367217       0.170267   \n",
       "accounting             201.162973            3.522816       0.125163   \n",
       "hr                     198.684709            3.355886       0.120433   \n",
       "management             201.249206            4.303175       0.163492   \n",
       "marketing              199.385781            3.569930       0.160839   \n",
       "product_mng            199.965632            3.475610       0.146341   \n",
       "sales                  200.911353            3.534058       0.141787   \n",
       "support                200.758188            3.393001       0.154778   \n",
       "technical              202.497426            3.411397       0.140074   \n",
       "\n",
       "                 left  promotion_last_5years  \n",
       "sales                                         \n",
       "IT           0.222494               0.002445  \n",
       "RandD        0.153748               0.034307  \n",
       "accounting   0.265971               0.018253  \n",
       "hr           0.290934               0.020298  \n",
       "management   0.144444               0.109524  \n",
       "marketing    0.236597               0.050117  \n",
       "product_mng  0.219512               0.000000  \n",
       "sales        0.244928               0.024155  \n",
       "support      0.248991               0.008973  \n",
       "technical    0.256250               0.010294  "
      ]
     },
     "execution_count": 13,
     "metadata": {},
     "output_type": "execute_result"
    }
   ],
   "source": [
    "groupby_sales = df.groupby('sales').mean()\n",
    "groupby_sales\n",
    "# 그럼 이 그룹별 satisfactation level을 순위화해서 각 데이터에 넣어줘야지"
   ]
  },
  {
   "cell_type": "code",
   "execution_count": 86,
   "metadata": {},
   "outputs": [
    {
     "data": {
      "text/html": [
       "<div>\n",
       "<style scoped>\n",
       "    .dataframe tbody tr th:only-of-type {\n",
       "        vertical-align: middle;\n",
       "    }\n",
       "\n",
       "    .dataframe tbody tr th {\n",
       "        vertical-align: top;\n",
       "    }\n",
       "\n",
       "    .dataframe thead th {\n",
       "        text-align: right;\n",
       "    }\n",
       "</style>\n",
       "<table border=\"1\" class=\"dataframe\">\n",
       "  <thead>\n",
       "    <tr style=\"text-align: right;\">\n",
       "      <th>sales</th>\n",
       "      <th>IT</th>\n",
       "      <th>RandD</th>\n",
       "      <th>accounting</th>\n",
       "      <th>hr</th>\n",
       "      <th>management</th>\n",
       "      <th>marketing</th>\n",
       "      <th>product_mng</th>\n",
       "      <th>sales</th>\n",
       "      <th>support</th>\n",
       "      <th>technical</th>\n",
       "    </tr>\n",
       "  </thead>\n",
       "  <tbody>\n",
       "    <tr>\n",
       "      <th>satisfaction_level</th>\n",
       "      <td>0.618142</td>\n",
       "      <td>0.619822</td>\n",
       "      <td>0.582151</td>\n",
       "      <td>0.598809</td>\n",
       "      <td>0.621349</td>\n",
       "      <td>0.618601</td>\n",
       "      <td>0.619634</td>\n",
       "      <td>0.614447</td>\n",
       "      <td>0.6183</td>\n",
       "      <td>0.607897</td>\n",
       "    </tr>\n",
       "  </tbody>\n",
       "</table>\n",
       "</div>"
      ],
      "text/plain": [
       "sales                     IT     RandD  accounting        hr  management  \\\n",
       "satisfaction_level  0.618142  0.619822    0.582151  0.598809    0.621349   \n",
       "\n",
       "sales               marketing  product_mng     sales  support  technical  \n",
       "satisfaction_level   0.618601     0.619634  0.614447   0.6183   0.607897  "
      ]
     },
     "execution_count": 86,
     "metadata": {},
     "output_type": "execute_result"
    }
   ],
   "source": [
    "groupby_sales[['satisfaction_level']].T"
   ]
  },
  {
   "cell_type": "code",
   "execution_count": 14,
   "metadata": {},
   "outputs": [
    {
     "data": {
      "text/plain": [
       "Index(['IT', 'RandD', 'accounting', 'hr', 'management', 'marketing',\n",
       "       'product_mng', 'sales', 'support', 'technical'],\n",
       "      dtype='object', name='sales')"
      ]
     },
     "execution_count": 14,
     "metadata": {},
     "output_type": "execute_result"
    }
   ],
   "source": [
    "# satisfation_level이 상관계수가 높자나! : group화된 놈중에서 뽑아내서 이용해보자!\n",
    "groupby_sales.index"
   ]
  },
  {
   "cell_type": "code",
   "execution_count": 15,
   "metadata": {},
   "outputs": [
    {
     "data": {
      "text/plain": [
       "Index(['satisfaction_level', 'last_evaluation', 'number_project',\n",
       "       'average_montly_hours', 'time_spend_company', 'Work_accident', 'left',\n",
       "       'promotion_last_5years'],\n",
       "      dtype='object')"
      ]
     },
     "execution_count": 15,
     "metadata": {},
     "output_type": "execute_result"
    }
   ],
   "source": [
    "groupby_sales.columns"
   ]
  },
  {
   "cell_type": "code",
   "execution_count": 16,
   "metadata": {},
   "outputs": [],
   "source": [
    "cols = groupby_sales.index.tolist()"
   ]
  },
  {
   "cell_type": "code",
   "execution_count": 17,
   "metadata": {},
   "outputs": [
    {
     "data": {
      "text/plain": [
       "['IT',\n",
       " 'RandD',\n",
       " 'accounting',\n",
       " 'hr',\n",
       " 'management',\n",
       " 'marketing',\n",
       " 'product_mng',\n",
       " 'sales',\n",
       " 'support',\n",
       " 'technical']"
      ]
     },
     "execution_count": 17,
     "metadata": {},
     "output_type": "execute_result"
    }
   ],
   "source": [
    "cols"
   ]
  },
  {
   "cell_type": "code",
   "execution_count": 18,
   "metadata": {},
   "outputs": [
    {
     "data": {
      "text/plain": [
       "[0.6181418092909551,\n",
       " 0.6198221092757306,\n",
       " 0.5821512385919166,\n",
       " 0.5988092016238159,\n",
       " 0.6213492063492058,\n",
       " 0.6186013986013983,\n",
       " 0.6196341463414636,\n",
       " 0.614446859903383,\n",
       " 0.6182996859578297,\n",
       " 0.6078970588235295]"
      ]
     },
     "execution_count": 18,
     "metadata": {},
     "output_type": "execute_result"
    }
   ],
   "source": [
    "depList = []\n",
    "\n",
    "for col in cols:\n",
    "    tmp = groupby_sales['satisfaction_level'][col]\n",
    "    depList.append(tmp)\n",
    "depList"
   ]
  },
  {
   "cell_type": "code",
   "execution_count": 19,
   "metadata": {},
   "outputs": [],
   "source": [
    "IT = groupby_sales['satisfaction_level'].IT\n",
    "# 이걸 걍 depList에 한꺼번에 넣어준거 (귀찮아서)"
   ]
  },
  {
   "cell_type": "code",
   "execution_count": 60,
   "metadata": {},
   "outputs": [
    {
     "data": {
      "text/html": [
       "<div>\n",
       "<style scoped>\n",
       "    .dataframe tbody tr th:only-of-type {\n",
       "        vertical-align: middle;\n",
       "    }\n",
       "\n",
       "    .dataframe tbody tr th {\n",
       "        vertical-align: top;\n",
       "    }\n",
       "\n",
       "    .dataframe thead th {\n",
       "        text-align: right;\n",
       "    }\n",
       "</style>\n",
       "<table border=\"1\" class=\"dataframe\">\n",
       "  <thead>\n",
       "    <tr style=\"text-align: right;\">\n",
       "      <th></th>\n",
       "      <th>satisfaction_level</th>\n",
       "      <th>last_evaluation</th>\n",
       "      <th>number_project</th>\n",
       "      <th>average_montly_hours</th>\n",
       "      <th>time_spend_company</th>\n",
       "      <th>Work_accident</th>\n",
       "      <th>left</th>\n",
       "      <th>promotion_last_5years</th>\n",
       "      <th>sales</th>\n",
       "      <th>salary</th>\n",
       "    </tr>\n",
       "  </thead>\n",
       "  <tbody>\n",
       "    <tr>\n",
       "      <th>0</th>\n",
       "      <td>0.38</td>\n",
       "      <td>0.53</td>\n",
       "      <td>2</td>\n",
       "      <td>157</td>\n",
       "      <td>3</td>\n",
       "      <td>0</td>\n",
       "      <td>1</td>\n",
       "      <td>0</td>\n",
       "      <td>sales</td>\n",
       "      <td>low</td>\n",
       "    </tr>\n",
       "    <tr>\n",
       "      <th>1</th>\n",
       "      <td>0.80</td>\n",
       "      <td>0.86</td>\n",
       "      <td>5</td>\n",
       "      <td>262</td>\n",
       "      <td>6</td>\n",
       "      <td>0</td>\n",
       "      <td>1</td>\n",
       "      <td>0</td>\n",
       "      <td>sales</td>\n",
       "      <td>medium</td>\n",
       "    </tr>\n",
       "    <tr>\n",
       "      <th>2</th>\n",
       "      <td>0.11</td>\n",
       "      <td>0.88</td>\n",
       "      <td>7</td>\n",
       "      <td>272</td>\n",
       "      <td>4</td>\n",
       "      <td>0</td>\n",
       "      <td>1</td>\n",
       "      <td>0</td>\n",
       "      <td>sales</td>\n",
       "      <td>medium</td>\n",
       "    </tr>\n",
       "    <tr>\n",
       "      <th>3</th>\n",
       "      <td>0.72</td>\n",
       "      <td>0.87</td>\n",
       "      <td>5</td>\n",
       "      <td>223</td>\n",
       "      <td>5</td>\n",
       "      <td>0</td>\n",
       "      <td>1</td>\n",
       "      <td>0</td>\n",
       "      <td>sales</td>\n",
       "      <td>low</td>\n",
       "    </tr>\n",
       "    <tr>\n",
       "      <th>4</th>\n",
       "      <td>0.37</td>\n",
       "      <td>0.52</td>\n",
       "      <td>2</td>\n",
       "      <td>159</td>\n",
       "      <td>3</td>\n",
       "      <td>0</td>\n",
       "      <td>1</td>\n",
       "      <td>0</td>\n",
       "      <td>sales</td>\n",
       "      <td>low</td>\n",
       "    </tr>\n",
       "  </tbody>\n",
       "</table>\n",
       "</div>"
      ],
      "text/plain": [
       "   satisfaction_level  last_evaluation  number_project  average_montly_hours  \\\n",
       "0                0.38             0.53               2                   157   \n",
       "1                0.80             0.86               5                   262   \n",
       "2                0.11             0.88               7                   272   \n",
       "3                0.72             0.87               5                   223   \n",
       "4                0.37             0.52               2                   159   \n",
       "\n",
       "   time_spend_company  Work_accident  left  promotion_last_5years  sales  \\\n",
       "0                   3              0     1                      0  sales   \n",
       "1                   6              0     1                      0  sales   \n",
       "2                   4              0     1                      0  sales   \n",
       "3                   5              0     1                      0  sales   \n",
       "4                   3              0     1                      0  sales   \n",
       "\n",
       "   salary  \n",
       "0     low  \n",
       "1  medium  \n",
       "2  medium  \n",
       "3     low  \n",
       "4     low  "
      ]
     },
     "execution_count": 60,
     "metadata": {},
     "output_type": "execute_result"
    }
   ],
   "source": [
    "df.head()"
   ]
  },
  {
   "cell_type": "code",
   "execution_count": 61,
   "metadata": {},
   "outputs": [
    {
     "data": {
      "text/plain": [
       "sales          4140\n",
       "technical      2720\n",
       "support        2229\n",
       "IT             1227\n",
       "product_mng     902\n",
       "marketing       858\n",
       "RandD           787\n",
       "accounting      767\n",
       "hr              739\n",
       "management      630\n",
       "Name: sales, dtype: int64"
      ]
     },
     "execution_count": 61,
     "metadata": {},
     "output_type": "execute_result"
    }
   ],
   "source": [
    "df.sales.value_counts()"
   ]
  },
  {
   "cell_type": "code",
   "execution_count": 62,
   "metadata": {},
   "outputs": [
    {
     "data": {
      "text/plain": [
       "low       7316\n",
       "medium    6446\n",
       "high      1237\n",
       "Name: salary, dtype: int64"
      ]
     },
     "execution_count": 62,
     "metadata": {},
     "output_type": "execute_result"
    }
   ],
   "source": [
    "df.salary.value_counts()"
   ]
  },
  {
   "cell_type": "code",
   "execution_count": 21,
   "metadata": {},
   "outputs": [
    {
     "data": {
      "text/html": [
       "<div>\n",
       "<style scoped>\n",
       "    .dataframe tbody tr th:only-of-type {\n",
       "        vertical-align: middle;\n",
       "    }\n",
       "\n",
       "    .dataframe tbody tr th {\n",
       "        vertical-align: top;\n",
       "    }\n",
       "\n",
       "    .dataframe thead th {\n",
       "        text-align: right;\n",
       "    }\n",
       "</style>\n",
       "<table border=\"1\" class=\"dataframe\">\n",
       "  <thead>\n",
       "    <tr style=\"text-align: right;\">\n",
       "      <th></th>\n",
       "      <th>satisfaction_level</th>\n",
       "      <th>last_evaluation</th>\n",
       "      <th>number_project</th>\n",
       "      <th>average_montly_hours</th>\n",
       "      <th>time_spend_company</th>\n",
       "      <th>Work_accident</th>\n",
       "      <th>left</th>\n",
       "      <th>promotion_last_5years</th>\n",
       "    </tr>\n",
       "  </thead>\n",
       "  <tbody>\n",
       "    <tr>\n",
       "      <th>0</th>\n",
       "      <td>0.38</td>\n",
       "      <td>0.53</td>\n",
       "      <td>2</td>\n",
       "      <td>157</td>\n",
       "      <td>3</td>\n",
       "      <td>0</td>\n",
       "      <td>1</td>\n",
       "      <td>0</td>\n",
       "    </tr>\n",
       "    <tr>\n",
       "      <th>1</th>\n",
       "      <td>0.80</td>\n",
       "      <td>0.86</td>\n",
       "      <td>5</td>\n",
       "      <td>262</td>\n",
       "      <td>6</td>\n",
       "      <td>0</td>\n",
       "      <td>1</td>\n",
       "      <td>0</td>\n",
       "    </tr>\n",
       "    <tr>\n",
       "      <th>2</th>\n",
       "      <td>0.11</td>\n",
       "      <td>0.88</td>\n",
       "      <td>7</td>\n",
       "      <td>272</td>\n",
       "      <td>4</td>\n",
       "      <td>0</td>\n",
       "      <td>1</td>\n",
       "      <td>0</td>\n",
       "    </tr>\n",
       "    <tr>\n",
       "      <th>3</th>\n",
       "      <td>0.72</td>\n",
       "      <td>0.87</td>\n",
       "      <td>5</td>\n",
       "      <td>223</td>\n",
       "      <td>5</td>\n",
       "      <td>0</td>\n",
       "      <td>1</td>\n",
       "      <td>0</td>\n",
       "    </tr>\n",
       "    <tr>\n",
       "      <th>4</th>\n",
       "      <td>0.37</td>\n",
       "      <td>0.52</td>\n",
       "      <td>2</td>\n",
       "      <td>159</td>\n",
       "      <td>3</td>\n",
       "      <td>0</td>\n",
       "      <td>1</td>\n",
       "      <td>0</td>\n",
       "    </tr>\n",
       "  </tbody>\n",
       "</table>\n",
       "</div>"
      ],
      "text/plain": [
       "   satisfaction_level  last_evaluation  number_project  average_montly_hours  \\\n",
       "0                0.38             0.53               2                   157   \n",
       "1                0.80             0.86               5                   262   \n",
       "2                0.11             0.88               7                   272   \n",
       "3                0.72             0.87               5                   223   \n",
       "4                0.37             0.52               2                   159   \n",
       "\n",
       "   time_spend_company  Work_accident  left  promotion_last_5years  \n",
       "0                   3              0     1                      0  \n",
       "1                   6              0     1                      0  \n",
       "2                   4              0     1                      0  \n",
       "3                   5              0     1                      0  \n",
       "4                   3              0     1                      0  "
      ]
     },
     "execution_count": 21,
     "metadata": {},
     "output_type": "execute_result"
    }
   ],
   "source": [
    "df_drop = df.drop(labels=['sales','salary'], axis=1)\n",
    "df_drop.head()"
   ]
  },
  {
   "cell_type": "code",
   "execution_count": 22,
   "metadata": {},
   "outputs": [
    {
     "data": {
      "text/plain": [
       "6"
      ]
     },
     "execution_count": 22,
     "metadata": {},
     "output_type": "execute_result"
    }
   ],
   "source": [
    "# left column을 맨 처음으로 땡기고싶다\n",
    "cols = df_drop.columns.tolist()\n",
    "cols\n",
    "cols.index('left')"
   ]
  },
  {
   "cell_type": "code",
   "execution_count": 23,
   "metadata": {},
   "outputs": [],
   "source": [
    "cols.insert(0,cols.pop(cols.index('left'))) \n",
    "# 이렇게 하면 left가 0번째에 온 index를 얻을 수 있음"
   ]
  },
  {
   "cell_type": "code",
   "execution_count": 24,
   "metadata": {},
   "outputs": [
    {
     "data": {
      "text/plain": [
       "['left',\n",
       " 'satisfaction_level',\n",
       " 'last_evaluation',\n",
       " 'number_project',\n",
       " 'average_montly_hours',\n",
       " 'time_spend_company',\n",
       " 'Work_accident',\n",
       " 'promotion_last_5years']"
      ]
     },
     "execution_count": 24,
     "metadata": {},
     "output_type": "execute_result"
    }
   ],
   "source": [
    "cols"
   ]
  },
  {
   "cell_type": "code",
   "execution_count": 25,
   "metadata": {},
   "outputs": [],
   "source": [
    "df_drop = df_drop.reindex(columns=cols)"
   ]
  },
  {
   "cell_type": "code",
   "execution_count": 26,
   "metadata": {},
   "outputs": [
    {
     "data": {
      "text/html": [
       "<div>\n",
       "<style scoped>\n",
       "    .dataframe tbody tr th:only-of-type {\n",
       "        vertical-align: middle;\n",
       "    }\n",
       "\n",
       "    .dataframe tbody tr th {\n",
       "        vertical-align: top;\n",
       "    }\n",
       "\n",
       "    .dataframe thead th {\n",
       "        text-align: right;\n",
       "    }\n",
       "</style>\n",
       "<table border=\"1\" class=\"dataframe\">\n",
       "  <thead>\n",
       "    <tr style=\"text-align: right;\">\n",
       "      <th></th>\n",
       "      <th>left</th>\n",
       "      <th>satisfaction_level</th>\n",
       "      <th>last_evaluation</th>\n",
       "      <th>number_project</th>\n",
       "      <th>average_montly_hours</th>\n",
       "      <th>time_spend_company</th>\n",
       "      <th>Work_accident</th>\n",
       "      <th>promotion_last_5years</th>\n",
       "    </tr>\n",
       "  </thead>\n",
       "  <tbody>\n",
       "    <tr>\n",
       "      <th>0</th>\n",
       "      <td>1</td>\n",
       "      <td>0.38</td>\n",
       "      <td>0.53</td>\n",
       "      <td>2</td>\n",
       "      <td>157</td>\n",
       "      <td>3</td>\n",
       "      <td>0</td>\n",
       "      <td>0</td>\n",
       "    </tr>\n",
       "    <tr>\n",
       "      <th>1</th>\n",
       "      <td>1</td>\n",
       "      <td>0.80</td>\n",
       "      <td>0.86</td>\n",
       "      <td>5</td>\n",
       "      <td>262</td>\n",
       "      <td>6</td>\n",
       "      <td>0</td>\n",
       "      <td>0</td>\n",
       "    </tr>\n",
       "    <tr>\n",
       "      <th>2</th>\n",
       "      <td>1</td>\n",
       "      <td>0.11</td>\n",
       "      <td>0.88</td>\n",
       "      <td>7</td>\n",
       "      <td>272</td>\n",
       "      <td>4</td>\n",
       "      <td>0</td>\n",
       "      <td>0</td>\n",
       "    </tr>\n",
       "    <tr>\n",
       "      <th>3</th>\n",
       "      <td>1</td>\n",
       "      <td>0.72</td>\n",
       "      <td>0.87</td>\n",
       "      <td>5</td>\n",
       "      <td>223</td>\n",
       "      <td>5</td>\n",
       "      <td>0</td>\n",
       "      <td>0</td>\n",
       "    </tr>\n",
       "    <tr>\n",
       "      <th>4</th>\n",
       "      <td>1</td>\n",
       "      <td>0.37</td>\n",
       "      <td>0.52</td>\n",
       "      <td>2</td>\n",
       "      <td>159</td>\n",
       "      <td>3</td>\n",
       "      <td>0</td>\n",
       "      <td>0</td>\n",
       "    </tr>\n",
       "  </tbody>\n",
       "</table>\n",
       "</div>"
      ],
      "text/plain": [
       "   left  satisfaction_level  last_evaluation  number_project  \\\n",
       "0     1                0.38             0.53               2   \n",
       "1     1                0.80             0.86               5   \n",
       "2     1                0.11             0.88               7   \n",
       "3     1                0.72             0.87               5   \n",
       "4     1                0.37             0.52               2   \n",
       "\n",
       "   average_montly_hours  time_spend_company  Work_accident  \\\n",
       "0                   157                   3              0   \n",
       "1                   262                   6              0   \n",
       "2                   272                   4              0   \n",
       "3                   223                   5              0   \n",
       "4                   159                   3              0   \n",
       "\n",
       "   promotion_last_5years  \n",
       "0                      0  \n",
       "1                      0  \n",
       "2                      0  \n",
       "3                      0  \n",
       "4                      0  "
      ]
     },
     "execution_count": 26,
     "metadata": {},
     "output_type": "execute_result"
    }
   ],
   "source": [
    "df_drop.head()"
   ]
  },
  {
   "cell_type": "code",
   "execution_count": 27,
   "metadata": {},
   "outputs": [],
   "source": [
    "X = df_drop.iloc[:,1:8].values\n",
    "Y = df_drop.iloc[:,0].values"
   ]
  },
  {
   "cell_type": "code",
   "execution_count": 28,
   "metadata": {},
   "outputs": [
    {
     "data": {
      "text/plain": [
       "array([[0.38, 0.53, 2.  , ..., 3.  , 0.  , 0.  ],\n",
       "       [0.8 , 0.86, 5.  , ..., 6.  , 0.  , 0.  ],\n",
       "       [0.11, 0.88, 7.  , ..., 4.  , 0.  , 0.  ],\n",
       "       ...,\n",
       "       [0.37, 0.53, 2.  , ..., 3.  , 0.  , 0.  ],\n",
       "       [0.11, 0.96, 6.  , ..., 4.  , 0.  , 0.  ],\n",
       "       [0.37, 0.52, 2.  , ..., 3.  , 0.  , 0.  ]])"
      ]
     },
     "execution_count": 28,
     "metadata": {},
     "output_type": "execute_result"
    }
   ],
   "source": [
    "X"
   ]
  },
  {
   "cell_type": "code",
   "execution_count": 29,
   "metadata": {},
   "outputs": [
    {
     "data": {
      "text/plain": [
       "array([1, 1, 1, ..., 1, 1, 1], dtype=int64)"
      ]
     },
     "execution_count": 29,
     "metadata": {},
     "output_type": "execute_result"
    }
   ],
   "source": [
    "Y"
   ]
  },
  {
   "cell_type": "code",
   "execution_count": 30,
   "metadata": {},
   "outputs": [
    {
     "name": "stdout",
     "output_type": "stream",
     "text": [
      "(14999, 7) (14999,)\n"
     ]
    }
   ],
   "source": [
    "print(X.shape, Y.shape)"
   ]
  },
  {
   "cell_type": "code",
   "execution_count": 63,
   "metadata": {},
   "outputs": [
    {
     "data": {
      "text/plain": [
       "array([[-0.93649469, -1.08727529, -1.46286291, ..., -0.34123516,\n",
       "        -0.41116529, -0.14741182],\n",
       "       [ 0.75281433,  0.84070693,  0.97111292, ...,  1.71343614,\n",
       "        -0.41116529, -0.14741182],\n",
       "       [-2.02247906,  0.95755433,  2.59376348, ...,  0.34365527,\n",
       "        -0.41116529, -0.14741182],\n",
       "       ...,\n",
       "       [-0.97671633, -1.08727529, -1.46286291, ..., -0.34123516,\n",
       "        -0.41116529, -0.14741182],\n",
       "       [-2.02247906,  1.42494396,  1.7824382 , ...,  0.34365527,\n",
       "        -0.41116529, -0.14741182],\n",
       "       [-0.97671633, -1.14569899, -1.46286291, ..., -0.34123516,\n",
       "        -0.41116529, -0.14741182]])"
      ]
     },
     "execution_count": 63,
     "metadata": {},
     "output_type": "execute_result"
    }
   ],
   "source": [
    "from sklearn.preprocessing import StandardScaler, RobustScaler, MinMaxScaler\n",
    "\n",
    "X_std = StandardScaler().fit_transform(X)\n",
    "X_std\n",
    "# 근데 표준화는 col별로 or row별로 or 전체값?"
   ]
  },
  {
   "cell_type": "code",
   "execution_count": 37,
   "metadata": {},
   "outputs": [
    {
     "data": {
      "text/plain": [
       "array([ 2.88025857e-16, -3.90350833e-16,  5.58997552e-17, -8.71657200e-17,\n",
       "       -6.06370226e-17,  5.30573948e-17,  0.00000000e+00])"
      ]
     },
     "execution_count": 37,
     "metadata": {},
     "output_type": "execute_result"
    }
   ],
   "source": [
    "X_std.mean(axis=0)"
   ]
  },
  {
   "cell_type": "code",
   "execution_count": 64,
   "metadata": {},
   "outputs": [
    {
     "data": {
      "text/plain": [
       "-1.1910843722322215e-17"
      ]
     },
     "execution_count": 64,
     "metadata": {},
     "output_type": "execute_result"
    }
   ],
   "source": [
    "X_std.mean()\n",
    "# standard scaler"
   ]
  },
  {
   "cell_type": "code",
   "execution_count": 66,
   "metadata": {},
   "outputs": [
    {
     "data": {
      "text/plain": [
       "array([[-0.68421053, -0.61290323, -1.        , ...,  0.        ,\n",
       "         0.        ,  0.        ],\n",
       "       [ 0.42105263,  0.4516129 ,  0.5       , ...,  3.        ,\n",
       "         0.        ,  0.        ],\n",
       "       [-1.39473684,  0.51612903,  1.5       , ...,  1.        ,\n",
       "         0.        ,  0.        ],\n",
       "       ...,\n",
       "       [-0.71052632, -0.61290323, -1.        , ...,  0.        ,\n",
       "         0.        ,  0.        ],\n",
       "       [-1.39473684,  0.77419355,  1.        , ...,  1.        ,\n",
       "         0.        ,  0.        ],\n",
       "       [-0.71052632, -0.64516129, -1.        , ...,  0.        ,\n",
       "         0.        ,  0.        ]])"
      ]
     },
     "execution_count": 66,
     "metadata": {},
     "output_type": "execute_result"
    }
   ],
   "source": [
    "X_rb = RobustScaler().fit_transform(X)\n",
    "X_rb"
   ]
  },
  {
   "cell_type": "code",
   "execution_count": 70,
   "metadata": {},
   "outputs": [
    {
     "data": {
      "text/plain": [
       "array([-0.39717997,  0.72418496,  0.34719728, ..., -0.42341128,\n",
       "        0.32547616, -0.40394253])"
      ]
     },
     "execution_count": 70,
     "metadata": {},
     "output_type": "execute_result"
    }
   ],
   "source": [
    "X_rb.mean(axis=1)"
   ]
  },
  {
   "cell_type": "code",
   "execution_count": 71,
   "metadata": {},
   "outputs": [
    {
     "data": {
      "text/plain": [
       "0.33365832990628097"
      ]
     },
     "execution_count": 71,
     "metadata": {},
     "output_type": "execute_result"
    }
   ],
   "source": [
    "X_mm = MinMaxScaler().fit_transform(X)\n",
    "X_mm.mean()"
   ]
  },
  {
   "cell_type": "code",
   "execution_count": 75,
   "metadata": {},
   "outputs": [
    {
     "name": "stdout",
     "output_type": "stream",
     "text": [
      "[0.57454233 0.55640897 0.36061071 0.49088942 0.18727915 0.14460964\n",
      " 0.02126808]\n",
      "[6.12833522e-01 7.16101740e-01 3.80305354e+00 2.01050337e+02\n",
      " 3.49823322e+00 1.44609641e-01 2.12680845e-02]\n"
     ]
    }
   ],
   "source": [
    "print(X_mm.mean(axis=0))\n",
    "print(X.mean(axis=0))"
   ]
  },
  {
   "cell_type": "code",
   "execution_count": 77,
   "metadata": {},
   "outputs": [
    {
     "data": {
      "text/plain": [
       "<matplotlib.axes._subplots.AxesSubplot at 0x18635ae1ba8>"
      ]
     },
     "execution_count": 77,
     "metadata": {},
     "output_type": "execute_result"
    },
    {
     "data": {
      "image/png": "[encoded data removed]",
      "text/plain": [
       "<Figure size 432x288 with 1 Axes>"
      ]
     },
     "metadata": {
      "needs_background": "light"
     },
     "output_type": "display_data"
    }
   ],
   "source": [
    "pd.DataFrame(X_mm.mean(axis=0)).plot()"
   ]
  },
  {
   "cell_type": "code",
   "execution_count": 79,
   "metadata": {},
   "outputs": [
    {
     "data": {
      "text/plain": [
       "<matplotlib.axes._subplots.AxesSubplot at 0x18635dd3f60>"
      ]
     },
     "execution_count": 79,
     "metadata": {},
     "output_type": "execute_result"
    },
    {
     "data": {
      "image/png": "[encoded data removed]",
      "text/plain": [
       "<Figure size 432x288 with 1 Axes>"
      ]
     },
     "metadata": {
      "needs_background": "light"
     },
     "output_type": "display_data"
    }
   ],
   "source": [
    "pd.DataFrame(X.mean(axis=0)).plot()"
   ]
  },
  {
   "cell_type": "code",
   "execution_count": 82,
   "metadata": {},
   "outputs": [
    {
     "data": {
      "text/plain": [
       "<matplotlib.axes._subplots.AxesSubplot at 0x1863268dbe0>"
      ]
     },
     "execution_count": 82,
     "metadata": {},
     "output_type": "execute_result"
    },
    {
     "data": {
      "image/png": "[encoded data removed]",
      "text/plain": [
       "<Figure size 432x288 with 1 Axes>"
      ]
     },
     "metadata": {
      "needs_background": "light"
     },
     "output_type": "display_data"
    }
   ],
   "source": [
    "pd.DataFrame(X_std.mean(axis=0)).plot()"
   ]
  },
  {
   "cell_type": "code",
   "execution_count": 39,
   "metadata": {},
   "outputs": [
    {
     "data": {
      "text/plain": [
       "array([ 2.88025857e-16, -3.90350833e-16,  5.58997552e-17, -8.71657200e-17,\n",
       "       -6.06370226e-17,  5.30573948e-17,  0.00000000e+00])"
      ]
     },
     "execution_count": 39,
     "metadata": {},
     "output_type": "execute_result"
    }
   ],
   "source": [
    "# 공분산행렬\n",
    "mean_vec = np.mean(X_std, axis=0)\n",
    "mean_vec"
   ]
  },
  {
   "cell_type": "code",
   "execution_count": 40,
   "metadata": {},
   "outputs": [
    {
     "data": {
      "text/plain": [
       "array([[ 1.00006668,  0.10502822, -0.14297912, -0.02004945, -0.1008728 ,\n",
       "         0.05870115,  0.02560689],\n",
       "       [ 0.10502822,  1.00006668,  0.34935588,  0.33976445,  0.1315995 ,\n",
       "        -0.00710476, -0.00868435],\n",
       "       [-0.14297912,  0.34935588,  1.00006668,  0.41723845,  0.19679901,\n",
       "        -0.00474086, -0.00606436],\n",
       "       [-0.02004945,  0.33976445,  0.41723845,  1.00006668,  0.12776343,\n",
       "        -0.01014356, -0.00354465],\n",
       "       [-0.1008728 ,  0.1315995 ,  0.19679901,  0.12776343,  1.00006668,\n",
       "         0.00212056,  0.06743742],\n",
       "       [ 0.05870115, -0.00710476, -0.00474086, -0.01014356,  0.00212056,\n",
       "         1.00006668,  0.03924805],\n",
       "       [ 0.02560689, -0.00868435, -0.00606436, -0.00354465,  0.06743742,\n",
       "         0.03924805,  1.00006668]])"
      ]
     },
     "execution_count": 40,
     "metadata": {},
     "output_type": "execute_result"
    }
   ],
   "source": [
    "cov_mat = (X_std-mean_vec).T.dot((X_std-mean_vec)) / (X_std.shape[0]-1)\n",
    "cov_mat"
   ]
  },
  {
   "cell_type": "code",
   "execution_count": 41,
   "metadata": {},
   "outputs": [
    {
     "data": {
      "text/plain": [
       "<matplotlib.axes._subplots.AxesSubplot at 0x18632436748>"
      ]
     },
     "execution_count": 41,
     "metadata": {},
     "output_type": "execute_result"
    },
    {
     "data": {
      "image/png": "[encoded data removed]",
      "text/plain": [
       "<Figure size 720x720 with 2 Axes>"
      ]
     },
     "metadata": {
      "needs_background": "light"
     },
     "output_type": "display_data"
    }
   ],
   "source": [
    "f, ax = plt.subplots(figsize=(10,10))\n",
    "sns.heatmap(cov_mat, cmap='cubehelix', annot=True, square=True, ax=ax)"
   ]
  },
  {
   "cell_type": "code",
   "execution_count": 42,
   "metadata": {},
   "outputs": [
    {
     "name": "stdout",
     "output_type": "stream",
     "text": [
      "아이겐벡터 : [[-0.08797699 -0.29189921  0.27784886  0.33637135  0.79752505  0.26786864\n",
      "  -0.09438973]\n",
      " [ 0.50695734  0.30996609 -0.70780994  0.07393548  0.33180877  0.1101505\n",
      "  -0.13499526]\n",
      " [ 0.5788351  -0.77736008 -0.00657105 -0.19677589 -0.10338032 -0.10336241\n",
      "  -0.02293518]\n",
      " [ 0.54901653  0.45787675  0.63497294 -0.25170987  0.10388959 -0.01034922\n",
      "  -0.10714981]\n",
      " [ 0.31354922  0.05287224  0.12200054  0.78782241 -0.28404472  0.04036861\n",
      "   0.42547869]\n",
      " [-0.01930249  0.04433104 -0.03622859 -0.05762997  0.37489883 -0.8048393\n",
      "   0.45245222]\n",
      " [ 0.00996933  0.00391698 -0.04873036 -0.39411153  0.10557298  0.50589173\n",
      "   0.75836313]]\n",
      "아이겐밸류 : [1.83017431 0.54823098 0.63363587 0.84548166 1.12659606 0.95598647\n",
      " 1.06036136]\n"
     ]
    }
   ],
   "source": [
    "eig_vals, eig_vecs = np.linalg.eig(cov_mat)\n",
    "print(\"아이겐벡터 : {}\".format(eig_vecs))\n",
    "print(\"아이겐밸류 : {}\".format(eig_vals))"
   ]
  },
  {
   "cell_type": "code",
   "execution_count": 43,
   "metadata": {},
   "outputs": [],
   "source": [
    "eig_pairs = [[eig_vals[i], eig_vecs[:,i]] for i in range(len(eig_vals))]\n",
    "# sorting하기위해 하나로 묶어주자"
   ]
  },
  {
   "cell_type": "code",
   "execution_count": 44,
   "metadata": {},
   "outputs": [
    {
     "data": {
      "text/plain": [
       "[1.830174313875499,\n",
       " array([-0.08797699,  0.50695734,  0.5788351 ,  0.54901653,  0.31354922,\n",
       "        -0.01930249,  0.00996933])]"
      ]
     },
     "execution_count": 44,
     "metadata": {},
     "output_type": "execute_result"
    }
   ],
   "source": [
    "eig_pairs[0]"
   ]
  },
  {
   "cell_type": "code",
   "execution_count": 45,
   "metadata": {},
   "outputs": [
    {
     "data": {
      "text/plain": [
       "[[1.830174313875499,\n",
       "  array([-0.08797699,  0.50695734,  0.5788351 ,  0.54901653,  0.31354922,\n",
       "         -0.01930249,  0.00996933])],\n",
       " [0.5482309765420602,\n",
       "  array([-0.29189921,  0.30996609, -0.77736008,  0.45787675,  0.05287224,\n",
       "          0.04433104,  0.00391698])],\n",
       " [0.633635874483021,\n",
       "  array([ 0.27784886, -0.70780994, -0.00657105,  0.63497294,  0.12200054,\n",
       "         -0.03622859, -0.04873036])],\n",
       " [0.8454816637143464,\n",
       "  array([ 0.33637135,  0.07393548, -0.19677589, -0.25170987,  0.78782241,\n",
       "         -0.05762997, -0.39411153])],\n",
       " [1.1265960639915473,\n",
       "  array([ 0.79752505,  0.33180877, -0.10338032,  0.10388959, -0.28404472,\n",
       "          0.37489883,  0.10557298])],\n",
       " [0.9559864740066265,\n",
       "  array([ 0.26786864,  0.1101505 , -0.10336241, -0.01034922,  0.04036861,\n",
       "         -0.8048393 ,  0.50589173])],\n",
       " [1.0603613622840846,\n",
       "  array([-0.09438973, -0.13499526, -0.02293518, -0.10714981,  0.42547869,\n",
       "          0.45245222,  0.75836313])]]"
      ]
     },
     "execution_count": 45,
     "metadata": {},
     "output_type": "execute_result"
    }
   ],
   "source": [
    "eig_pairs"
   ]
  },
  {
   "cell_type": "code",
   "execution_count": 46,
   "metadata": {},
   "outputs": [],
   "source": [
    "# 이제 아이겐 밸류 기준으로 sort를 해보자\n",
    "eig_pairs.sort(key=lambda x:x[0], reverse=True)"
   ]
  },
  {
   "cell_type": "code",
   "execution_count": 47,
   "metadata": {},
   "outputs": [
    {
     "data": {
      "text/plain": [
       "[[1.830174313875499,\n",
       "  array([-0.08797699,  0.50695734,  0.5788351 ,  0.54901653,  0.31354922,\n",
       "         -0.01930249,  0.00996933])],\n",
       " [1.1265960639915473,\n",
       "  array([ 0.79752505,  0.33180877, -0.10338032,  0.10388959, -0.28404472,\n",
       "          0.37489883,  0.10557298])],\n",
       " [1.0603613622840846,\n",
       "  array([-0.09438973, -0.13499526, -0.02293518, -0.10714981,  0.42547869,\n",
       "          0.45245222,  0.75836313])],\n",
       " [0.9559864740066265,\n",
       "  array([ 0.26786864,  0.1101505 , -0.10336241, -0.01034922,  0.04036861,\n",
       "         -0.8048393 ,  0.50589173])],\n",
       " [0.8454816637143464,\n",
       "  array([ 0.33637135,  0.07393548, -0.19677589, -0.25170987,  0.78782241,\n",
       "         -0.05762997, -0.39411153])],\n",
       " [0.633635874483021,\n",
       "  array([ 0.27784886, -0.70780994, -0.00657105,  0.63497294,  0.12200054,\n",
       "         -0.03622859, -0.04873036])],\n",
       " [0.5482309765420602,\n",
       "  array([-0.29189921,  0.30996609, -0.77736008,  0.45787675,  0.05287224,\n",
       "          0.04433104,  0.00391698])]]"
      ]
     },
     "execution_count": 47,
     "metadata": {},
     "output_type": "execute_result"
    }
   ],
   "source": [
    "eig_pairs"
   ]
  },
  {
   "cell_type": "code",
   "execution_count": 48,
   "metadata": {},
   "outputs": [
    {
     "name": "stdout",
     "output_type": "stream",
     "text": [
      "1.830174313875499\n",
      "1.1265960639915473\n",
      "1.0603613622840846\n",
      "0.9559864740066265\n",
      "0.8454816637143464\n",
      "0.633635874483021\n",
      "0.5482309765420602\n",
      "[26.143604201713195, 16.093156465426482, 15.147009525908112, 13.656039104655914, 12.077504207316458, 9.051337561072025, 7.831348933907803]\n"
     ]
    }
   ],
   "source": [
    "for i in eig_pairs:\n",
    "    print(i[0])\n",
    "\n",
    "tot = sum(eig_vals)\n",
    "var_exp = [(i/tot)*100 for i in sorted(eig_vals,reverse=True)]\n",
    "print(var_exp)"
   ]
  },
  {
   "cell_type": "code",
   "execution_count": 49,
   "metadata": {},
   "outputs": [
    {
     "data": {
      "text/plain": [
       "array([[ 1.00006668,  0.10502822, -0.14297912, -0.02004945, -0.1008728 ,\n",
       "         0.05870115,  0.02560689],\n",
       "       [ 0.10502822,  1.00006668,  0.34935588,  0.33976445,  0.1315995 ,\n",
       "        -0.00710476, -0.00868435],\n",
       "       [-0.14297912,  0.34935588,  1.00006668,  0.41723845,  0.19679901,\n",
       "        -0.00474086, -0.00606436],\n",
       "       [-0.02004945,  0.33976445,  0.41723845,  1.00006668,  0.12776343,\n",
       "        -0.01014356, -0.00354465],\n",
       "       [-0.1008728 ,  0.1315995 ,  0.19679901,  0.12776343,  1.00006668,\n",
       "         0.00212056,  0.06743742],\n",
       "       [ 0.05870115, -0.00710476, -0.00474086, -0.01014356,  0.00212056,\n",
       "         1.00006668,  0.03924805],\n",
       "       [ 0.02560689, -0.00868435, -0.00606436, -0.00354465,  0.06743742,\n",
       "         0.03924805,  1.00006668]])"
      ]
     },
     "execution_count": 49,
     "metadata": {},
     "output_type": "execute_result"
    }
   ],
   "source": [
    "np.cov(X_std.T)"
   ]
  },
  {
   "cell_type": "code",
   "execution_count": 50,
   "metadata": {},
   "outputs": [
    {
     "data": {
      "text/plain": [
       "PCA(copy=True, iterated_power='auto', n_components=None, random_state=None,\n",
       "  svd_solver='auto', tol=0.0, whiten=False)"
      ]
     },
     "execution_count": 50,
     "metadata": {},
     "output_type": "execute_result"
    }
   ],
   "source": [
    "pca = PCA().fit(X_std)\n",
    "pca"
   ]
  },
  {
   "cell_type": "code",
   "execution_count": 51,
   "metadata": {},
   "outputs": [
    {
     "data": {
      "text/plain": [
       "array([1.83017431, 1.12659606, 1.06036136, 0.95598647, 0.84548166,\n",
       "       0.63363587, 0.54823098])"
      ]
     },
     "execution_count": 51,
     "metadata": {},
     "output_type": "execute_result"
    }
   ],
   "source": [
    "pca.explained_variance_"
   ]
  },
  {
   "cell_type": "code",
   "execution_count": 52,
   "metadata": {},
   "outputs": [
    {
     "data": {
      "text/plain": [
       "array([0.26143604, 0.16093156, 0.1514701 , 0.13656039, 0.12077504,\n",
       "       0.09051338, 0.07831349])"
      ]
     },
     "execution_count": 52,
     "metadata": {},
     "output_type": "execute_result"
    }
   ],
   "source": [
    "pca.explained_variance_ratio_"
   ]
  },
  {
   "cell_type": "code",
   "execution_count": 53,
   "metadata": {},
   "outputs": [
    {
     "data": {
      "text/plain": [
       "[<matplotlib.lines.Line2D at 0x18632861908>]"
      ]
     },
     "execution_count": 53,
     "metadata": {},
     "output_type": "execute_result"
    },
    {
     "data": {
      "image/png": "[encoded data removed]",
      "text/plain": [
       "<Figure size 432x288 with 1 Axes>"
      ]
     },
     "metadata": {
      "needs_background": "light"
     },
     "output_type": "display_data"
    }
   ],
   "source": [
    "plt.plot(np.cumsum(pca.explained_variance_ratio_))"
   ]
  },
  {
   "cell_type": "code",
   "execution_count": 54,
   "metadata": {},
   "outputs": [
    {
     "data": {
      "text/plain": [
       "array([[-1.90035018, -1.12083103, -0.0797787 , ..., -0.07256447,\n",
       "         0.06063013, -0.63280261],\n",
       "       [ 2.1358322 ,  0.2493369 ,  0.0936161 , ...,  1.2487747 ,\n",
       "        -0.61378158,  0.08346807],\n",
       "       [ 3.05891625, -1.68312693, -0.301682  , ..., -1.12495888,\n",
       "         0.29066929,  0.47926782],\n",
       "       ...,\n",
       "       [-2.0507165 , -1.182032  , -0.04594506, ..., -0.01553247,\n",
       "         0.24980658, -0.51618744],\n",
       "       [ 2.91418496, -1.42752606, -0.36333357, ..., -0.97107375,\n",
       "         0.51444624, -0.3696452 ],\n",
       "       [-1.91543672, -1.17021407, -0.07024077, ..., -0.09545357,\n",
       "         0.01773844, -0.63560219]])"
      ]
     },
     "execution_count": 54,
     "metadata": {},
     "output_type": "execute_result"
    }
   ],
   "source": [
    "sk_pca = PCA(n_components=7)\n",
    "sk_pca.fit_transform(X_std)"
   ]
  },
  {
   "cell_type": "code",
   "execution_count": 55,
   "metadata": {},
   "outputs": [
    {
     "data": {
      "text/plain": [
       "array([[-1.90035018, -1.12083103, -0.0797787 ,  0.03228437, -0.07256447,\n",
       "         0.06063013],\n",
       "       [ 2.1358322 ,  0.2493369 ,  0.0936161 ,  0.50676925,  1.2487747 ,\n",
       "        -0.61378158],\n",
       "       [ 3.05891625, -1.68312693, -0.301682  , -0.4488635 , -1.12495888,\n",
       "         0.29066929],\n",
       "       ...,\n",
       "       [-2.0507165 , -1.182032  , -0.04594506,  0.02441143, -0.01553247,\n",
       "         0.24980658],\n",
       "       [ 2.91418496, -1.42752606, -0.36333357, -0.31517759, -0.97107375,\n",
       "         0.51444624],\n",
       "       [-1.91543672, -1.17021407, -0.07024077,  0.01486762, -0.09545357,\n",
       "         0.01773844]])"
      ]
     },
     "execution_count": 55,
     "metadata": {},
     "output_type": "execute_result"
    }
   ],
   "source": [
    "sk_pca = PCA(n_components=6)\n",
    "sk_pca.fit_transform(X_std)\n",
    "# 맨뒤의 놈(가장 영향력이 작던 축) 날라간 걸 볼 수 있음"
   ]
  },
  {
   "cell_type": "code",
   "execution_count": 56,
   "metadata": {},
   "outputs": [
    {
     "data": {
      "text/plain": [
       "(14999, 6)"
      ]
     },
     "execution_count": 56,
     "metadata": {},
     "output_type": "execute_result"
    }
   ],
   "source": [
    "y_sk = sk_pca.fit_transform(X_std)\n",
    "y_sk.shape"
   ]
  },
  {
   "cell_type": "code",
   "execution_count": 58,
   "metadata": {},
   "outputs": [
    {
     "name": "stdout",
     "output_type": "stream",
     "text": [
      "<class 'pandas.core.frame.DataFrame'>\n",
      "RangeIndex: 14999 entries, 0 to 14998\n",
      "Data columns (total 8 columns):\n",
      "left                     14999 non-null int64\n",
      "satisfaction_level       14999 non-null float64\n",
      "last_evaluation          14999 non-null float64\n",
      "number_project           14999 non-null int64\n",
      "average_montly_hours     14999 non-null int64\n",
      "time_spend_company       14999 non-null int64\n",
      "Work_accident            14999 non-null int64\n",
      "promotion_last_5years    14999 non-null int64\n",
      "dtypes: float64(2), int64(6)\n",
      "memory usage: 937.5 KB\n"
     ]
    }
   ],
   "source": [
    "df_drop.info()"
   ]
  },
  {
   "cell_type": "code",
   "execution_count": 83,
   "metadata": {},
   "outputs": [
    {
     "data": {
      "text/plain": [
       "0    0.38\n",
       "1    0.80\n",
       "2    0.11\n",
       "3    0.72\n",
       "4    0.37\n",
       "Name: satisfaction_level, dtype: float64"
      ]
     },
     "execution_count": 83,
     "metadata": {},
     "output_type": "execute_result"
    }
   ],
   "source": [
    "df_drop.satisfaction_level.head()"
   ]
  },
  {
   "cell_type": "code",
   "execution_count": 93,
   "metadata": {},
   "outputs": [
    {
     "data": {
      "text/html": [
       "<div>\n",
       "<style scoped>\n",
       "    .dataframe tbody tr th:only-of-type {\n",
       "        vertical-align: middle;\n",
       "    }\n",
       "\n",
       "    .dataframe tbody tr th {\n",
       "        vertical-align: top;\n",
       "    }\n",
       "\n",
       "    .dataframe thead th {\n",
       "        text-align: right;\n",
       "    }\n",
       "</style>\n",
       "<table border=\"1\" class=\"dataframe\">\n",
       "  <thead>\n",
       "    <tr style=\"text-align: right;\">\n",
       "      <th></th>\n",
       "      <th>satisfaction_level</th>\n",
       "      <th>last_evaluation</th>\n",
       "      <th>number_project</th>\n",
       "      <th>average_montly_hours</th>\n",
       "      <th>time_spend_company</th>\n",
       "      <th>Work_accident</th>\n",
       "      <th>left</th>\n",
       "      <th>promotion_last_5years</th>\n",
       "      <th>sales</th>\n",
       "      <th>salary</th>\n",
       "    </tr>\n",
       "  </thead>\n",
       "  <tbody>\n",
       "    <tr>\n",
       "      <th>0</th>\n",
       "      <td>0.38</td>\n",
       "      <td>0.53</td>\n",
       "      <td>2</td>\n",
       "      <td>157</td>\n",
       "      <td>3</td>\n",
       "      <td>0</td>\n",
       "      <td>1</td>\n",
       "      <td>0</td>\n",
       "      <td>sales</td>\n",
       "      <td>low</td>\n",
       "    </tr>\n",
       "    <tr>\n",
       "      <th>1</th>\n",
       "      <td>0.80</td>\n",
       "      <td>0.86</td>\n",
       "      <td>5</td>\n",
       "      <td>262</td>\n",
       "      <td>6</td>\n",
       "      <td>0</td>\n",
       "      <td>1</td>\n",
       "      <td>0</td>\n",
       "      <td>sales</td>\n",
       "      <td>medium</td>\n",
       "    </tr>\n",
       "    <tr>\n",
       "      <th>2</th>\n",
       "      <td>0.11</td>\n",
       "      <td>0.88</td>\n",
       "      <td>7</td>\n",
       "      <td>272</td>\n",
       "      <td>4</td>\n",
       "      <td>0</td>\n",
       "      <td>1</td>\n",
       "      <td>0</td>\n",
       "      <td>sales</td>\n",
       "      <td>medium</td>\n",
       "    </tr>\n",
       "    <tr>\n",
       "      <th>3</th>\n",
       "      <td>0.72</td>\n",
       "      <td>0.87</td>\n",
       "      <td>5</td>\n",
       "      <td>223</td>\n",
       "      <td>5</td>\n",
       "      <td>0</td>\n",
       "      <td>1</td>\n",
       "      <td>0</td>\n",
       "      <td>sales</td>\n",
       "      <td>low</td>\n",
       "    </tr>\n",
       "    <tr>\n",
       "      <th>4</th>\n",
       "      <td>0.37</td>\n",
       "      <td>0.52</td>\n",
       "      <td>2</td>\n",
       "      <td>159</td>\n",
       "      <td>3</td>\n",
       "      <td>0</td>\n",
       "      <td>1</td>\n",
       "      <td>0</td>\n",
       "      <td>sales</td>\n",
       "      <td>low</td>\n",
       "    </tr>\n",
       "  </tbody>\n",
       "</table>\n",
       "</div>"
      ],
      "text/plain": [
       "   satisfaction_level  last_evaluation  number_project  average_montly_hours  \\\n",
       "0                0.38             0.53               2                   157   \n",
       "1                0.80             0.86               5                   262   \n",
       "2                0.11             0.88               7                   272   \n",
       "3                0.72             0.87               5                   223   \n",
       "4                0.37             0.52               2                   159   \n",
       "\n",
       "   time_spend_company  Work_accident  left  promotion_last_5years  sales  \\\n",
       "0                   3              0     1                      0  sales   \n",
       "1                   6              0     1                      0  sales   \n",
       "2                   4              0     1                      0  sales   \n",
       "3                   5              0     1                      0  sales   \n",
       "4                   3              0     1                      0  sales   \n",
       "\n",
       "   salary  \n",
       "0     low  \n",
       "1  medium  \n",
       "2  medium  \n",
       "3     low  \n",
       "4     low  "
      ]
     },
     "execution_count": 93,
     "metadata": {},
     "output_type": "execute_result"
    }
   ],
   "source": [
    "df.head()"
   ]
  },
  {
   "cell_type": "code",
   "execution_count": 118,
   "metadata": {},
   "outputs": [
    {
     "data": {
      "text/html": [
       "<div>\n",
       "<style scoped>\n",
       "    .dataframe tbody tr th:only-of-type {\n",
       "        vertical-align: middle;\n",
       "    }\n",
       "\n",
       "    .dataframe tbody tr th {\n",
       "        vertical-align: top;\n",
       "    }\n",
       "\n",
       "    .dataframe thead th {\n",
       "        text-align: right;\n",
       "    }\n",
       "</style>\n",
       "<table border=\"1\" class=\"dataframe\">\n",
       "  <thead>\n",
       "    <tr style=\"text-align: right;\">\n",
       "      <th></th>\n",
       "      <th>satisfaction_level</th>\n",
       "    </tr>\n",
       "    <tr>\n",
       "      <th>sales</th>\n",
       "      <th></th>\n",
       "    </tr>\n",
       "  </thead>\n",
       "  <tbody>\n",
       "    <tr>\n",
       "      <th>IT</th>\n",
       "      <td>0.618142</td>\n",
       "    </tr>\n",
       "    <tr>\n",
       "      <th>RandD</th>\n",
       "      <td>0.619822</td>\n",
       "    </tr>\n",
       "    <tr>\n",
       "      <th>accounting</th>\n",
       "      <td>0.582151</td>\n",
       "    </tr>\n",
       "    <tr>\n",
       "      <th>hr</th>\n",
       "      <td>0.598809</td>\n",
       "    </tr>\n",
       "    <tr>\n",
       "      <th>management</th>\n",
       "      <td>0.621349</td>\n",
       "    </tr>\n",
       "    <tr>\n",
       "      <th>marketing</th>\n",
       "      <td>0.618601</td>\n",
       "    </tr>\n",
       "    <tr>\n",
       "      <th>product_mng</th>\n",
       "      <td>0.619634</td>\n",
       "    </tr>\n",
       "    <tr>\n",
       "      <th>sales</th>\n",
       "      <td>0.614447</td>\n",
       "    </tr>\n",
       "    <tr>\n",
       "      <th>support</th>\n",
       "      <td>0.618300</td>\n",
       "    </tr>\n",
       "    <tr>\n",
       "      <th>technical</th>\n",
       "      <td>0.607897</td>\n",
       "    </tr>\n",
       "  </tbody>\n",
       "</table>\n",
       "</div>"
      ],
      "text/plain": [
       "             satisfaction_level\n",
       "sales                          \n",
       "IT                     0.618142\n",
       "RandD                  0.619822\n",
       "accounting             0.582151\n",
       "hr                     0.598809\n",
       "management             0.621349\n",
       "marketing              0.618601\n",
       "product_mng            0.619634\n",
       "sales                  0.614447\n",
       "support                0.618300\n",
       "technical              0.607897"
      ]
     },
     "execution_count": 118,
     "metadata": {},
     "output_type": "execute_result"
    }
   ],
   "source": [
    "gbs = groupby_sales[['satisfaction_level']]\n",
    "gbs"
   ]
  },
  {
   "cell_type": "code",
   "execution_count": 119,
   "metadata": {},
   "outputs": [
    {
     "data": {
      "text/html": [
       "<div>\n",
       "<style scoped>\n",
       "    .dataframe tbody tr th:only-of-type {\n",
       "        vertical-align: middle;\n",
       "    }\n",
       "\n",
       "    .dataframe tbody tr th {\n",
       "        vertical-align: top;\n",
       "    }\n",
       "\n",
       "    .dataframe thead th {\n",
       "        text-align: right;\n",
       "    }\n",
       "</style>\n",
       "<table border=\"1\" class=\"dataframe\">\n",
       "  <thead>\n",
       "    <tr style=\"text-align: right;\">\n",
       "      <th></th>\n",
       "      <th>sales</th>\n",
       "      <th>satisfaction_level</th>\n",
       "    </tr>\n",
       "  </thead>\n",
       "  <tbody>\n",
       "    <tr>\n",
       "      <th>0</th>\n",
       "      <td>IT</td>\n",
       "      <td>0.618142</td>\n",
       "    </tr>\n",
       "    <tr>\n",
       "      <th>1</th>\n",
       "      <td>RandD</td>\n",
       "      <td>0.619822</td>\n",
       "    </tr>\n",
       "    <tr>\n",
       "      <th>2</th>\n",
       "      <td>accounting</td>\n",
       "      <td>0.582151</td>\n",
       "    </tr>\n",
       "    <tr>\n",
       "      <th>3</th>\n",
       "      <td>hr</td>\n",
       "      <td>0.598809</td>\n",
       "    </tr>\n",
       "    <tr>\n",
       "      <th>4</th>\n",
       "      <td>management</td>\n",
       "      <td>0.621349</td>\n",
       "    </tr>\n",
       "    <tr>\n",
       "      <th>5</th>\n",
       "      <td>marketing</td>\n",
       "      <td>0.618601</td>\n",
       "    </tr>\n",
       "    <tr>\n",
       "      <th>6</th>\n",
       "      <td>product_mng</td>\n",
       "      <td>0.619634</td>\n",
       "    </tr>\n",
       "    <tr>\n",
       "      <th>7</th>\n",
       "      <td>sales</td>\n",
       "      <td>0.614447</td>\n",
       "    </tr>\n",
       "    <tr>\n",
       "      <th>8</th>\n",
       "      <td>support</td>\n",
       "      <td>0.618300</td>\n",
       "    </tr>\n",
       "    <tr>\n",
       "      <th>9</th>\n",
       "      <td>technical</td>\n",
       "      <td>0.607897</td>\n",
       "    </tr>\n",
       "  </tbody>\n",
       "</table>\n",
       "</div>"
      ],
      "text/plain": [
       "         sales  satisfaction_level\n",
       "0           IT            0.618142\n",
       "1        RandD            0.619822\n",
       "2   accounting            0.582151\n",
       "3           hr            0.598809\n",
       "4   management            0.621349\n",
       "5    marketing            0.618601\n",
       "6  product_mng            0.619634\n",
       "7        sales            0.614447\n",
       "8      support            0.618300\n",
       "9    technical            0.607897"
      ]
     },
     "execution_count": 119,
     "metadata": {},
     "output_type": "execute_result"
    }
   ],
   "source": [
    "gbs = gbs.reset_index()\n",
    "gbs"
   ]
  },
  {
   "cell_type": "code",
   "execution_count": 120,
   "metadata": {},
   "outputs": [],
   "source": [
    "gbs.columns = ['sales','group_sl']"
   ]
  },
  {
   "cell_type": "code",
   "execution_count": 127,
   "metadata": {},
   "outputs": [],
   "source": [
    "df_merge = pd.merge(df,gbs, on='sales')"
   ]
  },
  {
   "cell_type": "code",
   "execution_count": 128,
   "metadata": {},
   "outputs": [
    {
     "data": {
      "text/html": [
       "<div>\n",
       "<style scoped>\n",
       "    .dataframe tbody tr th:only-of-type {\n",
       "        vertical-align: middle;\n",
       "    }\n",
       "\n",
       "    .dataframe tbody tr th {\n",
       "        vertical-align: top;\n",
       "    }\n",
       "\n",
       "    .dataframe thead th {\n",
       "        text-align: right;\n",
       "    }\n",
       "</style>\n",
       "<table border=\"1\" class=\"dataframe\">\n",
       "  <thead>\n",
       "    <tr style=\"text-align: right;\">\n",
       "      <th></th>\n",
       "      <th>satisfaction_level</th>\n",
       "      <th>last_evaluation</th>\n",
       "      <th>number_project</th>\n",
       "      <th>average_montly_hours</th>\n",
       "      <th>time_spend_company</th>\n",
       "      <th>Work_accident</th>\n",
       "      <th>left</th>\n",
       "      <th>promotion_last_5years</th>\n",
       "      <th>sales</th>\n",
       "      <th>salary</th>\n",
       "      <th>group_sl</th>\n",
       "    </tr>\n",
       "  </thead>\n",
       "  <tbody>\n",
       "    <tr>\n",
       "      <th>0</th>\n",
       "      <td>0.38</td>\n",
       "      <td>0.53</td>\n",
       "      <td>2</td>\n",
       "      <td>157</td>\n",
       "      <td>3</td>\n",
       "      <td>0</td>\n",
       "      <td>1</td>\n",
       "      <td>0</td>\n",
       "      <td>sales</td>\n",
       "      <td>low</td>\n",
       "      <td>0.614447</td>\n",
       "    </tr>\n",
       "    <tr>\n",
       "      <th>1</th>\n",
       "      <td>0.80</td>\n",
       "      <td>0.86</td>\n",
       "      <td>5</td>\n",
       "      <td>262</td>\n",
       "      <td>6</td>\n",
       "      <td>0</td>\n",
       "      <td>1</td>\n",
       "      <td>0</td>\n",
       "      <td>sales</td>\n",
       "      <td>medium</td>\n",
       "      <td>0.614447</td>\n",
       "    </tr>\n",
       "    <tr>\n",
       "      <th>2</th>\n",
       "      <td>0.11</td>\n",
       "      <td>0.88</td>\n",
       "      <td>7</td>\n",
       "      <td>272</td>\n",
       "      <td>4</td>\n",
       "      <td>0</td>\n",
       "      <td>1</td>\n",
       "      <td>0</td>\n",
       "      <td>sales</td>\n",
       "      <td>medium</td>\n",
       "      <td>0.614447</td>\n",
       "    </tr>\n",
       "    <tr>\n",
       "      <th>3</th>\n",
       "      <td>0.72</td>\n",
       "      <td>0.87</td>\n",
       "      <td>5</td>\n",
       "      <td>223</td>\n",
       "      <td>5</td>\n",
       "      <td>0</td>\n",
       "      <td>1</td>\n",
       "      <td>0</td>\n",
       "      <td>sales</td>\n",
       "      <td>low</td>\n",
       "      <td>0.614447</td>\n",
       "    </tr>\n",
       "    <tr>\n",
       "      <th>4</th>\n",
       "      <td>0.37</td>\n",
       "      <td>0.52</td>\n",
       "      <td>2</td>\n",
       "      <td>159</td>\n",
       "      <td>3</td>\n",
       "      <td>0</td>\n",
       "      <td>1</td>\n",
       "      <td>0</td>\n",
       "      <td>sales</td>\n",
       "      <td>low</td>\n",
       "      <td>0.614447</td>\n",
       "    </tr>\n",
       "  </tbody>\n",
       "</table>\n",
       "</div>"
      ],
      "text/plain": [
       "   satisfaction_level  last_evaluation  number_project  average_montly_hours  \\\n",
       "0                0.38             0.53               2                   157   \n",
       "1                0.80             0.86               5                   262   \n",
       "2                0.11             0.88               7                   272   \n",
       "3                0.72             0.87               5                   223   \n",
       "4                0.37             0.52               2                   159   \n",
       "\n",
       "   time_spend_company  Work_accident  left  promotion_last_5years  sales  \\\n",
       "0                   3              0     1                      0  sales   \n",
       "1                   6              0     1                      0  sales   \n",
       "2                   4              0     1                      0  sales   \n",
       "3                   5              0     1                      0  sales   \n",
       "4                   3              0     1                      0  sales   \n",
       "\n",
       "   salary  group_sl  \n",
       "0     low  0.614447  \n",
       "1  medium  0.614447  \n",
       "2  medium  0.614447  \n",
       "3     low  0.614447  \n",
       "4     low  0.614447  "
      ]
     },
     "execution_count": 128,
     "metadata": {},
     "output_type": "execute_result"
    }
   ],
   "source": [
    "df_merge.head()"
   ]
  },
  {
   "cell_type": "markdown",
   "metadata": {},
   "source": [
    "# df_merge"
   ]
  },
  {
   "cell_type": "code",
   "execution_count": 129,
   "metadata": {},
   "outputs": [
    {
     "name": "stdout",
     "output_type": "stream",
     "text": [
      "<class 'pandas.core.frame.DataFrame'>\n",
      "Int64Index: 14999 entries, 0 to 14998\n",
      "Data columns (total 11 columns):\n",
      "satisfaction_level       14999 non-null float64\n",
      "last_evaluation          14999 non-null float64\n",
      "number_project           14999 non-null int64\n",
      "average_montly_hours     14999 non-null int64\n",
      "time_spend_company       14999 non-null int64\n",
      "Work_accident            14999 non-null int64\n",
      "left                     14999 non-null int64\n",
      "promotion_last_5years    14999 non-null int64\n",
      "sales                    14999 non-null object\n",
      "salary                   14999 non-null object\n",
      "group_sl                 14999 non-null float64\n",
      "dtypes: float64(3), int64(6), object(2)\n",
      "memory usage: 1.4+ MB\n"
     ]
    }
   ],
   "source": [
    "df_merge.info()"
   ]
  },
  {
   "cell_type": "code",
   "execution_count": 133,
   "metadata": {},
   "outputs": [
    {
     "data": {
      "text/plain": [
       "['satisfaction_level',\n",
       " 'last_evaluation',\n",
       " 'number_project',\n",
       " 'average_montly_hours',\n",
       " 'time_spend_company',\n",
       " 'Work_accident',\n",
       " 'left',\n",
       " 'promotion_last_5years',\n",
       " 'sales',\n",
       " 'salary',\n",
       " 'group_sl']"
      ]
     },
     "execution_count": 133,
     "metadata": {},
     "output_type": "execute_result"
    }
   ],
   "source": [
    "cols = df_merge.columns.tolist()\n",
    "cols"
   ]
  },
  {
   "cell_type": "code",
   "execution_count": 134,
   "metadata": {},
   "outputs": [],
   "source": [
    "cols.insert(0,cols.pop(cols.index('left'))) "
   ]
  },
  {
   "cell_type": "code",
   "execution_count": 136,
   "metadata": {},
   "outputs": [
    {
     "data": {
      "text/plain": [
       "['left',\n",
       " 'satisfaction_level',\n",
       " 'last_evaluation',\n",
       " 'number_project',\n",
       " 'average_montly_hours',\n",
       " 'time_spend_company',\n",
       " 'Work_accident',\n",
       " 'promotion_last_5years',\n",
       " 'sales',\n",
       " 'salary',\n",
       " 'group_sl']"
      ]
     },
     "execution_count": 136,
     "metadata": {},
     "output_type": "execute_result"
    }
   ],
   "source": [
    "cols"
   ]
  },
  {
   "cell_type": "code",
   "execution_count": 138,
   "metadata": {},
   "outputs": [
    {
     "data": {
      "text/html": [
       "<div>\n",
       "<style scoped>\n",
       "    .dataframe tbody tr th:only-of-type {\n",
       "        vertical-align: middle;\n",
       "    }\n",
       "\n",
       "    .dataframe tbody tr th {\n",
       "        vertical-align: top;\n",
       "    }\n",
       "\n",
       "    .dataframe thead th {\n",
       "        text-align: right;\n",
       "    }\n",
       "</style>\n",
       "<table border=\"1\" class=\"dataframe\">\n",
       "  <thead>\n",
       "    <tr style=\"text-align: right;\">\n",
       "      <th></th>\n",
       "      <th>left</th>\n",
       "      <th>satisfaction_level</th>\n",
       "      <th>last_evaluation</th>\n",
       "      <th>number_project</th>\n",
       "      <th>average_montly_hours</th>\n",
       "      <th>time_spend_company</th>\n",
       "      <th>Work_accident</th>\n",
       "      <th>promotion_last_5years</th>\n",
       "      <th>sales</th>\n",
       "      <th>salary</th>\n",
       "      <th>group_sl</th>\n",
       "    </tr>\n",
       "  </thead>\n",
       "  <tbody>\n",
       "    <tr>\n",
       "      <th>0</th>\n",
       "      <td>1</td>\n",
       "      <td>0.38</td>\n",
       "      <td>0.53</td>\n",
       "      <td>2</td>\n",
       "      <td>157</td>\n",
       "      <td>3</td>\n",
       "      <td>0</td>\n",
       "      <td>0</td>\n",
       "      <td>sales</td>\n",
       "      <td>low</td>\n",
       "      <td>0.614447</td>\n",
       "    </tr>\n",
       "    <tr>\n",
       "      <th>1</th>\n",
       "      <td>1</td>\n",
       "      <td>0.80</td>\n",
       "      <td>0.86</td>\n",
       "      <td>5</td>\n",
       "      <td>262</td>\n",
       "      <td>6</td>\n",
       "      <td>0</td>\n",
       "      <td>0</td>\n",
       "      <td>sales</td>\n",
       "      <td>medium</td>\n",
       "      <td>0.614447</td>\n",
       "    </tr>\n",
       "    <tr>\n",
       "      <th>2</th>\n",
       "      <td>1</td>\n",
       "      <td>0.11</td>\n",
       "      <td>0.88</td>\n",
       "      <td>7</td>\n",
       "      <td>272</td>\n",
       "      <td>4</td>\n",
       "      <td>0</td>\n",
       "      <td>0</td>\n",
       "      <td>sales</td>\n",
       "      <td>medium</td>\n",
       "      <td>0.614447</td>\n",
       "    </tr>\n",
       "    <tr>\n",
       "      <th>3</th>\n",
       "      <td>1</td>\n",
       "      <td>0.72</td>\n",
       "      <td>0.87</td>\n",
       "      <td>5</td>\n",
       "      <td>223</td>\n",
       "      <td>5</td>\n",
       "      <td>0</td>\n",
       "      <td>0</td>\n",
       "      <td>sales</td>\n",
       "      <td>low</td>\n",
       "      <td>0.614447</td>\n",
       "    </tr>\n",
       "    <tr>\n",
       "      <th>4</th>\n",
       "      <td>1</td>\n",
       "      <td>0.37</td>\n",
       "      <td>0.52</td>\n",
       "      <td>2</td>\n",
       "      <td>159</td>\n",
       "      <td>3</td>\n",
       "      <td>0</td>\n",
       "      <td>0</td>\n",
       "      <td>sales</td>\n",
       "      <td>low</td>\n",
       "      <td>0.614447</td>\n",
       "    </tr>\n",
       "  </tbody>\n",
       "</table>\n",
       "</div>"
      ],
      "text/plain": [
       "   left  satisfaction_level  last_evaluation  number_project  \\\n",
       "0     1                0.38             0.53               2   \n",
       "1     1                0.80             0.86               5   \n",
       "2     1                0.11             0.88               7   \n",
       "3     1                0.72             0.87               5   \n",
       "4     1                0.37             0.52               2   \n",
       "\n",
       "   average_montly_hours  time_spend_company  Work_accident  \\\n",
       "0                   157                   3              0   \n",
       "1                   262                   6              0   \n",
       "2                   272                   4              0   \n",
       "3                   223                   5              0   \n",
       "4                   159                   3              0   \n",
       "\n",
       "   promotion_last_5years  sales  salary  group_sl  \n",
       "0                      0  sales     low  0.614447  \n",
       "1                      0  sales  medium  0.614447  \n",
       "2                      0  sales  medium  0.614447  \n",
       "3                      0  sales     low  0.614447  \n",
       "4                      0  sales     low  0.614447  "
      ]
     },
     "execution_count": 138,
     "metadata": {},
     "output_type": "execute_result"
    }
   ],
   "source": [
    "df_merge = df_merge.reindex(columns=cols)\n",
    "df_merge.head()"
   ]
  },
  {
   "cell_type": "code",
   "execution_count": 139,
   "metadata": {},
   "outputs": [
    {
     "data": {
      "text/plain": [
       "Index(['left', 'satisfaction_level', 'last_evaluation', 'number_project',\n",
       "       'average_montly_hours', 'time_spend_company', 'Work_accident',\n",
       "       'promotion_last_5years', 'sales', 'salary', 'group_sl'],\n",
       "      dtype='object')"
      ]
     },
     "execution_count": 139,
     "metadata": {},
     "output_type": "execute_result"
    }
   ],
   "source": [
    "df_merge.columns"
   ]
  },
  {
   "cell_type": "code",
   "execution_count": 140,
   "metadata": {},
   "outputs": [],
   "source": [
    "catlist = ['promotion_last_5years', 'sales', 'salary']"
   ]
  },
  {
   "cell_type": "code",
   "execution_count": 143,
   "metadata": {},
   "outputs": [],
   "source": [
    "for cat in catlist:\n",
    "    df_merge[cat] = df_merge[cat].astype('category')"
   ]
  },
  {
   "cell_type": "code",
   "execution_count": 148,
   "metadata": {},
   "outputs": [
    {
     "name": "stdout",
     "output_type": "stream",
     "text": [
      "<class 'pandas.core.frame.DataFrame'>\n",
      "Int64Index: 14999 entries, 0 to 14998\n",
      "Data columns (total 11 columns):\n",
      "left                     14999 non-null int64\n",
      "satisfaction_level       14999 non-null float64\n",
      "last_evaluation          14999 non-null float64\n",
      "number_project           14999 non-null int64\n",
      "average_montly_hours     14999 non-null int64\n",
      "time_spend_company       14999 non-null int64\n",
      "Work_accident            14999 non-null int64\n",
      "promotion_last_5years    14999 non-null category\n",
      "sales                    14999 non-null category\n",
      "salary                   14999 non-null category\n",
      "group_sl                 14999 non-null float64\n",
      "dtypes: category(3), float64(3), int64(5)\n",
      "memory usage: 1.1 MB\n"
     ]
    }
   ],
   "source": [
    "df_merge.info()"
   ]
  },
  {
   "cell_type": "code",
   "execution_count": 149,
   "metadata": {},
   "outputs": [],
   "source": [
    "numlist = ['satisfaction_level', 'last_evaluation', 'number_project',\n",
    "       'average_montly_hours', 'time_spend_company', 'Work_accident', 'group_sl']"
   ]
  },
  {
   "cell_type": "code",
   "execution_count": 150,
   "metadata": {},
   "outputs": [],
   "source": [
    "df_num = df_merge[numlist]\n",
    "df_cat = df_merge[catlist]"
   ]
  },
  {
   "cell_type": "code",
   "execution_count": 152,
   "metadata": {},
   "outputs": [
    {
     "name": "stdout",
     "output_type": "stream",
     "text": [
      "<class 'pandas.core.frame.DataFrame'>\n",
      "Int64Index: 14999 entries, 0 to 14998\n",
      "Data columns (total 7 columns):\n",
      "satisfaction_level      14999 non-null float64\n",
      "last_evaluation         14999 non-null float64\n",
      "number_project          14999 non-null int64\n",
      "average_montly_hours    14999 non-null int64\n",
      "time_spend_company      14999 non-null int64\n",
      "Work_accident           14999 non-null int64\n",
      "group_sl                14999 non-null float64\n",
      "dtypes: float64(3), int64(4)\n",
      "memory usage: 937.4 KB\n"
     ]
    }
   ],
   "source": [
    "df_num.info()"
   ]
  },
  {
   "cell_type": "code",
   "execution_count": 153,
   "metadata": {},
   "outputs": [
    {
     "name": "stdout",
     "output_type": "stream",
     "text": [
      "<class 'pandas.core.frame.DataFrame'>\n",
      "Int64Index: 14999 entries, 0 to 14998\n",
      "Data columns (total 3 columns):\n",
      "promotion_last_5years    14999 non-null category\n",
      "sales                    14999 non-null category\n",
      "salary                   14999 non-null category\n",
      "dtypes: category(3)\n",
      "memory usage: 161.7 KB\n"
     ]
    }
   ],
   "source": [
    "df_cat.info()"
   ]
  },
  {
   "cell_type": "code",
   "execution_count": 154,
   "metadata": {},
   "outputs": [
    {
     "name": "stderr",
     "output_type": "stream",
     "text": [
      "C:\\Users\\user\\Anaconda3\\lib\\site-packages\\sklearn\\preprocessing\\data.py:645: DataConversionWarning: Data with input dtype int64, float64 were all converted to float64 by StandardScaler.\n",
      "  return self.partial_fit(X, y)\n",
      "C:\\Users\\user\\Anaconda3\\lib\\site-packages\\sklearn\\base.py:464: DataConversionWarning: Data with input dtype int64, float64 were all converted to float64 by StandardScaler.\n",
      "  return self.fit(X, **fit_params).transform(X)\n"
     ]
    },
    {
     "data": {
      "text/plain": [
       "array([[-0.93649469, -1.08727529, -1.46286291, ..., -0.34123516,\n",
       "        -0.41116529,  0.18036913],\n",
       "       [ 0.75281433,  0.84070693,  0.97111292, ...,  1.71343614,\n",
       "        -0.41116529,  0.18036913],\n",
       "       [-2.02247906,  0.95755433,  2.59376348, ...,  0.34365527,\n",
       "        -0.41116529,  0.18036913],\n",
       "       ...,\n",
       "       [-0.73538647, -1.3209701 , -1.46286291, ..., -0.34123516,\n",
       "        -0.41116529,  0.78131526],\n",
       "       [-1.66048427, -1.2625464 ,  0.97111292, ...,  1.71343614,\n",
       "        -0.41116529,  0.78131526],\n",
       "       [ 0.79303597,  1.19124915,  0.97111292, ...,  1.02854571,\n",
       "        -0.41116529,  0.78131526]])"
      ]
     },
     "execution_count": 154,
     "metadata": {},
     "output_type": "execute_result"
    }
   ],
   "source": [
    "df_num_std = StandardScaler().fit_transform(df_num)\n",
    "df_num_std"
   ]
  },
  {
   "cell_type": "code",
   "execution_count": 155,
   "metadata": {},
   "outputs": [
    {
     "data": {
      "text/plain": [
       "array([[0.31868132, 0.265625  , 0.        , ..., 0.125     , 0.        ,\n",
       "        0.8239106 ],\n",
       "       [0.78021978, 0.78125   , 0.6       , ..., 0.5       , 0.        ,\n",
       "        0.8239106 ],\n",
       "       [0.02197802, 0.8125    , 1.        , ..., 0.25      , 0.        ,\n",
       "        0.8239106 ],\n",
       "       ...,\n",
       "       [0.37362637, 0.203125  , 0.        , ..., 0.125     , 0.        ,\n",
       "        0.96104142],\n",
       "       [0.12087912, 0.21875   , 0.6       , ..., 0.5       , 0.        ,\n",
       "        0.96104142],\n",
       "       [0.79120879, 0.875     , 0.6       , ..., 0.375     , 0.        ,\n",
       "        0.96104142]])"
      ]
     },
     "execution_count": 155,
     "metadata": {},
     "output_type": "execute_result"
    }
   ],
   "source": [
    "df_num_std = MinMaxScaler().fit_transform(df_num_std)\n",
    "df_num_std"
   ]
  },
  {
   "cell_type": "code",
   "execution_count": 156,
   "metadata": {},
   "outputs": [
    {
     "data": {
      "text/plain": [
       "(14999, 7)"
      ]
     },
     "execution_count": 156,
     "metadata": {},
     "output_type": "execute_result"
    }
   ],
   "source": [
    "df_num_std.shape"
   ]
  },
  {
   "cell_type": "code",
   "execution_count": 157,
   "metadata": {},
   "outputs": [
    {
     "data": {
      "text/plain": [
       "array([[1, 0, 0, ..., 0, 1, 0],\n",
       "       [1, 0, 0, ..., 0, 0, 1],\n",
       "       [1, 0, 0, ..., 0, 0, 1],\n",
       "       ...,\n",
       "       [1, 0, 0, ..., 1, 0, 0],\n",
       "       [1, 0, 0, ..., 0, 1, 0],\n",
       "       [1, 0, 0, ..., 0, 0, 1]], dtype=uint8)"
      ]
     },
     "execution_count": 157,
     "metadata": {},
     "output_type": "execute_result"
    }
   ],
   "source": [
    "df_cat_processed = pd.get_dummies(df_cat).values\n",
    "df_cat_processed"
   ]
  },
  {
   "cell_type": "code",
   "execution_count": 165,
   "metadata": {},
   "outputs": [
    {
     "data": {
      "text/plain": [
       "(14999, 15)"
      ]
     },
     "execution_count": 165,
     "metadata": {},
     "output_type": "execute_result"
    }
   ],
   "source": [
    "df_cat_processed.shape"
   ]
  },
  {
   "cell_type": "code",
   "execution_count": 166,
   "metadata": {},
   "outputs": [
    {
     "data": {
      "text/plain": [
       "array([[1., 0., 0., ..., 0., 1., 0.],\n",
       "       [1., 0., 0., ..., 0., 0., 1.],\n",
       "       [1., 0., 0., ..., 0., 0., 1.],\n",
       "       ...,\n",
       "       [1., 0., 0., ..., 1., 0., 0.],\n",
       "       [1., 0., 0., ..., 0., 1., 0.],\n",
       "       [1., 0., 0., ..., 0., 0., 1.]])"
      ]
     },
     "execution_count": 166,
     "metadata": {},
     "output_type": "execute_result"
    }
   ],
   "source": [
    "df_cat_processed.astype('float')"
   ]
  },
  {
   "cell_type": "code",
   "execution_count": 171,
   "metadata": {},
   "outputs": [
    {
     "data": {
      "text/plain": [
       "(14999, 22)"
      ]
     },
     "execution_count": 171,
     "metadata": {},
     "output_type": "execute_result"
    }
   ],
   "source": [
    "np.concatenate((df_num_std, df_cat_processed),axis=1).shape"
   ]
  },
  {
   "cell_type": "code",
   "execution_count": 173,
   "metadata": {},
   "outputs": [],
   "source": [
    "df_preprocessed = np.concatenate((df_num_std, df_cat_processed),axis=1)"
   ]
  },
  {
   "cell_type": "code",
   "execution_count": 189,
   "metadata": {},
   "outputs": [],
   "source": [
    "x_data = df_preprocessed\n",
    "y_data = df_merge['left'].values.reshape(-1,1)"
   ]
  },
  {
   "cell_type": "code",
   "execution_count": 190,
   "metadata": {},
   "outputs": [
    {
     "data": {
      "text/plain": [
       "(14999, 1)"
      ]
     },
     "execution_count": 190,
     "metadata": {},
     "output_type": "execute_result"
    }
   ],
   "source": [
    "y_data.shape"
   ]
  },
  {
   "cell_type": "code",
   "execution_count": 191,
   "metadata": {},
   "outputs": [],
   "source": [
    "from sklearn.model_selection import train_test_split\n",
    "x_train, x_test, y_train, y_test = train_test_split(x_data,y_data)"
   ]
  },
  {
   "cell_type": "code",
   "execution_count": 192,
   "metadata": {},
   "outputs": [
    {
     "name": "stdout",
     "output_type": "stream",
     "text": [
      "(11249, 22) (3750, 22) (11249, 1) (3750, 1)\n"
     ]
    }
   ],
   "source": [
    "print(x_train.shape, x_test.shape, y_train.shape, y_test.shape)"
   ]
  },
  {
   "cell_type": "code",
   "execution_count": 209,
   "metadata": {},
   "outputs": [
    {
     "name": "stdout",
     "output_type": "stream",
     "text": [
      "0.6608609\n",
      "0.38089582\n",
      "0.271935\n",
      "0.20120835\n",
      "0.17977071\n",
      "0.17019096\n",
      "accuracy : 0.9090666770935059\n"
     ]
    }
   ],
   "source": [
    "threshold = 0.8\n",
    "lr = 0.02\n",
    "\n",
    "x = tf.placeholder(dtype=tf.float32, shape=[None,22])\n",
    "y = tf.placeholder(dtype=tf.float32, shape=[None,1])\n",
    "w1 = tf.Variable(tf.random_normal([22,22]))\n",
    "b1 = tf.Variable(tf.random_uniform([22]))\n",
    "hl = tf.sigmoid(tf.matmul(x,w1) + b1)\n",
    "\n",
    "w2 = tf.Variable(tf.random_normal([22,1]))\n",
    "b2 = tf.Variable(tf.random_uniform([1]))\n",
    "hf = tf.sigmoid(tf.matmul(hl,w2) + b2)\n",
    "\n",
    "cost = -tf.reduce_mean(y*tf.log(hf) + (1-y)*tf.log(1-hf))\n",
    "\n",
    "mypred = tf.cast(hf > threshold, dtype = tf.float32)\n",
    "accuracy = tf.reduce_mean(tf.cast(tf.equal(mypred,y), dtype=tf.float32))\n",
    "\n",
    "train = tf.train.GradientDescentOptimizer(lr).minimize(cost)\n",
    "\n",
    "with tf.Session() as sess:\n",
    "    init = tf.global_variables_initializer()\n",
    "    sess.run(init)\n",
    "    for step in range(100001):\n",
    "        sess.run(train, feed_dict={x:x_train,y:y_train})\n",
    "        if step%20000==0:\n",
    "            cv = sess.run(cost, feed_dict={x:x_train,y:y_train})\n",
    "            print(cv)\n",
    "    pred = sess.run(mypred, feed_dict={x:x_test})\n",
    "#     print(mypred.mean())\n",
    "    print(\"accuracy : {}\".format(sess.run(accuracy, feed_dict={x:x_test,y:y_test})))"
   ]
  },
  {
   "cell_type": "markdown",
   "metadata": {},
   "source": [
    "# PCA?"
   ]
  },
  {
   "cell_type": "code",
   "execution_count": 217,
   "metadata": {},
   "outputs": [
    {
     "data": {
      "text/plain": [
       "array([-8.81131734e-17, -3.95088100e-16, -2.14598213e-16, -8.62182665e-17,\n",
       "       -2.12229579e-16,  4.83201274e-17, -3.03185113e-16, -2.48232811e-16,\n",
       "        1.89490696e-18,  3.03185113e-17, -6.06370226e-17, -4.54777669e-17,\n",
       "        6.06370226e-17,  0.00000000e+00, -4.54777669e-17,  0.00000000e+00,\n",
       "        6.06370226e-17,  9.09555339e-17,  6.06370226e-17,  2.27388835e-17,\n",
       "       -1.70541626e-17, -1.16063051e-16])"
      ]
     },
     "execution_count": 217,
     "metadata": {},
     "output_type": "execute_result"
    }
   ],
   "source": [
    "StandardScaler().fit_transform(x_data).mean(axis=0)"
   ]
  },
  {
   "cell_type": "code",
   "execution_count": 218,
   "metadata": {},
   "outputs": [],
   "source": [
    "x_data_std = StandardScaler().fit_transform(x_data)"
   ]
  },
  {
   "cell_type": "code",
   "execution_count": 220,
   "metadata": {},
   "outputs": [
    {
     "data": {
      "text/plain": [
       "array([-8.81131734e-17, -3.95088100e-16, -2.14598213e-16, -8.62182665e-17,\n",
       "       -2.12229579e-16,  4.83201274e-17, -3.03185113e-16, -2.48232811e-16,\n",
       "        1.89490696e-18,  3.03185113e-17, -6.06370226e-17, -4.54777669e-17,\n",
       "        6.06370226e-17,  0.00000000e+00, -4.54777669e-17,  0.00000000e+00,\n",
       "        6.06370226e-17,  9.09555339e-17,  6.06370226e-17,  2.27388835e-17,\n",
       "       -1.70541626e-17, -1.16063051e-16])"
      ]
     },
     "execution_count": 220,
     "metadata": {},
     "output_type": "execute_result"
    }
   ],
   "source": [
    "x_data_std.mean(axis=0)"
   ]
  },
  {
   "cell_type": "code",
   "execution_count": 255,
   "metadata": {},
   "outputs": [
    {
     "data": {
      "text/plain": [
       "(14999, 22)"
      ]
     },
     "execution_count": 255,
     "metadata": {},
     "output_type": "execute_result"
    }
   ],
   "source": [
    "x_data_std.shape"
   ]
  },
  {
   "cell_type": "code",
   "execution_count": 256,
   "metadata": {},
   "outputs": [
    {
     "data": {
      "text/plain": [
       "array([[-0.93649469, -1.08727529, -1.46286291, ..., -0.29980859,\n",
       "         1.02477511, -0.8681323 ],\n",
       "       [ 0.75281433,  0.84070693,  0.97111292, ..., -0.29980859,\n",
       "        -0.97582386,  1.15189816],\n",
       "       [-2.02247906,  0.95755433,  2.59376348, ..., -0.29980859,\n",
       "        -0.97582386,  1.15189816],\n",
       "       ...,\n",
       "       [-0.73538647, -1.3209701 , -1.46286291, ...,  3.33546146,\n",
       "        -0.97582386, -0.8681323 ],\n",
       "       [-1.66048427, -1.2625464 ,  0.97111292, ..., -0.29980859,\n",
       "         1.02477511, -0.8681323 ],\n",
       "       [ 0.79303597,  1.19124915,  0.97111292, ..., -0.29980859,\n",
       "        -0.97582386,  1.15189816]])"
      ]
     },
     "execution_count": 256,
     "metadata": {},
     "output_type": "execute_result"
    }
   ],
   "source": [
    "x_data_std"
   ]
  },
  {
   "cell_type": "code",
   "execution_count": 245,
   "metadata": {},
   "outputs": [],
   "source": [
    "x_cov = np.dot(x_data_std.T,x_data_std) / x_data_std.shape[1] -1"
   ]
  },
  {
   "cell_type": "code",
   "execution_count": 246,
   "metadata": {},
   "outputs": [
    {
     "data": {
      "text/plain": [
       "(22, 22)"
      ]
     },
     "execution_count": 246,
     "metadata": {},
     "output_type": "execute_result"
    }
   ],
   "source": [
    "x_cov.shape"
   ]
  },
  {
   "cell_type": "code",
   "execution_count": 247,
   "metadata": {},
   "outputs": [
    {
     "data": {
      "text/plain": [
       "array([[ 6.80772727e+02,  7.06005995e+01, -9.84727646e+01,\n",
       "        -1.46682568e+01, -6.97677374e+01,  3.90181781e+01,\n",
       "         2.35280210e+01, -1.84569173e+01,  1.64569173e+01,\n",
       "         3.34487823e+00,  3.50970964e+00, -2.05322300e+01,\n",
       "        -9.75474948e+00,  3.88962981e+00,  2.89600011e+00,\n",
       "         3.71724165e+00,  1.73168088e+00,  5.26241229e+00,\n",
       "        -7.37115704e+00,  1.92542687e+01, -3.33259582e+01,\n",
       "         2.03851343e+01],\n",
       "       [ 7.06005995e+01,  6.80772727e+02,  2.37165432e+02,\n",
       "         2.30626693e+02,  8.87149657e+01, -5.84351016e+00,\n",
       "        -1.49436675e-01,  4.92035613e+00, -6.92035613e+00,\n",
       "        -1.34554834e-01, -4.73031176e+00,  4.94884370e-01,\n",
       "        -7.57575391e+00,  5.58744694e+00, -1.21188688e+00,\n",
       "        -2.35580846e+00, -1.67018408e+01,  1.06610485e+01,\n",
       "         8.36885678e+00, -1.50636684e+01,  2.55942470e+00,\n",
       "         3.22083899e+00],\n",
       "       [-9.84727646e+01,  2.37165432e+02,  6.80772727e+02,\n",
       "         2.83442832e+02,  1.33163254e+02, -4.23197615e+00,\n",
       "        -1.13466569e+00,  3.13424113e+00, -5.13424113e+00,\n",
       "         1.24085841e+00,  5.61524045e+00,  1.85581779e+00,\n",
       "        -1.96506710e+01,  5.63243091e+00, -1.67243812e+01,\n",
       "        -4.34477226e-01, -1.01276328e+01, -7.93301843e-01,\n",
       "         1.84960992e+01, -6.94934492e+00, -2.70722059e+00,\n",
       "         4.02970770e+00],\n",
       "       [-1.46682568e+01,  2.30626693e+02,  2.83442832e+02,\n",
       "         6.80772727e+02,  8.60998137e+01, -7.91514454e+00,\n",
       "        -1.98274591e+00,  1.41648500e+00, -3.41648500e+00,\n",
       "         3.74969581e+00, -1.80256504e+00, -6.43039401e-01,\n",
       "        -8.35169449e+00, -4.31534457e-01, -6.59732538e+00,\n",
       "        -4.74567487e+00, -2.17151748e+00, -2.66626028e+00,\n",
       "         8.29773237e+00, -5.84146070e+00, -1.71607692e+00,\n",
       "         2.41331310e+00],\n",
       "       [-6.97677374e+01,  8.87149657e+01,  1.33163254e+02,\n",
       "         8.60998137e+01,  6.80772727e+02,  4.45643229e-01,\n",
       "         1.51522689e+01, -4.69739294e+01,  4.49739294e+01,\n",
       "        -5.12696799e+00, -1.53960919e+01,  1.66476835e+00,\n",
       "        -1.61311223e+01,  7.77013143e+01,  7.24640024e+00,\n",
       "        -3.67214278e+00,  9.32878443e+00, -2.15289907e+01,\n",
       "        -2.00837743e+01,  2.62386167e+01, -2.83461621e+01,\n",
       "         1.14759393e+01],\n",
       "       [ 3.90181781e+01, -5.84351016e+00, -4.23197615e+00,\n",
       "        -7.91514454e+00,  4.45643229e-01,  6.80772727e+02,\n",
       "         1.54167014e+01, -2.77564670e+01,  2.57564670e+01,\n",
       "        -7.33590959e+00,  1.07038238e+01, -9.75122278e+00,\n",
       "        -1.16688331e+01,  6.66431854e+00,  6.74940018e+00,\n",
       "        -1.50815243e-01, -4.37794073e+00,  7.23504910e+00,\n",
       "        -5.13852395e+00,  5.16306391e+00, -5.64475459e+00,\n",
       "         2.65204791e-01],\n",
       "       [ 2.35280210e+01, -1.49436675e-01, -1.13466569e+00,\n",
       "        -1.98274591e+00,  1.51522689e+01,  1.54167014e+01,\n",
       "         6.80772727e+02, -1.97642386e+01,  1.77642386e+01,\n",
       "         1.19768793e+02,  1.24350392e+02, -5.43911380e+02,\n",
       "        -2.44344110e+02,  1.34910527e+02,  1.07291926e+02,\n",
       "         1.30118883e+02,  7.49288948e+01,  1.73067933e+02,\n",
       "        -1.78090566e+02,  1.65094676e+01, -2.11252675e+00,\n",
       "        -9.60624941e+00],\n",
       "       [-1.84569173e+01,  4.92035613e+00,  3.13424113e+00,\n",
       "         1.41648500e+00, -4.69739294e+01, -2.77564670e+01,\n",
       "        -1.97642386e+01,  6.80772727e+02, -6.82772727e+02,\n",
       "         2.55496261e+01, -1.54997777e+01,  2.30763323e+00,\n",
       "         4.38787734e-02, -8.83259762e+01, -3.45791626e+01,\n",
       "         2.44221254e+01, -9.42211376e+00,  2.32743501e+01,\n",
       "         2.34067615e+01, -5.33301769e+01,  5.54724005e+01,\n",
       "        -2.89423112e+01],\n",
       "       [ 1.64569173e+01, -6.92035613e+00, -5.13424113e+00,\n",
       "        -3.41648500e+00,  4.49739294e+01,  2.57564670e+01,\n",
       "         1.77642386e+01, -6.82772727e+02,  6.80772727e+02,\n",
       "        -2.75496261e+01,  1.34997777e+01, -4.30763323e+00,\n",
       "        -2.04387877e+00,  8.63259762e+01,  3.25791626e+01,\n",
       "        -2.64221254e+01,  7.42211376e+00, -2.52743501e+01,\n",
       "        -2.54067615e+01,  5.13301769e+01, -5.74724005e+01,\n",
       "         2.69423112e+01],\n",
       "       [ 3.34487823e+00, -1.34554834e-01,  1.24085841e+00,\n",
       "         3.74969581e+00, -5.12696799e+00, -7.33590959e+00,\n",
       "         1.19768793e+02,  2.55496261e+01, -2.75496261e+01,\n",
       "         6.80772727e+02, -4.88876103e+01, -4.82419824e+01,\n",
       "        -4.73261122e+01, -4.36108700e+01, -5.11264538e+01,\n",
       "        -5.24758252e+01, -1.26651782e+02, -8.60203688e+01,\n",
       "        -9.67781294e+01, -1.19690268e+01,  2.48766962e+00,\n",
       "         1.57367455e+00],\n",
       "       [ 3.50970964e+00, -4.73031176e+00,  5.61524045e+00,\n",
       "        -1.80256504e+00, -1.53960919e+01,  1.07038238e+01,\n",
       "         1.24350392e+02, -1.54997777e+01,  1.34997777e+01,\n",
       "        -4.88876103e+01,  6.80772727e+02, -3.82446678e+01,\n",
       "        -3.75226135e+01, -3.45935881e+01, -4.05187295e+01,\n",
       "        -4.15825479e+01, -1.00061442e+02, -6.80284191e+01,\n",
       "        -7.65096302e+01, -1.13050683e+01, -9.10438870e+00,\n",
       "         1.29093792e+01],\n",
       "       [-2.05322300e+01,  4.94884370e-01,  1.85581779e+00,\n",
       "        -6.43039401e-01,  1.66476835e+00, -9.75122278e+00,\n",
       "        -5.43911380e+02,  2.30763323e+00, -4.30763323e+00,\n",
       "        -4.82419824e+01, -3.82446678e+01,  6.80772727e+02,\n",
       "        -3.70302101e+01, -3.41406743e+01, -3.99859321e+01,\n",
       "        -4.10354079e+01, -9.87258806e+01, -6.71247319e+01,\n",
       "        -7.54915980e+01,  7.05945311e+00, -7.65330238e+00,\n",
       "         1.23948429e+00],\n",
       "       [-9.75474948e+00, -7.57575391e+00, -1.96506710e+01,\n",
       "        -8.35169449e+00, -1.61311223e+01, -1.16688331e+01,\n",
       "        -2.44344110e+02,  4.38787734e-02, -2.04387877e+00,\n",
       "        -4.73261122e+01, -3.75226135e+01, -3.70302101e+01,\n",
       "         6.80772727e+02, -3.34981832e+01, -3.92301202e+01,\n",
       "        -4.02592501e+01, -9.68312901e+01, -6.58427860e+01,\n",
       "        -7.40474455e+01, -1.31750682e+01, -1.16969116e+01,\n",
       "         1.65661960e+01],\n",
       "       [ 3.88962981e+00,  5.58744694e+00,  5.63243091e+00,\n",
       "        -4.31534457e-01,  7.77013143e+01,  6.66431854e+00,\n",
       "         1.34910527e+02, -8.83259762e+01,  8.63259762e+01,\n",
       "        -4.36108700e+01, -3.45935881e+01, -3.41406743e+01,\n",
       "        -3.34981832e+01,  6.80772727e+02, -3.61641569e+01,\n",
       "        -3.71107531e+01, -8.91458521e+01, -6.06425512e+01,\n",
       "        -6.81892168e+01,  1.41542912e+02, -5.87057229e+01,\n",
       "        -2.19413931e+01],\n",
       "       [ 2.89600011e+00, -1.21188688e+00, -1.67243812e+01,\n",
       "        -6.59732538e+00,  7.24640024e+00,  6.74940018e+00,\n",
       "         1.07291926e+02, -3.45791626e+01,  3.25791626e+01,\n",
       "        -5.11264538e+01, -4.05187295e+01, -3.99859321e+01,\n",
       "        -3.92301202e+01, -3.61641569e+01,  6.80772727e+02,\n",
       "        -4.34798648e+01, -1.04692766e+02, -7.11621345e+01,\n",
       "        -8.00398595e+01,  5.57373278e+00, -7.46221638e+00,\n",
       "         1.87212068e+00],\n",
       "       [ 3.71724165e+00, -2.35580846e+00, -4.34477226e-01,\n",
       "        -4.74567487e+00, -3.67214278e+00, -1.50815243e-01,\n",
       "         1.30118883e+02,  2.44221254e+01, -2.64221254e+01,\n",
       "        -5.24758252e+01, -4.15825479e+01, -4.10354079e+01,\n",
       "        -4.02592501e+01, -3.71107531e+01, -4.34798648e+01,\n",
       "         6.80772727e+02, -1.07484108e+02, -7.30508533e+01,\n",
       "        -8.21675609e+01, -5.44122982e+00,  3.22098051e+00,\n",
       "        -2.79409566e+00],\n",
       "       [ 1.73168088e+00, -1.67018408e+01, -1.01276328e+01,\n",
       "        -2.17151748e+00,  9.32878443e+00, -4.37794073e+00,\n",
       "         7.49288948e+01, -9.42211376e+00,  7.42211376e+00,\n",
       "        -1.26651782e+02, -1.00061442e+02, -9.87258806e+01,\n",
       "        -9.68312901e+01, -8.91458521e+01, -1.04692766e+02,\n",
       "        -1.07484108e+02,  6.80772727e+02, -1.76875143e+02,\n",
       "        -1.99128901e+02, -2.77749245e+01,  1.52026839e+01,\n",
       "        -2.48188866e+00],\n",
       "       [ 5.26241229e+00,  1.06610485e+01, -7.93301843e-01,\n",
       "        -2.66626028e+00, -2.15289907e+01,  7.23504910e+00,\n",
       "         1.73067933e+02,  2.32743501e+01, -2.52743501e+01,\n",
       "        -8.60203688e+01, -6.80284191e+01, -6.71247319e+01,\n",
       "        -6.58427860e+01, -6.06425512e+01, -7.11621345e+01,\n",
       "        -7.30508533e+01, -1.76875143e+02,  6.80772727e+02,\n",
       "        -1.35060910e+02, -2.08965836e+01,  1.40246466e+01,\n",
       "        -5.11453476e+00],\n",
       "       [-7.37115704e+00,  8.36885678e+00,  1.84960992e+01,\n",
       "         8.29773237e+00, -2.00837743e+01, -5.13852395e+00,\n",
       "        -1.78090566e+02,  2.34067615e+01, -2.54067615e+01,\n",
       "        -9.67781294e+01, -7.65096302e+01, -7.54915980e+01,\n",
       "        -7.40474455e+01, -6.81892168e+01, -8.00398595e+01,\n",
       "        -8.21675609e+01, -1.99128901e+02, -1.35060910e+02,\n",
       "         6.80772727e+02, -1.10027347e+01,  9.68587905e+00,\n",
       "        -6.23139476e+00],\n",
       "       [ 1.92542687e+01, -1.50636684e+01, -6.94934492e+00,\n",
       "        -5.84146070e+00,  2.62386167e+01,  5.16306391e+00,\n",
       "         1.65094676e+01, -5.33301769e+01,  5.13301769e+01,\n",
       "        -1.19690268e+01, -1.13050683e+01,  7.05945311e+00,\n",
       "        -1.31750682e+01,  1.41542912e+02,  5.57373278e+00,\n",
       "        -5.44122982e+00, -2.77749245e+01, -2.08965836e+01,\n",
       "        -1.10027347e+01,  6.80772727e+02, -2.00459685e+02,\n",
       "        -1.78447388e+02],\n",
       "       [-3.33259582e+01,  2.55942470e+00, -2.70722059e+00,\n",
       "        -1.71607692e+00, -2.83461621e+01, -5.64475459e+00,\n",
       "        -2.11252675e+00,  5.54724005e+01, -5.74724005e+01,\n",
       "         2.48766962e+00, -9.10438870e+00, -7.65330238e+00,\n",
       "        -1.16969116e+01, -5.87057229e+01, -7.46221638e+00,\n",
       "         3.22098051e+00,  1.52026839e+01,  1.40246466e+01,\n",
       "         9.68587905e+00, -2.00459685e+02,  6.80772727e+02,\n",
       "        -5.78559818e+02],\n",
       "       [ 2.03851343e+01,  3.22083899e+00,  4.02970770e+00,\n",
       "         2.41331310e+00,  1.14759393e+01,  2.65204791e-01,\n",
       "        -9.60624941e+00, -2.89423112e+01,  2.69423112e+01,\n",
       "         1.57367455e+00,  1.29093792e+01,  1.23948429e+00,\n",
       "         1.65661960e+01, -2.19413931e+01,  1.87212068e+00,\n",
       "        -2.79409566e+00, -2.48188866e+00, -5.11453476e+00,\n",
       "        -6.23139476e+00, -1.78447388e+02, -5.78559818e+02,\n",
       "         6.80772727e+02]])"
      ]
     },
     "execution_count": 247,
     "metadata": {},
     "output_type": "execute_result"
    }
   ],
   "source": [
    "x_cov"
   ]
  },
  {
   "cell_type": "code",
   "execution_count": 248,
   "metadata": {},
   "outputs": [],
   "source": [
    "eig_val, eig_vec = np.linalg.eig(x_cov)"
   ]
  },
  {
   "cell_type": "code",
   "execution_count": 249,
   "metadata": {},
   "outputs": [
    {
     "name": "stdout",
     "output_type": "stream",
     "text": [
      "(22,) (22, 22)\n"
     ]
    }
   ],
   "source": [
    "print(eig_val.shape, eig_vec.shape)"
   ]
  },
  {
   "cell_type": "code",
   "execution_count": 250,
   "metadata": {},
   "outputs": [],
   "source": [
    "eig_merged = [[eig_val[i], eig_vec[i]] for i in range(eig_val.shape[0])]"
   ]
  },
  {
   "cell_type": "code",
   "execution_count": 251,
   "metadata": {},
   "outputs": [
    {
     "data": {
      "text/plain": [
       "[[1491.7775486268106,\n",
       "  array([-5.53092491e-02, -5.97962386e-03, -1.88809190e-02,  8.79184761e-02,\n",
       "          6.40854298e-02, -2.96444718e-01,  2.78722992e-01, -2.22384725e-01,\n",
       "          3.53061904e-02, -8.47925285e-02,  3.28534491e-01, -2.16669102e-02,\n",
       "         -1.65547542e-01,  4.81815181e-01,  6.17766507e-01,  2.68340444e-02,\n",
       "          6.55247155e-02, -8.06545564e-02, -1.20169370e-02, -3.60027005e-16,\n",
       "          1.92444676e-16, -5.83161019e-17])],\n",
       " [-14.810166418183258,\n",
       "  array([-1.25660408e-02, -2.15897166e-03,  1.21676223e-02, -5.01479536e-01,\n",
       "         -5.09224285e-02,  3.15569128e-01, -7.01576291e-01, -1.92761988e-02,\n",
       "         -1.18819704e-02, -8.96035658e-02,  1.13498682e-01,  2.86638831e-02,\n",
       "         -1.18557117e-01,  1.99237928e-01,  2.66569713e-01, -2.70978883e-03,\n",
       "          5.17399298e-02, -5.66914127e-02,  2.94455822e-02, -2.26620734e-16,\n",
       "          7.44845943e-18, -6.24214992e-17])],\n",
       " [1401.3872251608364,\n",
       "  array([-1.20561153e-02, -3.61663336e-03,  2.27945565e-02, -5.73134757e-01,\n",
       "         -7.05382373e-02, -7.76641164e-01, -1.86864762e-02,  1.18329372e-01,\n",
       "         -3.05018584e-02, -1.83299335e-02, -1.85937102e-01, -1.43876142e-04,\n",
       "          3.54273481e-02, -5.85427896e-02, -7.23428467e-02, -1.95704471e-02,\n",
       "         -4.42108841e-02,  1.49585196e-02,  4.91760568e-03, -3.11623599e-16,\n",
       "          1.91072456e-16, -1.39970458e-16])],\n",
       " [1247.7496723055895,\n",
       "  array([-1.24791868e-02, -2.99556136e-03,  1.98825072e-02, -5.41719271e-01,\n",
       "         -6.31492480e-02,  4.48623389e-01,  6.37972668e-01,  1.85380619e-01,\n",
       "         -4.61056208e-02, -4.63656031e-02, -1.84683485e-01,  8.07021216e-03,\n",
       "         -6.50154216e-02,  5.83458833e-02,  1.05743958e-01, -5.42605139e-05,\n",
       "          2.36896159e-03, -2.92092557e-02,  3.51268958e-02, -1.67498461e-16,\n",
       "          1.88363485e-16,  5.63389848e-17])],\n",
       " [1217.6496882987774,\n",
       "  array([-1.10545245e-01, -4.64041219e-03,  4.02704413e-02, -3.00268519e-01,\n",
       "         -6.01917858e-02,  5.37166386e-02,  1.27676548e-01, -6.69437006e-01,\n",
       "          1.67541728e-02,  2.17133366e-01,  4.64845476e-01,  3.60843658e-02,\n",
       "          2.53539751e-01, -1.92481529e-01, -2.30359081e-01, -2.36397962e-02,\n",
       "          5.40041295e-02,  4.70286496e-02, -1.11696283e-02, -2.60001162e-16,\n",
       "          1.61623762e-17,  6.17729374e-18])],\n",
       " [372.44481217537805,\n",
       "  array([-5.60952329e-02, -5.20675091e-03, -6.72232393e-03,  2.81540082e-02,\n",
       "         -1.19154098e-02,  4.25897976e-02, -3.76357012e-02,  7.49356923e-02,\n",
       "          2.43359696e-02, -5.85831519e-02, -1.62308586e-01,  3.86826944e-03,\n",
       "          9.07245714e-01,  2.26338811e-01,  2.26046079e-01, -9.15526320e-02,\n",
       "         -2.86619024e-02,  1.47829856e-01, -1.18115081e-02, -3.85199629e-16,\n",
       "          2.83232463e-16, -1.55195246e-16])],\n",
       " [430.41808087167516,\n",
       "  array([-0.32677617, -0.15223816, -0.60279131, -0.02376676,  0.08053991,\n",
       "          0.00594175, -0.0059716 ,  0.02689104,  0.01739043, -0.02068261,\n",
       "          0.00293978, -0.04423602, -0.01435297, -0.03002409, -0.02561837,\n",
       "         -0.00412593, -0.0023053 ,  0.00123792,  0.00378564, -0.68519429,\n",
       "          0.15842124,  0.06443136])],\n",
       " [548.9521511900347,\n",
       "  array([ 0.54259851, -0.26131598, -0.25764156, -0.07771608,  0.28562335,\n",
       "         -0.00135357,  0.00929762,  0.01051208,  0.08391564,  0.17804278,\n",
       "          0.0505518 ,  0.00469575,  0.0369733 ,  0.02293634,  0.01063806,\n",
       "         -0.02591066,  0.01265553,  0.04603538,  0.06976498,  0.17975497,\n",
       "          0.62022742, -0.0581126 ])],\n",
       " [911.7105913905413,\n",
       "  array([-0.54167397, -0.26034082,  0.25816863,  0.08058335, -0.28539686,\n",
       "          0.00246243, -0.01054198, -0.00902459, -0.08526206, -0.17834145,\n",
       "         -0.05169292, -0.00546161, -0.03929064, -0.02375238, -0.0138252 ,\n",
       "          0.02694129, -0.01274914, -0.04617052, -0.07043609,  0.17975497,\n",
       "          0.62022742, -0.0581126 ])],\n",
       " [870.1573366115896,\n",
       "  array([-0.0105476 , -0.2116881 , -0.12822129, -0.01892233,  0.05406963,\n",
       "          0.00320099, -0.01445956, -0.06342611,  0.09930686, -0.05728486,\n",
       "         -0.08995167,  0.03335685,  0.07702737, -0.47360247,  0.36479591,\n",
       "          0.66549665, -0.00992898, -0.03220987, -0.20726145,  0.12720181,\n",
       "         -0.11497895, -0.15064493])],\n",
       " [606.4185921492029,\n",
       "  array([-0.07641218, -0.16698989, -0.09131748,  0.00407135,  0.03528124,\n",
       "          0.02246586, -0.00273443, -0.11168478,  0.03453249, -0.15252237,\n",
       "          0.01499944, -0.01055535, -0.10911861, -0.16572812,  0.16468403,\n",
       "         -0.2622582 , -0.69791874,  0.36421005,  0.34102748,  0.13218794,\n",
       "         -0.10017901, -0.1252588 ])],\n",
       " [805.6957137188372,\n",
       "  array([ 0.23172253, -0.30358067,  0.48430024,  0.01421209, -0.07610906,\n",
       "         -0.00207816,  0.00804329,  0.07329661,  0.03242415,  0.09826972,\n",
       "          0.06777689,  0.3466953 , -0.05791857, -0.04077124,  0.10950343,\n",
       "         -0.05654003, -0.03301778,  0.34186751, -0.27544488, -0.5050704 ,\n",
       "          0.04800107, -0.0639705 ])],\n",
       " [668.5042020555493,\n",
       "  array([ 0.10288683, -0.23850754,  0.22325956,  0.04890205,  0.00519306,\n",
       "         -0.02528311,  0.00474291, -0.04565862,  0.0073128 , -0.04885159,\n",
       "         -0.0373171 ,  0.17288305,  0.12648604, -0.14110929,  0.06679432,\n",
       "         -0.04607533, -0.00087139, -0.64813046,  0.56872179, -0.22007311,\n",
       "         -0.01669147, -0.08882396])],\n",
       " [770.9754467243364,\n",
       "  array([-0.23139896, -0.14484197, -0.02439756, -0.03323229, -0.06060199,\n",
       "         -0.01408634,  0.0122141 ,  0.56532342,  0.3507655 ,  0.40336464,\n",
       "          0.49544687,  0.01569766,  0.06341435,  0.0312553 , -0.05661779,\n",
       "          0.03294002, -0.07723386, -0.06720353,  0.05175315,  0.14238748,\n",
       "         -0.09555049, -0.11489437])],\n",
       " [756.772736853199,\n",
       "  array([-0.09888053, -0.17841835, -0.06421264,  0.02543556, -0.00700387,\n",
       "         -0.02836526,  0.00835171,  0.03468923,  0.07196704, -0.0944372 ,\n",
       "         -0.03033779,  0.01285632, -0.06282524, -0.2058452 ,  0.11782098,\n",
       "         -0.22859389,  0.70061469,  0.40105389,  0.35737003,  0.11596049,\n",
       "         -0.09931778, -0.12841782])],\n",
       " [734.091647879831,\n",
       "  array([-1.66880915e-02, -1.78393812e-01, -1.35372298e-01, -4.81029848e-03,\n",
       "          4.62907974e-02,  1.09405841e-02, -5.56143780e-04, -4.44082194e-02,\n",
       "          9.82952103e-02, -1.74510633e-02, -7.75744479e-02,  6.16098979e-03,\n",
       "         -1.01562294e-02, -2.26119985e-01,  1.52447213e-01, -6.27133355e-01,\n",
       "          3.37188066e-02, -3.52295190e-01, -5.32355236e-01,  1.37519832e-01,\n",
       "         -1.06022595e-01, -1.33233030e-01])],\n",
       " [722.4528498198116,\n",
       "  array([-4.79792173e-02, -3.70162820e-01, -8.95294382e-02,  3.26601487e-02,\n",
       "         -2.14049495e-02,  3.37210362e-04, -3.05595243e-02, -1.58221357e-02,\n",
       "         -7.16627377e-01,  4.20728811e-01, -8.70579871e-02, -8.95323831e-02,\n",
       "         -1.54176441e-02,  1.98343779e-01, -2.37214159e-02,  4.45878701e-02,\n",
       "          3.75545488e-03,  3.51555059e-03, -4.77604529e-03,  8.09463188e-02,\n",
       "         -1.58285020e-01, -2.33815338e-01])],\n",
       " [719.2457109932134,\n",
       "  array([-3.10009090e-02, -2.72310284e-01, -1.99170225e-01, -1.19603465e-02,\n",
       "          4.54559754e-02,  4.99912038e-04,  2.28465456e-02, -1.07407089e-01,\n",
       "          1.83596430e-01, -3.22888644e-01, -6.54528476e-02,  5.44355989e-01,\n",
       "         -2.15387761e-02,  3.97073990e-01, -3.89298118e-01,  1.30035818e-01,\n",
       "          9.60779008e-03, -1.24411106e-02, -7.14029794e-02,  1.69392702e-01,\n",
       "         -1.50221832e-01, -1.95921375e-01])],\n",
       " [715.4061595929668,\n",
       "  array([ 0.13945302, -0.3616528 ,  0.16635072, -0.03601254, -0.02738282,\n",
       "          0.02095692,  0.00341004, -0.07143095,  0.2571471 , -0.23316453,\n",
       "          0.00302288, -0.73409332,  0.01091188,  0.18302681, -0.21514151,\n",
       "          0.07614514,  0.01387097, -0.00168098, -0.05675071, -0.12355263,\n",
       "         -0.09173287, -0.1833531 ])],\n",
       " [1.8287830663996218e-12,\n",
       "  array([-0.14500378, -0.16106253,  0.04255019,  0.0205414 , -0.05854209,\n",
       "          0.02000643, -0.04710202, -0.26784653,  0.43187794,  0.52808622,\n",
       "         -0.49571751,  0.00429767, -0.12024227,  0.16823537,  0.07727841,\n",
       "          0.01237479, -0.0159268 ,  0.01701759,  0.07295284,  0.05821989,\n",
       "         -0.1113126 ,  0.31843662])],\n",
       " [-3.4238415084380013e-13,\n",
       "  array([ 0.26957995, -0.29006243, -0.22361993,  0.05539382, -0.60822994,\n",
       "         -0.01459929,  0.02420369,  0.05921333, -0.09650211, -0.14906921,\n",
       "          0.16285268,  0.01053348,  0.03209228, -0.04854727,  0.01704092,\n",
       "         -0.00772467, -0.00481077, -0.01648972, -0.0014836 ,  0.10579083,\n",
       "         -0.2022651 ,  0.57862826])],\n",
       " [-9.051517166752303e-13,\n",
       "  array([-1.90437385e-01, -2.86747866e-01,  2.02823877e-01, -6.36683752e-02,\n",
       "          6.46958503e-01,  5.04633935e-03,  1.38531380e-04,  9.09552891e-02,\n",
       "         -1.44271618e-01, -1.43310586e-01,  1.09559926e-01, -1.40062565e-02,\n",
       "          3.14392553e-02, -4.55121966e-02, -6.42362730e-02,  2.24530758e-03,\n",
       "          1.35875589e-02,  7.02028066e-03, -3.99009151e-02,  1.04773189e-01,\n",
       "         -2.00319431e-01,  5.73062196e-01])]]"
      ]
     },
     "execution_count": 251,
     "metadata": {},
     "output_type": "execute_result"
    }
   ],
   "source": [
    "eig_merged"
   ]
  },
  {
   "cell_type": "code",
   "execution_count": 253,
   "metadata": {},
   "outputs": [],
   "source": [
    "eig_merged.sort(key=lambda x:x[0],reverse=True)"
   ]
  },
  {
   "cell_type": "code",
   "execution_count": 254,
   "metadata": {},
   "outputs": [
    {
     "data": {
      "text/plain": [
       "[[1491.7775486268106,\n",
       "  array([-5.53092491e-02, -5.97962386e-03, -1.88809190e-02,  8.79184761e-02,\n",
       "          6.40854298e-02, -2.96444718e-01,  2.78722992e-01, -2.22384725e-01,\n",
       "          3.53061904e-02, -8.47925285e-02,  3.28534491e-01, -2.16669102e-02,\n",
       "         -1.65547542e-01,  4.81815181e-01,  6.17766507e-01,  2.68340444e-02,\n",
       "          6.55247155e-02, -8.06545564e-02, -1.20169370e-02, -3.60027005e-16,\n",
       "          1.92444676e-16, -5.83161019e-17])],\n",
       " [1401.3872251608364,\n",
       "  array([-1.20561153e-02, -3.61663336e-03,  2.27945565e-02, -5.73134757e-01,\n",
       "         -7.05382373e-02, -7.76641164e-01, -1.86864762e-02,  1.18329372e-01,\n",
       "         -3.05018584e-02, -1.83299335e-02, -1.85937102e-01, -1.43876142e-04,\n",
       "          3.54273481e-02, -5.85427896e-02, -7.23428467e-02, -1.95704471e-02,\n",
       "         -4.42108841e-02,  1.49585196e-02,  4.91760568e-03, -3.11623599e-16,\n",
       "          1.91072456e-16, -1.39970458e-16])],\n",
       " [1247.7496723055895,\n",
       "  array([-1.24791868e-02, -2.99556136e-03,  1.98825072e-02, -5.41719271e-01,\n",
       "         -6.31492480e-02,  4.48623389e-01,  6.37972668e-01,  1.85380619e-01,\n",
       "         -4.61056208e-02, -4.63656031e-02, -1.84683485e-01,  8.07021216e-03,\n",
       "         -6.50154216e-02,  5.83458833e-02,  1.05743958e-01, -5.42605139e-05,\n",
       "          2.36896159e-03, -2.92092557e-02,  3.51268958e-02, -1.67498461e-16,\n",
       "          1.88363485e-16,  5.63389848e-17])],\n",
       " [1217.6496882987774,\n",
       "  array([-1.10545245e-01, -4.64041219e-03,  4.02704413e-02, -3.00268519e-01,\n",
       "         -6.01917858e-02,  5.37166386e-02,  1.27676548e-01, -6.69437006e-01,\n",
       "          1.67541728e-02,  2.17133366e-01,  4.64845476e-01,  3.60843658e-02,\n",
       "          2.53539751e-01, -1.92481529e-01, -2.30359081e-01, -2.36397962e-02,\n",
       "          5.40041295e-02,  4.70286496e-02, -1.11696283e-02, -2.60001162e-16,\n",
       "          1.61623762e-17,  6.17729374e-18])],\n",
       " [911.7105913905413,\n",
       "  array([-0.54167397, -0.26034082,  0.25816863,  0.08058335, -0.28539686,\n",
       "          0.00246243, -0.01054198, -0.00902459, -0.08526206, -0.17834145,\n",
       "         -0.05169292, -0.00546161, -0.03929064, -0.02375238, -0.0138252 ,\n",
       "          0.02694129, -0.01274914, -0.04617052, -0.07043609,  0.17975497,\n",
       "          0.62022742, -0.0581126 ])],\n",
       " [870.1573366115896,\n",
       "  array([-0.0105476 , -0.2116881 , -0.12822129, -0.01892233,  0.05406963,\n",
       "          0.00320099, -0.01445956, -0.06342611,  0.09930686, -0.05728486,\n",
       "         -0.08995167,  0.03335685,  0.07702737, -0.47360247,  0.36479591,\n",
       "          0.66549665, -0.00992898, -0.03220987, -0.20726145,  0.12720181,\n",
       "         -0.11497895, -0.15064493])],\n",
       " [805.6957137188372,\n",
       "  array([ 0.23172253, -0.30358067,  0.48430024,  0.01421209, -0.07610906,\n",
       "         -0.00207816,  0.00804329,  0.07329661,  0.03242415,  0.09826972,\n",
       "          0.06777689,  0.3466953 , -0.05791857, -0.04077124,  0.10950343,\n",
       "         -0.05654003, -0.03301778,  0.34186751, -0.27544488, -0.5050704 ,\n",
       "          0.04800107, -0.0639705 ])],\n",
       " [770.9754467243364,\n",
       "  array([-0.23139896, -0.14484197, -0.02439756, -0.03323229, -0.06060199,\n",
       "         -0.01408634,  0.0122141 ,  0.56532342,  0.3507655 ,  0.40336464,\n",
       "          0.49544687,  0.01569766,  0.06341435,  0.0312553 , -0.05661779,\n",
       "          0.03294002, -0.07723386, -0.06720353,  0.05175315,  0.14238748,\n",
       "         -0.09555049, -0.11489437])],\n",
       " [756.772736853199,\n",
       "  array([-0.09888053, -0.17841835, -0.06421264,  0.02543556, -0.00700387,\n",
       "         -0.02836526,  0.00835171,  0.03468923,  0.07196704, -0.0944372 ,\n",
       "         -0.03033779,  0.01285632, -0.06282524, -0.2058452 ,  0.11782098,\n",
       "         -0.22859389,  0.70061469,  0.40105389,  0.35737003,  0.11596049,\n",
       "         -0.09931778, -0.12841782])],\n",
       " [734.091647879831,\n",
       "  array([-1.66880915e-02, -1.78393812e-01, -1.35372298e-01, -4.81029848e-03,\n",
       "          4.62907974e-02,  1.09405841e-02, -5.56143780e-04, -4.44082194e-02,\n",
       "          9.82952103e-02, -1.74510633e-02, -7.75744479e-02,  6.16098979e-03,\n",
       "         -1.01562294e-02, -2.26119985e-01,  1.52447213e-01, -6.27133355e-01,\n",
       "          3.37188066e-02, -3.52295190e-01, -5.32355236e-01,  1.37519832e-01,\n",
       "         -1.06022595e-01, -1.33233030e-01])],\n",
       " [722.4528498198116,\n",
       "  array([-4.79792173e-02, -3.70162820e-01, -8.95294382e-02,  3.26601487e-02,\n",
       "         -2.14049495e-02,  3.37210362e-04, -3.05595243e-02, -1.58221357e-02,\n",
       "         -7.16627377e-01,  4.20728811e-01, -8.70579871e-02, -8.95323831e-02,\n",
       "         -1.54176441e-02,  1.98343779e-01, -2.37214159e-02,  4.45878701e-02,\n",
       "          3.75545488e-03,  3.51555059e-03, -4.77604529e-03,  8.09463188e-02,\n",
       "         -1.58285020e-01, -2.33815338e-01])],\n",
       " [719.2457109932134,\n",
       "  array([-3.10009090e-02, -2.72310284e-01, -1.99170225e-01, -1.19603465e-02,\n",
       "          4.54559754e-02,  4.99912038e-04,  2.28465456e-02, -1.07407089e-01,\n",
       "          1.83596430e-01, -3.22888644e-01, -6.54528476e-02,  5.44355989e-01,\n",
       "         -2.15387761e-02,  3.97073990e-01, -3.89298118e-01,  1.30035818e-01,\n",
       "          9.60779008e-03, -1.24411106e-02, -7.14029794e-02,  1.69392702e-01,\n",
       "         -1.50221832e-01, -1.95921375e-01])],\n",
       " [715.4061595929668,\n",
       "  array([ 0.13945302, -0.3616528 ,  0.16635072, -0.03601254, -0.02738282,\n",
       "          0.02095692,  0.00341004, -0.07143095,  0.2571471 , -0.23316453,\n",
       "          0.00302288, -0.73409332,  0.01091188,  0.18302681, -0.21514151,\n",
       "          0.07614514,  0.01387097, -0.00168098, -0.05675071, -0.12355263,\n",
       "         -0.09173287, -0.1833531 ])],\n",
       " [668.5042020555493,\n",
       "  array([ 0.10288683, -0.23850754,  0.22325956,  0.04890205,  0.00519306,\n",
       "         -0.02528311,  0.00474291, -0.04565862,  0.0073128 , -0.04885159,\n",
       "         -0.0373171 ,  0.17288305,  0.12648604, -0.14110929,  0.06679432,\n",
       "         -0.04607533, -0.00087139, -0.64813046,  0.56872179, -0.22007311,\n",
       "         -0.01669147, -0.08882396])],\n",
       " [606.4185921492029,\n",
       "  array([-0.07641218, -0.16698989, -0.09131748,  0.00407135,  0.03528124,\n",
       "          0.02246586, -0.00273443, -0.11168478,  0.03453249, -0.15252237,\n",
       "          0.01499944, -0.01055535, -0.10911861, -0.16572812,  0.16468403,\n",
       "         -0.2622582 , -0.69791874,  0.36421005,  0.34102748,  0.13218794,\n",
       "         -0.10017901, -0.1252588 ])],\n",
       " [548.9521511900347,\n",
       "  array([ 0.54259851, -0.26131598, -0.25764156, -0.07771608,  0.28562335,\n",
       "         -0.00135357,  0.00929762,  0.01051208,  0.08391564,  0.17804278,\n",
       "          0.0505518 ,  0.00469575,  0.0369733 ,  0.02293634,  0.01063806,\n",
       "         -0.02591066,  0.01265553,  0.04603538,  0.06976498,  0.17975497,\n",
       "          0.62022742, -0.0581126 ])],\n",
       " [430.41808087167516,\n",
       "  array([-0.32677617, -0.15223816, -0.60279131, -0.02376676,  0.08053991,\n",
       "          0.00594175, -0.0059716 ,  0.02689104,  0.01739043, -0.02068261,\n",
       "          0.00293978, -0.04423602, -0.01435297, -0.03002409, -0.02561837,\n",
       "         -0.00412593, -0.0023053 ,  0.00123792,  0.00378564, -0.68519429,\n",
       "          0.15842124,  0.06443136])],\n",
       " [372.44481217537805,\n",
       "  array([-5.60952329e-02, -5.20675091e-03, -6.72232393e-03,  2.81540082e-02,\n",
       "         -1.19154098e-02,  4.25897976e-02, -3.76357012e-02,  7.49356923e-02,\n",
       "          2.43359696e-02, -5.85831519e-02, -1.62308586e-01,  3.86826944e-03,\n",
       "          9.07245714e-01,  2.26338811e-01,  2.26046079e-01, -9.15526320e-02,\n",
       "         -2.86619024e-02,  1.47829856e-01, -1.18115081e-02, -3.85199629e-16,\n",
       "          2.83232463e-16, -1.55195246e-16])],\n",
       " [1.8287830663996218e-12,\n",
       "  array([-0.14500378, -0.16106253,  0.04255019,  0.0205414 , -0.05854209,\n",
       "          0.02000643, -0.04710202, -0.26784653,  0.43187794,  0.52808622,\n",
       "         -0.49571751,  0.00429767, -0.12024227,  0.16823537,  0.07727841,\n",
       "          0.01237479, -0.0159268 ,  0.01701759,  0.07295284,  0.05821989,\n",
       "         -0.1113126 ,  0.31843662])],\n",
       " [-3.4238415084380013e-13,\n",
       "  array([ 0.26957995, -0.29006243, -0.22361993,  0.05539382, -0.60822994,\n",
       "         -0.01459929,  0.02420369,  0.05921333, -0.09650211, -0.14906921,\n",
       "          0.16285268,  0.01053348,  0.03209228, -0.04854727,  0.01704092,\n",
       "         -0.00772467, -0.00481077, -0.01648972, -0.0014836 ,  0.10579083,\n",
       "         -0.2022651 ,  0.57862826])],\n",
       " [-9.051517166752303e-13,\n",
       "  array([-1.90437385e-01, -2.86747866e-01,  2.02823877e-01, -6.36683752e-02,\n",
       "          6.46958503e-01,  5.04633935e-03,  1.38531380e-04,  9.09552891e-02,\n",
       "         -1.44271618e-01, -1.43310586e-01,  1.09559926e-01, -1.40062565e-02,\n",
       "          3.14392553e-02, -4.55121966e-02, -6.42362730e-02,  2.24530758e-03,\n",
       "          1.35875589e-02,  7.02028066e-03, -3.99009151e-02,  1.04773189e-01,\n",
       "         -2.00319431e-01,  5.73062196e-01])],\n",
       " [-14.810166418183258,\n",
       "  array([-1.25660408e-02, -2.15897166e-03,  1.21676223e-02, -5.01479536e-01,\n",
       "         -5.09224285e-02,  3.15569128e-01, -7.01576291e-01, -1.92761988e-02,\n",
       "         -1.18819704e-02, -8.96035658e-02,  1.13498682e-01,  2.86638831e-02,\n",
       "         -1.18557117e-01,  1.99237928e-01,  2.66569713e-01, -2.70978883e-03,\n",
       "          5.17399298e-02, -5.66914127e-02,  2.94455822e-02, -2.26620734e-16,\n",
       "          7.44845943e-18, -6.24214992e-17])]]"
      ]
     },
     "execution_count": 254,
     "metadata": {},
     "output_type": "execute_result"
    }
   ],
   "source": [
    "eig_merged"
   ]
  },
  {
   "cell_type": "code",
   "execution_count": 286,
   "metadata": {
    "scrolled": true
   },
   "outputs": [
    {
     "data": {
      "text/plain": [
       "0.9107294599840484"
      ]
     },
     "execution_count": 286,
     "metadata": {},
     "output_type": "execute_result"
    }
   ],
   "source": [
    "np.array(eig_merged)[:-7,0].sum()/np.array(eig_merged)[:,0].sum()"
   ]
  },
  {
   "cell_type": "code",
   "execution_count": 291,
   "metadata": {},
   "outputs": [
    {
     "data": {
      "text/plain": [
       "(15, 22)"
      ]
     },
     "execution_count": 291,
     "metadata": {},
     "output_type": "execute_result"
    }
   ],
   "source": [
    "np.shape(eig_vec[:-7][:])"
   ]
  },
  {
   "cell_type": "code",
   "execution_count": 299,
   "metadata": {},
   "outputs": [],
   "source": [
    "pca_transfrom = eig_vec[:-7][:]"
   ]
  },
  {
   "cell_type": "code",
   "execution_count": 301,
   "metadata": {},
   "outputs": [
    {
     "data": {
      "text/plain": [
       "(14999, 15)"
      ]
     },
     "execution_count": 301,
     "metadata": {},
     "output_type": "execute_result"
    }
   ],
   "source": [
    "data_pca_preprocessed = np.matmul(x_data_std, pca_transfrom.T)\n",
    "data_pca_preprocessed.shape"
   ]
  },
  {
   "cell_type": "code",
   "execution_count": 303,
   "metadata": {},
   "outputs": [],
   "source": [
    "from sklearn.model_selection import train_test_split\n",
    "x_train_pca, x_test_pca, y_train_pca, y_test_pca = \\\n",
    "    train_test_split(data_pca_preprocessed,y_data)"
   ]
  },
  {
   "cell_type": "markdown",
   "metadata": {},
   "source": [
    "# PCA 처리 후 NN 모델링"
   ]
  },
  {
   "cell_type": "code",
   "execution_count": 304,
   "metadata": {},
   "outputs": [
    {
     "name": "stdout",
     "output_type": "stream",
     "text": [
      "0.8242319\n",
      "0.28227645\n",
      "0.21164858\n",
      "0.19877125\n",
      "0.19166899\n",
      "0.18549183\n",
      "accuracy : 0.9053333401679993\n"
     ]
    }
   ],
   "source": [
    "threshold = 0.8\n",
    "lr = 0.02\n",
    "\n",
    "x = tf.placeholder(dtype=tf.float32, shape=[None,15])\n",
    "y = tf.placeholder(dtype=tf.float32, shape=[None,1])\n",
    "w1 = tf.Variable(tf.random_normal([15,15]))\n",
    "b1 = tf.Variable(tf.random_uniform([15]))\n",
    "hl = tf.sigmoid(tf.matmul(x,w1) + b1)\n",
    "\n",
    "w2 = tf.Variable(tf.random_normal([15,1]))\n",
    "b2 = tf.Variable(tf.random_uniform([1]))\n",
    "hf = tf.sigmoid(tf.matmul(hl,w2) + b2)\n",
    "\n",
    "cost = -tf.reduce_mean(y*tf.log(hf) + (1-y)*tf.log(1-hf))\n",
    "\n",
    "mypred = tf.cast(hf > threshold, dtype = tf.float32)\n",
    "accuracy = tf.reduce_mean(tf.cast(tf.equal(mypred,y), dtype=tf.float32))\n",
    "\n",
    "train = tf.train.GradientDescentOptimizer(lr).minimize(cost)\n",
    "\n",
    "with tf.Session() as sess:\n",
    "    init = tf.global_variables_initializer()\n",
    "    sess.run(init)\n",
    "    for step in range(100001):\n",
    "        sess.run(train, feed_dict={x:x_train_pca,y:y_train_pca})\n",
    "        if step%20000==0:\n",
    "            cv = sess.run(cost, feed_dict={x:x_train_pca,y:y_train_pca})\n",
    "            print(cv)\n",
    "    pred = sess.run(mypred, feed_dict={x:x_test_pca})\n",
    "#     print(mypred.mean())\n",
    "    print(\"accuracy : {}\".format(sess.run(accuracy, feed_dict={x:x_test_pca,y:y_test_pca})))"
   ]
  },
  {
   "cell_type": "code",
   "execution_count": null,
   "metadata": {},
   "outputs": [],
   "source": [
    "# PCA를 했더니 결과가 더 떨어짐"
   ]
  },
  {
   "cell_type": "code",
   "execution_count": 262,
   "metadata": {},
   "outputs": [
    {
     "data": {
      "text/plain": [
       "array([1491.72223938, 1491.771569  , 1491.75866771, 1491.8654671 ,\n",
       "       1491.84163406, 1491.48110391, 1492.05627162, 1491.5551639 ,\n",
       "       1491.81285482, 1491.6927561 , 1492.10608312, 1491.75588172,\n",
       "       1491.61200109, 1492.25936381, 1492.39531513, 1491.80438267,\n",
       "       1491.84307334, 1491.69689407, 1491.76553169, 1491.77754863,\n",
       "       1491.77754863, 1491.77754863])"
      ]
     },
     "execution_count": 262,
     "metadata": {},
     "output_type": "execute_result"
    }
   ],
   "source": [
    "np.sum(eig_merged[0])"
   ]
  },
  {
   "cell_type": "code",
   "execution_count": 113,
   "metadata": {},
   "outputs": [],
   "source": [
    "a = np.array([[1,2,3],[4,5,6],[22,3,3],[3,4,4],[12,3,1]])"
   ]
  },
  {
   "cell_type": "code",
   "execution_count": 95,
   "metadata": {},
   "outputs": [
    {
     "name": "stderr",
     "output_type": "stream",
     "text": [
      "C:\\Users\\user\\Anaconda3\\lib\\site-packages\\sklearn\\utils\\validation.py:595: DataConversionWarning: Data with input dtype int32 was converted to float64 by StandardScaler.\n",
      "  warnings.warn(msg, DataConversionWarning)\n",
      "C:\\Users\\user\\Anaconda3\\lib\\site-packages\\sklearn\\utils\\validation.py:595: DataConversionWarning: Data with input dtype int32 was converted to float64 by StandardScaler.\n",
      "  warnings.warn(msg, DataConversionWarning)\n"
     ]
    },
    {
     "data": {
      "text/plain": [
       "array([[-0.95343093, -1.37281295, -0.24618298],\n",
       "       [-0.56690488,  1.56892908,  1.60018938],\n",
       "       [ 1.75225144, -0.39223227, -0.24618298],\n",
       "       [-0.6957469 ,  0.58834841,  0.36927447],\n",
       "       [ 0.46383126, -0.39223227, -1.47709789]])"
      ]
     },
     "execution_count": 95,
     "metadata": {},
     "output_type": "execute_result"
    }
   ],
   "source": [
    "StandardScaler().fit_transform(a)"
   ]
  },
  {
   "cell_type": "code",
   "execution_count": null,
   "metadata": {},
   "outputs": [],
   "source": []
  }
 ],
 "metadata": {
  "kernelspec": {
   "display_name": "Python 3",
   "language": "python",
   "name": "python3"
  },
  "language_info": {
   "codemirror_mode": {
    "name": "ipython",
    "version": 3
   },
   "file_extension": ".py",
   "mimetype": "text/x-python",
   "name": "python",
   "nbconvert_exporter": "python",
   "pygments_lexer": "ipython3",
   "version": "3.7.3"
  }
 },
 "nbformat": 4,
 "nbformat_minor": 2
}
