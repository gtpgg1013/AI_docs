{
 "cells": [
  {
   "cell_type": "code",
   "execution_count": 1,
   "metadata": {},
   "outputs": [],
   "source": [
    "import tensorflow as tf"
   ]
  },
  {
   "cell_type": "code",
   "execution_count": 2,
   "metadata": {},
   "outputs": [
    {
     "data": {
      "text/plain": [
       "<tf.Tensor 'range:0' shape=(5,) dtype=int32>"
      ]
     },
     "execution_count": 2,
     "metadata": {},
     "output_type": "execute_result"
    }
   ],
   "source": [
    "tf.range(5)"
   ]
  },
  {
   "cell_type": "code",
   "execution_count": 4,
   "metadata": {},
   "outputs": [
    {
     "data": {
      "text/plain": [
       "<tf.Tensor 'LinSpace_1:0' shape=(11,) dtype=float32>"
      ]
     },
     "execution_count": 4,
     "metadata": {},
     "output_type": "execute_result"
    }
   ],
   "source": [
    "tf.linspace(0.,5,11) # staring number should be floating number"
   ]
  },
  {
   "cell_type": "code",
   "execution_count": 5,
   "metadata": {},
   "outputs": [
    {
     "data": {
      "text/plain": [
       "<tf.Tensor 'zeros:0' shape=(2, 3) dtype=float32>"
      ]
     },
     "execution_count": 5,
     "metadata": {},
     "output_type": "execute_result"
    }
   ],
   "source": [
    "tf.zeros((2,3)) # 상수 텐서"
   ]
  },
  {
   "cell_type": "code",
   "execution_count": 6,
   "metadata": {},
   "outputs": [
    {
     "data": {
      "text/plain": [
       "<tf.Tensor 'ones:0' shape=(2, 3) dtype=float32>"
      ]
     },
     "execution_count": 6,
     "metadata": {},
     "output_type": "execute_result"
    }
   ],
   "source": [
    "tf.ones((2,3))"
   ]
  },
  {
   "cell_type": "code",
   "execution_count": 7,
   "metadata": {},
   "outputs": [
    {
     "data": {
      "text/plain": [
       "<tf.Tensor 'Fill:0' shape=(3, 3) dtype=int32>"
      ]
     },
     "execution_count": 7,
     "metadata": {},
     "output_type": "execute_result"
    }
   ],
   "source": [
    "tf.fill([3,3], 5)"
   ]
  },
  {
   "cell_type": "code",
   "execution_count": 9,
   "metadata": {},
   "outputs": [
    {
     "data": {
      "text/plain": [
       "<tf.Tensor 'zeros_like_1:0' shape=(2, 3) dtype=int32>"
      ]
     },
     "execution_count": 9,
     "metadata": {},
     "output_type": "execute_result"
    }
   ],
   "source": [
    "x = tf.Variable([[1,2,3],[2,2,2]])\n",
    "\n",
    "tf.zeros_like(x) #이렇게 하면 x랑 shape는 똑같은, 내용은 0 배열 생성"
   ]
  },
  {
   "cell_type": "code",
   "execution_count": 14,
   "metadata": {},
   "outputs": [
    {
     "data": {
      "text/plain": [
       "<tf.Tensor 'RandomShuffle_1:0' shape=(4,) dtype=int32>"
      ]
     },
     "execution_count": 14,
     "metadata": {},
     "output_type": "execute_result"
    }
   ],
   "source": [
    "tf.set_random_seed(777)\n",
    "tf.random.shuffle([1,2,3,4])\n",
    "# shuffle?\n",
    "# tensorflow.org site api 확인"
   ]
  },
  {
   "cell_type": "code",
   "execution_count": 15,
   "metadata": {},
   "outputs": [
    {
     "data": {
      "text/plain": [
       "<tf.Tensor 'Reshape:0' shape=(3, 2) dtype=int32>"
      ]
     },
     "execution_count": 15,
     "metadata": {},
     "output_type": "execute_result"
    }
   ],
   "source": [
    "tf.reshape(x,[3,2])"
   ]
  },
  {
   "cell_type": "code",
   "execution_count": 16,
   "metadata": {},
   "outputs": [
    {
     "data": {
      "text/plain": [
       "<tf.Tensor 'transpose:0' shape=(3, 2) dtype=int32>"
      ]
     },
     "execution_count": 16,
     "metadata": {},
     "output_type": "execute_result"
    }
   ],
   "source": [
    "tf.transpose(x)"
   ]
  },
  {
   "cell_type": "code",
   "execution_count": 21,
   "metadata": {},
   "outputs": [
    {
     "name": "stdout",
     "output_type": "stream",
     "text": [
      "[[ 0  1  2  3]\n",
      " [ 4  5  6  7]\n",
      " [ 8  9 10 11]]\n",
      "[3 2 1 4]\n"
     ]
    }
   ],
   "source": [
    "r0 = tf.reshape(tf.range(12), (3,4))\n",
    "sess = tf.Session()\n",
    "print(sess.run(r0))\n",
    "tmp = tf.random.shuffle([1,2,3,4])\n",
    "print(sess.run(tmp)) # shuffled"
   ]
  },
  {
   "cell_type": "code",
   "execution_count": 22,
   "metadata": {},
   "outputs": [
    {
     "data": {
      "text/plain": [
       "array([[1, 2, 3],\n",
       "       [5, 6, 7]])"
      ]
     },
     "execution_count": 22,
     "metadata": {},
     "output_type": "execute_result"
    }
   ],
   "source": [
    "r1 = tf.slice(r0,[0,1],[2,3])\n",
    "sess.run(r1)"
   ]
  },
  {
   "cell_type": "code",
   "execution_count": 24,
   "metadata": {},
   "outputs": [
    {
     "name": "stdout",
     "output_type": "stream",
     "text": [
      "[[0 1]\n",
      " [4 5]\n",
      " [8 9]] [[ 2  3]\n",
      " [ 6  7]\n",
      " [10 11]]\n"
     ]
    }
   ],
   "source": [
    "s1, s2 = tf.split(r0, num_or_size_splits=2, axis=1)\n",
    "print(sess.run(s1), sess.run(s2))"
   ]
  },
  {
   "cell_type": "code",
   "execution_count": 26,
   "metadata": {},
   "outputs": [
    {
     "name": "stdout",
     "output_type": "stream",
     "text": [
      "[[0 1 2]\n",
      " [3 4 5]] [[ 6  7  8]\n",
      " [ 9 10 11]]\n"
     ]
    }
   ],
   "source": [
    "r0 = tf.reshape(tf.range(12), (4,3))\n",
    "s1, s2 = tf.split(r0, num_or_size_splits=2, axis=0)\n",
    "print(sess.run(s1), sess.run(s2))"
   ]
  },
  {
   "cell_type": "code",
   "execution_count": 30,
   "metadata": {},
   "outputs": [
    {
     "name": "stdout",
     "output_type": "stream",
     "text": [
      "[2 3 4 5 6 7]\n",
      "[-2 -1  0  1  2  3]\n",
      "[ 0  2  4  6  8 10]\n",
      "[0.  0.5 1.  1.5 2.  2.5]\n"
     ]
    }
   ],
   "source": [
    "a = tf.range(6, dtype=tf.int32)\n",
    "b = 2*tf.ones(6, dtype=tf.int32)\n",
    "print(sess.run(tf.add(a,b)))\n",
    "print(sess.run(tf.subtract(a,b)))\n",
    "print(sess.run(tf.multiply(a,b)))\n",
    "print(sess.run(tf.divide(a,b)))"
   ]
  },
  {
   "cell_type": "code",
   "execution_count": 32,
   "metadata": {},
   "outputs": [],
   "source": [
    "# tf.abs()\n",
    "# tf.square()\n",
    "# tf.cumsum()\n",
    "# tf.sqrt()\n",
    "# tf.maximum()\n",
    "# tf.minimum()"
   ]
  },
  {
   "cell_type": "code",
   "execution_count": 33,
   "metadata": {},
   "outputs": [],
   "source": [
    "# tf.reduce_mean() # axis 설정된 축을 기준으로 평균 구하게 됨\n",
    "# tf.reduce_sum()\n",
    "# tf.reduce_min()\n",
    "# tf.reduce_max()"
   ]
  },
  {
   "cell_type": "code",
   "execution_count": 36,
   "metadata": {},
   "outputs": [
    {
     "name": "stdout",
     "output_type": "stream",
     "text": [
      "[[2. 2.]\n",
      " [1. 1.]]\n"
     ]
    }
   ],
   "source": [
    "x = tf.constant([[2.,0.],[0.,1.]])\n",
    "y = tf.constant([[1.,1.],[1.,1.]])\n",
    "z = tf.matmul(x,y)\n",
    "print(sess.run(z))"
   ]
  },
  {
   "cell_type": "code",
   "execution_count": 37,
   "metadata": {},
   "outputs": [
    {
     "name": "stdout",
     "output_type": "stream",
     "text": [
      "[[2. 0.]\n",
      " [0. 1.]]\n"
     ]
    }
   ],
   "source": [
    "xinv = tf.linalg.inv(x) # float type이어야 함\n",
    "print(sess.run(x))"
   ]
  },
  {
   "cell_type": "code",
   "execution_count": 138,
   "metadata": {},
   "outputs": [
    {
     "name": "stdout",
     "output_type": "stream",
     "text": [
      "w :  [[0.6689601]] b :  [[0.3961314]]\n",
      "cost :  0.077295184\n",
      "step 1: \n",
      "w :  [[0.6720721]] b :  [[0.39482957]]\n",
      "cost :  0.07616696\n",
      "step 2: \n",
      "w :  [[0.67510647]] b :  [[0.39349154]]\n",
      "cost :  0.07507623\n",
      "step 3: \n",
      "w :  [[0.67806643]] b :  [[0.3921196]]\n",
      "cost :  0.07402023\n"
     ]
    }
   ],
   "source": [
    "tf.set_random_seed(777)\n",
    "# 회귀모델 (hf=wx+b)\n",
    "## 그래프 생성 부분\n",
    "xtrain = np.arange(3).reshape(-1,1)\n",
    "ytrain = np.arange(3).reshape(-1,1)\n",
    "x = tf.placeholder(dtype=tf.float32, shape=[None,1])\n",
    "y = tf.placeholder(dtype=tf.float32, shape=[None,1])\n",
    "b = tf.Variable(tf.random_uniform([1,1]), name='bias') # 이렇게 해야 2차원으로 만들어지네!\n",
    "w = tf.Variable(tf.random_uniform([1,1]), name='weight')\n",
    "hf = tf.matmul(x,w) + b\n",
    "cost = tf.reduce_mean(tf.square(hf-y))\n",
    "# 해봤듯이, 만약 직접 구현해보고 싶으면 grad = tf.reduce_mean((hf-ytrain)*x) 해서 for문 돌리면됨\n",
    "# 아 reduce_mean을 하면 row/col 별로 mean을 계산하기 때문에 차원이 줄어드는(reduce)구나!\n",
    "\n",
    "# opt = tf.train.GradientDescentOptimizer(0.01)\n",
    "# train = opt.minimize(cost)\n",
    "\n",
    "## 최적화기 생성 부분\n",
    "\n",
    "train = tf.train.GradientDescentOptimizer(0.01).minimize(cost)\n",
    "\n",
    "## 그래프 실행 부분\n",
    "sess = tf.Session() # 세션 생성\n",
    "sess.run(tf.global_variables_initializer()) # 변수 초기화\n",
    "\n",
    "## 트레이닝\n",
    "# for step in range(2001):\n",
    "print(\"w : \",sess.run(w),\"b : \",sess.run(b))\n",
    "print(\"cost : \",sess.run(cost, feed_dict={x:xtrain,y:ytrain}))\n",
    "sess.run(train, feed_dict={x:xtrain,y:ytrain})\n",
    "print(\"step 1: \")\n",
    "print(\"w : \",sess.run(w),\"b : \",sess.run(b))\n",
    "print(\"cost : \",sess.run(cost, feed_dict={x:xtrain,y:ytrain}))\n",
    "sess.run(train, feed_dict={x:xtrain,y:ytrain})\n",
    "print(\"step 2: \")\n",
    "print(\"w : \",sess.run(w),\"b : \",sess.run(b))\n",
    "print(\"cost : \",sess.run(cost, feed_dict={x:xtrain,y:ytrain}))\n",
    "sess.run(train, feed_dict={x:xtrain,y:ytrain})\n",
    "print(\"step 3: \")\n",
    "print(\"w : \",sess.run(w),\"b : \",sess.run(b))\n",
    "print(\"cost : \",sess.run(cost, feed_dict={x:xtrain,y:ytrain}))\n",
    "    "
   ]
  },
  {
   "cell_type": "code",
   "execution_count": 139,
   "metadata": {},
   "outputs": [
    {
     "name": "stdout",
     "output_type": "stream",
     "text": [
      "step :  0 w :  [[0.6809552]] b :  [[0.39071587]]\n",
      "cost :  0.072996475\n",
      "step :  200 w :  [[0.90394753]] b :  [[0.13326271]]\n",
      "cost :  0.0075353174\n",
      "step :  400 w :  [[0.9686635]] b :  [[0.04347714]]\n",
      "cost :  0.00080204505\n",
      "step :  600 w :  [[0.98977655]] b :  [[0.01418428]]\n",
      "cost :  8.5367676e-05\n",
      "step :  800 w :  [[0.99666464]] b :  [[0.0046276]]\n",
      "cost :  9.086312e-06\n",
      "step :  1000 w :  [[0.9989119]] b :  [[0.00150965]]\n",
      "cost :  9.66978e-07\n",
      "step :  1200 w :  [[0.999645]] b :  [[0.00049251]]\n",
      "cost :  1.02924524e-07\n",
      "step :  1400 w :  [[0.99988407]] b :  [[0.00016074]]\n",
      "cost :  1.0970804e-08\n",
      "step :  1600 w :  [[0.9999621]] b :  [[5.2693584e-05]]\n",
      "cost :  1.1766532e-09\n",
      "step :  1800 w :  [[0.9999868]] b :  [[1.7631746e-05]]\n",
      "cost :  1.3535426e-10\n",
      "step :  2000 w :  [[0.9999956]] b :  [[5.884765e-06]]\n",
      "cost :  1.5186201e-11\n"
     ]
    }
   ],
   "source": [
    "for step in range(2001):\n",
    "    sess.run(train, feed_dict={x:xtrain,y:ytrain})\n",
    "    if step%200==0:\n",
    "        print(\"step : \",step, \"w : \",sess.run(w), \"b : \",sess.run(b))\n",
    "        print(\"cost : \",sess.run(cost,feed_dict={x:xtrain, y:ytrain}))"
   ]
  },
  {
   "cell_type": "code",
   "execution_count": 140,
   "metadata": {},
   "outputs": [
    {
     "data": {
      "text/plain": [
       "array([[5.8847650e-06],\n",
       "       [1.0000014e+00],\n",
       "       [1.9999970e+00]], dtype=float32)"
      ]
     },
     "execution_count": 140,
     "metadata": {},
     "output_type": "execute_result"
    }
   ],
   "source": [
    "sess.run(hf, feed_dict = {x:xtrain}) # 테스트"
   ]
  },
  {
   "cell_type": "code",
   "execution_count": 102,
   "metadata": {},
   "outputs": [
    {
     "data": {
      "text/plain": [
       "array([[1.],\n",
       "       [2.],\n",
       "       [3.]], dtype=float32)"
      ]
     },
     "execution_count": 102,
     "metadata": {},
     "output_type": "execute_result"
    }
   ],
   "source": [
    "np.array([1,2,3], dtype=np.float32).reshape(-1,1)"
   ]
  },
  {
   "cell_type": "code",
   "execution_count": 148,
   "metadata": {},
   "outputs": [
    {
     "name": "stdout",
     "output_type": "stream",
     "text": [
      "step :  0 w :  [[0.9676638]\n",
      " [0.7039445]]\n",
      "cost :  0.4517549\n",
      "step :  2000 w :  [[9.9999505e-01]\n",
      " [6.8123950e-06]]\n",
      "cost :  1.9884414e-11\n",
      "step :  4000 w :  [[9.9999785e-01]\n",
      " [2.1457840e-06]]\n",
      "cost :  3.069569e-12\n",
      "step :  6000 w :  [[9.9999785e-01]\n",
      " [2.1457840e-06]]\n",
      "cost :  3.069569e-12\n",
      "step :  8000 w :  [[9.9999785e-01]\n",
      " [2.1457840e-06]]\n",
      "cost :  3.069569e-12\n",
      "step :  10000 w :  [[9.9999785e-01]\n",
      " [2.1457840e-06]]\n",
      "cost :  3.069569e-12\n",
      "step :  12000 w :  [[9.9999785e-01]\n",
      " [2.1457840e-06]]\n",
      "cost :  3.069569e-12\n",
      "step :  14000 w :  [[9.9999785e-01]\n",
      " [2.1457840e-06]]\n",
      "cost :  3.069569e-12\n",
      "step :  16000 w :  [[9.9999785e-01]\n",
      " [2.1457840e-06]]\n",
      "cost :  3.069569e-12\n",
      "step :  18000 w :  [[9.9999785e-01]\n",
      " [2.1457840e-06]]\n",
      "cost :  3.069569e-12\n",
      "step :  20000 w :  [[9.9999785e-01]\n",
      " [2.1457840e-06]]\n",
      "cost :  3.069569e-12\n"
     ]
    }
   ],
   "source": [
    "tf.set_random_seed(777)\n",
    "# 회귀모델 (hf=wx+b)\n",
    "## 그래프 생성 부분\n",
    "xtrain = np.array([[0,1],[1,1],[2,1]]) # 하나당 하나의 b까지 포함\n",
    "ytrain = np.arange(3).reshape(-1,1)\n",
    "x = tf.placeholder(dtype=tf.float32, shape=[None,2])\n",
    "y = tf.placeholder(dtype=tf.float32, shape=[None,1])\n",
    "# b = tf.Variable(tf.random_uniform([1,1]), name='bias') # 이렇게 해야 2차원으로 만들어지네!\n",
    "w = tf.Variable(tf.random_uniform([2,1]), name='weight')\n",
    "hf = tf.matmul(x,w)\n",
    "cost = tf.reduce_mean(tf.square(hf-y))\n",
    "# 해봤듯이, 만약 직접 구현해보고 싶으면 grad = tf.reduce_mean((hf-ytrain)*x) 해서 for문 돌리면됨\n",
    "# 아 reduce_mean을 하면 row/col 별로 mean을 계산하기 때문에 차원이 줄어드는(reduce)구나!\n",
    "\n",
    "# opt = tf.train.GradientDescentOptimizer(0.01)\n",
    "# train = opt.minimize(cost)\n",
    "\n",
    "## 최적화기 생성 부분\n",
    "\n",
    "train = tf.train.GradientDescentOptimizer(0.01).minimize(cost)\n",
    "\n",
    "## 그래프 실행 부분\n",
    "sess = tf.Session() # 세션 생성\n",
    "sess.run(tf.global_variables_initializer()) # 변수 초기화\n",
    "\n",
    "for step in range(20001):\n",
    "    sess.run([cost, w, train], feed_dict = {x:xtrain, y:ytrain})\n",
    "    if step%2000==0:\n",
    "        print(\"step : \",step, \"w : \",sess.run(w))\n",
    "        print(\"cost : \",sess.run(cost,feed_dict={x:xtrain, y:ytrain}))"
   ]
  },
  {
   "cell_type": "code",
   "execution_count": 143,
   "metadata": {},
   "outputs": [
    {
     "data": {
      "text/plain": [
       "array([[0, 1],\n",
       "       [2, 1],\n",
       "       [1, 1]])"
      ]
     },
     "execution_count": 143,
     "metadata": {},
     "output_type": "execute_result"
    }
   ],
   "source": [
    "np.array([0,1,2,1,1,1]).reshape(-1,2)"
   ]
  },
  {
   "cell_type": "code",
   "execution_count": 334,
   "metadata": {
    "scrolled": true
   },
   "outputs": [
    {
     "name": "stdout",
     "output_type": "stream",
     "text": [
      "step :  0 w :  [[0.4050274  0.23426989]]\n",
      "cost :  1.1493102\n",
      "step :  2000 w :  [[0.99851584 0.00337377]]\n",
      "cost :  1.6327994e-06\n",
      "step :  4000 w :  [[9.9998784e-01 2.7525937e-05]]\n",
      "cost :  1.0939042e-10\n",
      "step :  6000 w :  [[9.9999785e-01 4.3508016e-06]]\n",
      "cost :  3.0695446e-12\n",
      "step :  8000 w :  [[9.9999785e-01 4.3508016e-06]]\n",
      "cost :  3.0695446e-12\n",
      "step :  10000 w :  [[9.9999785e-01 4.3508016e-06]]\n",
      "cost :  3.0695446e-12\n",
      "step :  12000 w :  [[9.9999785e-01 4.3508016e-06]]\n",
      "cost :  3.0695446e-12\n",
      "step :  14000 w :  [[9.9999785e-01 4.3508016e-06]]\n",
      "cost :  3.0695446e-12\n",
      "step :  16000 w :  [[9.9999785e-01 4.3508016e-06]]\n",
      "cost :  3.0695446e-12\n",
      "step :  18000 w :  [[9.9999785e-01 4.3508016e-06]]\n",
      "cost :  3.0695446e-12\n",
      "step :  20000 w :  [[9.9999785e-01 4.3508016e-06]]\n",
      "cost :  3.0695446e-12\n",
      "[[199.99957]]\n"
     ]
    }
   ],
   "source": [
    "tf.set_random_seed(777)\n",
    "# 회귀모델 (hf=wx+b)\n",
    "## 그래프 생성 부분\n",
    "xtrain = np.array([[1,2,3],[1,1,1]]) # 하나당 하나의 b까지 포함\n",
    "ytrain = np.array([1,2,3]).reshape(1,-1)\n",
    "x = tf.placeholder(dtype=tf.float32, shape=[2,None])\n",
    "y = tf.placeholder(dtype=tf.float32, shape=[1,None])\n",
    "# b = tf.Variable(tf.random_uniform([1,1]), name='bias') # 이렇게 해야 2차원으로 만들어지네!\n",
    "w = tf.Variable(tf.random_uniform([1,2]), name='weight')\n",
    "hf = tf.matmul(w,x)\n",
    "cost = tf.reduce_mean(tf.square(hf-y))\n",
    "# 해봤듯이, 만약 직접 구현해보고 싶으면 grad = tf.reduce_mean((hf-ytrain)*x) 해서 for문 돌리면됨\n",
    "# 아 reduce_mean을 하면 row/col 별로 mean을 계산하기 때문에 차원이 줄어드는(reduce)구나!\n",
    "\n",
    "# opt = tf.train.GradientDescentOptimizer(0.01)\n",
    "# train = opt.minimize(cost)\n",
    "\n",
    "## 최적화기 생성 부분\n",
    "\n",
    "train = tf.train.GradientDescentOptimizer(0.01).minimize(cost)\n",
    "\n",
    "## 그래프 실행 부분\n",
    "sess = tf.Session() # 세션 생성\n",
    "sess.run(tf.global_variables_initializer()) # 변수 초기화\n",
    "\n",
    "for step in range(20001):\n",
    "    sess.run([cost, w, train], feed_dict = {x:xtrain, y:ytrain})\n",
    "    if step%2000==0:\n",
    "        print(\"step : \",step, \"w : \",sess.run(w))\n",
    "        print(\"cost : \",sess.run(cost,feed_dict={x:xtrain, y:ytrain}))\n",
    "\n",
    "print(sess.run(hf,feed_dict={x:[[200],[1]]}))"
   ]
  },
  {
   "cell_type": "code",
   "execution_count": 159,
   "metadata": {},
   "outputs": [
    {
     "data": {
      "text/plain": [
       "[<matplotlib.lines.Line2D at 0x1c18909de10>]"
      ]
     },
     "execution_count": 159,
     "metadata": {},
     "output_type": "execute_result"
    },
    {
     "data": {
      "image/png": "[encoded data removed]",
      "text/plain": [
       "<Figure size 432x288 with 1 Axes>"
      ]
     },
     "metadata": {
      "needs_background": "light"
     },
     "output_type": "display_data"
    }
   ],
   "source": [
    "import matplotlib.pyplot as plt\n",
    "\n",
    "# 시각화\n",
    "tf.set_random_seed(777)\n",
    "## 그래프 생성 부분\n",
    "xtrain = [1,2,3]\n",
    "ytrain = [1,2,3]\n",
    "w = tf.placeholder(tf.float32)\n",
    "hf = xtrain*w\n",
    "cost = tf.reduce_mean(tf.square(hf-ytrain))\n",
    "\n",
    "## 그래프 실행 부분\n",
    "sess = tf.Session() # 세션 생성\n",
    "sess.run(tf.global_variables_initializer()) # 변수 초기화\n",
    "\n",
    "wvList = []\n",
    "cvList = []\n",
    "\n",
    "for step in range(-50,50):\n",
    "    fw = step*0.1\n",
    "    cv, wv = sess.run([cost, w], feed_dict={w:fw})\n",
    "    wvList.append(wv)\n",
    "    cvList.append(cv)\n",
    "\n",
    "plt.plot(wvList, cvList, 'bo')"
   ]
  },
  {
   "cell_type": "code",
   "execution_count": 183,
   "metadata": {},
   "outputs": [
    {
     "name": "stdout",
     "output_type": "stream",
     "text": [
      "step : 0 | w: [-4479.4], b: [11234.88], loss: 100286368.0\n",
      "step : 200 | w: [-31.491865], b: [89.6498], loss: 5369.169921875\n",
      "step : 400 | w: [-1.23905], b: [0.7028361], loss: 0.3300020396709442\n",
      "step : 600 | w: [-1.0018741], b: [0.00551014], loss: 2.028219932981301e-05\n",
      "step : 800 | w: [-1.0000147], b: [4.3143336e-05], loss: 1.2510810165622388e-09\n",
      "step : 1000 | w: [-1.0000002], b: [6.285399e-07], loss: 4.156675004196586e-13\n",
      "step : 1200 | w: [-1.0000002], b: [6.2377154e-07], loss: 3.694822225952521e-13\n",
      "step : 1400 | w: [-1.0000002], b: [6.2377154e-07], loss: 3.694822225952521e-13\n",
      "step : 1600 | w: [-1.0000002], b: [6.2377154e-07], loss: 3.694822225952521e-13\n",
      "step : 1800 | w: [-1.0000002], b: [6.2377154e-07], loss: 3.694822225952521e-13\n",
      "step : 2000 | w: [-1.0000002], b: [6.2377154e-07], loss: 3.694822225952521e-13\n",
      "predict: [-100.00002]\n"
     ]
    }
   ],
   "source": [
    "import matplotlib.pyplot as plt\n",
    "\n",
    "# 시각화\n",
    "tf.set_random_seed(777)\n",
    "## 그래프 생성 부분\n",
    "x = tf.placeholder(tf.float32)\n",
    "y = tf.placeholder(tf.float32)\n",
    "b = tf.Variable([12312.], tf.float32)\n",
    "w = tf.Variable([-2233.], tf.float32)\n",
    "\n",
    "hf = x*w+b\n",
    "loss = tf.reduce_sum(tf.square(hf-y))\n",
    "\n",
    "# train = tf.train.GradientDescentOptimizer(0.1).minimize(loss) \n",
    "# 만약 일케하면 무한대로 튀어버림!\n",
    "train = tf.train.GradientDescentOptimizer(0.02).minimize(loss) \n",
    "xtrain = [1,2,3,4]\n",
    "ytrain = [-1,-2,-3,-4]\n",
    "\n",
    "## 그래프 실행 부분\n",
    "sess = tf.Session() # 세션 생성\n",
    "sess.run(tf.global_variables_initializer()) # 변수 초기화\n",
    "\n",
    "for step in range(2001):\n",
    "    sess.run(train, feed_dict={x:xtrain,y:ytrain})\n",
    "    if step % 200==0:\n",
    "        wv, bv, lv = sess.run([w,b,loss],feed_dict={x:xtrain,y:ytrain})\n",
    "        print(\"step : {} | w: {}, b: {}, loss: {}\".format(step,wv,bv,lv))\n",
    "        \n",
    "print(\"predict: {}\".format(sess.run(hf,feed_dict={x:[100]})))"
   ]
  },
  {
   "cell_type": "code",
   "execution_count": 190,
   "metadata": {},
   "outputs": [
    {
     "name": "stdout",
     "output_type": "stream",
     "text": [
      "0 4.8133335\n",
      "200 1.0002693\n",
      "400 1.0000012\n",
      "600 1.0000012\n",
      "800 1.0000012\n",
      "1000 1.0000012\n",
      "1200 1.0000012\n",
      "1400 1.0000012\n",
      "1600 1.0000012\n",
      "1800 1.0000012\n",
      "100.00012\n"
     ]
    }
   ],
   "source": [
    "xtrain = [1,2,3]\n",
    "ytrain = [1,2,3]\n",
    "x = tf.placeholder(dtype=tf.float32)\n",
    "y = tf.placeholder(dtype=tf.float32)\n",
    "w = tf.Variable(5.0)\n",
    "hf = x*w\n",
    "loss = tf.reduce_mean(tf.square(hf-y))\n",
    "# train = tf.train.GradientDescentOptimizer(0.01).minimize(loss)\n",
    "\n",
    "lr = 0.01\n",
    "gradient = tf.reduce_mean((hf-y)*x)\n",
    "descent = w - lr*gradient\n",
    "update = w.assign(descent) # '그래프' 구조이기 때문에 값을 갱신해주려면 assign함수 사용해야 함!\n",
    "    \n",
    "sess = tf.Session()\n",
    "sess.run(tf.global_variables_initializer())\n",
    "for step in range(2000):\n",
    "    sess.run(update, feed_dict={x:xtrain,y:ytrain})\n",
    "    # w = sess.run(descent) # 하면 에러남!\n",
    "    if step%200==0:\n",
    "        print(step, sess.run(w,feed_dict={x:xtrain}))\n",
    "\n",
    "print(sess.run(hf, feed_dict={x:100}))"
   ]
  },
  {
   "cell_type": "code",
   "execution_count": 313,
   "metadata": {},
   "outputs": [
    {
     "name": "stdout",
     "output_type": "stream",
     "text": [
      "step :  0 w :  [[0.54072976 0.9987931 ]]\n",
      "cost :  0.14705992\n",
      "gradient:  -0.14567487\n",
      "step :  200 w :  [[0.5625806 1.020644 ]]\n",
      "cost :  0.1488163\n",
      "gradient:  -2.7020772e-06\n",
      "step :  400 w :  [[0.5625806 1.020644 ]]\n",
      "cost :  0.1488163\n",
      "gradient:  -2.7020772e-06\n",
      "step :  600 w :  [[0.5625806 1.020644 ]]\n",
      "cost :  0.1488163\n",
      "gradient:  -2.7020772e-06\n",
      "step :  800 w :  [[0.5625806 1.020644 ]]\n",
      "cost :  0.1488163\n",
      "gradient:  -2.7020772e-06\n",
      "step :  1000 w :  [[0.5625806 1.020644 ]]\n",
      "cost :  0.1488163\n",
      "gradient:  -2.7020772e-06\n",
      "step :  1200 w :  [[0.5625806 1.020644 ]]\n",
      "cost :  0.1488163\n",
      "gradient:  -2.7020772e-06\n",
      "step :  1400 w :  [[0.5625806 1.020644 ]]\n",
      "cost :  0.1488163\n",
      "gradient:  -2.7020772e-06\n",
      "step :  1600 w :  [[0.5625806 1.020644 ]]\n",
      "cost :  0.1488163\n",
      "gradient:  -2.7020772e-06\n",
      "step :  1800 w :  [[0.5625806 1.020644 ]]\n",
      "cost :  0.1488163\n",
      "gradient:  -2.7020772e-06\n",
      "step :  2000 w :  [[0.5625806 1.020644 ]]\n",
      "cost :  0.1488163\n",
      "gradient:  -2.7020772e-06\n",
      "[[113.53676]]\n"
     ]
    }
   ],
   "source": [
    "tf.set_random_seed(777)\n",
    "## 그래프 생성 부분\n",
    "xtrain = np.array([[1,2,3],[1,1,1]]) # 하나당 하나의 b까지 포함\n",
    "ytrain = np.array([1,2,3]).reshape(1,-1)\n",
    "x = tf.placeholder(dtype=tf.float32, shape=[2,None]) \n",
    "y = tf.placeholder(dtype=tf.float32, shape=[1,None])\n",
    "# b = tf.Variable(tf.random_uniform([1,1]), name='bias') # 이렇게 해야 2차원으로 만들어지네!\n",
    "w = tf.Variable(tf.random_uniform([1,2]), name='weight')\n",
    "hf = tf.matmul(w,x)\n",
    "cost = tf.reduce_mean(tf.square(hf-y))\n",
    "\n",
    "lr = 0.01\n",
    "gradient = tf.reduce_mean((hf-y)*xtrain[0]) # 요기가 잘못!!! 위의 한줄만 곱해줘야!!\n",
    "descent = w - lr*gradient\n",
    "update = w.assign(descent)\n",
    "\n",
    "## 최적화기 생성 부분\n",
    "\n",
    "# train = tf.train.GradientDescentOptimizer(0.01).minimize(cost)\n",
    "\n",
    "## 그래프 실행 부분\n",
    "sess = tf.Session() # 세션 생성\n",
    "sess.run(tf.global_variables_initializer()) # 변수 초기화\n",
    "\n",
    "for step in range(2001):\n",
    "    sess.run([cost, w, update], feed_dict = {x:xtrain, y:ytrain})\n",
    "    if step%200==0:\n",
    "        print(\"step : \",step, \"w : \",sess.run(w))\n",
    "        print(\"cost : \",sess.run(cost,feed_dict={x:xtrain, y:ytrain}))\n",
    "        print(\"gradient: \",sess.run(gradient,feed_dict={x:xtrain, y:ytrain}))\n",
    "\n",
    "print(sess.run(hf,feed_dict={x:[[200],[1]]}))"
   ]
  },
  {
   "cell_type": "code",
   "execution_count": 314,
   "metadata": {},
   "outputs": [
    {
     "data": {
      "text/plain": [
       "array([1, 2, 3])"
      ]
     },
     "execution_count": 314,
     "metadata": {},
     "output_type": "execute_result"
    }
   ],
   "source": [
    "xtrain[0]"
   ]
  },
  {
   "cell_type": "code",
   "execution_count": 321,
   "metadata": {},
   "outputs": [
    {
     "name": "stdout",
     "output_type": "stream",
     "text": [
      "step :  0 w :  [[0.19995947]]\n",
      "cost :  1.0651757\n",
      "step :  2000 w :  [[0.97095984]]\n",
      "cost :  0.0013484694\n",
      "step :  4000 w :  [[0.9983882]]\n",
      "cost :  2.1062651e-06\n",
      "step :  6000 w :  [[0.9993612]]\n",
      "cost :  4.0249515e-07\n",
      "step :  8000 w :  [[0.99938214]]\n",
      "cost :  4.0053632e-07\n",
      "step :  10000 w :  [[0.99938214]]\n",
      "cost :  4.0053632e-07\n",
      "step :  12000 w :  [[0.99938214]]\n",
      "cost :  4.0053632e-07\n",
      "step :  14000 w :  [[0.99938214]]\n",
      "cost :  4.0053632e-07\n",
      "step :  16000 w :  [[0.99938214]]\n",
      "cost :  4.0053632e-07\n",
      "step :  18000 w :  [[0.99938214]]\n",
      "cost :  4.0053632e-07\n",
      "step :  20000 w :  [[0.99938214]]\n",
      "cost :  4.0053632e-07\n",
      "[[199.87744]]\n"
     ]
    }
   ],
   "source": [
    "tf.set_random_seed(777)\n",
    "## 그래프 생성 부분\n",
    "xtrain = np.array([[0.,1.,2.]]) # 하나당 하나의 b까지 포함\n",
    "ytrain = np.array([0.,1.,2.]).reshape(1,-1)\n",
    "x = tf.placeholder(dtype=tf.float32, shape=[1,None])\n",
    "y = tf.placeholder(dtype=tf.float32, shape=[1,None])\n",
    "b = tf.Variable(0.001)\n",
    "# b = tf.Variable(tf.random_uniform([1,1]), name='bias') # 이렇게 해야 2차원으로 만들어지네!\n",
    "w = tf.Variable(tf.random_uniform([1,1],-1,1), name='weight')\n",
    "hf = tf.matmul(w,x) + b\n",
    "cost = tf.reduce_mean(tf.square(hf-y))\n",
    "\n",
    "lr = 0.001\n",
    "gradient = tf.reduce_mean((hf-y)*x)\n",
    "descent = w - lr*gradient\n",
    "update = w.assign(descent)\n",
    "\n",
    "## 최적화기 생성 부분\n",
    "\n",
    "# train = tf.train.GradientDescentOptimizer(0.01).minimize(cost)\n",
    "\n",
    "## 그래프 실행 부분\n",
    "sess = tf.Session() # 세션 생성\n",
    "sess.run(tf.global_variables_initializer()) # 변수 초기화\n",
    "\n",
    "for step in range(20001):\n",
    "    sess.run([cost, w, update], feed_dict = {x:xtrain, y:ytrain})\n",
    "    if step%2000==0:\n",
    "        print(\"step : \",step, \"w : \",sess.run(w))\n",
    "        print(\"cost : \",sess.run(cost,feed_dict={x:xtrain, y:ytrain}))\n",
    "\n",
    "print(sess.run(hf,feed_dict={x:[[200.]]}))\n",
    "# 않위 이거 외 이런거임"
   ]
  },
  {
   "cell_type": "code",
   "execution_count": 243,
   "metadata": {},
   "outputs": [],
   "source": [
    "import numpy as np\n",
    "num_points = 200\n",
    "vectors_set = []\n",
    "for i in range(num_points):\n",
    "    x = np.random.normal(5,5)+15\n",
    "    y = x*1000+np.random.normal(0,3)*1000\n",
    "    vectors_set.append([x,y])\n",
    "xdata = [v[0] for v in vectors_set]\n",
    "ydata = [v[1] for v in vectors_set]"
   ]
  },
  {
   "cell_type": "code",
   "execution_count": 244,
   "metadata": {},
   "outputs": [
    {
     "name": "stderr",
     "output_type": "stream",
     "text": [
      "W0729 15:03:48.711123 11520 legend.py:1289] No handles with labels found to put in legend.\n"
     ]
    },
    {
     "data": {
      "text/plain": [
       "<matplotlib.legend.Legend at 0x1c19d558d68>"
      ]
     },
     "execution_count": 244,
     "metadata": {},
     "output_type": "execute_result"
    },
    {
     "data": {
      "image/png": "[encoded data removed]",
      "text/plain": [
       "<Figure size 432x288 with 1 Axes>"
      ]
     },
     "metadata": {
      "needs_background": "light"
     },
     "output_type": "display_data"
    }
   ],
   "source": [
    "plt.plot(xdata,ydata,'ro')\n",
    "plt.xlabel('x')\n",
    "plt.ylabel('y')\n",
    "plt.xlim(0,40)\n",
    "plt.ylim(0,40000)\n",
    "plt.legend()"
   ]
  },
  {
   "cell_type": "code",
   "execution_count": 245,
   "metadata": {},
   "outputs": [],
   "source": [
    "w = tf.Variable(tf.random_uniform([1], -1.0, 1.0))\n",
    "b = tf.Variable(tf.zeros([1]))\n",
    "y = w*xdata+b\n",
    "loss = tf.reduce_mean(tf.square(y-ydata))\n",
    "train = tf.train.GradientDescentOptimizer(0.001).minimize(loss)\n",
    "# 이거 train rl 0.01만 줘도 봐로 overshooting나!\n",
    "sess.run(tf.initialize_all_variables())"
   ]
  },
  {
   "cell_type": "code",
   "execution_count": 246,
   "metadata": {},
   "outputs": [
    {
     "name": "stdout",
     "output_type": "stream",
     "text": [
      "0 [855.27655] [40.3836]\n",
      "0 18748562.0\n"
     ]
    },
    {
     "data": {
      "image/png": "[encoded data removed]",
      "text/plain": [
       "<Figure size 432x288 with 1 Axes>"
      ]
     },
     "metadata": {
      "needs_background": "light"
     },
     "output_type": "display_data"
    },
    {
     "name": "stdout",
     "output_type": "stream",
     "text": [
      "1 [985.56964] [46.499786]\n",
      "1 8946255.0\n"
     ]
    },
    {
     "data": {
      "image/png": "[encoded data removed]",
      "text/plain": [
       "<Figure size 432x288 with 1 Axes>"
      ]
     },
     "metadata": {
      "needs_background": "light"
     },
     "output_type": "display_data"
    },
    {
     "name": "stdout",
     "output_type": "stream",
     "text": [
      "2 [1005.4128] [47.397594]\n",
      "2 8718934.0\n"
     ]
    },
    {
     "data": {
      "image/png": "[encoded data removed]",
      "text/plain": [
       "<Figure size 432x288 with 1 Axes>"
      ]
     },
     "metadata": {
      "needs_background": "light"
     },
     "output_type": "display_data"
    },
    {
     "name": "stdout",
     "output_type": "stream",
     "text": [
      "3 [1008.43616] [47.50073]\n",
      "3 8713660.0\n"
     ]
    },
    {
     "data": {
      "image/png": "[encoded data removed]",
      "text/plain": [
       "<Figure size 432x288 with 1 Axes>"
      ]
     },
     "metadata": {
      "needs_background": "light"
     },
     "output_type": "display_data"
    },
    {
     "name": "stdout",
     "output_type": "stream",
     "text": [
      "4 [1008.8982] [47.482853]\n",
      "4 8713537.0\n"
     ]
    },
    {
     "data": {
      "image/png": "[encoded data removed]",
      "text/plain": [
       "<Figure size 432x288 with 1 Axes>"
      ]
     },
     "metadata": {
      "needs_background": "light"
     },
     "output_type": "display_data"
    },
    {
     "name": "stdout",
     "output_type": "stream",
     "text": [
      "5 [1008.97015] [47.446552]\n",
      "5 8713532.0\n"
     ]
    },
    {
     "data": {
      "image/png": "[encoded data removed]",
      "text/plain": [
       "<Figure size 432x288 with 1 Axes>"
      ]
     },
     "metadata": {
      "needs_background": "light"
     },
     "output_type": "display_data"
    },
    {
     "name": "stdout",
     "output_type": "stream",
     "text": [
      "6 [1008.98267] [47.407448]\n",
      "6 8713530.0\n"
     ]
    },
    {
     "data": {
      "image/png": "[encoded data removed]",
      "text/plain": [
       "<Figure size 432x288 with 1 Axes>"
      ]
     },
     "metadata": {
      "needs_background": "light"
     },
     "output_type": "display_data"
    },
    {
     "name": "stdout",
     "output_type": "stream",
     "text": [
      "7 [1008.98615] [47.36792]\n",
      "7 8713530.0\n"
     ]
    },
    {
     "data": {
      "image/png": "[encoded data removed]",
      "text/plain": [
       "<Figure size 432x288 with 1 Axes>"
      ]
     },
     "metadata": {
      "needs_background": "light"
     },
     "output_type": "display_data"
    },
    {
     "name": "stdout",
     "output_type": "stream",
     "text": [
      "8 [1008.9883] [47.328335]\n",
      "8 8713528.0\n"
     ]
    },
    {
     "data": {
      "image/png": "[encoded data removed]",
      "text/plain": [
       "<Figure size 432x288 with 1 Axes>"
      ]
     },
     "metadata": {
      "needs_background": "light"
     },
     "output_type": "display_data"
    },
    {
     "name": "stdout",
     "output_type": "stream",
     "text": [
      "9 [1008.9902] [47.288742]\n",
      "9 8713526.0\n"
     ]
    },
    {
     "data": {
      "image/png": "[encoded data removed]",
      "text/plain": [
       "<Figure size 432x288 with 1 Axes>"
      ]
     },
     "metadata": {
      "needs_background": "light"
     },
     "output_type": "display_data"
    }
   ],
   "source": [
    "for step in range(10):\n",
    "    sess.run(train)\n",
    "    print(step, sess.run(w), sess.run(b))\n",
    "    print(step, sess.run(loss))\n",
    "    plt.plot(xdata, ydata, 'ro')\n",
    "    plt.plot(xdata, sess.run(w)*xdata+sess.run(b))\n",
    "    plt.show()"
   ]
  },
  {
   "cell_type": "code",
   "execution_count": 322,
   "metadata": {},
   "outputs": [],
   "source": [
    "# keras package : tensorflow를 엔진으로 사용하는 파이썬 패키지\n",
    "# 신경망을 쉽게 구현\n",
    "# 연습용 데이터셋 구성 (CIFAR10, CIFAR100, 영화, 뉴스, 보스턴 데이터)\n",
    "from tensorflow import keras\n",
    "mnist = keras.datasets.mnist\n",
    "(xtrain, ytrain), (xtest, ytest) = mnist.load_data()"
   ]
  },
  {
   "cell_type": "code",
   "execution_count": 323,
   "metadata": {},
   "outputs": [
    {
     "data": {
      "image/png": "[encoded data removed]",
      "text/plain": [
       "<Figure size 576x72 with 36 Axes>"
      ]
     },
     "metadata": {
      "needs_background": "light"
     },
     "output_type": "display_data"
    }
   ],
   "source": [
    "plt.figure(figsize=(8,1))\n",
    "for i in range(36):\n",
    "    plt.subplot(3,12,i+1)\n",
    "    plt.imshow(xtrain[i], cmap='gray')\n",
    "    plt.axis('off')\n",
    "plt.show()"
   ]
  },
  {
   "cell_type": "code",
   "execution_count": 324,
   "metadata": {},
   "outputs": [
    {
     "name": "stdout",
     "output_type": "stream",
     "text": [
      "(60000, 28, 28)\n",
      "(60000,)\n",
      "(10000, 28, 28)\n",
      "(10000,)\n"
     ]
    }
   ],
   "source": [
    "print(xtrain.shape)\n",
    "print(ytrain.shape)\n",
    "print(xtest.shape)\n",
    "print(ytest.shape)"
   ]
  },
  {
   "cell_type": "code",
   "execution_count": 325,
   "metadata": {},
   "outputs": [
    {
     "data": {
      "text/plain": [
       "array([5, 0, 4, ..., 5, 6, 8], dtype=uint8)"
      ]
     },
     "execution_count": 325,
     "metadata": {},
     "output_type": "execute_result"
    }
   ],
   "source": [
    "ytrain"
   ]
  },
  {
   "cell_type": "code",
   "execution_count": 326,
   "metadata": {},
   "outputs": [],
   "source": [
    "# x값 변환\n",
    "xtrain = xtrain.reshape(60000,28*28).astype('float32')/255.0\n",
    "xtest = xtrain.reshape(60000,28*28).astype('float32')/255.0"
   ]
  },
  {
   "cell_type": "code",
   "execution_count": 327,
   "metadata": {},
   "outputs": [
    {
     "data": {
      "text/plain": [
       "array([[0., 0., 0., 0., 0., 1., 0., 0., 0., 0.],\n",
       "       [1., 0., 0., 0., 0., 0., 0., 0., 0., 0.],\n",
       "       [0., 0., 0., 0., 1., 0., 0., 0., 0., 0.],\n",
       "       [0., 1., 0., 0., 0., 0., 0., 0., 0., 0.],\n",
       "       [0., 0., 0., 0., 0., 0., 0., 0., 0., 1.],\n",
       "       [0., 0., 1., 0., 0., 0., 0., 0., 0., 0.],\n",
       "       [0., 1., 0., 0., 0., 0., 0., 0., 0., 0.],\n",
       "       [0., 0., 0., 1., 0., 0., 0., 0., 0., 0.],\n",
       "       [0., 1., 0., 0., 0., 0., 0., 0., 0., 0.],\n",
       "       [0., 0., 0., 0., 1., 0., 0., 0., 0., 0.]], dtype=float32)"
      ]
     },
     "execution_count": 327,
     "metadata": {},
     "output_type": "execute_result"
    }
   ],
   "source": [
    "from tensorflow.keras.utils import to_categorical\n",
    "ytrain = to_categorical(ytrain,10)\n",
    "ytest = to_categorical(ytest,10)\n",
    "ytrain[:10]"
   ]
  },
  {
   "cell_type": "code",
   "execution_count": 328,
   "metadata": {},
   "outputs": [],
   "source": [
    "# keras로 신경망 구성하는 순서\n",
    "# 1. sequential class -> 객체 생성\n",
    "# 2. add 메서드 -> 층(레이어)을 추가 : 입력부터 순서대로 추가\n",
    "# shape 체크 : #output node = #input node\n",
    "# activation : 활성화 설정\n",
    "# 3. compile 메서드 => 모델 생성\n",
    "# loss, optimizer(알고리즘), 성능 기중 설정\n",
    "# fit 메서드 => 트레이닝\n",
    "# 에폭 설정(6만개 데이터 있다면 1에폭 : 6만개 training)\n",
    "# batch 설정 : 배치설정 # 메모리 (분할 모델링 / 큐러너 등 사용)"
   ]
  },
  {
   "cell_type": "code",
   "execution_count": 329,
   "metadata": {},
   "outputs": [],
   "source": [
    "from tensorflow.keras.models import Sequential\n",
    "from tensorflow.keras.layers import Dense\n",
    "from tensorflow.keras.optimizers import SGD\n",
    "np.random.seed(0)"
   ]
  },
  {
   "cell_type": "code",
   "execution_count": 330,
   "metadata": {},
   "outputs": [
    {
     "name": "stderr",
     "output_type": "stream",
     "text": [
      "W0729 16:16:20.404804 11520 deprecation.py:506] From C:\\Users\\user\\Anaconda3\\lib\\site-packages\\tensorflow\\python\\ops\\init_ops.py:1251: calling VarianceScaling.__init__ (from tensorflow.python.ops.init_ops) with dtype is deprecated and will be removed in a future version.\n",
      "Instructions for updating:\n",
      "Call initializer instance with the dtype argument instead of passing it to the constructor\n"
     ]
    }
   ],
   "source": [
    "model = Sequential() # sequential 객체 생성하고\n",
    "model.add(Dense(15, input_dim=784, activation='sigmoid')) # 거기에 Dense라는 층 추가\n",
    "# input_dim은 맨 처음거에만 있음\n",
    "model.add(Dense(10, activation='sigmoid')) # 출력=10\n",
    "model.compile(optimizer=SGD(lr=0.1), loss='mean_squared_error', metrics=['accuracy'])"
   ]
  },
  {
   "cell_type": "code",
   "execution_count": 331,
   "metadata": {},
   "outputs": [
    {
     "name": "stdout",
     "output_type": "stream",
     "text": [
      "Model: \"sequential\"\n",
      "_________________________________________________________________\n",
      "Layer (type)                 Output Shape              Param #   \n",
      "=================================================================\n",
      "dense (Dense)                (None, 15)                11775     \n",
      "_________________________________________________________________\n",
      "dense_1 (Dense)              (None, 10)                160       \n",
      "=================================================================\n",
      "Total params: 11,935\n",
      "Trainable params: 11,935\n",
      "Non-trainable params: 0\n",
      "_________________________________________________________________\n"
     ]
    }
   ],
   "source": [
    "model.summary()\n",
    "# 모델은 이렇게 만들면된다\n",
    "# 케라스 모델 만들기 엄청 쉬운데...?"
   ]
  },
  {
   "cell_type": "code",
   "execution_count": 332,
   "metadata": {},
   "outputs": [
    {
     "name": "stdout",
     "output_type": "stream",
     "text": [
      "60000/60000 [==============================] - 2s 32us/sample - loss: 0.0949 - acc: 0.3259\n"
     ]
    },
    {
     "data": {
      "text/plain": [
       "<tensorflow.python.keras.callbacks.History at 0x1c1a5d00550>"
      ]
     },
     "execution_count": 332,
     "metadata": {},
     "output_type": "execute_result"
    }
   ],
   "source": [
    "model.fit(xtrain,ytrain)"
   ]
  },
  {
   "cell_type": "code",
   "execution_count": 333,
   "metadata": {},
   "outputs": [
    {
     "data": {
      "text/plain": [
       "array([[0.22533455, 0.25036567, 0.18042761, ..., 0.21262762, 0.18657693,\n",
       "        0.20076567],\n",
       "       [0.22576532, 0.25034648, 0.18042445, ..., 0.21254551, 0.1866718 ,\n",
       "        0.20074016],\n",
       "       [0.22555453, 0.25061768, 0.18075699, ..., 0.21303952, 0.18711212,\n",
       "        0.20107025],\n",
       "       ...,\n",
       "       [0.22533455, 0.2503488 , 0.1805177 , ..., 0.2129066 , 0.18688482,\n",
       "        0.20091048],\n",
       "       [0.22547981, 0.25062415, 0.1806958 , ..., 0.21300915, 0.18689263,\n",
       "        0.20108268],\n",
       "       [0.22543198, 0.2505614 , 0.18060884, ..., 0.21289372, 0.1868599 ,\n",
       "        0.20101812]], dtype=float32)"
      ]
     },
     "execution_count": 333,
     "metadata": {},
     "output_type": "execute_result"
    }
   ],
   "source": [
    "model.predict(xtest) # 뭐 별로별로"
   ]
  },
  {
   "cell_type": "code",
   "execution_count": null,
   "metadata": {},
   "outputs": [],
   "source": []
  }
 ],
 "metadata": {
  "kernelspec": {
   "display_name": "Python 3",
   "language": "python",
   "name": "python3"
  },
  "language_info": {
   "codemirror_mode": {
    "name": "ipython",
    "version": 3
   },
   "file_extension": ".py",
   "mimetype": "text/x-python",
   "name": "python",
   "nbconvert_exporter": "python",
   "pygments_lexer": "ipython3",
   "version": "3.7.3"
  }
 },
 "nbformat": 4,
 "nbformat_minor": 2
}
