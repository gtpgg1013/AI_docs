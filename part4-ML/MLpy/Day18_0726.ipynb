{
 "cells": [
  {
   "cell_type": "code",
   "execution_count": 33,
   "metadata": {},
   "outputs": [],
   "source": [
    "def forward(x,y):\n",
    "    out = x*y\n",
    "    return out"
   ]
  },
  {
   "cell_type": "code",
   "execution_count": 34,
   "metadata": {},
   "outputs": [],
   "source": [
    "apple = 100\n",
    "apple_num = 2\n",
    "tax = 1.1"
   ]
  },
  {
   "cell_type": "code",
   "execution_count": 35,
   "metadata": {},
   "outputs": [
    {
     "name": "stdout",
     "output_type": "stream",
     "text": [
      "220.00000000000003\n"
     ]
    }
   ],
   "source": [
    "apple_price = forward(apple, apple_num)\n",
    "price = forward(apple_price, tax)\n",
    "print(price)"
   ]
  },
  {
   "cell_type": "code",
   "execution_count": 36,
   "metadata": {},
   "outputs": [],
   "source": [
    "class MulLayer:\n",
    "    def __init__(self):\n",
    "        self.x = None\n",
    "        self.y = None\n",
    "    def forward(self,x,y):\n",
    "        self.x = x\n",
    "        self.y = y\n",
    "        out = x*y\n",
    "        return out\n",
    "    def backward(self,dout):\n",
    "        dx = dout*self.y\n",
    "        dy = dout*self.x\n",
    "        return dx, dy"
   ]
  },
  {
   "cell_type": "code",
   "execution_count": 37,
   "metadata": {},
   "outputs": [
    {
     "name": "stdout",
     "output_type": "stream",
     "text": [
      "220\n"
     ]
    }
   ],
   "source": [
    "apple_price = forward(apple, apple_num)\n",
    "price = forward(apple_price, tax)\n",
    "print(int(price))"
   ]
  },
  {
   "cell_type": "code",
   "execution_count": 38,
   "metadata": {},
   "outputs": [],
   "source": [
    "mal = MulLayer()\n",
    "mtl = MulLayer()"
   ]
  },
  {
   "cell_type": "code",
   "execution_count": 39,
   "metadata": {},
   "outputs": [
    {
     "name": "stdout",
     "output_type": "stream",
     "text": [
      "220\n"
     ]
    }
   ],
   "source": [
    "apple_price = mal.forward(apple, apple_num)\n",
    "price = mtl.forward(apple_price, tax)\n",
    "print(int(price))"
   ]
  },
  {
   "cell_type": "code",
   "execution_count": 40,
   "metadata": {},
   "outputs": [
    {
     "name": "stdout",
     "output_type": "stream",
     "text": [
      "100 2\n"
     ]
    }
   ],
   "source": [
    "print(mal.x, mal.y)"
   ]
  },
  {
   "cell_type": "code",
   "execution_count": 41,
   "metadata": {},
   "outputs": [
    {
     "name": "stdout",
     "output_type": "stream",
     "text": [
      "200 1.1\n"
     ]
    }
   ],
   "source": [
    "print(mtl.x, mtl.y)"
   ]
  },
  {
   "cell_type": "code",
   "execution_count": 45,
   "metadata": {},
   "outputs": [
    {
     "name": "stdout",
     "output_type": "stream",
     "text": [
      "2.2 110.00000000000001 200\n"
     ]
    }
   ],
   "source": [
    "# backprop\n",
    "dprice = 1\n",
    "dapple_price, dtax = mtl.backward(dprice)\n",
    "dapple, dapple_num = mal.backward(dapple_price)\n",
    "print(dapple, dapple_num, dtax)"
   ]
  },
  {
   "cell_type": "code",
   "execution_count": 46,
   "metadata": {},
   "outputs": [],
   "source": [
    "# 상수형(Constant)\n",
    "import tensorflow as tf"
   ]
  },
  {
   "cell_type": "code",
   "execution_count": 60,
   "metadata": {},
   "outputs": [],
   "source": [
    "a = tf.constant([5], dtype=tf.float32)\n",
    "b = tf.constant([10], dtype=tf.float32)\n",
    "c = tf.constant([2], dtype=tf.float32)\n",
    "d = a*b+c\n",
    "# 만약\n",
    "# a,b,c는 사실 'Node'라고 해야 함 : constant : 항등함수처럼 데이터를 가지고만 있어도 'Node'\n",
    "# 변수는 tf.Variable"
   ]
  },
  {
   "cell_type": "code",
   "execution_count": 61,
   "metadata": {},
   "outputs": [
    {
     "data": {
      "text/plain": [
       "<tf.Tensor 'Const_10:0' shape=(1,) dtype=float32>"
      ]
     },
     "execution_count": 61,
     "metadata": {},
     "output_type": "execute_result"
    }
   ],
   "source": [
    "a"
   ]
  },
  {
   "cell_type": "code",
   "execution_count": 62,
   "metadata": {},
   "outputs": [
    {
     "name": "stdout",
     "output_type": "stream",
     "text": [
      "[52.]\n"
     ]
    }
   ],
   "source": [
    "# 세션을 생성해서 그래프 실행\n",
    "# 세션 : 그래프를 실행시켜주는 일종의 runner\n",
    "sess = tf.Session()\n",
    "# run에게 변수로 '실행시킬 노드'를 넣어주면 된다\n",
    "sess.run(a)\n",
    "print(sess.run(d))"
   ]
  },
  {
   "cell_type": "code",
   "execution_count": 65,
   "metadata": {},
   "outputs": [
    {
     "name": "stdout",
     "output_type": "stream",
     "text": [
      "[5.]\n"
     ]
    }
   ],
   "source": [
    "node = tf.constant([5.]) # 이렇게하면 float이 됨 # dtype를 명시하는게 더 직관적으로 좋음\n",
    "print(sess.run(node))"
   ]
  },
  {
   "cell_type": "code",
   "execution_count": 68,
   "metadata": {},
   "outputs": [
    {
     "data": {
      "text/plain": [
       "array([2., 4., 6.], dtype=float32)"
      ]
     },
     "execution_count": 68,
     "metadata": {},
     "output_type": "execute_result"
    }
   ],
   "source": [
    "# placeholder\n",
    "x = tf.placeholder(dtype=tf.float32)\n",
    "y = x*2\n",
    "x_data = [1,2,3]\n",
    "# 이 위까지 그래프만 만든 것\n",
    "# 피딩 : 학습용 데이터를 전달하는 행위(그래프를 실행하는 시점)\n",
    "sess.run(y,feed_dict={x:x_data})"
   ]
  },
  {
   "cell_type": "code",
   "execution_count": 71,
   "metadata": {},
   "outputs": [],
   "source": [
    "# 변수(Variable) : 훈련(Training)과정에서 변화하는 \n",
    "# w와 b\n",
    "# hf = w*x + b\n",
    "# hf = 0.5x + 2"
   ]
  },
  {
   "cell_type": "code",
   "execution_count": 78,
   "metadata": {},
   "outputs": [
    {
     "data": {
      "text/plain": [
       "array([2., 4., 6.], dtype=float32)"
      ]
     },
     "execution_count": 78,
     "metadata": {},
     "output_type": "execute_result"
    }
   ],
   "source": [
    "x_data = [1,2,3]\n",
    "x = tf.placeholder(dtype=tf.float32)\n",
    "# back-prop 하며 가중치 갱신해야 함 : W는 Variable\n",
    "w = tf.Variable([2.])\n",
    "yhat = w*x\n",
    "\n",
    "sess = tf.Session()\n",
    "# 변수를 사용하려면 변수는 초기화 해줘야함\n",
    "init = tf.global_variables_initializer()\n",
    "sess.run(init)\n",
    "sess.run(yhat, feed_dict={x:x_data})"
   ]
  },
  {
   "cell_type": "code",
   "execution_count": 80,
   "metadata": {},
   "outputs": [
    {
     "data": {
      "text/plain": [
       "array([[12.]], dtype=float32)"
      ]
     },
     "execution_count": 80,
     "metadata": {},
     "output_type": "execute_result"
    }
   ],
   "source": [
    "# tf.matmul <= np.dot과 같은 역할!\n",
    "x_data = [[1,2,3]]\n",
    "x = tf.placeholder(dtype=tf.float32)\n",
    "w = tf.Variable([[2.],[2.],[2.]])\n",
    "y = tf.matmul(x,w)\n",
    "sess = tf.Session()\n",
    "# 변수를 사용하려면 변수는 초기화 해줘야함\n",
    "init = tf.global_variables_initializer()\n",
    "sess.run(init)\n",
    "sess.run(y, feed_dict={x:x_data})"
   ]
  },
  {
   "cell_type": "code",
   "execution_count": 81,
   "metadata": {},
   "outputs": [
    {
     "data": {
      "text/plain": [
       "array([[12.]], dtype=float32)"
      ]
     },
     "execution_count": 81,
     "metadata": {},
     "output_type": "execute_result"
    }
   ],
   "source": [
    "x_data = [[1,2,3]]\n",
    "x = tf.placeholder(dtype=tf.float32)\n",
    "# w = tf.Variable([[2.],[2.],[2.]])\n",
    "w = tf.transpose(tf.Variable([[2.,2.,2.]])) # 이런식으로 transpose 됨\n",
    "y = tf.matmul(x,w)\n",
    "sess = tf.Session()\n",
    "# 변수를 사용하려면 변수는 초기화 해줘야함\n",
    "init = tf.global_variables_initializer()\n",
    "sess.run(init)\n",
    "sess.run(y, feed_dict={x:x_data})"
   ]
  },
  {
   "cell_type": "code",
   "execution_count": 82,
   "metadata": {},
   "outputs": [
    {
     "data": {
      "text/plain": [
       "array([[12]])"
      ]
     },
     "execution_count": 82,
     "metadata": {},
     "output_type": "execute_result"
    }
   ],
   "source": [
    "x = tf.Variable([[1,2,3]])\n",
    "w = tf.transpose(tf.constant([[2,2,2]]))\n",
    "y = tf.matmul(x,w)\n",
    "sess = tf.Session()\n",
    "# 변수를 사용하려면 변수는 초기화 해줘야함\n",
    "init = tf.global_variables_initializer()\n",
    "sess.run(init)\n",
    "sess.run(y, feed_dict={x:x_data})"
   ]
  },
  {
   "cell_type": "code",
   "execution_count": 83,
   "metadata": {},
   "outputs": [
    {
     "data": {
      "text/plain": [
       "array([[12.],\n",
       "       [12.],\n",
       "       [18.]], dtype=float32)"
      ]
     },
     "execution_count": 83,
     "metadata": {},
     "output_type": "execute_result"
    }
   ],
   "source": [
    "x_data = [[1,2,3],[1,2,3],[2,3,4]]\n",
    "x = tf.placeholder(dtype=tf.float32)\n",
    "# w = tf.Variable([[2.],[2.],[2.]])\n",
    "w = tf.transpose(tf.Variable([[2.,2.,2.]])) # 이런식으로 transpose 됨\n",
    "y = tf.matmul(x,w)\n",
    "sess = tf.Session()\n",
    "# 변수를 사용하려면 변수는 초기화 해줘야함\n",
    "init = tf.global_variables_initializer()\n",
    "sess.run(init)\n",
    "sess.run(y, feed_dict={x:x_data})"
   ]
  },
  {
   "cell_type": "code",
   "execution_count": 85,
   "metadata": {},
   "outputs": [
    {
     "data": {
      "text/plain": [
       "array([[12.],\n",
       "       [12.],\n",
       "       [18.]], dtype=float32)"
      ]
     },
     "execution_count": 85,
     "metadata": {},
     "output_type": "execute_result"
    }
   ],
   "source": [
    "# None : 아직 결정되지 않은 상태!\n",
    "x_data = [[1,2,3],[1,2,3],[2,3,4]]\n",
    "x = tf.placeholder(dtype = tf.float32, shape=[None,3]) \n",
    "# row수는 data수이므로 달라지자나 => 미정 : None\n",
    "w = tf.transpose(tf.constant([[2.,2.,2.]]))\n",
    "y = tf.matmul(x,w) # 3*3, 3*1 => 3*1\n",
    "init = tf.global_variables_initializer()\n",
    "sess.run(init)\n",
    "sess.run(y, feed_dict={x:x_data})"
   ]
  },
  {
   "cell_type": "code",
   "execution_count": 90,
   "metadata": {},
   "outputs": [
    {
     "data": {
      "text/plain": [
       "array([[10.],\n",
       "       [16.]], dtype=float32)"
      ]
     },
     "execution_count": 90,
     "metadata": {},
     "output_type": "execute_result"
    }
   ],
   "source": [
    "x_data = [[1,1,1],[2,2,2]]\n",
    "x = tf.placeholder(dtype=tf.float32, shape=[None,3])\n",
    "w = tf.Variable([[2],[2],[2]], dtype=tf.float32)\n",
    "b = tf.Variable([4], dtype=tf.float32) # b 브로드캐스팅\n",
    "y = tf.matmul(x,w) + b\n",
    "init = tf.global_variables_initializer()\n",
    "sess.run(init)\n",
    "sess.run(y, feed_dict={x:x_data})"
   ]
  },
  {
   "cell_type": "code",
   "execution_count": 100,
   "metadata": {},
   "outputs": [
    {
     "name": "stdout",
     "output_type": "stream",
     "text": [
      "715.0000000000001\n"
     ]
    }
   ],
   "source": [
    "class CalcLayer:\n",
    "    def __init__(self):\n",
    "        self.x = None\n",
    "        self.y = None\n",
    "    def forwardAdd(self,x,y):\n",
    "        self.x = x\n",
    "        self.y = y\n",
    "        out = self.x + self.y\n",
    "        return out\n",
    "    def forwardMul(self,x,y):\n",
    "        self.x = x\n",
    "        self.y = y\n",
    "        out = self.x * self.y\n",
    "        return out\n",
    "    def backwardMul(self,dout):\n",
    "        dx = dout*self.y\n",
    "        dy = dout*self.x\n",
    "        return dx, dy\n",
    "    def backwardAdd(self,dout):\n",
    "        dx = dout\n",
    "        dy = dout\n",
    "        return dx, dy\n",
    "    \n",
    "apple = 100\n",
    "appleNum = 2\n",
    "orange = 150\n",
    "orangeNum = 3\n",
    "tax = 1.1\n",
    "# price출력 (100*2+150*3)*1.1\n",
    "# dapple / dappleNum / dorange / dorangeNum / dtax\n",
    "\n",
    "apl = CalcLayer()\n",
    "orl = CalcLayer()\n",
    "addl = CalcLayer()\n",
    "txl = CalcLayer()\n",
    "\n",
    "appleprice = apl.forwardMul(apple,appleNum)\n",
    "orangeprice = orl.forwardMul(orange,orangeNum)\n",
    "addprice = addl.forwardAdd(appleprice,orangeprice)\n",
    "totprice = txl.forwardMul(addprice,tax)\n",
    "\n",
    "print(totprice)"
   ]
  },
  {
   "cell_type": "code",
   "execution_count": 106,
   "metadata": {},
   "outputs": [],
   "source": [
    "daddprice, dtax = txl.backwardMul(1)"
   ]
  },
  {
   "cell_type": "code",
   "execution_count": 107,
   "metadata": {},
   "outputs": [
    {
     "data": {
      "text/plain": [
       "(650, 1.1)"
      ]
     },
     "execution_count": 107,
     "metadata": {},
     "output_type": "execute_result"
    }
   ],
   "source": [
    "dtax, daddprice"
   ]
  },
  {
   "cell_type": "code",
   "execution_count": 108,
   "metadata": {},
   "outputs": [
    {
     "name": "stdout",
     "output_type": "stream",
     "text": [
      "1.1 1.1\n"
     ]
    }
   ],
   "source": [
    "dappleprice, dorangeprice = addl.backwardAdd(daddprice)\n",
    "print(dappleprice, dorangeprice)"
   ]
  },
  {
   "cell_type": "code",
   "execution_count": 109,
   "metadata": {},
   "outputs": [
    {
     "name": "stdout",
     "output_type": "stream",
     "text": [
      "2.2 110.00000000000001\n"
     ]
    }
   ],
   "source": [
    "dapple, dappleNum = apl.backwardMul(dappleprice)\n",
    "print(dapple, dappleNum)"
   ]
  },
  {
   "cell_type": "code",
   "execution_count": 114,
   "metadata": {},
   "outputs": [
    {
     "name": "stdout",
     "output_type": "stream",
     "text": [
      "3.3000000000000003 165.0\n"
     ]
    }
   ],
   "source": [
    "dorange, dorangeNum = orl.backwardMul(dorangeprice)\n",
    "print(dorange, dorangeNum)"
   ]
  },
  {
   "cell_type": "code",
   "execution_count": 115,
   "metadata": {},
   "outputs": [
    {
     "name": "stdout",
     "output_type": "stream",
     "text": [
      "715.0000000000001 2.2 110.00000000000001 3.3000000000000003 165.0 650\n"
     ]
    }
   ],
   "source": [
    "print(totprice, dapple, dappleNum, dorange, dorangeNum, dtax)"
   ]
  },
  {
   "cell_type": "code",
   "execution_count": 111,
   "metadata": {},
   "outputs": [],
   "source": [
    "# 2.구구단의 특정 단을 출력하는 함수 작성(placeholder사용)"
   ]
  },
  {
   "cell_type": "code",
   "execution_count": 113,
   "metadata": {},
   "outputs": [
    {
     "data": {
      "text/plain": [
       "array([[ 3,  6,  9, 12, 15, 18, 21, 24, 27]])"
      ]
     },
     "execution_count": 113,
     "metadata": {},
     "output_type": "execute_result"
    }
   ],
   "source": [
    "import numpy as np\n",
    "num = [[3]]\n",
    "x = tf.placeholder(dtype=tf.int32, shape=[None,1])\n",
    "w = tf.Variable(np.arange(1,10))\n",
    "y = x * w\n",
    "init = tf.global_variables_initializer()\n",
    "sess = tf.Session()\n",
    "sess.run(init)\n",
    "sess.run(y, feed_dict={x:num})"
   ]
  },
  {
   "cell_type": "code",
   "execution_count": null,
   "metadata": {},
   "outputs": [],
   "source": []
  }
 ],
 "metadata": {
  "kernelspec": {
   "display_name": "Python 3",
   "language": "python",
   "name": "python3"
  },
  "language_info": {
   "codemirror_mode": {
    "name": "ipython",
    "version": 3
   },
   "file_extension": ".py",
   "mimetype": "text/x-python",
   "name": "python",
   "nbconvert_exporter": "python",
   "pygments_lexer": "ipython3",
   "version": "3.7.3"
  }
 },
 "nbformat": 4,
 "nbformat_minor": 2
}
