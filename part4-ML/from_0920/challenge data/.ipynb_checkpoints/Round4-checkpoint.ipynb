{
 "cells": [
  {
   "cell_type": "code",
   "execution_count": 1,
   "metadata": {},
   "outputs": [],
   "source": [
    "import pandas as pd\n",
    "import numpy as np\n",
    "from sklearn.ensemble import RandomForestClassifier\n",
    "from sklearn.model_selection import train_test_split\n",
    "import matplotlib.pyplot as plt\n",
    "import seaborn as sns"
   ]
  },
  {
   "cell_type": "code",
   "execution_count": 134,
   "metadata": {},
   "outputs": [
    {
     "name": "stdout",
     "output_type": "stream",
     "text": [
      "58\n"
     ]
    },
    {
     "name": "stderr",
     "output_type": "stream",
     "text": [
      "C:\\Users\\MAIN\\Anaconda3\\envs\\kaggle\\lib\\site-packages\\IPython\\core\\interactiveshell.py:3058: DtypeWarning: Columns (14,15) have mixed types. Specify dtype option on import or set low_memory=False.\n",
      "  interactivity=interactivity, compiler=compiler, result=result)\n"
     ]
    }
   ],
   "source": [
    "train = pd.read_csv('data/train.csv')\n",
    "test = pd.read_csv('data/test.csv')\n",
    "\n",
    "# description ',' 때문에 밀린 data 몇개?\n",
    "print(train['Unnamed: 12'].notnull().sum() +\\\n",
    "train['Unnamed: 13'].notnull().sum() +\\\n",
    "train['Unnamed: 14'].notnull().sum() +\\\n",
    "train['Unnamed: 15'].notnull().sum())\n",
    "\n",
    "# 밀린 data 제거\n",
    "train = train.drop(train[train['Unnamed: 12'].notnull()].index.values, axis=0)\n",
    "train = train.drop(train[train['Unnamed: 13'].notnull()].index.values, axis=0)\n",
    "train = train.drop(train[train['Unnamed: 14'].notnull()].index.values, axis=0)\n",
    "train = train.drop(train[train['Unnamed: 15'].notnull()].index.values, axis=0)\n",
    "\n",
    "train = train.drop(['Unnamed: 12', 'Unnamed: 13', 'Unnamed: 14', 'Unnamed: 15'], axis=1)"
   ]
  },
  {
   "cell_type": "code",
   "execution_count": 135,
   "metadata": {},
   "outputs": [
    {
     "data": {
      "text/html": [
       "<div>\n",
       "<style scoped>\n",
       "    .dataframe tbody tr th:only-of-type {\n",
       "        vertical-align: middle;\n",
       "    }\n",
       "\n",
       "    .dataframe tbody tr th {\n",
       "        vertical-align: top;\n",
       "    }\n",
       "\n",
       "    .dataframe thead th {\n",
       "        text-align: right;\n",
       "    }\n",
       "</style>\n",
       "<table border=\"1\" class=\"dataframe\">\n",
       "  <thead>\n",
       "    <tr style=\"text-align: right;\">\n",
       "      <th></th>\n",
       "      <th>index</th>\n",
       "      <th>country</th>\n",
       "      <th>description</th>\n",
       "      <th>designation</th>\n",
       "      <th>points</th>\n",
       "      <th>price</th>\n",
       "      <th>province</th>\n",
       "      <th>region_1</th>\n",
       "      <th>region_2</th>\n",
       "      <th>taster_name</th>\n",
       "      <th>variety</th>\n",
       "      <th>winery</th>\n",
       "    </tr>\n",
       "  </thead>\n",
       "  <tbody>\n",
       "    <tr>\n",
       "      <th>0</th>\n",
       "      <td>0</td>\n",
       "      <td>Italy</td>\n",
       "      <td>Aromas include tropical fruit, broom, brimston...</td>\n",
       "      <td>Vulkà Bianco</td>\n",
       "      <td>87</td>\n",
       "      <td>NaN</td>\n",
       "      <td>Sicily &amp; Sardinia</td>\n",
       "      <td>Etna</td>\n",
       "      <td>NaN</td>\n",
       "      <td>Kerin O’Keefe</td>\n",
       "      <td>White Blend</td>\n",
       "      <td>Nicosia</td>\n",
       "    </tr>\n",
       "    <tr>\n",
       "      <th>1</th>\n",
       "      <td>1</td>\n",
       "      <td>Portugal</td>\n",
       "      <td>This is ripe and fruity, a wine that is smooth...</td>\n",
       "      <td>Avidagos</td>\n",
       "      <td>87</td>\n",
       "      <td>15</td>\n",
       "      <td>Douro</td>\n",
       "      <td>NaN</td>\n",
       "      <td>NaN</td>\n",
       "      <td>Roger Voss</td>\n",
       "      <td>Portuguese Red</td>\n",
       "      <td>Quinta dos Avidagos</td>\n",
       "    </tr>\n",
       "    <tr>\n",
       "      <th>2</th>\n",
       "      <td>2</td>\n",
       "      <td>US</td>\n",
       "      <td>Tart and snappy, the flavors of lime flesh and...</td>\n",
       "      <td>NaN</td>\n",
       "      <td>87</td>\n",
       "      <td>14</td>\n",
       "      <td>Oregon</td>\n",
       "      <td>Willamette Valley</td>\n",
       "      <td>Willamette Valley</td>\n",
       "      <td>Paul Gregutt</td>\n",
       "      <td>Pinot Gris</td>\n",
       "      <td>Rainstorm</td>\n",
       "    </tr>\n",
       "    <tr>\n",
       "      <th>3</th>\n",
       "      <td>3</td>\n",
       "      <td>US</td>\n",
       "      <td>Pineapple rind, lemon pith and orange blossom ...</td>\n",
       "      <td>Reserve Late Harvest</td>\n",
       "      <td>87</td>\n",
       "      <td>13</td>\n",
       "      <td>Michigan</td>\n",
       "      <td>Lake Michigan Shore</td>\n",
       "      <td>NaN</td>\n",
       "      <td>Alexander Peartree</td>\n",
       "      <td>Riesling</td>\n",
       "      <td>St. Julian</td>\n",
       "    </tr>\n",
       "    <tr>\n",
       "      <th>4</th>\n",
       "      <td>4</td>\n",
       "      <td>US</td>\n",
       "      <td>Much like the regular bottling from 2012, this...</td>\n",
       "      <td>Vintner's Reserve Wild Child Block</td>\n",
       "      <td>87</td>\n",
       "      <td>65</td>\n",
       "      <td>Oregon</td>\n",
       "      <td>Willamette Valley</td>\n",
       "      <td>Willamette Valley</td>\n",
       "      <td>Paul Gregutt</td>\n",
       "      <td>Pinot Noir</td>\n",
       "      <td>Sweet Cheeks</td>\n",
       "    </tr>\n",
       "  </tbody>\n",
       "</table>\n",
       "</div>"
      ],
      "text/plain": [
       "   index   country                                        description  \\\n",
       "0      0     Italy  Aromas include tropical fruit, broom, brimston...   \n",
       "1      1  Portugal  This is ripe and fruity, a wine that is smooth...   \n",
       "2      2        US  Tart and snappy, the flavors of lime flesh and...   \n",
       "3      3        US  Pineapple rind, lemon pith and orange blossom ...   \n",
       "4      4        US  Much like the regular bottling from 2012, this...   \n",
       "\n",
       "                          designation points price           province  \\\n",
       "0                        Vulkà Bianco     87   NaN  Sicily & Sardinia   \n",
       "1                            Avidagos     87    15              Douro   \n",
       "2                                 NaN     87    14             Oregon   \n",
       "3                Reserve Late Harvest     87    13           Michigan   \n",
       "4  Vintner's Reserve Wild Child Block     87    65             Oregon   \n",
       "\n",
       "              region_1           region_2         taster_name         variety  \\\n",
       "0                 Etna                NaN       Kerin O’Keefe     White Blend   \n",
       "1                  NaN                NaN          Roger Voss  Portuguese Red   \n",
       "2    Willamette Valley  Willamette Valley        Paul Gregutt      Pinot Gris   \n",
       "3  Lake Michigan Shore                NaN  Alexander Peartree        Riesling   \n",
       "4    Willamette Valley  Willamette Valley        Paul Gregutt      Pinot Noir   \n",
       "\n",
       "                winery  \n",
       "0              Nicosia  \n",
       "1  Quinta dos Avidagos  \n",
       "2            Rainstorm  \n",
       "3           St. Julian  \n",
       "4         Sweet Cheeks  "
      ]
     },
     "execution_count": 135,
     "metadata": {},
     "output_type": "execute_result"
    }
   ],
   "source": [
    "train.head()"
   ]
  },
  {
   "cell_type": "code",
   "execution_count": 136,
   "metadata": {},
   "outputs": [
    {
     "name": "stdout",
     "output_type": "stream",
     "text": [
      "<class 'pandas.core.frame.DataFrame'>\n",
      "Int64Index: 49958 entries, 0 to 50000\n",
      "Data columns (total 12 columns):\n",
      "index          49958 non-null int64\n",
      "country        49930 non-null object\n",
      "description    49958 non-null object\n",
      "designation    35621 non-null object\n",
      "points         49958 non-null object\n",
      "price          46430 non-null object\n",
      "province       49930 non-null object\n",
      "region_1       41763 non-null object\n",
      "region_2       19203 non-null object\n",
      "taster_name    39717 non-null object\n",
      "variety        49958 non-null object\n",
      "winery         49958 non-null object\n",
      "dtypes: int64(1), object(11)\n",
      "memory usage: 5.0+ MB\n"
     ]
    }
   ],
   "source": [
    "train.info()"
   ]
  },
  {
   "cell_type": "markdown",
   "metadata": {},
   "source": [
    "## eda & preprocessing "
   ]
  },
  {
   "cell_type": "code",
   "execution_count": 137,
   "metadata": {},
   "outputs": [],
   "source": [
    "# taster name 제거\n",
    "# train = train.drop('taster_name', axis=1)"
   ]
  },
  {
   "cell_type": "code",
   "execution_count": 138,
   "metadata": {},
   "outputs": [],
   "source": [
    "# numeric 데이터 변환\n",
    "train['points'] = train['points'].astype('int')\n",
    "# train['price'] = train['price'].fillna('9999')\n",
    "# train['price'] = train['price'].astype('int')\n",
    "# train['price'] = train['price'].transform(lambda x: train['price'].median() if x==9999 else x).astype('int')  # NaN값 이었던 가격 중간값으로 대체\n",
    "train = train.drop('price', axis=1)  # test data에 'price' column 없음.."
   ]
  },
  {
   "cell_type": "code",
   "execution_count": 139,
   "metadata": {},
   "outputs": [],
   "source": [
    "train_cols = train.columns.drop('points')\n",
    "test = test[train_cols]  # 'Unnamed' column 제거"
   ]
  },
  {
   "cell_type": "markdown",
   "metadata": {},
   "source": [
    "### 시각화"
   ]
  },
  {
   "cell_type": "code",
   "execution_count": 140,
   "metadata": {},
   "outputs": [
    {
     "name": "stdout",
     "output_type": "stream",
     "text": [
      "<class 'pandas.core.frame.DataFrame'>\n",
      "Int64Index: 49958 entries, 0 to 50000\n",
      "Data columns (total 11 columns):\n",
      "index          49958 non-null int64\n",
      "country        49930 non-null object\n",
      "description    49958 non-null object\n",
      "designation    35621 non-null object\n",
      "points         49958 non-null int32\n",
      "province       49930 non-null object\n",
      "region_1       41763 non-null object\n",
      "region_2       19203 non-null object\n",
      "taster_name    39717 non-null object\n",
      "variety        49958 non-null object\n",
      "winery         49958 non-null object\n",
      "dtypes: int32(1), int64(1), object(9)\n",
      "memory usage: 4.4+ MB\n"
     ]
    }
   ],
   "source": [
    "train.info()"
   ]
  },
  {
   "cell_type": "code",
   "execution_count": 141,
   "metadata": {},
   "outputs": [
    {
     "data": {
      "image/png": "[encoded data removed]",
      "text/plain": [
       "<Figure size 432x288 with 1 Axes>"
      ]
     },
     "metadata": {
      "needs_background": "light"
     },
     "output_type": "display_data"
    }
   ],
   "source": [
    "numeric_cols = ['points']\n",
    "fig, ax = plt.subplots(nrows=len(numeric_cols))\n",
    "\n",
    "for i, col in enumerate(numeric_cols):\n",
    "    sns.distplot(train[col], ax=ax)"
   ]
  },
  {
   "cell_type": "markdown",
   "metadata": {},
   "source": [
    "### tf-idf 만들기"
   ]
  },
  {
   "cell_type": "code",
   "execution_count": 142,
   "metadata": {},
   "outputs": [],
   "source": [
    "from sklearn.feature_extraction.text import CountVectorizer\n",
    "from sklearn.feature_extraction.text import TfidfTransformer\n",
    "from sklearn.naive_bayes import MultinomialNB\n",
    "from sklearn.metrics import accuracy_score\n",
    "from string import punctuation\n",
    "import re\n",
    "import konlpy"
   ]
  },
  {
   "cell_type": "code",
   "execution_count": 143,
   "metadata": {},
   "outputs": [
    {
     "data": {
      "text/plain": [
       "\"Aromas include tropical fruit, broom, brimstone and dried herb. The palate isn't overly expressive, offering unripened apple, citrus and dried sage alongside brisk acidity.\""
      ]
     },
     "execution_count": 143,
     "metadata": {},
     "output_type": "execute_result"
    }
   ],
   "source": [
    "text = train['description'][0]\n",
    "text"
   ]
  },
  {
   "cell_type": "code",
   "execution_count": 144,
   "metadata": {},
   "outputs": [],
   "source": [
    "def word_tokenize(text):\n",
    "    text = text.lower()  # lowercase\n",
    "    text = re.sub(f'[{punctuation}0-9]+', '', text)  # punctuation 제거 + 숫자 제거\n",
    "    word_tokens = text.split(' ')  # word tokenize    \n",
    "    \n",
    "    # stopwords 제거, nltk 사용 못해서 1~10번째까지 description 를 바탕으로 stopwords 직접 입력하였습니다.\n",
    "    stopwords = ['a', 'the', 'and', 'that', 'with', 'it', 'of', 'some', 'with', 'while', 'isnt', 'arent', \n",
    "                 'am', 'is', 'are', 'its', 'be', 'from', 'some', 'through', 'was', 'were', 'more', 'few', \n",
    "                 'to', 'this', 'as', 'if', 'i', 'you', 'he', 'she', 'they', 'we', 'will', 'in', 'for', 'very',\n",
    "                 'much', 'little', 'an', 'have', 'has', 'but', 'over', 'include']\n",
    "    tmp = []    \n",
    "    for word in word_tokens:\n",
    "        if word in stopwords:\n",
    "            pass\n",
    "        else:\n",
    "            tmp.append(word)\n",
    "    word_tokens = tmp.copy()\n",
    "    \n",
    "    return word_tokens"
   ]
  },
  {
   "cell_type": "code",
   "execution_count": 145,
   "metadata": {},
   "outputs": [],
   "source": [
    "train['description'] = train['description'].transform(word_tokenize)"
   ]
  },
  {
   "cell_type": "code",
   "execution_count": 146,
   "metadata": {},
   "outputs": [],
   "source": [
    "train_X = train['description'].transform(lambda x: ' '.join(x))\n",
    "\n",
    "# dtm 만들기\n",
    "dtm_vector = CountVectorizer()\n",
    "train_X_dtm = dtm_vector.fit_transform(train_X)\n",
    "\n",
    "# dtm -> tf-idf 변환하기\n",
    "tfidf_transformer = TfidfTransformer()\n",
    "tfidf_vector = tfidf_transformer.fit_transform(train_X_dtm)"
   ]
  },
  {
   "cell_type": "code",
   "execution_count": 147,
   "metadata": {},
   "outputs": [
    {
     "data": {
      "text/plain": [
       "MultinomialNB(alpha=1.0, class_prior=None, fit_prior=True)"
      ]
     },
     "execution_count": 147,
     "metadata": {},
     "output_type": "execute_result"
    }
   ],
   "source": [
    "y_train = train['points']\n",
    "model = MultinomialNB()\n",
    "model.fit(tfidf_vector, y_train)"
   ]
  },
  {
   "cell_type": "code",
   "execution_count": 148,
   "metadata": {},
   "outputs": [],
   "source": [
    "test['description'] = test['description'].transform(word_tokenize)"
   ]
  },
  {
   "cell_type": "code",
   "execution_count": 149,
   "metadata": {},
   "outputs": [],
   "source": [
    "test_X = test['description'].transform(lambda x: ' '.join(x))\n",
    "\n",
    "test_X_dtm = dtm_vector.transform(test_X)\n",
    "tfidf_test = tfidf_transformer.transform(test_X_dtm)"
   ]
  },
  {
   "cell_type": "code",
   "execution_count": 150,
   "metadata": {},
   "outputs": [],
   "source": [
    "pred = model.predict(tfidf_test)"
   ]
  },
  {
   "cell_type": "code",
   "execution_count": 160,
   "metadata": {},
   "outputs": [],
   "source": [
    "idx = pd.DataFrame(test['index'], columns=['index'])\n",
    "pred = pd.DataFrame(pred, columns=['points'])"
   ]
  },
  {
   "cell_type": "code",
   "execution_count": 163,
   "metadata": {},
   "outputs": [],
   "source": [
    "pd.concat([idx, pred], axis=1).to_csv('submission.csv')"
   ]
  }
 ],
 "metadata": {
  "kernelspec": {
   "display_name": "Python 3",
   "language": "python",
   "name": "python3"
  },
  "language_info": {
   "codemirror_mode": {
    "name": "ipython",
    "version": 3
   },
   "file_extension": ".py",
   "mimetype": "text/x-python",
   "name": "python",
   "nbconvert_exporter": "python",
   "pygments_lexer": "ipython3",
   "version": "3.7.3"
  }
 },
 "nbformat": 4,
 "nbformat_minor": 2
}
