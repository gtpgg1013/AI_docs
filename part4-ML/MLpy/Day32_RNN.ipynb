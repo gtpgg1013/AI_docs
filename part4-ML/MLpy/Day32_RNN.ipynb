{
  "nbformat": 4,
  "nbformat_minor": 0,
  "metadata": {
    "colab": {
      "name": "Day32_RNN",
      "version": "0.3.2",
      "provenance": [],
      "collapsed_sections": []
    },
    "kernelspec": {
      "name": "python3",
      "display_name": "Python 3"
    },
    "accelerator": "GPU"
  },
  "cells": [
    {
      "cell_type": "code",
      "metadata": {
        "id": "u7edHJ_qi9WB",
        "colab_type": "code",
        "colab": {}
      },
      "source": [
        "import numpy as np"
      ],
      "execution_count": 0,
      "outputs": []
    },
    {
      "cell_type": "code",
      "metadata": {
        "id": "dGNJRvhZhKFE",
        "colab_type": "code",
        "colab": {}
      },
      "source": [
        "arr = np.arange(32)"
      ],
      "execution_count": 0,
      "outputs": []
    },
    {
      "cell_type": "code",
      "metadata": {
        "id": "9PxjO98_hbd_",
        "colab_type": "code",
        "colab": {}
      },
      "source": [
        "v = arr.reshape([4,2,4])"
      ],
      "execution_count": 0,
      "outputs": []
    },
    {
      "cell_type": "code",
      "metadata": {
        "id": "OtiXqWx0hdYV",
        "colab_type": "code",
        "outputId": "e8fed86a-9599-4778-c3d9-96847d08f194",
        "colab": {
          "base_uri": "https://localhost:8080/",
          "height": 215
        }
      },
      "source": [
        "v"
      ],
      "execution_count": 17,
      "outputs": [
        {
          "output_type": "execute_result",
          "data": {
            "text/plain": [
              "array([[[ 0,  1,  2,  3],\n",
              "        [ 4,  5,  6,  7]],\n",
              "\n",
              "       [[ 8,  9, 10, 11],\n",
              "        [12, 13, 14, 15]],\n",
              "\n",
              "       [[16, 17, 18, 19],\n",
              "        [20, 21, 22, 23]],\n",
              "\n",
              "       [[24, 25, 26, 27],\n",
              "        [28, 29, 30, 31]]])"
            ]
          },
          "metadata": {
            "tags": []
          },
          "execution_count": 17
        }
      ]
    },
    {
      "cell_type": "code",
      "metadata": {
        "id": "v3QZbF7EheGH",
        "colab_type": "code",
        "outputId": "d90f7393-e487-4dc6-e158-1c8ae5dbb7f0",
        "colab": {
          "base_uri": "https://localhost:8080/",
          "height": 53
        }
      },
      "source": [
        "print(v.sum(axis=0), v.sum(axis=0).shape) # 행"
      ],
      "execution_count": 18,
      "outputs": [
        {
          "output_type": "stream",
          "text": [
            "[[48 52 56 60]\n",
            " [64 68 72 76]] (2, 4)\n"
          ],
          "name": "stdout"
        }
      ]
    },
    {
      "cell_type": "code",
      "metadata": {
        "id": "Il-PcmLwjyrP",
        "colab_type": "code",
        "outputId": "4eb2b4f4-d703-4fd7-f051-93be96573a7c",
        "colab": {
          "base_uri": "https://localhost:8080/",
          "height": 89
        }
      },
      "source": [
        "print(v.sum(axis=1), v.sum(axis=1).shape) # 열"
      ],
      "execution_count": 19,
      "outputs": [
        {
          "output_type": "stream",
          "text": [
            "[[ 4  6  8 10]\n",
            " [20 22 24 26]\n",
            " [36 38 40 42]\n",
            " [52 54 56 58]] (4, 4)\n"
          ],
          "name": "stdout"
        }
      ]
    },
    {
      "cell_type": "code",
      "metadata": {
        "id": "Hzru5iLEj4HF",
        "colab_type": "code",
        "outputId": "dda5e95b-6f30-4ac5-9eb0-6726e583937c",
        "colab": {
          "base_uri": "https://localhost:8080/",
          "height": 89
        }
      },
      "source": [
        "print(v.sum(axis=2), v.sum(axis=2).shape) # 깊이"
      ],
      "execution_count": 20,
      "outputs": [
        {
          "output_type": "stream",
          "text": [
            "[[  6  22]\n",
            " [ 38  54]\n",
            " [ 70  86]\n",
            " [102 118]] (4, 2)\n"
          ],
          "name": "stdout"
        }
      ]
    },
    {
      "cell_type": "code",
      "metadata": {
        "id": "RbJnuzJBj8T7",
        "colab_type": "code",
        "outputId": "0623e74c-a663-4c43-c1cb-d62a6e3b20b0",
        "colab": {
          "base_uri": "https://localhost:8080/",
          "height": 143
        }
      },
      "source": [
        "mytensor = np.arange(2*3*4).reshape(2,3,4)\n",
        "mytensor"
      ],
      "execution_count": 21,
      "outputs": [
        {
          "output_type": "execute_result",
          "data": {
            "text/plain": [
              "array([[[ 0,  1,  2,  3],\n",
              "        [ 4,  5,  6,  7],\n",
              "        [ 8,  9, 10, 11]],\n",
              "\n",
              "       [[12, 13, 14, 15],\n",
              "        [16, 17, 18, 19],\n",
              "        [20, 21, 22, 23]]])"
            ]
          },
          "metadata": {
            "tags": []
          },
          "execution_count": 21
        }
      ]
    },
    {
      "cell_type": "code",
      "metadata": {
        "id": "d38UVow8k11s",
        "colab_type": "code",
        "outputId": "33ac83e5-ba98-4872-8281-62ac5655e723",
        "colab": {
          "base_uri": "https://localhost:8080/",
          "height": 35
        }
      },
      "source": [
        "mytensor.shape"
      ],
      "execution_count": 22,
      "outputs": [
        {
          "output_type": "execute_result",
          "data": {
            "text/plain": [
              "(2, 3, 4)"
            ]
          },
          "metadata": {
            "tags": []
          },
          "execution_count": 22
        }
      ]
    },
    {
      "cell_type": "code",
      "metadata": {
        "id": "C8qG4AEelCFT",
        "colab_type": "code",
        "outputId": "ede9fa48-3b11-4383-902e-0d19cc2bbbf3",
        "colab": {
          "base_uri": "https://localhost:8080/",
          "height": 35
        }
      },
      "source": [
        "np.transpose(mytensor).shape"
      ],
      "execution_count": 23,
      "outputs": [
        {
          "output_type": "execute_result",
          "data": {
            "text/plain": [
              "(4, 3, 2)"
            ]
          },
          "metadata": {
            "tags": []
          },
          "execution_count": 23
        }
      ]
    },
    {
      "cell_type": "code",
      "metadata": {
        "id": "19m1jFbklMY8",
        "colab_type": "code",
        "outputId": "474b17f4-376e-4d08-aaa5-4d5d6d3c101e",
        "colab": {
          "base_uri": "https://localhost:8080/",
          "height": 35
        }
      },
      "source": [
        "np.transpose(mytensor, [1,2,0]).shape # '현재' 0,1,2가 저 모양으로 이동"
      ],
      "execution_count": 24,
      "outputs": [
        {
          "output_type": "execute_result",
          "data": {
            "text/plain": [
              "(3, 4, 2)"
            ]
          },
          "metadata": {
            "tags": []
          },
          "execution_count": 24
        }
      ]
    },
    {
      "cell_type": "code",
      "metadata": {
        "id": "LH6IskQploTx",
        "colab_type": "code",
        "colab": {}
      },
      "source": [
        "import tensorflow as tf"
      ],
      "execution_count": 0,
      "outputs": []
    },
    {
      "cell_type": "code",
      "metadata": {
        "id": "v0FUWSJtq_vM",
        "colab_type": "code",
        "colab": {}
      },
      "source": [
        "from tensorflow.examples.tutorials.mnist import input_data"
      ],
      "execution_count": 0,
      "outputs": []
    },
    {
      "cell_type": "code",
      "metadata": {
        "id": "i-FOaqNxrDxg",
        "colab_type": "code",
        "colab": {
          "base_uri": "https://localhost:8080/",
          "height": 577
        },
        "outputId": "0066df3b-33a0-4116-a3e0-ce879095a678"
      },
      "source": [
        "mnist = input_data.read_data_sets(\"./mnist2/data.\", one_hot=True)"
      ],
      "execution_count": 27,
      "outputs": [
        {
          "output_type": "stream",
          "text": [
            "WARNING: Logging before flag parsing goes to stderr.\n",
            "W0821 05:35:48.094730 139935551059840 deprecation.py:323] From <ipython-input-27-ce16def223e5>:1: read_data_sets (from tensorflow.contrib.learn.python.learn.datasets.mnist) is deprecated and will be removed in a future version.\n",
            "Instructions for updating:\n",
            "Please use alternatives such as official/mnist/dataset.py from tensorflow/models.\n",
            "W0821 05:35:48.096376 139935551059840 deprecation.py:323] From /usr/local/lib/python3.6/dist-packages/tensorflow/contrib/learn/python/learn/datasets/mnist.py:260: maybe_download (from tensorflow.contrib.learn.python.learn.datasets.base) is deprecated and will be removed in a future version.\n",
            "Instructions for updating:\n",
            "Please write your own downloading logic.\n",
            "W0821 05:35:48.098838 139935551059840 deprecation.py:323] From /usr/local/lib/python3.6/dist-packages/tensorflow/contrib/learn/python/learn/datasets/base.py:252: _internal_retry.<locals>.wrap.<locals>.wrapped_fn (from tensorflow.contrib.learn.python.learn.datasets.base) is deprecated and will be removed in a future version.\n",
            "Instructions for updating:\n",
            "Please use urllib or similar directly.\n",
            "W0821 05:35:48.312037 139935551059840 deprecation.py:323] From /usr/local/lib/python3.6/dist-packages/tensorflow/contrib/learn/python/learn/datasets/mnist.py:262: extract_images (from tensorflow.contrib.learn.python.learn.datasets.mnist) is deprecated and will be removed in a future version.\n",
            "Instructions for updating:\n",
            "Please use tf.data to implement this functionality.\n"
          ],
          "name": "stderr"
        },
        {
          "output_type": "stream",
          "text": [
            "Successfully downloaded train-images-idx3-ubyte.gz 9912422 bytes.\n",
            "Extracting ./mnist2/data./train-images-idx3-ubyte.gz\n"
          ],
          "name": "stdout"
        },
        {
          "output_type": "stream",
          "text": [
            "W0821 05:35:48.733147 139935551059840 deprecation.py:323] From /usr/local/lib/python3.6/dist-packages/tensorflow/contrib/learn/python/learn/datasets/mnist.py:267: extract_labels (from tensorflow.contrib.learn.python.learn.datasets.mnist) is deprecated and will be removed in a future version.\n",
            "Instructions for updating:\n",
            "Please use tf.data to implement this functionality.\n",
            "W0821 05:35:48.738938 139935551059840 deprecation.py:323] From /usr/local/lib/python3.6/dist-packages/tensorflow/contrib/learn/python/learn/datasets/mnist.py:110: dense_to_one_hot (from tensorflow.contrib.learn.python.learn.datasets.mnist) is deprecated and will be removed in a future version.\n",
            "Instructions for updating:\n",
            "Please use tf.one_hot on tensors.\n"
          ],
          "name": "stderr"
        },
        {
          "output_type": "stream",
          "text": [
            "Successfully downloaded train-labels-idx1-ubyte.gz 28881 bytes.\n",
            "Extracting ./mnist2/data./train-labels-idx1-ubyte.gz\n",
            "Successfully downloaded t10k-images-idx3-ubyte.gz 1648877 bytes.\n",
            "Extracting ./mnist2/data./t10k-images-idx3-ubyte.gz\n"
          ],
          "name": "stdout"
        },
        {
          "output_type": "stream",
          "text": [
            "W0821 05:35:49.012748 139935551059840 deprecation.py:323] From /usr/local/lib/python3.6/dist-packages/tensorflow/contrib/learn/python/learn/datasets/mnist.py:290: DataSet.__init__ (from tensorflow.contrib.learn.python.learn.datasets.mnist) is deprecated and will be removed in a future version.\n",
            "Instructions for updating:\n",
            "Please use alternatives such as official/mnist/dataset.py from tensorflow/models.\n"
          ],
          "name": "stderr"
        },
        {
          "output_type": "stream",
          "text": [
            "Successfully downloaded t10k-labels-idx1-ubyte.gz 4542 bytes.\n",
            "Extracting ./mnist2/data./t10k-labels-idx1-ubyte.gz\n"
          ],
          "name": "stdout"
        }
      ]
    },
    {
      "cell_type": "code",
      "metadata": {
        "id": "uYkQKdfYraZL",
        "colab_type": "code",
        "colab": {}
      },
      "source": [
        "learning_rate = 0.001\n",
        "total_epoch = 30\n",
        "batch_size = 128\n",
        "tf.reset_default_graph()"
      ],
      "execution_count": 0,
      "outputs": []
    },
    {
      "cell_type": "code",
      "metadata": {
        "id": "T9TeCNlpsG2b",
        "colab_type": "code",
        "colab": {}
      },
      "source": [
        "n_input = 28 # 가로 픽셀수\n",
        "n_step = 28 # 세로 픽셀수(입력 단계, step)\n",
        "n_hidden = 128\n",
        "n_class = 10\n",
        "tf.reset_default_graph()"
      ],
      "execution_count": 0,
      "outputs": []
    },
    {
      "cell_type": "code",
      "metadata": {
        "id": "lXO9FM0MsQx9",
        "colab_type": "code",
        "colab": {}
      },
      "source": [
        "x = tf.placeholder(tf.float32, [None,n_step,n_input])\n",
        "y = tf.placeholder(tf.float32, [None,n_class])\n",
        "w = tf.get_variable(\"w_1\", [n_hidden, n_class], initializer=tf.contrib.layers.xavier_initializer())\n",
        "b = tf.get_variable(\"b_1\", [n_class], initializer=tf.contrib.layers.xavier_initializer())"
      ],
      "execution_count": 0,
      "outputs": []
    },
    {
      "cell_type": "code",
      "metadata": {
        "id": "KpuCanq_td4s",
        "colab_type": "code",
        "colab": {}
      },
      "source": [
        "cell = tf.nn.rnn_cell.BasicRNNCell(n_hidden)\n",
        "outputs, states = tf.nn.dynamic_rnn(cell, x, dtype=tf.float32)\n",
        "# Y : [batch_size, n_class]\n",
        "# outputs : [batch_size, n_step, n_hidden]\n",
        "# => [n_step, batch_size, n_hidden]\n",
        "# => [batch_size, n_hidden] # 모양을 바꿔서 사용해야 함!\n",
        "outputs = tf.transpose(outputs,[1,0,2])\n",
        "outputs = outputs[-1]  # 일케하면 [batch_size, n_hidden]만 남음!\n",
        "model = tf.matmul(outputs,w) + b\n",
        "\n",
        "cost = tf.nn.softmax_cross_entropy_with_logits_v2(logits=model, labels=y)\n",
        "cost = tf.reduce_mean(cost)\n",
        "optimizer = tf.train.AdamOptimizer(learning_rate).minimize(cost)"
      ],
      "execution_count": 0,
      "outputs": []
    },
    {
      "cell_type": "code",
      "metadata": {
        "id": "Ej1n-VODw95h",
        "colab_type": "code",
        "colab": {}
      },
      "source": [
        "sess = tf.Session()\n",
        "sess.run(tf.global_variables_initializer())"
      ],
      "execution_count": 0,
      "outputs": []
    },
    {
      "cell_type": "code",
      "metadata": {
        "id": "d6jq6PSrxYPJ",
        "colab_type": "code",
        "colab": {
          "base_uri": "https://localhost:8080/",
          "height": 557
        },
        "outputId": "4b5f4a5a-1291-4cc0-9d98-721fb913b3ca"
      },
      "source": [
        "total_batch = int(mnist.train.num_examples/batch_size)\n",
        "for epoch in range(total_epoch):\n",
        "  total_cost = 0\n",
        "  for i in range(total_batch):\n",
        "    batch_xs, batch_ys = mnist.train.next_batch(batch_size)\n",
        "    batch_xs = batch_xs.reshape((batch_size, n_step, n_input))\n",
        "    # [batch_size, n_step, n_input]\n",
        "    _, cv = sess.run([optimizer, cost], feed_dict={x:batch_xs, y:batch_ys})\n",
        "    total_cost += cv\n",
        "  print(\"epoch : {}, avg_cost : {}\".format(epoch+1, total_cost/total_batch))"
      ],
      "execution_count": 54,
      "outputs": [
        {
          "output_type": "stream",
          "text": [
            "epoch : 1, avg_cost : 0.5430568915147048\n",
            "epoch : 2, avg_cost : 0.2515267971512321\n",
            "epoch : 3, avg_cost : 0.1851929910741486\n",
            "epoch : 4, avg_cost : 0.15459033640184047\n",
            "epoch : 5, avg_cost : 0.1326642122275971\n",
            "epoch : 6, avg_cost : 0.11775518754076013\n",
            "epoch : 7, avg_cost : 0.11380404850906564\n",
            "epoch : 8, avg_cost : 0.1036257049186038\n",
            "epoch : 9, avg_cost : 0.0970652755697221\n",
            "epoch : 10, avg_cost : 0.09360932667103611\n",
            "epoch : 11, avg_cost : 0.08757326683129395\n",
            "epoch : 12, avg_cost : 0.08845197211186855\n",
            "epoch : 13, avg_cost : 0.07671782077835017\n",
            "epoch : 14, avg_cost : 0.07741638352673301\n",
            "epoch : 15, avg_cost : 0.07457666702585898\n",
            "epoch : 16, avg_cost : 0.07290003528180239\n",
            "epoch : 17, avg_cost : 0.07098801025256758\n",
            "epoch : 18, avg_cost : 0.06399800484274928\n",
            "epoch : 19, avg_cost : 0.06971881681692836\n",
            "epoch : 20, avg_cost : 0.06592006385565186\n",
            "epoch : 21, avg_cost : 0.06018876325716818\n",
            "epoch : 22, avg_cost : 0.06557242143551856\n",
            "epoch : 23, avg_cost : 0.05725143788955533\n",
            "epoch : 24, avg_cost : 0.056431397512372763\n",
            "epoch : 25, avg_cost : 0.057854061512089834\n",
            "epoch : 26, avg_cost : 0.059066567483134484\n",
            "epoch : 27, avg_cost : 0.053770437616299155\n",
            "epoch : 28, avg_cost : 0.0588011848577461\n",
            "epoch : 29, avg_cost : 0.05318971673495598\n",
            "epoch : 30, avg_cost : 0.053246012698350983\n"
          ],
          "name": "stdout"
        }
      ]
    },
    {
      "cell_type": "code",
      "metadata": {
        "id": "0AwzV5cL3dfK",
        "colab_type": "code",
        "colab": {
          "base_uri": "https://localhost:8080/",
          "height": 35
        },
        "outputId": "988b7def-5f39-41af-999f-e17fb7c41089"
      },
      "source": [
        "is_correct = tf.cast(tf.equal(tf.argmax(model,1), tf.argmax(y,1)), dtype=tf.float32)\n",
        "accuracy = tf.reduce_mean(is_correct)\n",
        "test_batch_size = len(mnist.test.images)\n",
        "\n",
        "test_xs = mnist.test.images.reshape(test_batch_size, n_step, n_input)\n",
        "test_ys = mnist.test.labels\n",
        "\n",
        "print(\"정확도 : \", sess.run(accuracy, feed_dict={x:test_xs, y:test_ys}) )"
      ],
      "execution_count": 56,
      "outputs": [
        {
          "output_type": "stream",
          "text": [
            "정확도 :  0.9739\n"
          ],
          "name": "stdout"
        }
      ]
    },
    {
      "cell_type": "code",
      "metadata": {
        "id": "yJyZt1sc7HpP",
        "colab_type": "code",
        "colab": {}
      },
      "source": [
        "char_arr = ['a', 'b', 'c', 'd', 'e', 'f', 'g',\n",
        "            'h', 'i', 'j', 'k', 'l', 'm', 'n',\n",
        "            'o', 'p', 'q', 'r', 's', 't', 'u',\n",
        "            'v', 'w', 'x', 'y', 'z']"
      ],
      "execution_count": 0,
      "outputs": []
    },
    {
      "cell_type": "code",
      "metadata": {
        "id": "PF74YSQB8-l6",
        "colab_type": "code",
        "colab": {
          "base_uri": "https://localhost:8080/",
          "height": 485
        },
        "outputId": "254a7030-85ac-44e2-ba4e-4e8494375e3e"
      },
      "source": [
        "num_dic = {n:i for i,n in enumerate(char_arr)}\n",
        "num_dic"
      ],
      "execution_count": 58,
      "outputs": [
        {
          "output_type": "execute_result",
          "data": {
            "text/plain": [
              "{'a': 0,\n",
              " 'b': 1,\n",
              " 'c': 2,\n",
              " 'd': 3,\n",
              " 'e': 4,\n",
              " 'f': 5,\n",
              " 'g': 6,\n",
              " 'h': 7,\n",
              " 'i': 8,\n",
              " 'j': 9,\n",
              " 'k': 10,\n",
              " 'l': 11,\n",
              " 'm': 12,\n",
              " 'n': 13,\n",
              " 'o': 14,\n",
              " 'p': 15,\n",
              " 'q': 16,\n",
              " 'r': 17,\n",
              " 's': 18,\n",
              " 't': 19,\n",
              " 'u': 20,\n",
              " 'v': 21,\n",
              " 'w': 22,\n",
              " 'x': 23,\n",
              " 'y': 24,\n",
              " 'z': 25}"
            ]
          },
          "metadata": {
            "tags": []
          },
          "execution_count": 58
        }
      ]
    },
    {
      "cell_type": "code",
      "metadata": {
        "id": "qvqS3AV4PzlA",
        "colab_type": "code",
        "colab": {
          "base_uri": "https://localhost:8080/",
          "height": 485
        },
        "outputId": "663d0e35-f1af-4aff-b889-f8f6f4929e37"
      },
      "source": [
        "word_dic = {i:n for i,n in enumerate(char_arr)}\n",
        "word_dic"
      ],
      "execution_count": 139,
      "outputs": [
        {
          "output_type": "execute_result",
          "data": {
            "text/plain": [
              "{0: 'a',\n",
              " 1: 'b',\n",
              " 2: 'c',\n",
              " 3: 'd',\n",
              " 4: 'e',\n",
              " 5: 'f',\n",
              " 6: 'g',\n",
              " 7: 'h',\n",
              " 8: 'i',\n",
              " 9: 'j',\n",
              " 10: 'k',\n",
              " 11: 'l',\n",
              " 12: 'm',\n",
              " 13: 'n',\n",
              " 14: 'o',\n",
              " 15: 'p',\n",
              " 16: 'q',\n",
              " 17: 'r',\n",
              " 18: 's',\n",
              " 19: 't',\n",
              " 20: 'u',\n",
              " 21: 'v',\n",
              " 22: 'w',\n",
              " 23: 'x',\n",
              " 24: 'y',\n",
              " 25: 'z'}"
            ]
          },
          "metadata": {
            "tags": []
          },
          "execution_count": 139
        }
      ]
    },
    {
      "cell_type": "code",
      "metadata": {
        "id": "0L11ZSuR9EoN",
        "colab_type": "code",
        "colab": {
          "base_uri": "https://localhost:8080/",
          "height": 89
        },
        "outputId": "bcce270a-bcd1-4218-97da-592ca7186ce5"
      },
      "source": [
        "from keras.utils.np_utils import to_categorical\n",
        "\n",
        "word_list = ['test','free','make','show','take','four']\n",
        "\n",
        "to_categorical(num_dic[word_list[0][0]], 26)"
      ],
      "execution_count": 66,
      "outputs": [
        {
          "output_type": "stream",
          "text": [
            "t\n",
            "e\n",
            "x\n",
            "t\n"
          ],
          "name": "stdout"
        }
      ]
    },
    {
      "cell_type": "code",
      "metadata": {
        "id": "axe23ix1H97a",
        "colab_type": "code",
        "colab": {}
      },
      "source": [
        "ohe_list = []\n",
        "\n",
        "for word in word_list:\n",
        "  tmp = []\n",
        "  for ch in word:\n",
        "    tmp.append(to_categorical(num_dic[ch], 26))\n",
        "  ohe_list.append(tmp)"
      ],
      "execution_count": 0,
      "outputs": []
    },
    {
      "cell_type": "code",
      "metadata": {
        "id": "8i4BFie0IysQ",
        "colab_type": "code",
        "colab": {
          "base_uri": "https://localhost:8080/",
          "height": 35
        },
        "outputId": "f85b6be6-f0b7-477d-85b0-e8bb43c16e8b"
      },
      "source": [
        "np.shape(ohe_list)"
      ],
      "execution_count": 80,
      "outputs": [
        {
          "output_type": "execute_result",
          "data": {
            "text/plain": [
              "(6, 4, 26)"
            ]
          },
          "metadata": {
            "tags": []
          },
          "execution_count": 80
        }
      ]
    },
    {
      "cell_type": "code",
      "metadata": {
        "id": "N5NiuWQyJmii",
        "colab_type": "code",
        "colab": {}
      },
      "source": [
        "word_input = np.array(ohe_list)"
      ],
      "execution_count": 0,
      "outputs": []
    },
    {
      "cell_type": "code",
      "metadata": {
        "id": "20CVmhzWJr5E",
        "colab_type": "code",
        "colab": {
          "base_uri": "https://localhost:8080/",
          "height": 35
        },
        "outputId": "37818d6e-eb22-4999-cec2-387b1faca4d0"
      },
      "source": [
        "word_input.shape"
      ],
      "execution_count": 92,
      "outputs": [
        {
          "output_type": "execute_result",
          "data": {
            "text/plain": [
              "(6, 4, 26)"
            ]
          },
          "metadata": {
            "tags": []
          },
          "execution_count": 92
        }
      ]
    },
    {
      "cell_type": "code",
      "metadata": {
        "id": "j73LuP3JJ4SK",
        "colab_type": "code",
        "colab": {}
      },
      "source": [
        "word_x = word_input[:,:-1,:]"
      ],
      "execution_count": 0,
      "outputs": []
    },
    {
      "cell_type": "code",
      "metadata": {
        "id": "_17YHOC8J-oJ",
        "colab_type": "code",
        "colab": {
          "base_uri": "https://localhost:8080/",
          "height": 35
        },
        "outputId": "7de570e1-08e1-4c80-81ab-a6166b8d24c7"
      },
      "source": [
        "word_x.shape"
      ],
      "execution_count": 94,
      "outputs": [
        {
          "output_type": "execute_result",
          "data": {
            "text/plain": [
              "(6, 3, 26)"
            ]
          },
          "metadata": {
            "tags": []
          },
          "execution_count": 94
        }
      ]
    },
    {
      "cell_type": "code",
      "metadata": {
        "id": "PnTtHGODJ9BZ",
        "colab_type": "code",
        "colab": {}
      },
      "source": [
        "word_y = word_input[:,-1,:]"
      ],
      "execution_count": 0,
      "outputs": []
    },
    {
      "cell_type": "code",
      "metadata": {
        "id": "8jA8VyNVKLKx",
        "colab_type": "code",
        "colab": {}
      },
      "source": [
        "word_y = word_y.reshape(6,26)"
      ],
      "execution_count": 0,
      "outputs": []
    },
    {
      "cell_type": "code",
      "metadata": {
        "id": "ADddMqCHKRYn",
        "colab_type": "code",
        "colab": {
          "base_uri": "https://localhost:8080/",
          "height": 35
        },
        "outputId": "49db58b6-9fd3-4baf-da32-090427458fb2"
      },
      "source": [
        "word_y.shape"
      ],
      "execution_count": 109,
      "outputs": [
        {
          "output_type": "execute_result",
          "data": {
            "text/plain": [
              "(6, 26)"
            ]
          },
          "metadata": {
            "tags": []
          },
          "execution_count": 109
        }
      ]
    },
    {
      "cell_type": "code",
      "metadata": {
        "id": "WGv3w8HHIygx",
        "colab_type": "code",
        "colab": {}
      },
      "source": [
        "learning_rate = 0.01\n",
        "total_epoch = 30\n",
        "batch_size = 2"
      ],
      "execution_count": 0,
      "outputs": []
    },
    {
      "cell_type": "code",
      "metadata": {
        "id": "pHOh4ux4HQE9",
        "colab_type": "code",
        "colab": {}
      },
      "source": [
        "n_input = 26 # 가로 픽셀수\n",
        "n_step = 3 # 세로 픽셀수(입력 단계, step)\n",
        "n_hidden = 128\n",
        "n_class = 26\n",
        "tf.reset_default_graph()"
      ],
      "execution_count": 0,
      "outputs": []
    },
    {
      "cell_type": "code",
      "metadata": {
        "id": "5SdWUuLyHQ2t",
        "colab_type": "code",
        "colab": {}
      },
      "source": [
        "x = tf.placeholder(tf.float32, [None,n_step,n_input])\n",
        "y = tf.placeholder(tf.float32, [None,n_class])\n",
        "w = tf.get_variable(\"w_1\", [n_hidden, n_class], initializer=tf.contrib.layers.xavier_initializer())\n",
        "b = tf.get_variable(\"b_1\", [n_class], initializer=tf.contrib.layers.xavier_initializer())"
      ],
      "execution_count": 0,
      "outputs": []
    },
    {
      "cell_type": "code",
      "metadata": {
        "id": "YQZpF371HUOQ",
        "colab_type": "code",
        "colab": {}
      },
      "source": [
        "cell = tf.nn.rnn_cell.BasicLSTMCell(n_hidden)\n",
        "outputs, states = tf.nn.dynamic_rnn(cell, x, dtype=tf.float32)\n",
        "# Y : [batch_size, n_class]\n",
        "# outputs : [batch_size, n_step, n_hidden]\n",
        "# => [n_step, batch_size, n_hidden]\n",
        "# => [batch_size, n_hidden] # 모양을 바꿔서 사용해야 함!\n",
        "outputs = tf.transpose(outputs,[1,0,2])\n",
        "outputs = outputs[-1]  # 일케하면 [batch_size, n_hidden]만 남음!\n",
        "model = tf.matmul(outputs,w) + b\n",
        "\n",
        "cost = tf.nn.softmax_cross_entropy_with_logits_v2(logits=model, labels=y)\n",
        "cost = tf.reduce_mean(cost)\n",
        "optimizer = tf.train.AdamOptimizer(learning_rate).minimize(cost)"
      ],
      "execution_count": 0,
      "outputs": []
    },
    {
      "cell_type": "code",
      "metadata": {
        "id": "H8M_A-oQJNr2",
        "colab_type": "code",
        "colab": {}
      },
      "source": [
        "sess = tf.Session()\n",
        "sess.run(tf.global_variables_initializer())"
      ],
      "execution_count": 0,
      "outputs": []
    },
    {
      "cell_type": "code",
      "metadata": {
        "id": "DYd8wMB4Kmfg",
        "colab_type": "code",
        "colab": {}
      },
      "source": [
        "import pandas as pd"
      ],
      "execution_count": 0,
      "outputs": []
    },
    {
      "cell_type": "code",
      "metadata": {
        "id": "zjnAX-JwQXva",
        "colab_type": "code",
        "colab": {}
      },
      "source": [
        "predict = tf.argmax(model,1)\n",
        "real = tf.argmax(y,1)\n",
        "mypred = sess.run(predict, feed_dict={x:word_x})\n",
        "real_y = sess.run(real, feed_dict={y:word_y})"
      ],
      "execution_count": 0,
      "outputs": []
    },
    {
      "cell_type": "code",
      "metadata": {
        "id": "lDVQ4CjSJTbW",
        "colab_type": "code",
        "colab": {
          "base_uri": "https://localhost:8080/",
          "height": 1000
        },
        "outputId": "e8fed6e8-4ec7-4958-c01e-7e8a93a2da95"
      },
      "source": [
        "for epoch in range(total_epoch):\n",
        "  _, cv, mp, ry = sess.run([optimizer, cost, predict, real], feed_dict={x:word_x, y:word_y})\n",
        "  print(\"epoch : {}, cost : {}\".format(epoch+1, cv))\n",
        "  for p, r in zip(mp, ry):\n",
        "    print(\"pred: \", word_dic[p], \"real: \", word_dic[r])"
      ],
      "execution_count": 153,
      "outputs": [
        {
          "output_type": "stream",
          "text": [
            "epoch : 1, cost : 3.1727454662323\n",
            "pred:  j real:  t\n",
            "pred:  t real:  e\n",
            "pred:  t real:  e\n",
            "pred:  t real:  w\n",
            "pred:  t real:  e\n",
            "pred:  t real:  r\n",
            "epoch : 2, cost : 2.9977004528045654\n",
            "pred:  t real:  t\n",
            "pred:  t real:  e\n",
            "pred:  t real:  e\n",
            "pred:  t real:  w\n",
            "pred:  t real:  e\n",
            "pred:  t real:  r\n",
            "epoch : 3, cost : 2.7870256900787354\n",
            "pred:  t real:  t\n",
            "pred:  e real:  e\n",
            "pred:  e real:  e\n",
            "pred:  t real:  w\n",
            "pred:  e real:  e\n",
            "pred:  t real:  r\n",
            "epoch : 4, cost : 2.4853992462158203\n",
            "pred:  t real:  t\n",
            "pred:  e real:  e\n",
            "pred:  e real:  e\n",
            "pred:  w real:  w\n",
            "pred:  e real:  e\n",
            "pred:  e real:  r\n",
            "epoch : 5, cost : 2.0406529903411865\n",
            "pred:  t real:  t\n",
            "pred:  e real:  e\n",
            "pred:  e real:  e\n",
            "pred:  w real:  w\n",
            "pred:  e real:  e\n",
            "pred:  e real:  r\n",
            "epoch : 6, cost : 1.4556695222854614\n",
            "pred:  e real:  t\n",
            "pred:  e real:  e\n",
            "pred:  e real:  e\n",
            "pred:  w real:  w\n",
            "pred:  e real:  e\n",
            "pred:  e real:  r\n",
            "epoch : 7, cost : 0.9532667994499207\n",
            "pred:  e real:  t\n",
            "pred:  e real:  e\n",
            "pred:  e real:  e\n",
            "pred:  e real:  w\n",
            "pred:  e real:  e\n",
            "pred:  e real:  r\n",
            "epoch : 8, cost : 0.7952920794487\n",
            "pred:  e real:  t\n",
            "pred:  e real:  e\n",
            "pred:  e real:  e\n",
            "pred:  e real:  w\n",
            "pred:  e real:  e\n",
            "pred:  e real:  r\n",
            "epoch : 9, cost : 0.6153935790061951\n",
            "pred:  e real:  t\n",
            "pred:  e real:  e\n",
            "pred:  e real:  e\n",
            "pred:  w real:  w\n",
            "pred:  e real:  e\n",
            "pred:  e real:  r\n",
            "epoch : 10, cost : 0.3835727870464325\n",
            "pred:  t real:  t\n",
            "pred:  e real:  e\n",
            "pred:  e real:  e\n",
            "pred:  w real:  w\n",
            "pred:  e real:  e\n",
            "pred:  r real:  r\n",
            "epoch : 11, cost : 0.3428633213043213\n",
            "pred:  t real:  t\n",
            "pred:  e real:  e\n",
            "pred:  e real:  e\n",
            "pred:  w real:  w\n",
            "pred:  e real:  e\n",
            "pred:  r real:  r\n",
            "epoch : 12, cost : 0.3211028277873993\n",
            "pred:  t real:  t\n",
            "pred:  e real:  e\n",
            "pred:  e real:  e\n",
            "pred:  w real:  w\n",
            "pred:  e real:  e\n",
            "pred:  r real:  r\n",
            "epoch : 13, cost : 0.19099611043930054\n",
            "pred:  t real:  t\n",
            "pred:  e real:  e\n",
            "pred:  e real:  e\n",
            "pred:  w real:  w\n",
            "pred:  e real:  e\n",
            "pred:  r real:  r\n",
            "epoch : 14, cost : 0.09088700264692307\n",
            "pred:  t real:  t\n",
            "pred:  e real:  e\n",
            "pred:  e real:  e\n",
            "pred:  w real:  w\n",
            "pred:  e real:  e\n",
            "pred:  r real:  r\n",
            "epoch : 15, cost : 0.07383688539266586\n",
            "pred:  t real:  t\n",
            "pred:  e real:  e\n",
            "pred:  e real:  e\n",
            "pred:  w real:  w\n",
            "pred:  e real:  e\n",
            "pred:  r real:  r\n",
            "epoch : 16, cost : 0.07213008403778076\n",
            "pred:  t real:  t\n",
            "pred:  e real:  e\n",
            "pred:  e real:  e\n",
            "pred:  w real:  w\n",
            "pred:  e real:  e\n",
            "pred:  r real:  r\n",
            "epoch : 17, cost : 0.044653091579675674\n",
            "pred:  t real:  t\n",
            "pred:  e real:  e\n",
            "pred:  e real:  e\n",
            "pred:  w real:  w\n",
            "pred:  e real:  e\n",
            "pred:  r real:  r\n",
            "epoch : 18, cost : 0.018997250124812126\n",
            "pred:  t real:  t\n",
            "pred:  e real:  e\n",
            "pred:  e real:  e\n",
            "pred:  w real:  w\n",
            "pred:  e real:  e\n",
            "pred:  r real:  r\n",
            "epoch : 19, cost : 0.009053485468029976\n",
            "pred:  t real:  t\n",
            "pred:  e real:  e\n",
            "pred:  e real:  e\n",
            "pred:  w real:  w\n",
            "pred:  e real:  e\n",
            "pred:  r real:  r\n",
            "epoch : 20, cost : 0.006999613251537085\n",
            "pred:  t real:  t\n",
            "pred:  e real:  e\n",
            "pred:  e real:  e\n",
            "pred:  w real:  w\n",
            "pred:  e real:  e\n",
            "pred:  r real:  r\n",
            "epoch : 21, cost : 0.0073194741271436214\n",
            "pred:  t real:  t\n",
            "pred:  e real:  e\n",
            "pred:  e real:  e\n",
            "pred:  w real:  w\n",
            "pred:  e real:  e\n",
            "pred:  r real:  r\n",
            "epoch : 22, cost : 0.0075141447596251965\n",
            "pred:  t real:  t\n",
            "pred:  e real:  e\n",
            "pred:  e real:  e\n",
            "pred:  w real:  w\n",
            "pred:  e real:  e\n",
            "pred:  r real:  r\n",
            "epoch : 23, cost : 0.0068504116497933865\n",
            "pred:  t real:  t\n",
            "pred:  e real:  e\n",
            "pred:  e real:  e\n",
            "pred:  w real:  w\n",
            "pred:  e real:  e\n",
            "pred:  r real:  r\n",
            "epoch : 24, cost : 0.0058424887247383595\n",
            "pred:  t real:  t\n",
            "pred:  e real:  e\n",
            "pred:  e real:  e\n",
            "pred:  w real:  w\n",
            "pred:  e real:  e\n",
            "pred:  r real:  r\n",
            "epoch : 25, cost : 0.004831231199204922\n",
            "pred:  t real:  t\n",
            "pred:  e real:  e\n",
            "pred:  e real:  e\n",
            "pred:  w real:  w\n",
            "pred:  e real:  e\n",
            "pred:  r real:  r\n",
            "epoch : 26, cost : 0.0037372277583926916\n",
            "pred:  t real:  t\n",
            "pred:  e real:  e\n",
            "pred:  e real:  e\n",
            "pred:  w real:  w\n",
            "pred:  e real:  e\n",
            "pred:  r real:  r\n",
            "epoch : 27, cost : 0.002632542746141553\n",
            "pred:  t real:  t\n",
            "pred:  e real:  e\n",
            "pred:  e real:  e\n",
            "pred:  w real:  w\n",
            "pred:  e real:  e\n",
            "pred:  r real:  r\n",
            "epoch : 28, cost : 0.001721161068417132\n",
            "pred:  t real:  t\n",
            "pred:  e real:  e\n",
            "pred:  e real:  e\n",
            "pred:  w real:  w\n",
            "pred:  e real:  e\n",
            "pred:  r real:  r\n",
            "epoch : 29, cost : 0.0010892008431255817\n",
            "pred:  t real:  t\n",
            "pred:  e real:  e\n",
            "pred:  e real:  e\n",
            "pred:  w real:  w\n",
            "pred:  e real:  e\n",
            "pred:  r real:  r\n",
            "epoch : 30, cost : 0.0006949309608899057\n",
            "pred:  t real:  t\n",
            "pred:  e real:  e\n",
            "pred:  e real:  e\n",
            "pred:  w real:  w\n",
            "pred:  e real:  e\n",
            "pred:  r real:  r\n"
          ],
          "name": "stdout"
        }
      ]
    },
    {
      "cell_type": "code",
      "metadata": {
        "id": "lucu5iMAJU5N",
        "colab_type": "code",
        "colab": {}
      },
      "source": [
        "is_correct = tf.equal(tf.argmax(model,1), tf.argmax(y, 1))\n",
        "accuracy = tf.cast(is_correct, dtype=tf.float32)"
      ],
      "execution_count": 0,
      "outputs": []
    },
    {
      "cell_type": "code",
      "metadata": {
        "id": "YNzzO_JFNVWd",
        "colab_type": "code",
        "colab": {}
      },
      "source": [
        "predict = tf.argmax(model,1)\n",
        "real = tf.argmax(y,1)\n",
        "mypred = sess.run(predict, feed_dict={x:word_x})\n",
        "real_y = sess.run(real, feed_dict={y:word_y})"
      ],
      "execution_count": 0,
      "outputs": []
    },
    {
      "cell_type": "code",
      "metadata": {
        "id": "41zVoOYHN4jY",
        "colab_type": "code",
        "colab": {
          "base_uri": "https://localhost:8080/",
          "height": 125
        },
        "outputId": "fe878dbf-a4c5-49e3-9a23-2eb8ac461ea4"
      },
      "source": [
        "for p, r in zip(mypred, real_y):\n",
        "  print(\"pred: \", word_dic[p], \"real: \", word_dic[r])"
      ],
      "execution_count": 140,
      "outputs": [
        {
          "output_type": "stream",
          "text": [
            "pred:  t real:  t\n",
            "pred:  e real:  e\n",
            "pred:  e real:  e\n",
            "pred:  w real:  w\n",
            "pred:  e real:  e\n",
            "pred:  r real:  r\n"
          ],
          "name": "stdout"
        }
      ]
    },
    {
      "cell_type": "code",
      "metadata": {
        "id": "kI8BEpMPOsRo",
        "colab_type": "code",
        "colab": {
          "base_uri": "https://localhost:8080/",
          "height": 35
        },
        "outputId": "756d3359-7b6b-49ef-f5ab-f96d81b039e0"
      },
      "source": [
        "real_y"
      ],
      "execution_count": 134,
      "outputs": [
        {
          "output_type": "execute_result",
          "data": {
            "text/plain": [
              "array([19,  4,  4, 22,  4, 17])"
            ]
          },
          "metadata": {
            "tags": []
          },
          "execution_count": 134
        }
      ]
    },
    {
      "cell_type": "code",
      "metadata": {
        "id": "mFzNaUNmOzli",
        "colab_type": "code",
        "colab": {}
      },
      "source": [
        ""
      ],
      "execution_count": 0,
      "outputs": []
    }
  ]
}