{
 "cells": [
  {
   "cell_type": "code",
   "execution_count": 1,
   "metadata": {},
   "outputs": [],
   "source": [
    "import tensorflow as tf\n",
    "import numpy as np\n",
    "\n",
    "tf.set_random_seed(777)\n",
    "## 그래프 생성 부분\n",
    "xtrain = np.array([[1.,1.,1.],[1.,2.,3.]]) # 하나당 하나의 b까지 포함\n",
    "ytrain = np.array([1.,2.,3.]).reshape(1,-1)\n",
    "x = tf.placeholder(dtype=tf.float32, shape=[2,None]) \n",
    "y = tf.placeholder(dtype=tf.float32, shape=[1,None])\n",
    "# b = tf.Variable(tf.random_uniform([1,1]), name='bias') # 이렇게 해야 2차원으로 만들어지네!\n",
    "w = tf.Variable([[1.,2.]], name='weight')\n",
    "hf = tf.matmul(w,x)\n",
    "cost = tf.reduce_mean(tf.square(hf-y))\n",
    "\n",
    "lr = 0.001"
   ]
  },
  {
   "cell_type": "code",
   "execution_count": 2,
   "metadata": {},
   "outputs": [],
   "source": [
    "gradient_b = tf.reduce_mean(hf-y) # 요기가 잘못!!! 위의 한줄만 곱해줘야!!\n",
    "gradient_w = tf.reduce_mean((hf-y)*xtrain[1].reshape(1,-1))"
   ]
  },
  {
   "cell_type": "code",
   "execution_count": 5,
   "metadata": {},
   "outputs": [
    {
     "data": {
      "text/plain": [
       "<tf.Variable 'weight:0' shape=(1, 2) dtype=float32_ref>"
      ]
     },
     "execution_count": 5,
     "metadata": {},
     "output_type": "execute_result"
    }
   ],
   "source": [
    "w"
   ]
  },
  {
   "cell_type": "code",
   "execution_count": null,
   "metadata": {},
   "outputs": [],
   "source": []
  }
 ],
 "metadata": {
  "kernelspec": {
   "display_name": "Python 3",
   "language": "python",
   "name": "python3"
  },
  "language_info": {
   "codemirror_mode": {
    "name": "ipython",
    "version": 3
   },
   "file_extension": ".py",
   "mimetype": "text/x-python",
   "name": "python",
   "nbconvert_exporter": "python",
   "pygments_lexer": "ipython3",
   "version": "3.7.3"
  }
 },
 "nbformat": 4,
 "nbformat_minor": 2
}
