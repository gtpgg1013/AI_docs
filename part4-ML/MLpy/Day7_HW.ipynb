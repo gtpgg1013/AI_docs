{
 "cells": [
  {
   "cell_type": "code",
   "execution_count": 1,
   "metadata": {},
   "outputs": [],
   "source": [
    "import numpy as np\n",
    "import pandas as pd"
   ]
  },
  {
   "cell_type": "code",
   "execution_count": 2,
   "metadata": {},
   "outputs": [],
   "source": [
    "emails = ['python@mail.example.com', 'python+kr@example.com',              # 올바른 형식\n",
    "          'python-dojang@example.co.kr', 'python_10@example.info',         # 올바른 형식\n",
    "          'python.dojang@e-xample.com',                                    # 올바른 형식\n",
    "          '@example.com', 'python@example', 'python@example-com']"
   ]
  },
  {
   "cell_type": "code",
   "execution_count": 3,
   "metadata": {},
   "outputs": [],
   "source": [
    "import re"
   ]
  },
  {
   "cell_type": "code",
   "execution_count": 40,
   "metadata": {},
   "outputs": [],
   "source": [
    "pat = re.compile('[^@]+@(.+[.]{1})+.+')"
   ]
  },
  {
   "cell_type": "code",
   "execution_count": 41,
   "metadata": {},
   "outputs": [
    {
     "name": "stdout",
     "output_type": "stream",
     "text": [
      "<re.Match object; span=(0, 23), match='python@mail.example.com'>\n",
      "<re.Match object; span=(0, 21), match='python+kr@example.com'>\n",
      "<re.Match object; span=(0, 27), match='python-dojang@example.co.kr'>\n",
      "<re.Match object; span=(0, 22), match='python_10@example.info'>\n",
      "<re.Match object; span=(0, 26), match='python.dojang@e-xample.com'>\n",
      "fail\n",
      "fail\n",
      "fail\n"
     ]
    }
   ],
   "source": [
    "for email in emails:\n",
    "    res = pat.search(email)\n",
    "    if res:\n",
    "        print(res)\n",
    "    else:\n",
    "        print('fail')"
   ]
  },
  {
   "cell_type": "markdown",
   "metadata": {},
   "source": [
    "# 토지 parshing"
   ]
  },
  {
   "cell_type": "code",
   "execution_count": 36,
   "metadata": {},
   "outputs": [],
   "source": [
    "data = None\n",
    "with open('tozi/BEXX0004.txt', 'r', encoding='utf-16') as f:\n",
    "    data = f.read()\n",
    "# data"
   ]
  },
  {
   "cell_type": "code",
   "execution_count": 37,
   "metadata": {},
   "outputs": [
    {
     "name": "stdout",
     "output_type": "stream",
     "text": [
      "<p>\"참말로 가게문을 다 닫았구마.\"</p>\n"
     ]
    },
    {
     "data": {
      "text/plain": [
       "['<p>\"참말로 가게문을 다 닫았구마.\"</p>',\n",
       " '<p>\"여보시오, 늙은이.\"</p>',\n",
       " '<p>\"야? 나 말입니까.\"</p>',\n",
       " '<p>\"당신 상전 찾아다니시오?\"</p>',\n",
       " '<p>\"예 저어,\"</p>']"
      ]
     },
     "execution_count": 37,
     "metadata": {},
     "output_type": "execute_result"
    }
   ],
   "source": [
    "# compile 변수 미리 만들어주기\n",
    "pat_talk = re.compile('<p>\\\".*\\\"</p>')\n",
    "res_talk = pat_talk.search(data)\n",
    "print(res_talk.group())\n",
    "res_talk_list = pat_talk.findall(data)\n",
    "res_talk_list[:5]"
   ]
  },
  {
   "cell_type": "code",
   "execution_count": 38,
   "metadata": {},
   "outputs": [
    {
     "name": "stdout",
     "output_type": "stream",
     "text": [
      "<p>'맘들을 합친께 돈에 무서븐 장사꾼도 돈 마다하고 장시를 안 하는데…… 돈보다도 나라가 있이야겄다 그거겄는데, 그렇지마는 저런다고 독립이 될까 몰라? 그러크름 생목심이 날아가고 조선 천지가 들고일어났어도 왜놈우새끼들 어디 끄떡이나 해야 말이제?'</p>\n"
     ]
    },
    {
     "data": {
      "text/plain": [
       "[\"<p>'맘들을 합친께 돈에 무서븐 장사꾼도 돈 마다하고 장시를 안 하는데…… 돈보다도 나라가 있이야겄다 그거겄는데, 그렇지마는 저런다고 독립이 될까 몰라? 그러크름 생목심이 날아가고 조선 천지가 들고일어났어도 왜놈우새끼들 어디 끄떡이나 해야 말이제?'</p>\",\n",
       " \"<p>'믿을 수가 없다. 이자는 누가 머라 캐도 믿을 수 없단 말이다. 처음에사 만세만 부르믄 독립이 될 줄 알았제. 그러크름 말들 하니께. 흥, 떡 줄 사람은 꿈도 안 꾸는데 김칫국부터 마신 겍이라. 되는 기이 머가 있노. 하낫도 되는 기이 없단 말이다. 우리댁 나으리만 해도 안 그렇건데? 이십 년을 넘기 기다리도 아무 소앵이 없었인께. 군사를 이끌고 쳐들어오기는커냥 사람 얼굴조차 가물치 콧구멍 아니가. 함흥차사라, 함흥차사. 되지도 않을 일이라믄 진작 말 일이제. 식솔들만 생고생을 시키고. 좌우당간에 충신이 되든 역적이 되든 군사를 몰고 와서 쌈을 해야 무신 결판이 나지. 만판 만세 불러봐야 소앵이 있나. 목만 터지제. 목만 터지건데? 모가지는 날아 안 가고? 그거를 두고 개죽음이라 하는 기라. 나겉이 무식한 놈이사 군대쟁이 영문 모르고 나섰지마는.'</p>\",\n",
       " \"<p>'가문에 없는 인사가 어디서 하나 생기가지고 망나니는 접방 나앉으라 칸다. 이름이 좋아 불로초다. 빛좋은 개살구다. 나라일을 하기는 무신 놈의 나라일을 해. 주색잡기도 나라일이라 말가. 대대로 청백리로서 평판이 난 가문에, 어물전 망신은 꼴뚜기가 시킨다 카더마는 이부사 댁도 이자는 콩가리 집안이다. 그놈의 신식 공분가 먼가 그기이 사람 망쳤제. 아주 못쓰게 망쳐놨다 카이. 좌우당간에 어디 가서 사램을 찾노. 세상없이도 찾아보고 가얄 긴데, 그냥 내리가 보제? 초상 날 기다, 초상 날 기라 카이.'</p>\",\n",
       " \"<p>'제에기, 알 것 없이믄 와 말을 끄냈는고?'</p>\",\n",
       " \"<p>'잘못은 그쪽에 있있음서 와 나만 몰아세우노.'</p>\"]"
      ]
     },
     "execution_count": 38,
     "metadata": {},
     "output_type": "execute_result"
    }
   ],
   "source": [
    "pat_mono = re.compile(\"<p>'.*'</p>\")\n",
    "res_mono = pat_mono.search(data)\n",
    "print(res_mono.group())\n",
    "res_mono_list = pat_mono.findall(data)\n",
    "res_mono_list[:5]"
   ]
  },
  {
   "cell_type": "code",
   "execution_count": null,
   "metadata": {},
   "outputs": [],
   "source": []
  }
 ],
 "metadata": {
  "kernelspec": {
   "display_name": "Python 3",
   "language": "python",
   "name": "python3"
  },
  "language_info": {
   "codemirror_mode": {
    "name": "ipython",
    "version": 3
   },
   "file_extension": ".py",
   "mimetype": "text/x-python",
   "name": "python",
   "nbconvert_exporter": "python",
   "pygments_lexer": "ipython3",
   "version": "3.7.3"
  }
 },
 "nbformat": 4,
 "nbformat_minor": 2
}
