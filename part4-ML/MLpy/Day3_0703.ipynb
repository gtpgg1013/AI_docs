{
 "cells": [
  {
   "cell_type": "markdown",
   "metadata": {},
   "source": [
    "# 결측값 대체 (보간법 이용)"
   ]
  },
  {
   "cell_type": "code",
   "execution_count": 1,
   "metadata": {},
   "outputs": [],
   "source": [
    "# 결측값을 선형적으로 추정해서 보완해보자 : interpolate 함수 : fillna\n",
    "# 또는 결측값을 다른 값으로 대체 : 문자열 : replace\n",
    "# 중복값 처리 : duplicated / duplicate\n",
    "# 유일한 값을 세는 함수 : unique / 값을 세는 함수 : valuecount\n",
    "# 표편 std / 분산 var / 상관계수 cor / 공분산 cov\n",
    "# z-score : 정규분포를 표준 정규분포로 z = (x-mean) / std\n",
    "# => 중심으로부터 얼마나 떨어져 있는지 표준화하여 확인 : 언제나 해야 함\n",
    "# z-score는 mean과 std에 의해 결정되기 때문에 : outlier(이상치)의 영향을 많이 받음\n",
    "# 즉, outlier를 미리 날리고 표준화(standard scaling)를 실행해야 함\n",
    "# 이상치에 많이 영향 받지 않는 scaling도 있음 : robust scaling\n",
    "# 0 - 1 정규화\n",
    "# 범주화\n",
    "# binarizer : 이진화 / cut : 여러개로 분류\n",
    "# one-hot encoding"
   ]
  },
  {
   "cell_type": "code",
   "execution_count": 2,
   "metadata": {},
   "outputs": [],
   "source": [
    "import pandas as pd"
   ]
  },
  {
   "cell_type": "code",
   "execution_count": 3,
   "metadata": {},
   "outputs": [],
   "source": [
    "import numpy as np"
   ]
  },
  {
   "cell_type": "code",
   "execution_count": 5,
   "metadata": {},
   "outputs": [],
   "source": [
    "import sklearn.preprocessing\n",
    "from sklearn.preprocessing import StandardScaler, RobustScaler\n",
    "import matplotlib.pyplot as plt"
   ]
  },
  {
   "cell_type": "code",
   "execution_count": 6,
   "metadata": {},
   "outputs": [],
   "source": [
    "df = pd.DataFrame(np.random.randn(5,3),\n",
    "                 columns = ['c1','c2','c3'])"
   ]
  },
  {
   "cell_type": "code",
   "execution_count": 7,
   "metadata": {},
   "outputs": [
    {
     "data": {
      "text/html": [
       "<div>\n",
       "<style scoped>\n",
       "    .dataframe tbody tr th:only-of-type {\n",
       "        vertical-align: middle;\n",
       "    }\n",
       "\n",
       "    .dataframe tbody tr th {\n",
       "        vertical-align: top;\n",
       "    }\n",
       "\n",
       "    .dataframe thead th {\n",
       "        text-align: right;\n",
       "    }\n",
       "</style>\n",
       "<table border=\"1\" class=\"dataframe\">\n",
       "  <thead>\n",
       "    <tr style=\"text-align: right;\">\n",
       "      <th></th>\n",
       "      <th>c1</th>\n",
       "      <th>c2</th>\n",
       "      <th>c3</th>\n",
       "    </tr>\n",
       "  </thead>\n",
       "  <tbody>\n",
       "    <tr>\n",
       "      <th>0</th>\n",
       "      <td>1.713313</td>\n",
       "      <td>-0.459509</td>\n",
       "      <td>0.338084</td>\n",
       "    </tr>\n",
       "    <tr>\n",
       "      <th>1</th>\n",
       "      <td>0.383057</td>\n",
       "      <td>-0.182453</td>\n",
       "      <td>0.319038</td>\n",
       "    </tr>\n",
       "    <tr>\n",
       "      <th>2</th>\n",
       "      <td>0.686273</td>\n",
       "      <td>0.378418</td>\n",
       "      <td>-0.771265</td>\n",
       "    </tr>\n",
       "    <tr>\n",
       "      <th>3</th>\n",
       "      <td>-0.640751</td>\n",
       "      <td>-0.096039</td>\n",
       "      <td>-0.847480</td>\n",
       "    </tr>\n",
       "    <tr>\n",
       "      <th>4</th>\n",
       "      <td>1.352237</td>\n",
       "      <td>-0.482870</td>\n",
       "      <td>-0.121335</td>\n",
       "    </tr>\n",
       "  </tbody>\n",
       "</table>\n",
       "</div>"
      ],
      "text/plain": [
       "         c1        c2        c3\n",
       "0  1.713313 -0.459509  0.338084\n",
       "1  0.383057 -0.182453  0.319038\n",
       "2  0.686273  0.378418 -0.771265\n",
       "3 -0.640751 -0.096039 -0.847480\n",
       "4  1.352237 -0.482870 -0.121335"
      ]
     },
     "execution_count": 7,
     "metadata": {},
     "output_type": "execute_result"
    }
   ],
   "source": [
    "df"
   ]
  },
  {
   "cell_type": "code",
   "execution_count": 10,
   "metadata": {},
   "outputs": [
    {
     "data": {
      "text/plain": [
       "c1   -0.640751\n",
       "c2   -0.096039\n",
       "c3   -0.847480\n",
       "Name: 3, dtype: float64"
      ]
     },
     "execution_count": 10,
     "metadata": {},
     "output_type": "execute_result"
    }
   ],
   "source": [
    "df.loc[3]"
   ]
  },
  {
   "cell_type": "code",
   "execution_count": 13,
   "metadata": {},
   "outputs": [
    {
     "data": {
      "text/plain": [
       "c1   -0.640751\n",
       "c2   -0.096039\n",
       "c3   -0.847480\n",
       "Name: 3, dtype: float64"
      ]
     },
     "execution_count": 13,
     "metadata": {},
     "output_type": "execute_result"
    }
   ],
   "source": [
    "df.iloc[3]"
   ]
  },
  {
   "cell_type": "code",
   "execution_count": 42,
   "metadata": {},
   "outputs": [],
   "source": [
    "dfdate = pd.date_range('07/02/2019', periods=5, freq='D').strftime(\"%Y-%m-%d\").tolist()"
   ]
  },
  {
   "cell_type": "code",
   "execution_count": 43,
   "metadata": {},
   "outputs": [],
   "source": [
    "dfdate\n",
    "dfdate[-1] = '2019-07-10'"
   ]
  },
  {
   "cell_type": "code",
   "execution_count": 44,
   "metadata": {},
   "outputs": [
    {
     "data": {
      "text/plain": [
       "list"
      ]
     },
     "execution_count": 44,
     "metadata": {},
     "output_type": "execute_result"
    }
   ],
   "source": [
    "type(dfdate)"
   ]
  },
  {
   "cell_type": "code",
   "execution_count": 45,
   "metadata": {},
   "outputs": [
    {
     "data": {
      "text/plain": [
       "DatetimeIndex(['2019-07-02', '2019-07-03', '2019-07-04', '2019-07-05',\n",
       "               '2019-07-10'],\n",
       "              dtype='datetime64[ns]', freq=None)"
      ]
     },
     "execution_count": 45,
     "metadata": {},
     "output_type": "execute_result"
    }
   ],
   "source": [
    "myDate=pd.to_datetime(dfdate)\n",
    "myDate\n",
    "# from list to DatetimeIndex"
   ]
  },
  {
   "cell_type": "code",
   "execution_count": 46,
   "metadata": {},
   "outputs": [
    {
     "data": {
      "text/plain": [
       "2019-07-02     1.0\n",
       "2019-07-03     NaN\n",
       "2019-07-04     NaN\n",
       "2019-07-05     NaN\n",
       "2019-07-10    20.0\n",
       "dtype: float64"
      ]
     },
     "execution_count": 46,
     "metadata": {},
     "output_type": "execute_result"
    }
   ],
   "source": [
    "times = pd.Series([1,np.nan,np.nan,np.nan,20], index=myDate)\n",
    "times"
   ]
  },
  {
   "cell_type": "code",
   "execution_count": 47,
   "metadata": {},
   "outputs": [
    {
     "data": {
      "text/plain": [
       "2019-07-02     1.00\n",
       "2019-07-03     5.75\n",
       "2019-07-04    10.50\n",
       "2019-07-05    15.25\n",
       "2019-07-10    20.00\n",
       "dtype: float64"
      ]
     },
     "execution_count": 47,
     "metadata": {},
     "output_type": "execute_result"
    }
   ],
   "source": [
    "# interpolate를 이용한 NaN 대체 : 보간법 : 추이를 이용해서!\n",
    "ti = times.interpolate()\n",
    "ti # 선형적으로 보간해서 결측값을 대체"
   ]
  },
  {
   "cell_type": "code",
   "execution_count": 48,
   "metadata": {},
   "outputs": [
    {
     "data": {
      "text/plain": [
       "2019-07-02     1.000\n",
       "2019-07-03     3.375\n",
       "2019-07-04     5.750\n",
       "2019-07-05     8.125\n",
       "2019-07-10    20.000\n",
       "dtype: float64"
      ]
     },
     "execution_count": 48,
     "metadata": {},
     "output_type": "execute_result"
    }
   ],
   "source": [
    "times.interpolate(method='time') # 시간의 흐름에 따라서 보간값을 부여"
   ]
  },
  {
   "cell_type": "code",
   "execution_count": 49,
   "metadata": {},
   "outputs": [],
   "source": [
    "df = pd.DataFrame({'c1':[1,2,np.nan,np.nan,5],\n",
    "              'c2':[6,8,10,np.nan,20]})"
   ]
  },
  {
   "cell_type": "code",
   "execution_count": 50,
   "metadata": {},
   "outputs": [
    {
     "data": {
      "text/html": [
       "<div>\n",
       "<style scoped>\n",
       "    .dataframe tbody tr th:only-of-type {\n",
       "        vertical-align: middle;\n",
       "    }\n",
       "\n",
       "    .dataframe tbody tr th {\n",
       "        vertical-align: top;\n",
       "    }\n",
       "\n",
       "    .dataframe thead th {\n",
       "        text-align: right;\n",
       "    }\n",
       "</style>\n",
       "<table border=\"1\" class=\"dataframe\">\n",
       "  <thead>\n",
       "    <tr style=\"text-align: right;\">\n",
       "      <th></th>\n",
       "      <th>c1</th>\n",
       "      <th>c2</th>\n",
       "    </tr>\n",
       "  </thead>\n",
       "  <tbody>\n",
       "    <tr>\n",
       "      <th>0</th>\n",
       "      <td>1.0</td>\n",
       "      <td>6.0</td>\n",
       "    </tr>\n",
       "    <tr>\n",
       "      <th>1</th>\n",
       "      <td>2.0</td>\n",
       "      <td>8.0</td>\n",
       "    </tr>\n",
       "    <tr>\n",
       "      <th>2</th>\n",
       "      <td>NaN</td>\n",
       "      <td>10.0</td>\n",
       "    </tr>\n",
       "    <tr>\n",
       "      <th>3</th>\n",
       "      <td>NaN</td>\n",
       "      <td>NaN</td>\n",
       "    </tr>\n",
       "    <tr>\n",
       "      <th>4</th>\n",
       "      <td>5.0</td>\n",
       "      <td>20.0</td>\n",
       "    </tr>\n",
       "  </tbody>\n",
       "</table>\n",
       "</div>"
      ],
      "text/plain": [
       "    c1    c2\n",
       "0  1.0   6.0\n",
       "1  2.0   8.0\n",
       "2  NaN  10.0\n",
       "3  NaN   NaN\n",
       "4  5.0  20.0"
      ]
     },
     "execution_count": 50,
     "metadata": {},
     "output_type": "execute_result"
    }
   ],
   "source": [
    "df # 이런 상황에서는"
   ]
  },
  {
   "cell_type": "code",
   "execution_count": 52,
   "metadata": {},
   "outputs": [
    {
     "data": {
      "text/html": [
       "<div>\n",
       "<style scoped>\n",
       "    .dataframe tbody tr th:only-of-type {\n",
       "        vertical-align: middle;\n",
       "    }\n",
       "\n",
       "    .dataframe tbody tr th {\n",
       "        vertical-align: top;\n",
       "    }\n",
       "\n",
       "    .dataframe thead th {\n",
       "        text-align: right;\n",
       "    }\n",
       "</style>\n",
       "<table border=\"1\" class=\"dataframe\">\n",
       "  <thead>\n",
       "    <tr style=\"text-align: right;\">\n",
       "      <th></th>\n",
       "      <th>c1</th>\n",
       "      <th>c2</th>\n",
       "    </tr>\n",
       "  </thead>\n",
       "  <tbody>\n",
       "    <tr>\n",
       "      <th>0</th>\n",
       "      <td>1.0</td>\n",
       "      <td>6.0</td>\n",
       "    </tr>\n",
       "    <tr>\n",
       "      <th>1</th>\n",
       "      <td>2.0</td>\n",
       "      <td>8.0</td>\n",
       "    </tr>\n",
       "    <tr>\n",
       "      <th>2</th>\n",
       "      <td>3.0</td>\n",
       "      <td>10.0</td>\n",
       "    </tr>\n",
       "    <tr>\n",
       "      <th>3</th>\n",
       "      <td>4.0</td>\n",
       "      <td>15.0</td>\n",
       "    </tr>\n",
       "    <tr>\n",
       "      <th>4</th>\n",
       "      <td>5.0</td>\n",
       "      <td>20.0</td>\n",
       "    </tr>\n",
       "  </tbody>\n",
       "</table>\n",
       "</div>"
      ],
      "text/plain": [
       "    c1    c2\n",
       "0  1.0   6.0\n",
       "1  2.0   8.0\n",
       "2  3.0  10.0\n",
       "3  4.0  15.0\n",
       "4  5.0  20.0"
      ]
     },
     "execution_count": 52,
     "metadata": {},
     "output_type": "execute_result"
    }
   ],
   "source": [
    "df.interpolate() # 직전의 놈이랑 나중놈 고려해서 선형적으로 보간"
   ]
  },
  {
   "cell_type": "code",
   "execution_count": 55,
   "metadata": {},
   "outputs": [
    {
     "data": {
      "text/html": [
       "<div>\n",
       "<style scoped>\n",
       "    .dataframe tbody tr th:only-of-type {\n",
       "        vertical-align: middle;\n",
       "    }\n",
       "\n",
       "    .dataframe tbody tr th {\n",
       "        vertical-align: top;\n",
       "    }\n",
       "\n",
       "    .dataframe thead th {\n",
       "        text-align: right;\n",
       "    }\n",
       "</style>\n",
       "<table border=\"1\" class=\"dataframe\">\n",
       "  <thead>\n",
       "    <tr style=\"text-align: right;\">\n",
       "      <th></th>\n",
       "      <th>c1</th>\n",
       "      <th>c2</th>\n",
       "    </tr>\n",
       "  </thead>\n",
       "  <tbody>\n",
       "    <tr>\n",
       "      <th>0</th>\n",
       "      <td>1.0</td>\n",
       "      <td>6.0</td>\n",
       "    </tr>\n",
       "    <tr>\n",
       "      <th>1</th>\n",
       "      <td>2.0</td>\n",
       "      <td>8.0</td>\n",
       "    </tr>\n",
       "    <tr>\n",
       "      <th>2</th>\n",
       "      <td>NaN</td>\n",
       "      <td>10.0</td>\n",
       "    </tr>\n",
       "    <tr>\n",
       "      <th>3</th>\n",
       "      <td>4.0</td>\n",
       "      <td>15.0</td>\n",
       "    </tr>\n",
       "    <tr>\n",
       "      <th>4</th>\n",
       "      <td>5.0</td>\n",
       "      <td>20.0</td>\n",
       "    </tr>\n",
       "  </tbody>\n",
       "</table>\n",
       "</div>"
      ],
      "text/plain": [
       "    c1    c2\n",
       "0  1.0   6.0\n",
       "1  2.0   8.0\n",
       "2  NaN  10.0\n",
       "3  4.0  15.0\n",
       "4  5.0  20.0"
      ]
     },
     "execution_count": 55,
     "metadata": {},
     "output_type": "execute_result"
    }
   ],
   "source": [
    "df.interpolate(method='values',limit=1,limit_direction='backward') # values하면 똑같고\n",
    "# limit 주면 컬럼당 limit수만큼만 보간\n",
    "# limit_direction -> backword 주면 빠꾸로 보간 (c1 - 3이 보간됨(후위))"
   ]
  },
  {
   "cell_type": "code",
   "execution_count": 58,
   "metadata": {},
   "outputs": [
    {
     "data": {
      "text/plain": [
       "0    1.0\n",
       "1    2.0\n",
       "2    3.0\n",
       "3    4.0\n",
       "4    NaN\n",
       "dtype: float64"
      ]
     },
     "execution_count": 58,
     "metadata": {},
     "output_type": "execute_result"
    }
   ],
   "source": [
    "# replace함수\n",
    "s = pd.Series([1,2,3,4,np.nan])\n",
    "s"
   ]
  },
  {
   "cell_type": "code",
   "execution_count": 59,
   "metadata": {},
   "outputs": [
    {
     "data": {
      "text/plain": [
       "0      1\n",
       "1      2\n",
       "2      3\n",
       "3      4\n",
       "4    sib\n",
       "dtype: object"
      ]
     },
     "execution_count": 59,
     "metadata": {},
     "output_type": "execute_result"
    }
   ],
   "source": [
    "s.fillna('sib')"
   ]
  },
  {
   "cell_type": "code",
   "execution_count": 63,
   "metadata": {},
   "outputs": [
    {
     "data": {
      "text/plain": [
       "0     1.0\n",
       "1     2.0\n",
       "2     3.0\n",
       "3     4.0\n",
       "4    10.0\n",
       "dtype: float64"
      ]
     },
     "execution_count": 63,
     "metadata": {},
     "output_type": "execute_result"
    }
   ],
   "source": [
    "s.replace(np.nan, 10) # np.nan을 -> 10"
   ]
  },
  {
   "cell_type": "code",
   "execution_count": 66,
   "metadata": {},
   "outputs": [
    {
     "data": {
      "text/plain": [
       "0      1.0\n",
       "1      2.0\n",
       "2    999.0\n",
       "3      4.0\n",
       "4      NaN\n",
       "dtype: float64"
      ]
     },
     "execution_count": 66,
     "metadata": {},
     "output_type": "execute_result"
    }
   ],
   "source": [
    "s.replace(3,999) # 교환 범위가 넓다"
   ]
  },
  {
   "cell_type": "code",
   "execution_count": 67,
   "metadata": {},
   "outputs": [
    {
     "data": {
      "text/plain": [
       "0    5.0\n",
       "1    6.0\n",
       "2    7.0\n",
       "3    4.0\n",
       "4    NaN\n",
       "dtype: float64"
      ]
     },
     "execution_count": 67,
     "metadata": {},
     "output_type": "execute_result"
    }
   ],
   "source": [
    "s.replace([1,2,3],[5,6,7]) # 1,2,3을 통째로 5,6,7로 바꿀 수 있다"
   ]
  },
  {
   "cell_type": "code",
   "execution_count": 69,
   "metadata": {},
   "outputs": [
    {
     "data": {
      "text/plain": [
       "0     10.0\n",
       "1      2.0\n",
       "2      3.0\n",
       "3      4.0\n",
       "4    100.0\n",
       "dtype: float64"
      ]
     },
     "execution_count": 69,
     "metadata": {},
     "output_type": "execute_result"
    }
   ],
   "source": [
    "s.replace({1:10,np.nan:100}) # dictionary mapping rule을 적용해서 쉽게 처리할 수 있다"
   ]
  },
  {
   "cell_type": "markdown",
   "metadata": {},
   "source": [
    "# 중복값 처리"
   ]
  },
  {
   "cell_type": "code",
   "execution_count": 70,
   "metadata": {},
   "outputs": [],
   "source": [
    "# duplicated : 중복된거 찾기\n",
    "# duplicate : 중복값 처리\n",
    "df = pd.DataFrame({'k1':['a','b','b','c','c'],\n",
    "              'k2':['v','w','w','x','y'],\n",
    "              'c':[1,2,3,4,5]})"
   ]
  },
  {
   "cell_type": "code",
   "execution_count": 71,
   "metadata": {},
   "outputs": [
    {
     "data": {
      "text/html": [
       "<div>\n",
       "<style scoped>\n",
       "    .dataframe tbody tr th:only-of-type {\n",
       "        vertical-align: middle;\n",
       "    }\n",
       "\n",
       "    .dataframe tbody tr th {\n",
       "        vertical-align: top;\n",
       "    }\n",
       "\n",
       "    .dataframe thead th {\n",
       "        text-align: right;\n",
       "    }\n",
       "</style>\n",
       "<table border=\"1\" class=\"dataframe\">\n",
       "  <thead>\n",
       "    <tr style=\"text-align: right;\">\n",
       "      <th></th>\n",
       "      <th>k1</th>\n",
       "      <th>k2</th>\n",
       "      <th>c</th>\n",
       "    </tr>\n",
       "  </thead>\n",
       "  <tbody>\n",
       "    <tr>\n",
       "      <th>0</th>\n",
       "      <td>a</td>\n",
       "      <td>v</td>\n",
       "      <td>1</td>\n",
       "    </tr>\n",
       "    <tr>\n",
       "      <th>1</th>\n",
       "      <td>b</td>\n",
       "      <td>w</td>\n",
       "      <td>2</td>\n",
       "    </tr>\n",
       "    <tr>\n",
       "      <th>2</th>\n",
       "      <td>b</td>\n",
       "      <td>w</td>\n",
       "      <td>3</td>\n",
       "    </tr>\n",
       "    <tr>\n",
       "      <th>3</th>\n",
       "      <td>c</td>\n",
       "      <td>x</td>\n",
       "      <td>4</td>\n",
       "    </tr>\n",
       "    <tr>\n",
       "      <th>4</th>\n",
       "      <td>c</td>\n",
       "      <td>y</td>\n",
       "      <td>5</td>\n",
       "    </tr>\n",
       "  </tbody>\n",
       "</table>\n",
       "</div>"
      ],
      "text/plain": [
       "  k1 k2  c\n",
       "0  a  v  1\n",
       "1  b  w  2\n",
       "2  b  w  3\n",
       "3  c  x  4\n",
       "4  c  y  5"
      ]
     },
     "execution_count": 71,
     "metadata": {},
     "output_type": "execute_result"
    }
   ],
   "source": [
    "df"
   ]
  },
  {
   "cell_type": "code",
   "execution_count": 79,
   "metadata": {},
   "outputs": [
    {
     "data": {
      "text/plain": [
       "0    False\n",
       "1    False\n",
       "2     True\n",
       "3    False\n",
       "4     True\n",
       "dtype: bool"
      ]
     },
     "execution_count": 79,
     "metadata": {},
     "output_type": "execute_result"
    }
   ],
   "source": [
    "df.duplicated(['k1']) # 확인하고 싶은 column name을 넣어주면 댐\n",
    "# return값은 항상 '현재까지' 중복이 안된거 - False / 또 나왔으면 True # 이건 default"
   ]
  },
  {
   "cell_type": "code",
   "execution_count": 80,
   "metadata": {},
   "outputs": [
    {
     "data": {
      "text/plain": [
       "0    False\n",
       "1    False\n",
       "2     True\n",
       "3    False\n",
       "4    False\n",
       "dtype: bool"
      ]
     },
     "execution_count": 80,
     "metadata": {},
     "output_type": "execute_result"
    }
   ],
   "source": [
    "df.duplicated(['k1','k2']) # 이렇게 하면 k1, k2의 각 요소를 묶어서 하나의 단위비교요소로 만듬\n",
    "# (a,v) (b,w) ... (c,y)"
   ]
  },
  {
   "cell_type": "code",
   "execution_count": 85,
   "metadata": {},
   "outputs": [],
   "source": [
    "df.duplicated(['k1'])\n",
    "df.duplicated(['k1'],keep='first') # keep : 뭐를 살려둘거니\n",
    "df.duplicated(['k1'],keep='last')\n",
    "td = df.duplicated(['k1'],keep=False) # 걍 False주면 중복된놈은 다 날리고 싶다"
   ]
  },
  {
   "cell_type": "code",
   "execution_count": null,
   "metadata": {},
   "outputs": [],
   "source": [
    "# duplicate에서 어떤 놈을 살릴것인지 볼 수도 있다"
   ]
  },
  {
   "cell_type": "code",
   "execution_count": 88,
   "metadata": {},
   "outputs": [
    {
     "data": {
      "text/html": [
       "<div>\n",
       "<style scoped>\n",
       "    .dataframe tbody tr th:only-of-type {\n",
       "        vertical-align: middle;\n",
       "    }\n",
       "\n",
       "    .dataframe tbody tr th {\n",
       "        vertical-align: top;\n",
       "    }\n",
       "\n",
       "    .dataframe thead th {\n",
       "        text-align: right;\n",
       "    }\n",
       "</style>\n",
       "<table border=\"1\" class=\"dataframe\">\n",
       "  <thead>\n",
       "    <tr style=\"text-align: right;\">\n",
       "      <th></th>\n",
       "      <th>k1</th>\n",
       "      <th>k2</th>\n",
       "      <th>c</th>\n",
       "    </tr>\n",
       "  </thead>\n",
       "  <tbody>\n",
       "    <tr>\n",
       "      <th>1</th>\n",
       "      <td>b</td>\n",
       "      <td>w</td>\n",
       "      <td>2</td>\n",
       "    </tr>\n",
       "    <tr>\n",
       "      <th>2</th>\n",
       "      <td>b</td>\n",
       "      <td>w</td>\n",
       "      <td>3</td>\n",
       "    </tr>\n",
       "    <tr>\n",
       "      <th>3</th>\n",
       "      <td>c</td>\n",
       "      <td>x</td>\n",
       "      <td>4</td>\n",
       "    </tr>\n",
       "    <tr>\n",
       "      <th>4</th>\n",
       "      <td>c</td>\n",
       "      <td>y</td>\n",
       "      <td>5</td>\n",
       "    </tr>\n",
       "  </tbody>\n",
       "</table>\n",
       "</div>"
      ],
      "text/plain": [
       "  k1 k2  c\n",
       "1  b  w  2\n",
       "2  b  w  3\n",
       "3  c  x  4\n",
       "4  c  y  5"
      ]
     },
     "execution_count": 88,
     "metadata": {},
     "output_type": "execute_result"
    }
   ],
   "source": [
    "df[td] # 불리언 색인 : 요놈들은 중복된놈만 데리고옴"
   ]
  },
  {
   "cell_type": "code",
   "execution_count": 94,
   "metadata": {},
   "outputs": [
    {
     "data": {
      "text/html": [
       "<div>\n",
       "<style scoped>\n",
       "    .dataframe tbody tr th:only-of-type {\n",
       "        vertical-align: middle;\n",
       "    }\n",
       "\n",
       "    .dataframe tbody tr th {\n",
       "        vertical-align: top;\n",
       "    }\n",
       "\n",
       "    .dataframe thead th {\n",
       "        text-align: right;\n",
       "    }\n",
       "</style>\n",
       "<table border=\"1\" class=\"dataframe\">\n",
       "  <thead>\n",
       "    <tr style=\"text-align: right;\">\n",
       "      <th></th>\n",
       "      <th>k1</th>\n",
       "      <th>k2</th>\n",
       "      <th>c</th>\n",
       "    </tr>\n",
       "  </thead>\n",
       "  <tbody>\n",
       "    <tr>\n",
       "      <th>0</th>\n",
       "      <td>a</td>\n",
       "      <td>v</td>\n",
       "      <td>1</td>\n",
       "    </tr>\n",
       "  </tbody>\n",
       "</table>\n",
       "</div>"
      ],
      "text/plain": [
       "  k1 k2  c\n",
       "0  a  v  1"
      ]
     },
     "execution_count": 94,
     "metadata": {},
     "output_type": "execute_result"
    }
   ],
   "source": [
    "df.drop_duplicates(['k1'],keep='first') # 중복제거 함수 # k1 col 기준으로 비교 # 아랫놈이 제거됨\n",
    "df.drop_duplicates(['k1'],keep='last')\n",
    "df.drop_duplicates(['k1'],keep=False) \n",
    "# default는 first"
   ]
  },
  {
   "cell_type": "code",
   "execution_count": 96,
   "metadata": {},
   "outputs": [],
   "source": [
    "# value_count : 데이터를 구성하는 종류별 숫자 파악 : 데이터의 큰 골격 파악\n",
    "df = pd.DataFrame({\n",
    "    's':['f','m','m','f','m'],\n",
    "    'd':['a','a','a','a',np.nan],\n",
    "    'c':[1,1,3,4,4]\n",
    "})"
   ]
  },
  {
   "cell_type": "code",
   "execution_count": 97,
   "metadata": {},
   "outputs": [
    {
     "data": {
      "text/html": [
       "<div>\n",
       "<style scoped>\n",
       "    .dataframe tbody tr th:only-of-type {\n",
       "        vertical-align: middle;\n",
       "    }\n",
       "\n",
       "    .dataframe tbody tr th {\n",
       "        vertical-align: top;\n",
       "    }\n",
       "\n",
       "    .dataframe thead th {\n",
       "        text-align: right;\n",
       "    }\n",
       "</style>\n",
       "<table border=\"1\" class=\"dataframe\">\n",
       "  <thead>\n",
       "    <tr style=\"text-align: right;\">\n",
       "      <th></th>\n",
       "      <th>s</th>\n",
       "      <th>d</th>\n",
       "      <th>c</th>\n",
       "    </tr>\n",
       "  </thead>\n",
       "  <tbody>\n",
       "    <tr>\n",
       "      <th>0</th>\n",
       "      <td>f</td>\n",
       "      <td>a</td>\n",
       "      <td>1</td>\n",
       "    </tr>\n",
       "    <tr>\n",
       "      <th>1</th>\n",
       "      <td>m</td>\n",
       "      <td>a</td>\n",
       "      <td>1</td>\n",
       "    </tr>\n",
       "    <tr>\n",
       "      <th>2</th>\n",
       "      <td>m</td>\n",
       "      <td>a</td>\n",
       "      <td>3</td>\n",
       "    </tr>\n",
       "    <tr>\n",
       "      <th>3</th>\n",
       "      <td>f</td>\n",
       "      <td>a</td>\n",
       "      <td>4</td>\n",
       "    </tr>\n",
       "    <tr>\n",
       "      <th>4</th>\n",
       "      <td>m</td>\n",
       "      <td>NaN</td>\n",
       "      <td>4</td>\n",
       "    </tr>\n",
       "  </tbody>\n",
       "</table>\n",
       "</div>"
      ],
      "text/plain": [
       "   s    d  c\n",
       "0  f    a  1\n",
       "1  m    a  1\n",
       "2  m    a  3\n",
       "3  f    a  4\n",
       "4  m  NaN  4"
      ]
     },
     "execution_count": 97,
     "metadata": {},
     "output_type": "execute_result"
    }
   ],
   "source": [
    "df"
   ]
  },
  {
   "cell_type": "code",
   "execution_count": 109,
   "metadata": {},
   "outputs": [
    {
     "data": {
      "text/plain": [
       "array(['f', 'm'], dtype=object)"
      ]
     },
     "execution_count": 109,
     "metadata": {},
     "output_type": "execute_result"
    }
   ],
   "source": [
    "# unique : 각 컬럼에 어떤 놈들이 있는지! : 중복되지 않은놈들만 보여줌\n",
    "# 쩄든 unique함수는 Series에 정의되어있기 때문에 df.unique() 이런식으론 못씀\n",
    "dfu = pd.unique(df['s'])\n",
    "dfu\n",
    "# dfu = df['s'].unique()"
   ]
  },
  {
   "cell_type": "code",
   "execution_count": 107,
   "metadata": {},
   "outputs": [
    {
     "data": {
      "text/plain": [
       "numpy.ndarray"
      ]
     },
     "execution_count": 107,
     "metadata": {},
     "output_type": "execute_result"
    }
   ],
   "source": [
    "type(dfu)"
   ]
  },
  {
   "cell_type": "code",
   "execution_count": 110,
   "metadata": {},
   "outputs": [
    {
     "data": {
      "text/plain": [
       "0    f\n",
       "1    m\n",
       "2    m\n",
       "3    f\n",
       "4    m\n",
       "Name: s, dtype: object"
      ]
     },
     "execution_count": 110,
     "metadata": {},
     "output_type": "execute_result"
    }
   ],
   "source": [
    "df['s']"
   ]
  },
  {
   "cell_type": "code",
   "execution_count": 111,
   "metadata": {},
   "outputs": [
    {
     "data": {
      "text/plain": [
       "pandas.core.series.Series"
      ]
     },
     "execution_count": 111,
     "metadata": {},
     "output_type": "execute_result"
    }
   ],
   "source": [
    "type(df['s'])"
   ]
  },
  {
   "cell_type": "code",
   "execution_count": 114,
   "metadata": {},
   "outputs": [
    {
     "data": {
      "text/plain": [
       "array([['f', 'a', 1],\n",
       "       ['m', 'a', 1],\n",
       "       ['m', 'a', 3],\n",
       "       ['f', 'a', 4],\n",
       "       ['m', nan, 4]], dtype=object)"
      ]
     },
     "execution_count": 114,
     "metadata": {},
     "output_type": "execute_result"
    }
   ],
   "source": [
    "df.values # 걍 값만 넘겨줌"
   ]
  },
  {
   "cell_type": "code",
   "execution_count": 115,
   "metadata": {},
   "outputs": [
    {
     "data": {
      "text/plain": [
       "numpy.ndarray"
      ]
     },
     "execution_count": 115,
     "metadata": {},
     "output_type": "execute_result"
    }
   ],
   "source": [
    "type(df.values)"
   ]
  },
  {
   "cell_type": "code",
   "execution_count": 118,
   "metadata": {},
   "outputs": [
    {
     "data": {
      "text/plain": [
       "m    3\n",
       "f    2\n",
       "Name: s, dtype: int64"
      ]
     },
     "execution_count": 118,
     "metadata": {},
     "output_type": "execute_result"
    }
   ],
   "source": [
    "df['s'].value_counts() # 시리즈 함수 : R에서 table같은 함수\n",
    "# df.value_counts() 못씀"
   ]
  },
  {
   "cell_type": "code",
   "execution_count": 119,
   "metadata": {},
   "outputs": [
    {
     "data": {
      "text/plain": [
       "a    4\n",
       "Name: d, dtype: int64"
      ]
     },
     "execution_count": 119,
     "metadata": {},
     "output_type": "execute_result"
    }
   ],
   "source": [
    "df['d'].value_counts() # 컬럼 요소의 빈도수 # NaN은 안나옴!"
   ]
  },
  {
   "cell_type": "code",
   "execution_count": 125,
   "metadata": {},
   "outputs": [
    {
     "data": {
      "text/plain": [
       "m    0.6\n",
       "f    0.4\n",
       "Name: s, dtype: float64"
      ]
     },
     "execution_count": 125,
     "metadata": {},
     "output_type": "execute_result"
    }
   ],
   "source": [
    "# normalize\n",
    "df['s'].value_counts(normalize=True,sort=True,ascending=False) # normalize하면 총합 1로 비율 출력"
   ]
  },
  {
   "cell_type": "code",
   "execution_count": 126,
   "metadata": {},
   "outputs": [
    {
     "data": {
      "text/plain": [
       "f    0.4\n",
       "m    0.6\n",
       "Name: s, dtype: float64"
      ]
     },
     "execution_count": 126,
     "metadata": {},
     "output_type": "execute_result"
    }
   ],
   "source": [
    "# normalize\n",
    "# sorting\n",
    "df['s'].value_counts(normalize=True,sort=True,ascending=True) # normalize하면 총합 1로 비율 출력"
   ]
  },
  {
   "cell_type": "code",
   "execution_count": 127,
   "metadata": {},
   "outputs": [
    {
     "data": {
      "text/plain": [
       "f    0.4\n",
       "m    0.6\n",
       "Name: s, dtype: float64"
      ]
     },
     "execution_count": 127,
     "metadata": {},
     "output_type": "execute_result"
    }
   ],
   "source": [
    "df['s'].value_counts(normalize=True,sort=False) # normalize하면 총합 1로 비율 출력"
   ]
  },
  {
   "cell_type": "code",
   "execution_count": 129,
   "metadata": {},
   "outputs": [
    {
     "data": {
      "text/plain": [
       "a    4\n",
       "Name: d, dtype: int64"
      ]
     },
     "execution_count": 129,
     "metadata": {},
     "output_type": "execute_result"
    }
   ],
   "source": [
    "df['d'].value_counts(dropna=True) # default"
   ]
  },
  {
   "cell_type": "code",
   "execution_count": 130,
   "metadata": {},
   "outputs": [
    {
     "data": {
      "text/plain": [
       "a      4\n",
       "NaN    1\n",
       "Name: d, dtype: int64"
      ]
     },
     "execution_count": 130,
     "metadata": {},
     "output_type": "execute_result"
    }
   ],
   "source": [
    "df['d'].value_counts(dropna=False) # NaN도 나온당"
   ]
  },
  {
   "cell_type": "code",
   "execution_count": 131,
   "metadata": {},
   "outputs": [],
   "source": [
    "# 각 구간별로 나눠서 : 연속형인 경우 : data가 몇건 있는지 조사해야 하는 경우 있음\n",
    "# ex : 타이타닉 생존율에 '나이'가 큰 영향 미쳤다? => 그러면 구간으로 분류 가능"
   ]
  },
  {
   "cell_type": "code",
   "execution_count": 135,
   "metadata": {},
   "outputs": [
    {
     "data": {
      "text/plain": [
       "0    1\n",
       "1    1\n",
       "2    3\n",
       "3    4\n",
       "4    4\n",
       "Name: c, dtype: int64"
      ]
     },
     "execution_count": 135,
     "metadata": {},
     "output_type": "execute_result"
    }
   ],
   "source": [
    "df['c']"
   ]
  },
  {
   "cell_type": "code",
   "execution_count": 137,
   "metadata": {},
   "outputs": [
    {
     "data": {
      "text/plain": [
       "(-0.001, 1.0]    2\n",
       "(1.0, 2.0]       0\n",
       "(2.0, 3.0]       1\n",
       "(3.0, 4.0]       2\n",
       "Name: c, dtype: int64"
      ]
     },
     "execution_count": 137,
     "metadata": {},
     "output_type": "execute_result"
    }
   ],
   "source": [
    "df['c'].value_counts(sort=False,bins=[0,1,2,3,4]) # bins 배열의 값들이 기준이 되어서 구간화!\n",
    "# [] : 폐구간(포함)\n",
    "# () : 개구간(미포함)"
   ]
  },
  {
   "cell_type": "code",
   "execution_count": 140,
   "metadata": {},
   "outputs": [
    {
     "data": {
      "text/plain": [
       "0    (0, 1]\n",
       "1    (0, 1]\n",
       "2    (2, 3]\n",
       "3    (3, 4]\n",
       "4    (3, 4]\n",
       "Name: c, dtype: category\n",
       "Categories (4, interval[int64]): [(0, 1] < (1, 2] < (2, 3] < (3, 4]]"
      ]
     },
     "execution_count": 140,
     "metadata": {},
     "output_type": "execute_result"
    }
   ],
   "source": [
    "res = pd.cut(df['c'], bins=[0,1,2,3,4])\n",
    "res"
   ]
  },
  {
   "cell_type": "code",
   "execution_count": 141,
   "metadata": {},
   "outputs": [
    {
     "data": {
      "text/plain": [
       "(3, 4]    2\n",
       "(0, 1]    2\n",
       "(2, 3]    1\n",
       "(1, 2]    0\n",
       "Name: c, dtype: int64"
      ]
     },
     "execution_count": 141,
     "metadata": {},
     "output_type": "execute_result"
    }
   ],
   "source": [
    "pd.value_counts(res)"
   ]
  },
  {
   "cell_type": "code",
   "execution_count": 146,
   "metadata": {},
   "outputs": [
    {
     "data": {
      "text/plain": [
       "array([[ 7,  0, 16, 13, 13],\n",
       "       [ 8, 16,  9,  8,  9],\n",
       "       [ 6,  3,  9,  0, 16],\n",
       "       [ 9, 17, 17, 14,  0],\n",
       "       [ 8,  5, 12,  1,  0],\n",
       "       [ 5,  2, 16, 10,  0]])"
      ]
     },
     "execution_count": 146,
     "metadata": {},
     "output_type": "execute_result"
    }
   ],
   "source": [
    "# 표준화 작업\n",
    "data = np.random.randint(20,size=(6,5))\n",
    "data"
   ]
  },
  {
   "cell_type": "code",
   "execution_count": 150,
   "metadata": {},
   "outputs": [
    {
     "data": {
      "text/plain": [
       "array([[-0.22765016, -1.45345869,  1.34838939,  0.82304287,  0.82304287],\n",
       "       [-0.05253465,  1.34838939,  0.12258085, -0.05253465,  0.12258085],\n",
       "       [-0.40276566, -0.92811218,  0.12258085, -1.45345869,  1.34838939],\n",
       "       [ 0.12258085,  1.52350489,  1.52350489,  0.99815838, -1.45345869],\n",
       "       [-0.05253465, -0.57788117,  0.64792737, -1.27834319, -1.45345869],\n",
       "       [-0.57788117, -1.10322768,  1.34838939,  0.29769636, -1.45345869]])"
      ]
     },
     "execution_count": 150,
     "metadata": {},
     "output_type": "execute_result"
    }
   ],
   "source": [
    "# 1. numpy 표준화\n",
    "from numpy import *\n",
    "# 전체평균일 경우\n",
    "data.mean()\n",
    "data.std()\n",
    "(data - data.mean()) / data.std()"
   ]
  },
  {
   "cell_type": "code",
   "execution_count": 161,
   "metadata": {},
   "outputs": [
    {
     "name": "stdout",
     "output_type": "stream",
     "text": [
      "[ 7.16666667  7.16666667 13.16666667  7.66666667  6.33333333]\n",
      "==================================================\n",
      "[1.34370962 6.76798017 3.3374974  5.43650214 6.64997911]\n",
      "==================================================\n",
      "[[-0.16666667 -7.16666667  2.83333333  5.33333333  6.66666667]\n",
      " [ 0.83333333  8.83333333 -4.16666667  0.33333333  2.66666667]\n",
      " [-1.16666667 -4.16666667 -4.16666667 -7.66666667  9.66666667]\n",
      " [ 1.83333333  9.83333333  3.83333333  6.33333333 -6.33333333]\n",
      " [ 0.83333333 -2.16666667 -1.16666667 -6.66666667 -6.33333333]\n",
      " [-2.16666667 -5.16666667  2.83333333  2.33333333 -6.33333333]]\n",
      "==================================================\n",
      "[[-0.12403473 -1.05890775  0.84893949  0.98102294  1.00250941]\n",
      " [ 0.62017367  1.30516537 -1.24844042  0.06131393  0.40100377]\n",
      " [-0.86824314 -0.61564404 -1.24844042 -1.41022048  1.45363865]\n",
      " [ 1.36438208  1.45291994  1.14856519  1.16496475 -0.95238394]\n",
      " [ 0.62017367 -0.3201349  -0.34956332 -1.22627868 -0.95238394]\n",
      " [-1.61245155 -0.76339861  0.84893949  0.42919754 -0.95238394]]\n"
     ]
    }
   ],
   "source": [
    "# 각 col별 표준화 : 각 col이 feature라고 생각\n",
    "# 표준화 : (각 열의 데이터 - 각 열 평균) / 각 열의 표준편차\n",
    "# 브로드캐스팅으로 간단히 표준화!\n",
    "\n",
    "print(mean(data,axis=0)) # col별 평균\n",
    "print(\"=\"*50)\n",
    "print(std(data,axis=0)) # col별 표준편차\n",
    "print(\"=\"*50)\n",
    "print(data - data.mean(axis=0)) # 브로드캐스팅 (크기가 안맞으면 복사해서 크기 맞추고 연산)\n",
    "print(\"=\"*50)\n",
    "print((data - data.mean(axis=0)) / data.std(axis=0)) # 브로드캐스팅 \n",
    "std_data = (data - data.mean(axis=0)) / data.std(axis=0) "
   ]
  },
  {
   "cell_type": "code",
   "execution_count": 155,
   "metadata": {},
   "outputs": [
    {
     "data": {
      "text/plain": [
       "array([ 9.8, 10. ,  6.8, 11.4,  5.2,  6.6])"
      ]
     },
     "execution_count": 155,
     "metadata": {},
     "output_type": "execute_result"
    }
   ],
   "source": [
    "mean(data,axis=1) # row별 평균\n",
    "std(data,axis=1) # row별 표준편차"
   ]
  },
  {
   "cell_type": "code",
   "execution_count": 162,
   "metadata": {},
   "outputs": [
    {
     "data": {
      "text/plain": [
       "array([[-0.12403473, -1.05890775,  0.84893949,  0.98102294,  1.00250941],\n",
       "       [ 0.62017367,  1.30516537, -1.24844042,  0.06131393,  0.40100377],\n",
       "       [-0.86824314, -0.61564404, -1.24844042, -1.41022048,  1.45363865],\n",
       "       [ 1.36438208,  1.45291994,  1.14856519,  1.16496475, -0.95238394],\n",
       "       [ 0.62017367, -0.3201349 , -0.34956332, -1.22627868, -0.95238394],\n",
       "       [-1.61245155, -0.76339861,  0.84893949,  0.42919754, -0.95238394]])"
      ]
     },
     "execution_count": 162,
     "metadata": {},
     "output_type": "execute_result"
    }
   ],
   "source": [
    "std_data"
   ]
  },
  {
   "cell_type": "code",
   "execution_count": 164,
   "metadata": {},
   "outputs": [
    {
     "data": {
      "text/plain": [
       "array([-2.22044605e-16, -1.11022302e-16,  2.22044605e-16, -5.55111512e-17,\n",
       "        3.70074342e-17])"
      ]
     },
     "execution_count": 164,
     "metadata": {},
     "output_type": "execute_result"
    }
   ],
   "source": [
    "std_data.mean(axis=0) # 평균은 0"
   ]
  },
  {
   "cell_type": "code",
   "execution_count": 165,
   "metadata": {},
   "outputs": [
    {
     "data": {
      "text/plain": [
       "array([1., 1., 1., 1., 1.])"
      ]
     },
     "execution_count": 165,
     "metadata": {},
     "output_type": "execute_result"
    }
   ],
   "source": [
    "std_data.std(axis=0) # 표준편차는 1"
   ]
  },
  {
   "cell_type": "code",
   "execution_count": 168,
   "metadata": {},
   "outputs": [],
   "source": [
    "# 2. scipy 이용한 표준화\n",
    "import scipy.stats as ss"
   ]
  },
  {
   "cell_type": "code",
   "execution_count": 170,
   "metadata": {},
   "outputs": [
    {
     "data": {
      "text/plain": [
       "array([[-0.12403473, -1.05890775,  0.84893949,  0.98102294,  1.00250941],\n",
       "       [ 0.62017367,  1.30516537, -1.24844042,  0.06131393,  0.40100377],\n",
       "       [-0.86824314, -0.61564404, -1.24844042, -1.41022048,  1.45363865],\n",
       "       [ 1.36438208,  1.45291994,  1.14856519,  1.16496475, -0.95238394],\n",
       "       [ 0.62017367, -0.3201349 , -0.34956332, -1.22627868, -0.95238394],\n",
       "       [-1.61245155, -0.76339861,  0.84893949,  0.42919754, -0.95238394]])"
      ]
     },
     "execution_count": 170,
     "metadata": {},
     "output_type": "execute_result"
    }
   ],
   "source": [
    "ss.zscore(data) # 함수 하나로 짠!"
   ]
  },
  {
   "cell_type": "code",
   "execution_count": 173,
   "metadata": {},
   "outputs": [
    {
     "name": "stderr",
     "output_type": "stream",
     "text": [
      "C:\\Users\\user\\Anaconda3\\lib\\site-packages\\sklearn\\utils\\validation.py:595: DataConversionWarning: Data with input dtype int32 was converted to float64 by StandardScaler.\n",
      "  warnings.warn(msg, DataConversionWarning)\n",
      "C:\\Users\\user\\Anaconda3\\lib\\site-packages\\sklearn\\utils\\validation.py:595: DataConversionWarning: Data with input dtype int32 was converted to float64 by StandardScaler.\n",
      "  warnings.warn(msg, DataConversionWarning)\n"
     ]
    },
    {
     "data": {
      "text/plain": [
       "array([[-0.12403473, -1.05890775,  0.84893949,  0.98102294,  1.00250941],\n",
       "       [ 0.62017367,  1.30516537, -1.24844042,  0.06131393,  0.40100377],\n",
       "       [-0.86824314, -0.61564404, -1.24844042, -1.41022048,  1.45363865],\n",
       "       [ 1.36438208,  1.45291994,  1.14856519,  1.16496475, -0.95238394],\n",
       "       [ 0.62017367, -0.3201349 , -0.34956332, -1.22627868, -0.95238394],\n",
       "       [-1.61245155, -0.76339861,  0.84893949,  0.42919754, -0.95238394]])"
      ]
     },
     "execution_count": 173,
     "metadata": {},
     "output_type": "execute_result"
    }
   ],
   "source": [
    "# 3. sklearn\n",
    "from sklearn.preprocessing import StandardScaler\n",
    "std_data = StandardScaler().fit_transform(data) # 걍 객체의 메서드 쓴다 생각\n",
    "std_data"
   ]
  },
  {
   "cell_type": "code",
   "execution_count": 176,
   "metadata": {},
   "outputs": [
    {
     "data": {
      "text/plain": [
       "array([[-0.28571429, -0.36363636,  0.32      ,  0.42105263,  0.70833333],\n",
       "       [ 0.28571429,  1.09090909, -0.8       , -0.10526316,  0.375     ],\n",
       "       [-0.85714286, -0.09090909, -0.8       , -0.94736842,  0.95833333],\n",
       "       [ 0.85714286,  1.18181818,  0.48      ,  0.52631579, -0.375     ],\n",
       "       [ 0.28571429,  0.09090909, -0.32      , -0.84210526, -0.375     ],\n",
       "       [-1.42857143, -0.18181818,  0.32      ,  0.10526316, -0.375     ]])"
      ]
     },
     "execution_count": 176,
     "metadata": {},
     "output_type": "execute_result"
    }
   ],
   "source": [
    "# 근데 이러한 표준화는 : outlier(이상치)가 없다는 전제 하!\n",
    "# 근데 특이값을 날리면 안될 때도 있음 : 뭐 결과에 중요한 역할을 한다던지\n",
    "# 근데 그냥 표준화가 이상치에 영향 많이 받는 이유 : 평균과 표준편차가 이상치에 영향 많이받으니까!(민감)\n",
    "# 다른 척도를 쓰자 => Robust 표준화\n",
    "# 평균대신 중앙값(Q2), std 대신 IQR(Q3-Q1)\n",
    "# robustscaler = (x - median) / IQR\n",
    "from sklearn.preprocessing import RobustScaler\n",
    "rstd_data = RobustScaler().fit_transform(data)\n",
    "rstd_data"
   ]
  },
  {
   "cell_type": "code",
   "execution_count": 191,
   "metadata": {},
   "outputs": [
    {
     "data": {
      "text/plain": [
       "array([11.73043915, 16.39332639, 17.320659  , 10.78998062,  5.51163806,\n",
       "        9.88979408, 11.29208736,  5.41157701,  7.80922097, 13.15394571,\n",
       "       14.85937801,  5.18495989, 10.9930286 ,  9.36714293, 10.8945301 ,\n",
       "        6.56177945, 11.72608607,  8.9082801 , 10.10919758,  8.43830804,\n",
       "        9.952707  ,  9.86247581,  8.14476643,  7.54049167, 11.52942571,\n",
       "       13.15181833, 10.43509572,  8.97743181, 13.73237532, 14.96745496,\n",
       "        9.18100947,  8.92022193,  0.07338429, 13.15509679,  9.32104691,\n",
       "        8.01247213, 12.73917563, 12.76350652, 12.71635723,  8.54749669,\n",
       "        7.85535142, 10.54716188, 11.73015021,  5.30930238, 15.6590461 ,\n",
       "        6.80288206, 10.33849318,  8.23193967, 11.93280031, 10.91541905,\n",
       "       11.85215573, 13.29726519,  8.69230361, 11.19550648, 10.01848898,\n",
       "        4.93669823, 10.0159642 , 12.36761596, 11.77181612,  6.89236123,\n",
       "       13.12230939,  8.03537406,  8.08006912, 11.32291988,  9.03981268,\n",
       "       14.20361445, 10.5615933 , 12.96978103,  9.91591744, 10.50358114,\n",
       "       11.50735657,  3.5675912 ,  8.21116157,  5.44896509,  5.5628549 ,\n",
       "       12.25802737, 12.47323302, 10.44418671,  9.02892504,  9.76647714,\n",
       "       14.55459593,  8.21246438, 11.14295348,  9.91375489, 17.8803937 ,\n",
       "       12.38888958,  9.48135079, 15.24411802,  9.54254465,  9.33075236,\n",
       "        7.18685342,  8.42851238,  6.92798126, 16.21763798,  8.87672899,\n",
       "        9.08398138,  8.61800468,  6.78583668,  7.95611752, 10.50983996])"
      ]
     },
     "execution_count": 191,
     "metadata": {},
     "output_type": "execute_result"
    }
   ],
   "source": [
    "np.random.seed(73) # 시드 : 모델 개선시 비교 지표\n",
    "mu, sigma = 10, 3\n",
    "x = mu+sigma*np.random.randn(100) # 평균 10, 표편 3 정규분포 난수 생성\n",
    "x"
   ]
  },
  {
   "cell_type": "code",
   "execution_count": 192,
   "metadata": {},
   "outputs": [
    {
     "data": {
      "text/plain": [
       "(array([ 1.,  1.,  4.,  9., 19., 26., 20., 11.,  5.,  4.]),\n",
       " array([ 0.07338429,  1.85408523,  3.63478617,  5.41548711,  7.19618805,\n",
       "         8.97688899, 10.75758993, 12.53829087, 14.31899181, 16.09969276,\n",
       "        17.8803937 ]),\n",
       " <a list of 10 Patch objects>)"
      ]
     },
     "execution_count": 192,
     "metadata": {},
     "output_type": "execute_result"
    },
    {
     "data": {
      "image/png": "[encoded data removed]",
      "text/plain": [
       "<Figure size 432x288 with 1 Axes>"
      ]
     },
     "metadata": {
      "needs_background": "light"
     },
     "output_type": "display_data"
    }
   ],
   "source": [
    "import matplotlib.pyplot as plt\n",
    "plt.hist(x)"
   ]
  },
  {
   "cell_type": "code",
   "execution_count": 195,
   "metadata": {},
   "outputs": [
    {
     "data": {
      "text/plain": [
       "10.147389546015"
      ]
     },
     "execution_count": 195,
     "metadata": {},
     "output_type": "execute_result"
    }
   ],
   "source": [
    "mean(x)    "
   ]
  },
  {
   "cell_type": "code",
   "execution_count": 194,
   "metadata": {},
   "outputs": [
    {
     "data": {
      "text/plain": [
       "3.014695610662603"
      ]
     },
     "execution_count": 194,
     "metadata": {},
     "output_type": "execute_result"
    }
   ],
   "source": [
    "std(x)"
   ]
  },
  {
   "cell_type": "code",
   "execution_count": 198,
   "metadata": {},
   "outputs": [],
   "source": [
    "x[95:100] = 100"
   ]
  },
  {
   "cell_type": "code",
   "execution_count": 199,
   "metadata": {},
   "outputs": [
    {
     "data": {
      "text/plain": [
       "array([1.17304392e+01, 1.63933264e+01, 1.73206590e+01, 1.07899806e+01,\n",
       "       5.51163806e+00, 9.88979408e+00, 1.12920874e+01, 5.41157701e+00,\n",
       "       7.80922097e+00, 1.31539457e+01, 1.48593780e+01, 5.18495989e+00,\n",
       "       1.09930286e+01, 9.36714293e+00, 1.08945301e+01, 6.56177945e+00,\n",
       "       1.17260861e+01, 8.90828010e+00, 1.01091976e+01, 8.43830804e+00,\n",
       "       9.95270700e+00, 9.86247581e+00, 8.14476643e+00, 7.54049167e+00,\n",
       "       1.15294257e+01, 1.31518183e+01, 1.04350957e+01, 8.97743181e+00,\n",
       "       1.37323753e+01, 1.49674550e+01, 9.18100947e+00, 8.92022193e+00,\n",
       "       7.33842885e-02, 1.31550968e+01, 9.32104691e+00, 8.01247213e+00,\n",
       "       1.27391756e+01, 1.27635065e+01, 1.27163572e+01, 8.54749669e+00,\n",
       "       7.85535142e+00, 1.05471619e+01, 1.17301502e+01, 5.30930238e+00,\n",
       "       1.56590461e+01, 6.80288206e+00, 1.03384932e+01, 8.23193967e+00,\n",
       "       1.19328003e+01, 1.09154191e+01, 1.18521557e+01, 1.32972652e+01,\n",
       "       8.69230361e+00, 1.11955065e+01, 1.00184890e+01, 4.93669823e+00,\n",
       "       1.00159642e+01, 1.23676160e+01, 1.17718161e+01, 6.89236123e+00,\n",
       "       1.31223094e+01, 8.03537406e+00, 8.08006912e+00, 1.13229199e+01,\n",
       "       9.03981268e+00, 1.42036144e+01, 1.05615933e+01, 1.29697810e+01,\n",
       "       9.91591744e+00, 1.05035811e+01, 1.15073566e+01, 3.56759120e+00,\n",
       "       8.21116157e+00, 5.44896509e+00, 5.56285490e+00, 1.22580274e+01,\n",
       "       1.24732330e+01, 1.04441867e+01, 9.02892504e+00, 9.76647714e+00,\n",
       "       1.45545959e+01, 8.21246438e+00, 1.11429535e+01, 9.91375489e+00,\n",
       "       1.78803937e+01, 1.23888896e+01, 9.48135079e+00, 1.52441180e+01,\n",
       "       9.54254465e+00, 9.33075236e+00, 7.18685342e+00, 8.42851238e+00,\n",
       "       6.92798126e+00, 1.62176380e+01, 8.87672899e+00, 1.00000000e+02,\n",
       "       1.00000000e+02, 1.00000000e+02, 1.00000000e+02, 1.00000000e+02])"
      ]
     },
     "execution_count": 199,
     "metadata": {},
     "output_type": "execute_result"
    }
   ],
   "source": [
    "x"
   ]
  },
  {
   "cell_type": "code",
   "execution_count": 200,
   "metadata": {},
   "outputs": [
    {
     "data": {
      "text/plain": [
       "{'whiskers': [<matplotlib.lines.Line2D at 0x1fb800cd748>,\n",
       "  <matplotlib.lines.Line2D at 0x1fb800cda90>],\n",
       " 'caps': [<matplotlib.lines.Line2D at 0x1fb800cddd8>,\n",
       "  <matplotlib.lines.Line2D at 0x1fb800cdeb8>],\n",
       " 'boxes': [<matplotlib.lines.Line2D at 0x1fb800cd320>],\n",
       " 'medians': [<matplotlib.lines.Line2D at 0x1fb800d34a8>],\n",
       " 'fliers': [<matplotlib.lines.Line2D at 0x1fb800d37f0>],\n",
       " 'means': []}"
      ]
     },
     "execution_count": 200,
     "metadata": {},
     "output_type": "execute_result"
    },
    {
     "data": {
      "image/png": "[encoded data removed]",
      "text/plain": [
       "<Figure size 432x288 with 1 Axes>"
      ]
     },
     "metadata": {
      "needs_background": "light"
     },
     "output_type": "display_data"
    }
   ],
   "source": [
    "plt.boxplot(x)"
   ]
  },
  {
   "cell_type": "code",
   "execution_count": 201,
   "metadata": {},
   "outputs": [
    {
     "data": {
      "text/plain": [
       "(array([48., 47.,  0.,  0.,  0.,  0.,  0.,  0.,  0.,  5.]),\n",
       " array([7.33842885e-02, 1.00660459e+01, 2.00587074e+01, 3.00513690e+01,\n",
       "        4.00440306e+01, 5.00366921e+01, 6.00293537e+01, 7.00220153e+01,\n",
       "        8.00146769e+01, 9.00073384e+01, 1.00000000e+02]),\n",
       " <a list of 10 Patch objects>)"
      ]
     },
     "execution_count": 201,
     "metadata": {},
     "output_type": "execute_result"
    },
    {
     "data": {
      "image/png": "[encoded data removed]",
      "text/plain": [
       "<Figure size 432x288 with 1 Axes>"
      ]
     },
     "metadata": {
      "needs_background": "light"
     },
     "output_type": "display_data"
    }
   ],
   "source": [
    "plt.hist(x)"
   ]
  },
  {
   "cell_type": "code",
   "execution_count": 214,
   "metadata": {},
   "outputs": [
    {
     "data": {
      "text/plain": [
       "(array([ 1.,  1.,  7.,  8., 29., 25., 14.,  6.,  4.,  0.,  0.,  0.,  0.,\n",
       "         0.,  0.,  0.,  0.,  0.,  0.,  0.,  0.,  0.,  0.,  0.,  0.,  0.,\n",
       "         0.,  0.,  0.,  0.,  0.,  0.,  0.,  0.,  0.,  0.,  0.,  0.,  0.,\n",
       "         0.,  0.,  0.,  0.,  0.,  0.,  0.,  0.,  0.,  0.,  5.]),\n",
       " array([  0,   2,   4,   6,   8,  10,  12,  14,  16,  18,  20,  22,  24,\n",
       "         26,  28,  30,  32,  34,  36,  38,  40,  42,  44,  46,  48,  50,\n",
       "         52,  54,  56,  58,  60,  62,  64,  66,  68,  70,  72,  74,  76,\n",
       "         78,  80,  82,  84,  86,  88,  90,  92,  94,  96,  98, 100]),\n",
       " <a list of 50 Patch objects>)"
      ]
     },
     "execution_count": 214,
     "metadata": {},
     "output_type": "execute_result"
    },
    {
     "data": {
      "image/png": "[encoded data removed]",
      "text/plain": [
       "<Figure size 432x288 with 1 Axes>"
      ]
     },
     "metadata": {
      "needs_background": "light"
     },
     "output_type": "display_data"
    }
   ],
   "source": [
    "plt.hist(x,bins=np.arange(0,101,2)) # bins : 구간설정가능"
   ]
  },
  {
   "cell_type": "code",
   "execution_count": 202,
   "metadata": {},
   "outputs": [
    {
     "data": {
      "text/plain": [
       "14.717851743813155"
      ]
     },
     "execution_count": 202,
     "metadata": {},
     "output_type": "execute_result"
    }
   ],
   "source": [
    "mean(x)"
   ]
  },
  {
   "cell_type": "code",
   "execution_count": 203,
   "metadata": {},
   "outputs": [
    {
     "data": {
      "text/plain": [
       "19.790826557586872"
      ]
     },
     "execution_count": 203,
     "metadata": {},
     "output_type": "execute_result"
    }
   ],
   "source": [
    "std(x)"
   ]
  },
  {
   "cell_type": "code",
   "execution_count": 219,
   "metadata": {},
   "outputs": [
    {
     "name": "stdout",
     "output_type": "stream",
     "text": [
      "(100, 1)\n",
      "(100, 1)\n"
     ]
    }
   ],
   "source": [
    "# 현재 x는 1차원 => scaling 위해 reshape\n",
    "print(x.shape) # 원랜 (100,) 이었음\n",
    "x = x.reshape(-1,1)\n",
    "# TF에서는 -1말고 None써줌\n",
    "print(x.shape) # 100,1로 reshape!"
   ]
  },
  {
   "cell_type": "code",
   "execution_count": 227,
   "metadata": {},
   "outputs": [
    {
     "data": {
      "text/plain": [
       "array([[-0.15094936],\n",
       "       [ 0.08465915],\n",
       "       [ 0.13151584],\n",
       "       [-0.19846928],\n",
       "       [-0.46517581],\n",
       "       [-0.24395432],\n",
       "       [-0.1730986 ],\n",
       "       [-0.47023174],\n",
       "       [-0.34908248],\n",
       "       [-0.07902176],\n",
       "       [ 0.0071511 ],\n",
       "       [-0.48168235],\n",
       "       [-0.18820958],\n",
       "       [-0.27036308],\n",
       "       [-0.19318656],\n",
       "       [-0.41211378],\n",
       "       [-0.15116931],\n",
       "       [-0.29354871],\n",
       "       [-0.2328682 ],\n",
       "       [-0.31729568],\n",
       "       [-0.24077543],\n",
       "       [-0.24533467],\n",
       "       [-0.33212788],\n",
       "       [-0.36266096],\n",
       "       [-0.16110626],\n",
       "       [-0.07912926],\n",
       "       [-0.21640107],\n",
       "       [-0.29005458],\n",
       "       [-0.04979461],\n",
       "       [ 0.01261207],\n",
       "       [-0.27976812],\n",
       "       [-0.29294531],\n",
       "       [-0.7399624 ],\n",
       "       [-0.0789636 ],\n",
       "       [-0.27269224],\n",
       "       [-0.33881251],\n",
       "       [-0.09997946],\n",
       "       [-0.09875006],\n",
       "       [-0.10113244],\n",
       "       [-0.31177854],\n",
       "       [-0.34675158],\n",
       "       [-0.21073854],\n",
       "       [-0.15096396],\n",
       "       [-0.47539952],\n",
       "       [ 0.0475571 ],\n",
       "       [-0.39993123],\n",
       "       [-0.22128225],\n",
       "       [-0.32772315],\n",
       "       [-0.14072436],\n",
       "       [-0.19213107],\n",
       "       [-0.14479921],\n",
       "       [-0.07178005],\n",
       "       [-0.30446167],\n",
       "       [-0.17797868],\n",
       "       [-0.23745157],\n",
       "       [-0.49422663],\n",
       "       [-0.23757914],\n",
       "       [-0.1187538 ],\n",
       "       [-0.14885864],\n",
       "       [-0.39540999],\n",
       "       [-0.0806203 ],\n",
       "       [-0.33765531],\n",
       "       [-0.33539694],\n",
       "       [-0.17154068],\n",
       "       [-0.28690257],\n",
       "       [-0.02598362],\n",
       "       [-0.21000934],\n",
       "       [-0.08832732],\n",
       "       [-0.24263435],\n",
       "       [-0.21294061],\n",
       "       [-0.16222138],\n",
       "       [-0.5634055 ],\n",
       "       [-0.32877304],\n",
       "       [-0.46834257],\n",
       "       [-0.4625879 ],\n",
       "       [-0.12429114],\n",
       "       [-0.11341713],\n",
       "       [-0.21594172],\n",
       "       [-0.28745271],\n",
       "       [-0.25018534],\n",
       "       [-0.00824906],\n",
       "       [-0.32870721],\n",
       "       [-0.18063411],\n",
       "       [-0.24274362],\n",
       "       [ 0.15979838],\n",
       "       [-0.11767887],\n",
       "       [-0.26459233],\n",
       "       [ 0.02659142],\n",
       "       [-0.2615003 ],\n",
       "       [-0.27220184],\n",
       "       [-0.38052975],\n",
       "       [-0.31779064],\n",
       "       [-0.39361016],\n",
       "       [ 0.07578189],\n",
       "       [-0.29514294],\n",
       "       [ 4.30917567],\n",
       "       [ 4.30917567],\n",
       "       [ 4.30917567],\n",
       "       [ 4.30917567],\n",
       "       [ 4.30917567]])"
      ]
     },
     "execution_count": 227,
     "metadata": {},
     "output_type": "execute_result"
    }
   ],
   "source": [
    "std_x = StandardScaler().fit_transform(x)\n",
    "std_x"
   ]
  },
  {
   "cell_type": "code",
   "execution_count": 224,
   "metadata": {},
   "outputs": [
    {
     "data": {
      "text/plain": [
       "5.329070518200751e-17"
      ]
     },
     "execution_count": 224,
     "metadata": {},
     "output_type": "execute_result"
    }
   ],
   "source": [
    "mean(std_x)"
   ]
  },
  {
   "cell_type": "code",
   "execution_count": 225,
   "metadata": {},
   "outputs": [
    {
     "data": {
      "text/plain": [
       "1.0"
      ]
     },
     "execution_count": 225,
     "metadata": {},
     "output_type": "execute_result"
    }
   ],
   "source": [
    "std(std_x)"
   ]
  },
  {
   "cell_type": "code",
   "execution_count": 239,
   "metadata": {},
   "outputs": [],
   "source": [
    "std_o = std_x[std_x<4]"
   ]
  },
  {
   "cell_type": "code",
   "execution_count": 240,
   "metadata": {},
   "outputs": [
    {
     "data": {
      "text/plain": [
       "(95,)"
      ]
     },
     "execution_count": 240,
     "metadata": {},
     "output_type": "execute_result"
    }
   ],
   "source": [
    "std_o.shape"
   ]
  },
  {
   "cell_type": "code",
   "execution_count": 246,
   "metadata": {},
   "outputs": [
    {
     "data": {
      "text/plain": [
       "(array([ 0.,  0.,  1.,  0.,  1.,  7.,  5., 20., 24., 18., 10.,  6.,  3.,\n",
       "         0.,  0.,  0.,  0.,  0.,  0.,  0.,  0.,  0.]),\n",
       " array([-1.  , -0.91, -0.82, -0.73, -0.64, -0.55, -0.46, -0.37, -0.28,\n",
       "        -0.19, -0.1 , -0.01,  0.08,  0.17,  0.26,  0.35,  0.44,  0.53,\n",
       "         0.62,  0.71,  0.8 ,  0.89,  0.98]),\n",
       " <a list of 22 Patch objects>)"
      ]
     },
     "execution_count": 246,
     "metadata": {},
     "output_type": "execute_result"
    },
    {
     "data": {
      "image/png": "[encoded data removed]",
      "text/plain": [
       "<Figure size 432x288 with 1 Axes>"
      ]
     },
     "metadata": {
      "needs_background": "light"
     },
     "output_type": "display_data"
    }
   ],
   "source": [
    "plt.hist(std_o,bins=np.arange(-1,1,0.09)) # 걍 즉당히 이렇게 만들면 댄다 : bins: 몇덩어리?"
   ]
  },
  {
   "cell_type": "code",
   "execution_count": 253,
   "metadata": {},
   "outputs": [],
   "source": [
    "mean(x)\n",
    "median(x)\n",
    "Q1 = percentile(x,25) # 백분위 중 몇분위 수를 얻고싶니? : 25%지점 = Q1\n",
    "Q3 = percentile(x,75) # 75% = Q3\n",
    "IQR = Q3 - Q1"
   ]
  },
  {
   "cell_type": "code",
   "execution_count": 255,
   "metadata": {},
   "outputs": [
    {
     "data": {
      "text/plain": [
       "array([[ 3.27865765e-01],\n",
       "       [ 1.46566736e+00],\n",
       "       [ 1.69194788e+00],\n",
       "       [ 9.83823630e-02],\n",
       "       [-1.18959787e+00],\n",
       "       [-1.21274179e-01],\n",
       "       [ 2.20902557e-01],\n",
       "       [-1.21401399e+00],\n",
       "       [-6.28959499e-01],\n",
       "       [ 6.75218799e-01],\n",
       "       [ 1.09136517e+00],\n",
       "       [-1.26931134e+00],\n",
       "       [ 1.47928556e-01],\n",
       "       [-2.48807460e-01],\n",
       "       [ 1.23893718e-01],\n",
       "       [-9.33350510e-01],\n",
       "       [ 3.26803559e-01],\n",
       "       [-3.60775612e-01],\n",
       "       [-6.77370358e-02],\n",
       "       [-4.75454548e-01],\n",
       "       [-1.05922655e-01],\n",
       "       [-1.27940169e-01],\n",
       "       [-5.47082297e-01],\n",
       "       [-6.94532739e-01],\n",
       "       [ 2.78816023e-01],\n",
       "       [ 6.74699692e-01],\n",
       "       [ 1.17861007e-02],\n",
       "       [-3.43901747e-01],\n",
       "       [ 8.16362710e-01],\n",
       "       [ 1.11773727e+00],\n",
       "       [-2.94226304e-01],\n",
       "       [-3.57861657e-01],\n",
       "       [-2.51659840e+00],\n",
       "       [ 6.75499676e-01],\n",
       "       [-2.60055454e-01],\n",
       "       [-5.79363727e-01],\n",
       "       [ 5.74009819e-01],\n",
       "       [ 5.79946854e-01],\n",
       "       [ 5.68441851e-01],\n",
       "       [-4.48811180e-01],\n",
       "       [-6.17703105e-01],\n",
       "       [ 3.91316169e-02],\n",
       "       [ 3.27795259e-01],\n",
       "       [-1.23897026e+00],\n",
       "       [ 1.28649398e+00],\n",
       "       [-8.74518518e-01],\n",
       "       [-1.17861007e-02],\n",
       "       [-5.25810959e-01],\n",
       "       [ 3.77244364e-01],\n",
       "       [ 1.28990877e-01],\n",
       "       [ 3.57566101e-01],\n",
       "       [ 7.10190508e-01],\n",
       "       [-4.13476520e-01],\n",
       "       [ 1.97335640e-01],\n",
       "       [-8.98710463e-02],\n",
       "       [-1.32989023e+00],\n",
       "       [-9.04871228e-02],\n",
       "       [ 4.83344709e-01],\n",
       "       [ 3.37962251e-01],\n",
       "       [-8.52684505e-01],\n",
       "       [ 6.67499149e-01],\n",
       "       [-5.73775375e-01],\n",
       "       [-5.62869234e-01],\n",
       "       [ 2.28426070e-01],\n",
       "       [-3.28680051e-01],\n",
       "       [ 9.31350828e-01],\n",
       "       [ 4.26530613e-02],\n",
       "       [ 6.30280363e-01],\n",
       "       [-1.14899759e-01],\n",
       "       [ 2.84973819e-02],\n",
       "       [ 2.73430883e-01],\n",
       "       [-1.66396912e+00],\n",
       "       [-5.30881071e-01],\n",
       "       [-1.20489084e+00],\n",
       "       [-1.17710034e+00],\n",
       "       [ 4.56603751e-01],\n",
       "       [ 5.09116565e-01],\n",
       "       [ 1.40044146e-02],\n",
       "       [-3.31336766e-01],\n",
       "       [-1.51365021e-01],\n",
       "       [ 1.01699461e+00],\n",
       "       [-5.30563169e-01],\n",
       "       [ 1.84512064e-01],\n",
       "       [-1.15427447e-01],\n",
       "       [ 1.82853000e+00],\n",
       "       [ 4.88535734e-01],\n",
       "       [-2.20939343e-01],\n",
       "       [ 1.18524644e+00],\n",
       "       [-2.06007291e-01],\n",
       "       [-2.57687205e-01],\n",
       "       [-7.80824804e-01],\n",
       "       [-4.77844810e-01],\n",
       "       [-8.43992782e-01],\n",
       "       [ 1.42279724e+00],\n",
       "       [-3.68474469e-01],\n",
       "       [ 2.18667197e+01],\n",
       "       [ 2.18667197e+01],\n",
       "       [ 2.18667197e+01],\n",
       "       [ 2.18667197e+01],\n",
       "       [ 2.18667197e+01]])"
      ]
     },
     "execution_count": 255,
     "metadata": {},
     "output_type": "execute_result"
    }
   ],
   "source": [
    "rbs_x = RobustScaler().fit_transform(x)\n",
    "# (x - meidan) / IQR\n",
    "rbs_x"
   ]
  },
  {
   "cell_type": "code",
   "execution_count": 259,
   "metadata": {},
   "outputs": [
    {
     "data": {
      "text/plain": [
       "0.0"
      ]
     },
     "execution_count": 259,
     "metadata": {},
     "output_type": "execute_result"
    }
   ],
   "source": [
    "median(rbs_x) # 정확하게 중위수 지점이 0 되니까"
   ]
  },
  {
   "cell_type": "code",
   "execution_count": 260,
   "metadata": {},
   "outputs": [
    {
     "data": {
      "text/plain": [
       "1.0568310264435923"
      ]
     },
     "execution_count": 260,
     "metadata": {},
     "output_type": "execute_result"
    }
   ],
   "source": [
    "mean(rbs_x)"
   ]
  },
  {
   "cell_type": "code",
   "execution_count": 261,
   "metadata": {},
   "outputs": [
    {
     "data": {
      "text/plain": [
       "4.829204078863935"
      ]
     },
     "execution_count": 261,
     "metadata": {},
     "output_type": "execute_result"
    }
   ],
   "source": [
    "std(rbs_x)"
   ]
  },
  {
   "cell_type": "code",
   "execution_count": 263,
   "metadata": {},
   "outputs": [
    {
     "data": {
      "text/plain": [
       "(array([ 0.,  1.,  0.,  0.,  1.,  5.,  3.,  7., 17., 16., 15., 13.,  7.,\n",
       "         5.,  3.,  1.,  1.,  0.,  0.,  0.,  0.,  0.,  0.,  0.,  0.,  0.,\n",
       "         0.,  0.,  0.,  0.,  0.,  0.,  0.,  0.,  0.,  0.,  0.,  0.,  0.,\n",
       "         0.,  0.,  0.,  0.,  0.,  0.,  0.,  0.,  0.,  0.,  0.,  0.,  0.,\n",
       "         0.,  0.,  0.,  0.,  0.,  0.,  0.,  0.,  0.,  0.,  0.,  0.,  0.,\n",
       "         0.,  0.,  0.,  0.,  0.,  0.,  0.,  0.,  0.,  0.,  0.,  0.,  0.,\n",
       "         0.,  0.,  0.,  0.,  5.,  0.,  0.,  0.,  0.,  0.,  0.,  0.,  0.,\n",
       "         0.,  0.]),\n",
       " array([-3.00000000e+00, -2.70000000e+00, -2.40000000e+00, -2.10000000e+00,\n",
       "        -1.80000000e+00, -1.50000000e+00, -1.20000000e+00, -9.00000000e-01,\n",
       "        -6.00000000e-01, -3.00000000e-01, -1.77635684e-15,  3.00000000e-01,\n",
       "         6.00000000e-01,  9.00000000e-01,  1.20000000e+00,  1.50000000e+00,\n",
       "         1.80000000e+00,  2.10000000e+00,  2.40000000e+00,  2.70000000e+00,\n",
       "         3.00000000e+00,  3.30000000e+00,  3.60000000e+00,  3.90000000e+00,\n",
       "         4.20000000e+00,  4.50000000e+00,  4.80000000e+00,  5.10000000e+00,\n",
       "         5.40000000e+00,  5.70000000e+00,  6.00000000e+00,  6.30000000e+00,\n",
       "         6.60000000e+00,  6.90000000e+00,  7.20000000e+00,  7.50000000e+00,\n",
       "         7.80000000e+00,  8.10000000e+00,  8.40000000e+00,  8.70000000e+00,\n",
       "         9.00000000e+00,  9.30000000e+00,  9.60000000e+00,  9.90000000e+00,\n",
       "         1.02000000e+01,  1.05000000e+01,  1.08000000e+01,  1.11000000e+01,\n",
       "         1.14000000e+01,  1.17000000e+01,  1.20000000e+01,  1.23000000e+01,\n",
       "         1.26000000e+01,  1.29000000e+01,  1.32000000e+01,  1.35000000e+01,\n",
       "         1.38000000e+01,  1.41000000e+01,  1.44000000e+01,  1.47000000e+01,\n",
       "         1.50000000e+01,  1.53000000e+01,  1.56000000e+01,  1.59000000e+01,\n",
       "         1.62000000e+01,  1.65000000e+01,  1.68000000e+01,  1.71000000e+01,\n",
       "         1.74000000e+01,  1.77000000e+01,  1.80000000e+01,  1.83000000e+01,\n",
       "         1.86000000e+01,  1.89000000e+01,  1.92000000e+01,  1.95000000e+01,\n",
       "         1.98000000e+01,  2.01000000e+01,  2.04000000e+01,  2.07000000e+01,\n",
       "         2.10000000e+01,  2.13000000e+01,  2.16000000e+01,  2.19000000e+01,\n",
       "         2.22000000e+01,  2.25000000e+01,  2.28000000e+01,  2.31000000e+01,\n",
       "         2.34000000e+01,  2.37000000e+01,  2.40000000e+01,  2.43000000e+01,\n",
       "         2.46000000e+01,  2.49000000e+01]),\n",
       " <a list of 93 Patch objects>)"
      ]
     },
     "execution_count": 263,
     "metadata": {},
     "output_type": "execute_result"
    },
    {
     "data": {
      "image/png": "[encoded data removed]",
      "text/plain": [
       "<Figure size 432x288 with 1 Axes>"
      ]
     },
     "metadata": {
      "needs_background": "light"
     },
     "output_type": "display_data"
    }
   ],
   "source": [
    "plt.hist(rbs_x,bins=np.arange(-3,25,0.3))"
   ]
  },
  {
   "cell_type": "code",
   "execution_count": 264,
   "metadata": {},
   "outputs": [
    {
     "data": {
      "text/plain": [
       "(array([ 0.,  1.,  0.,  0.,  1.,  5.,  3.,  7., 17., 16., 15., 13.,  7.,\n",
       "         5.,  3.,  1.,  1.,  0.,  0.]),\n",
       " array([-3.00000000e+00, -2.70000000e+00, -2.40000000e+00, -2.10000000e+00,\n",
       "        -1.80000000e+00, -1.50000000e+00, -1.20000000e+00, -9.00000000e-01,\n",
       "        -6.00000000e-01, -3.00000000e-01, -1.77635684e-15,  3.00000000e-01,\n",
       "         6.00000000e-01,  9.00000000e-01,  1.20000000e+00,  1.50000000e+00,\n",
       "         1.80000000e+00,  2.10000000e+00,  2.40000000e+00,  2.70000000e+00]),\n",
       " <a list of 19 Patch objects>)"
      ]
     },
     "execution_count": 264,
     "metadata": {},
     "output_type": "execute_result"
    },
    {
     "data": {
      "image/png": "[encoded data removed]",
      "text/plain": [
       "<Figure size 432x288 with 1 Axes>"
      ]
     },
     "metadata": {
      "needs_background": "light"
     },
     "output_type": "display_data"
    }
   ],
   "source": [
    "plt.hist(rbs_x,bins=np.arange(-3,3,0.3))"
   ]
  },
  {
   "cell_type": "code",
   "execution_count": 1,
   "metadata": {},
   "outputs": [],
   "source": [
    "# 정규화 : (각 열의 요소값 - 각 열의 최소값) / (각 열의 최대값 - 각 열의 최소값)\n",
    "# 0 ~ 1 사이의 범위 (딥러닝)\n",
    "# 연습문제 : https://finance.yahoo.com/ : 관심회사 -> 주식데이터 다운(1개월) -> 표준화 / 정규화\n",
    "\n",
    "# 일단은 라이브러리\n",
    "from sklearn.preprocessing import MinMaxScaler"
   ]
  },
  {
   "cell_type": "code",
   "execution_count": 5,
   "metadata": {},
   "outputs": [],
   "source": [
    "import numpy as np\n",
    "x = np.array([[9,-9,2],\n",
    "         [5,0,1],\n",
    "         [1,10,4],\n",
    "         [4,7,2]])"
   ]
  },
  {
   "cell_type": "code",
   "execution_count": 6,
   "metadata": {},
   "outputs": [
    {
     "data": {
      "text/plain": [
       "array([[ 9, -9,  2],\n",
       "       [ 5,  0,  1],\n",
       "       [ 1, 10,  4],\n",
       "       [ 4,  7,  2]])"
      ]
     },
     "execution_count": 6,
     "metadata": {},
     "output_type": "execute_result"
    }
   ],
   "source": [
    "x"
   ]
  },
  {
   "cell_type": "code",
   "execution_count": 9,
   "metadata": {},
   "outputs": [
    {
     "data": {
      "text/plain": [
       "-9"
      ]
     },
     "execution_count": 9,
     "metadata": {},
     "output_type": "execute_result"
    }
   ],
   "source": [
    "x.min()"
   ]
  },
  {
   "cell_type": "code",
   "execution_count": 8,
   "metadata": {},
   "outputs": [
    {
     "data": {
      "text/plain": [
       "array([ 1, -9,  1])"
      ]
     },
     "execution_count": 8,
     "metadata": {},
     "output_type": "execute_result"
    }
   ],
   "source": [
    "x.min(axis=0) # col 단위 최솟값 : 우리가 가지고 싶은 것"
   ]
  },
  {
   "cell_type": "code",
   "execution_count": 11,
   "metadata": {},
   "outputs": [
    {
     "data": {
      "text/plain": [
       "array([ 9, 10,  4])"
      ]
     },
     "execution_count": 11,
     "metadata": {},
     "output_type": "execute_result"
    }
   ],
   "source": [
    "x.max(axis=0)"
   ]
  },
  {
   "cell_type": "code",
   "execution_count": 12,
   "metadata": {},
   "outputs": [
    {
     "data": {
      "text/plain": [
       "array([[1.        , 0.        , 0.33333333],\n",
       "       [0.5       , 0.47368421, 0.        ],\n",
       "       [0.        , 1.        , 1.        ],\n",
       "       [0.375     , 0.84210526, 0.33333333]])"
      ]
     },
     "execution_count": 12,
     "metadata": {},
     "output_type": "execute_result"
    }
   ],
   "source": [
    "(x - x.min(axis=0)) / (x.max(axis=0) - x.min(axis=0)) # 정규화"
   ]
  },
  {
   "cell_type": "code",
   "execution_count": 13,
   "metadata": {},
   "outputs": [
    {
     "name": "stderr",
     "output_type": "stream",
     "text": [
      "C:\\Users\\user\\Anaconda3\\lib\\site-packages\\sklearn\\utils\\validation.py:595: DataConversionWarning: Data with input dtype int32 was converted to float64 by MinMaxScaler.\n",
      "  warnings.warn(msg, DataConversionWarning)\n"
     ]
    }
   ],
   "source": [
    "x_minmax = MinMaxScaler().fit_transform(x)"
   ]
  },
  {
   "cell_type": "code",
   "execution_count": 14,
   "metadata": {},
   "outputs": [
    {
     "data": {
      "text/plain": [
       "array([[1.        , 0.        , 0.33333333],\n",
       "       [0.5       , 0.47368421, 0.        ],\n",
       "       [0.        , 1.        , 1.        ],\n",
       "       [0.375     , 0.84210526, 0.33333333]])"
      ]
     },
     "execution_count": 14,
     "metadata": {},
     "output_type": "execute_result"
    }
   ],
   "source": [
    "x_minmax"
   ]
  },
  {
   "cell_type": "code",
   "execution_count": 15,
   "metadata": {},
   "outputs": [
    {
     "name": "stderr",
     "output_type": "stream",
     "text": [
      "C:\\Users\\user\\Anaconda3\\lib\\site-packages\\sklearn\\utils\\validation.py:595: DataConversionWarning: Data with input dtype int32 was converted to float64.\n",
      "  warnings.warn(msg, DataConversionWarning)\n"
     ]
    },
    {
     "data": {
      "text/plain": [
       "array([[1.        , 0.        , 0.33333333],\n",
       "       [0.5       , 0.47368421, 0.        ],\n",
       "       [0.        , 1.        , 1.        ],\n",
       "       [0.375     , 0.84210526, 0.33333333]])"
      ]
     },
     "execution_count": 15,
     "metadata": {},
     "output_type": "execute_result"
    }
   ],
   "source": [
    "from sklearn.preprocessing import minmax_scale\n",
    "minmax_scale(x,axis=0)"
   ]
  },
  {
   "cell_type": "code",
   "execution_count": 23,
   "metadata": {},
   "outputs": [
    {
     "data": {
      "text/plain": [
       "array([ -8.35461263,  -2.23090472,   8.07197131,   2.71341501,\n",
       "       -10.07975574,   0.4553836 ,  -8.92674902,  -8.96105635,\n",
       "       -18.28000286])"
      ]
     },
     "execution_count": 23,
     "metadata": {},
     "output_type": "execute_result"
    }
   ],
   "source": [
    "# 연습문제 : 이항변수화 변환 (타이타닉)\n",
    "# 연속형 변수 값 -> 0 또는 1 (2가지로!)\n",
    "from sklearn.preprocessing import Binarizer\n",
    "tmp = np.random.randn(9)*10 # 요놈 연속형 변수라고 가정\n",
    "tmp"
   ]
  },
  {
   "cell_type": "code",
   "execution_count": 24,
   "metadata": {},
   "outputs": [
    {
     "data": {
      "text/plain": [
       "array([[ -8.35461263,  -2.23090472,   8.07197131],\n",
       "       [  2.71341501, -10.07975574,   0.4553836 ],\n",
       "       [ -8.92674902,  -8.96105635, -18.28000286]])"
      ]
     },
     "execution_count": 24,
     "metadata": {},
     "output_type": "execute_result"
    }
   ],
   "source": [
    "tmp = tmp.reshape(3,-1)\n",
    "tmp"
   ]
  },
  {
   "cell_type": "code",
   "execution_count": 38,
   "metadata": {},
   "outputs": [],
   "source": [
    "# 이제 이진화를 하려면 임계점(threshold)을 줘야 함!\n",
    "# 기준은 0\n",
    "# 두 과정을 거쳐서 진행\n",
    "# step1 : Binarizer().fit() 객체 생성\n",
    "bnr = Binarizer(0).fit(tmp) # thres 이하는 0, 초과는 1"
   ]
  },
  {
   "cell_type": "code",
   "execution_count": 39,
   "metadata": {},
   "outputs": [
    {
     "data": {
      "text/plain": [
       "array([[0., 0., 1.],\n",
       "       [1., 0., 1.],\n",
       "       [0., 0., 0.]])"
      ]
     },
     "execution_count": 39,
     "metadata": {},
     "output_type": "execute_result"
    }
   ],
   "source": [
    "# step2 : 객체.transform(대상 배열)\n",
    "bnr.transform(tmp)"
   ]
  },
  {
   "cell_type": "code",
   "execution_count": null,
   "metadata": {},
   "outputs": [],
   "source": []
  }
 ],
 "metadata": {
  "kernelspec": {
   "display_name": "Python 3",
   "language": "python",
   "name": "python3"
  },
  "language_info": {
   "codemirror_mode": {
    "name": "ipython",
    "version": 3
   },
   "file_extension": ".py",
   "mimetype": "text/x-python",
   "name": "python",
   "nbconvert_exporter": "python",
   "pygments_lexer": "ipython3",
   "version": "3.7.3"
  }
 },
 "nbformat": 4,
 "nbformat_minor": 2
}
