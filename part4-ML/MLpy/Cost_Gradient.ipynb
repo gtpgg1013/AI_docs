{
 "cells": [
  {
   "cell_type": "code",
   "execution_count": 8,
   "metadata": {},
   "outputs": [],
   "source": [
    "import numpy as np\n",
    "import matplotlib.pyplot as plt\n",
    "import math\n",
    "%matplotlib inline"
   ]
  },
  {
   "cell_type": "code",
   "execution_count": 9,
   "metadata": {},
   "outputs": [],
   "source": [
    "# 이해 다시 하고 오자"
   ]
  },
  {
   "cell_type": "code",
   "execution_count": 17,
   "metadata": {},
   "outputs": [
    {
     "data": {
      "text/plain": [
       "<matplotlib.collections.PathCollection at 0x24544c3ca58>"
      ]
     },
     "execution_count": 17,
     "metadata": {},
     "output_type": "execute_result"
    },
    {
     "data": {
      "image/png": "[encoded data removed]",
      "text/plain": [
       "<Figure size 432x288 with 1 Axes>"
      ]
     },
     "metadata": {
      "needs_background": "light"
     },
     "output_type": "display_data"
    }
   ],
   "source": [
    "x = np.array([1.,2.,3.])\n",
    "y = np.array([1.,2.,3.])\n",
    "\n",
    "def cost(X,Y,W):\n",
    "    sum = np.power((W * X - Y), 2).mean() / len(X)\n",
    "    return sum\n",
    "\n",
    "xlist = []\n",
    "ylist = []\n",
    "\n",
    "for w in range(-30,80):\n",
    "    w = w * 0.1\n",
    "    xlist.append(w)\n",
    "    ylist.append(cost(x,y,w))\n",
    "\n",
    "fig = plt.figure()\n",
    "ax1 = fig.add_subplot(2,2,1)\n",
    "ax1.scatter(xlist, ylist)\n",
    "\n",
    "# 점을 찍어보았다"
   ]
  },
  {
   "cell_type": "code",
   "execution_count": 30,
   "metadata": {},
   "outputs": [
    {
     "name": "stdout",
     "output_type": "stream",
     "text": [
      "0 : 0.41971169302974587 : 0.5238092520988505\n",
      "200 : 0.999999946202709 : 4.502008795781011e-15\n",
      "400 : 0.999999999999995 : 3.91978957783517e-29\n",
      "600 : 0.9999999999999993 : 5.971238796464604e-31\n",
      "800 : 0.9999999999999993 : 5.971238796464604e-31\n",
      "1000 : 0.9999999999999993 : 5.971238796464604e-31\n",
      "1200 : 0.9999999999999993 : 5.971238796464604e-31\n",
      "1400 : 0.9999999999999993 : 5.971238796464604e-31\n",
      "1600 : 0.9999999999999993 : 5.971238796464604e-31\n",
      "1800 : 0.9999999999999993 : 5.971238796464604e-31\n"
     ]
    }
   ],
   "source": [
    "# 자 이제 내가 gradient optimizer를 만들어보자!\n",
    "w = np.random.randn() # 초깃값 주고\n",
    "\n",
    "alpha = 0.05 # alpha 설정\n",
    "\n",
    "def gradient(X,Y,W):\n",
    "    newG = ((X * W - Y) * X).mean() / len(X)\n",
    "    return newG\n",
    "    \n",
    "for i in range(2000):\n",
    "    w -= alpha*gradient(x,y,w)\n",
    "    if i%200==0:\n",
    "        print(str(i)+\" : \"+str(w)+ \" : \"+ str(cost(x,y,w)))\n",
    "        \n",
    "# 거의 1로 200 이상부터는 수렴함을 알 수 있다!"
   ]
  },
  {
   "cell_type": "code",
   "execution_count": null,
   "metadata": {},
   "outputs": [],
   "source": []
  },
  {
   "cell_type": "code",
   "execution_count": null,
   "metadata": {},
   "outputs": [],
   "source": []
  },
  {
   "cell_type": "code",
   "execution_count": null,
   "metadata": {},
   "outputs": [],
   "source": []
  },
  {
   "cell_type": "code",
   "execution_count": null,
   "metadata": {},
   "outputs": [],
   "source": []
  },
  {
   "cell_type": "code",
   "execution_count": null,
   "metadata": {},
   "outputs": [],
   "source": []
  }
 ],
 "metadata": {
  "kernelspec": {
   "display_name": "Python 3",
   "language": "python",
   "name": "python3"
  },
  "language_info": {
   "codemirror_mode": {
    "name": "ipython",
    "version": 3
   },
   "file_extension": ".py",
   "mimetype": "text/x-python",
   "name": "python",
   "nbconvert_exporter": "python",
   "pygments_lexer": "ipython3",
   "version": "3.7.3"
  }
 },
 "nbformat": 4,
 "nbformat_minor": 2
}
