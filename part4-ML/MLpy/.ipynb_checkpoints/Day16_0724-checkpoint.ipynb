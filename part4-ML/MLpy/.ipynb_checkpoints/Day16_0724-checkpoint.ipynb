{
 "cells": [
  {
   "cell_type": "code",
   "execution_count": 4,
   "metadata": {},
   "outputs": [],
   "source": [
    "import numpy as np\n",
    "import pandas as pd\n",
    "\n",
    "# 원래 w,b는 모델링에서 찾아가는 가중치값\n",
    "def AND(x1, x2):\n",
    "    x = np.array([x1,x2])\n",
    "    w = np.array([0.5,0.5])\n",
    "    b = -0.7\n",
    "    hf = np.sum(w*x)+b\n",
    "    #model : hf = w1x1 + w2x2 + b\n",
    "    if hf<0:\n",
    "        return 0\n",
    "    else:\n",
    "        return 1"
   ]
  },
  {
   "cell_type": "code",
   "execution_count": 5,
   "metadata": {},
   "outputs": [
    {
     "name": "stdout",
     "output_type": "stream",
     "text": [
      "(0, 0)=>0\n",
      "(0, 1)=>0\n",
      "(1, 0)=>0\n",
      "(1, 1)=>1\n"
     ]
    }
   ],
   "source": [
    "for xs in [(0,0),(0,1),(1,0),(1,1)]:\n",
    "    y = AND(xs[0], xs[1])\n",
    "    print(str(xs)+ \"=>\"+ str(y))"
   ]
  },
  {
   "cell_type": "code",
   "execution_count": 9,
   "metadata": {},
   "outputs": [
    {
     "name": "stdout",
     "output_type": "stream",
     "text": [
      "(0, 0)=>0\n",
      "(0, 1)=>1\n",
      "(1, 0)=>1\n",
      "(1, 1)=>1\n"
     ]
    }
   ],
   "source": [
    "# x1 = np.array([1,2])\n",
    "# x2 = np.array([0.5, 0.5])\n",
    "def OR(x1, x2):\n",
    "    x = np.array([x1,x2])\n",
    "    w = np.array([0.2,0.2])\n",
    "    b = -0.2\n",
    "    hf = np.sum(w*x)+b\n",
    "    #model : hf = w1x1 + w2x2 + b\n",
    "    if hf<0:\n",
    "        return 0\n",
    "    else:\n",
    "        return 1\n",
    "    \n",
    "for xs in [(0,0),(0,1),(1,0),(1,1)]:\n",
    "    y = OR(xs[0], xs[1])\n",
    "    print(str(xs)+ \"=>\"+ str(y))"
   ]
  },
  {
   "cell_type": "code",
   "execution_count": 12,
   "metadata": {},
   "outputs": [
    {
     "name": "stdout",
     "output_type": "stream",
     "text": [
      "(0, 0)=>1\n",
      "(0, 1)=>1\n",
      "(1, 0)=>1\n",
      "(1, 1)=>0\n"
     ]
    }
   ],
   "source": [
    "def NAND(x1, x2):\n",
    "    x = np.array([x1,x2])\n",
    "    w = np.array([0.5,0.5])\n",
    "    b = -0.7\n",
    "    hf = np.sum(w*x)+b\n",
    "    #model : hf = w1x1 + w2x2 + b\n",
    "    if hf>0:\n",
    "        return 0\n",
    "    else:\n",
    "        return 1\n",
    "    \n",
    "for xs in [(0,0),(0,1),(1,0),(1,1)]:\n",
    "    y = NAND(xs[0], xs[1])\n",
    "    print(str(xs)+ \"=>\"+ str(y))"
   ]
  },
  {
   "cell_type": "code",
   "execution_count": null,
   "metadata": {},
   "outputs": [],
   "source": [
    "def NAND(x1, x2):\n",
    "    x = np.array([x1,x2])\n",
    "    w = np.array([0.5,0.5])\n",
    "    b = -0.7\n",
    "    hf = np.sum(w*x)+b\n",
    "    #model : hf = w1x1 + w2x2 + b\n",
    "    if hf>0:\n",
    "        return 0\n",
    "    else:\n",
    "        return 1\n",
    "\n",
    "for xs in [(0,0),(0,1),(1,0),(1,1)]:\n",
    "    y = NAND(xs[0], xs[1])\n",
    "    print(str(xs)+ \"=>\"+ str(y))"
   ]
  }
 ],
 "metadata": {
  "kernelspec": {
   "display_name": "Python 3",
   "language": "python",
   "name": "python3"
  },
  "language_info": {
   "codemirror_mode": {
    "name": "ipython",
    "version": 3
   },
   "file_extension": ".py",
   "mimetype": "text/x-python",
   "name": "python",
   "nbconvert_exporter": "python",
   "pygments_lexer": "ipython3",
   "version": "3.7.3"
  }
 },
 "nbformat": 4,
 "nbformat_minor": 2
}
