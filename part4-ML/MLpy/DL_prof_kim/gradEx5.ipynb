{
 "cells": [
  {
   "cell_type": "code",
   "execution_count": 5,
   "metadata": {},
   "outputs": [
    {
     "name": "stdout",
     "output_type": "stream",
     "text": [
      "0\n",
      "cost: 3.0125629901885986\n",
      "w: [[0.76      1.4666667]]\n",
      "grd: [array([[3.3866668, 7.3955555]], dtype=float32)]\n",
      "grd_w: [[ 6.7733335 14.791111 ]]\n",
      "[[147.42667]]\n",
      "2000\n",
      "cost: 1.515824548129971e-13\n",
      "w: [[1.0106603e-06 9.9999952e-01]]\n",
      "grd: [array([[ 0.0000000e+00, -6.3578284e-07]], dtype=float32)]\n",
      "grd_w: [[ 0.0000000e+00 -1.2715657e-06]]\n",
      "[[99.999954]]\n",
      "4000\n",
      "cost: 1.515824548129971e-13\n",
      "w: [[1.0106603e-06 9.9999952e-01]]\n",
      "grd: [array([[ 0.0000000e+00, -6.3578284e-07]], dtype=float32)]\n",
      "grd_w: [[ 0.0000000e+00 -1.2715657e-06]]\n",
      "[[99.999954]]\n",
      "6000\n",
      "cost: 1.515824548129971e-13\n",
      "w: [[1.0106603e-06 9.9999952e-01]]\n",
      "grd: [array([[ 0.0000000e+00, -6.3578284e-07]], dtype=float32)]\n",
      "grd_w: [[ 0.0000000e+00 -1.2715657e-06]]\n",
      "[[99.999954]]\n",
      "8000\n",
      "cost: 1.515824548129971e-13\n",
      "w: [[1.0106603e-06 9.9999952e-01]]\n",
      "grd: [array([[ 0.0000000e+00, -6.3578284e-07]], dtype=float32)]\n",
      "grd_w: [[ 0.0000000e+00 -1.2715657e-06]]\n",
      "[[99.999954]]\n",
      "10000\n",
      "cost: 1.515824548129971e-13\n",
      "w: [[1.0106603e-06 9.9999952e-01]]\n",
      "grd: [array([[ 0.0000000e+00, -6.3578284e-07]], dtype=float32)]\n",
      "grd_w: [[ 0.0000000e+00 -1.2715657e-06]]\n",
      "[[99.999954]]\n",
      "12000\n",
      "cost: 1.515824548129971e-13\n",
      "w: [[1.0106603e-06 9.9999952e-01]]\n",
      "grd: [array([[ 0.0000000e+00, -6.3578284e-07]], dtype=float32)]\n",
      "grd_w: [[ 0.0000000e+00 -1.2715657e-06]]\n",
      "[[99.999954]]\n",
      "14000\n",
      "cost: 1.515824548129971e-13\n",
      "w: [[1.0106603e-06 9.9999952e-01]]\n",
      "grd: [array([[ 0.0000000e+00, -6.3578284e-07]], dtype=float32)]\n",
      "grd_w: [[ 0.0000000e+00 -1.2715657e-06]]\n",
      "[[99.999954]]\n",
      "16000\n",
      "cost: 1.515824548129971e-13\n",
      "w: [[1.0106603e-06 9.9999952e-01]]\n",
      "grd: [array([[ 0.0000000e+00, -6.3578284e-07]], dtype=float32)]\n",
      "grd_w: [[ 0.0000000e+00 -1.2715657e-06]]\n",
      "[[99.999954]]\n",
      "18000\n",
      "cost: 1.515824548129971e-13\n",
      "w: [[1.0106603e-06 9.9999952e-01]]\n",
      "grd: [array([[ 0.0000000e+00, -6.3578284e-07]], dtype=float32)]\n",
      "grd_w: [[ 0.0000000e+00 -1.2715657e-06]]\n",
      "[[99.999954]]\n",
      "20000\n",
      "cost: 1.515824548129971e-13\n",
      "w: [[1.0106603e-06 9.9999952e-01]]\n",
      "grd: [array([[ 0.0000000e+00, -6.3578284e-07]], dtype=float32)]\n",
      "grd_w: [[ 0.0000000e+00 -1.2715657e-06]]\n",
      "[[99.999954]]\n"
     ]
    }
   ],
   "source": [
    "import tensorflow as tf\n",
    "import numpy as np\n",
    "\n",
    "tf.set_random_seed(777)\n",
    "## 그래프 생성 부분\n",
    "xtrain = np.array([[1.,1.,1.],[1.,2.,3.]]) # 하나당 하나의 b까지 포함\n",
    "ytrain = np.array([1.,2.,3.]).reshape(1,-1)\n",
    "x = tf.placeholder(dtype=tf.float32, shape=[2,None]) \n",
    "y = tf.placeholder(dtype=tf.float32, shape=[1,None])\n",
    "# b = tf.Variable(tf.random_uniform([1,1]), name='bias') # 이렇게 해야 2차원으로 만들어지네!\n",
    "w = tf.Variable([[1.,2.]], name='weight')\n",
    "hf = tf.matmul(w,x)\n",
    "cost = tf.reduce_mean(tf.square(hf-y))\n",
    "\n",
    "lr = 0.02\n",
    "# gradient_b = tf.reduce_mean(hf-y)\n",
    "# gradient_w = tf.reduce_mean((hf-y)*xtrain[1])\n",
    "\n",
    "\n",
    "# temp = tf.stack([gradient_b, gradient_w], axis=0)\n",
    "\n",
    "gradient_w = tf.gradients(cost, w)[0] * 2\n",
    "\n",
    "descent = w - lr * gradient_w\n",
    "\n",
    "update = tf.assign(w,descent)\n",
    "\n",
    "sess = tf.Session()\n",
    "init = tf.global_variables_initializer()\n",
    "sess.run(init)\n",
    "\n",
    "for step in range(20001):\n",
    "    sess.run(update, feed_dict={x:xtrain,y:ytrain})\n",
    "    if step%2000==0:\n",
    "        print(step)\n",
    "        print(\"cost: {}\".format(sess.run(cost,feed_dict={x:xtrain,y:ytrain})))\n",
    "        print(\"w: {}\".format(sess.run(w,feed_dict={x:xtrain,y:ytrain})))\n",
    "        print(\"grd: {}\".format(sess.run(tf.gradients(cost, w), feed_dict={x:xtrain,y:ytrain})))\n",
    "        print(\"grd_w: {}\".format(sess.run(gradient_w, feed_dict={x:xtrain,y:ytrain})))\n",
    "        print(sess.run(hf,feed_dict={x:[[1.],[100.]]}))\n"
   ]
  },
  {
   "cell_type": "code",
   "execution_count": 3,
   "metadata": {},
   "outputs": [
    {
     "data": {
      "text/plain": [
       "<tf.Tensor 'mul:0' shape=(1, 2) dtype=float32>"
      ]
     },
     "execution_count": 3,
     "metadata": {},
     "output_type": "execute_result"
    }
   ],
   "source": [
    "gradient_w"
   ]
  },
  {
   "cell_type": "code",
   "execution_count": 7,
   "metadata": {},
   "outputs": [
    {
     "data": {
      "text/plain": [
       "<matplotlib.axes._subplots.AxesSubplot at 0x26032f8a7f0>"
      ]
     },
     "execution_count": 7,
     "metadata": {},
     "output_type": "execute_result"
    },
    {
     "data": {
      "image/png": "[encoded data removed]",
      "text/plain": [
       "<Figure size 432x288 with 1 Axes>"
      ]
     },
     "metadata": {
      "needs_background": "light"
     },
     "output_type": "display_data"
    }
   ],
   "source": [
    "import seaborn as sns\n",
    "X = np.linspace(0, 4, 5)\n",
    "f = lambda x : x * sess.run(w)[0][1] + sess.run(w)[0][0]\n",
    "Y = [ f(i) for i in X ]\n",
    "\n",
    "sns.scatterplot(x = xtrain[1], y = ytrain[0])\n",
    "sns.lineplot(x = X , y = Y)"
   ]
  },
  {
   "cell_type": "code",
   "execution_count": null,
   "metadata": {},
   "outputs": [],
   "source": []
  }
 ],
 "metadata": {
  "kernelspec": {
   "display_name": "Python 3",
   "language": "python",
   "name": "python3"
  },
  "language_info": {
   "codemirror_mode": {
    "name": "ipython",
    "version": 3
   },
   "file_extension": ".py",
   "mimetype": "text/x-python",
   "name": "python",
   "nbconvert_exporter": "python",
   "pygments_lexer": "ipython3",
   "version": "3.7.3"
  }
 },
 "nbformat": 4,
 "nbformat_minor": 2
}
