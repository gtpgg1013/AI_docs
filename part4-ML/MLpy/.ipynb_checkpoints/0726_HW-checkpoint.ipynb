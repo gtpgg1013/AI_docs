{
 "cells": [
  {
   "cell_type": "code",
   "execution_count": 1,
   "metadata": {},
   "outputs": [
    {
     "name": "stdout",
     "output_type": "stream",
     "text": [
      "715.0000000000001\n"
     ]
    }
   ],
   "source": [
    "class CalcLayer:\n",
    "    def __init__(self):\n",
    "        self.x = None\n",
    "        self.y = None\n",
    "    def forwardAdd(self,x,y):\n",
    "        self.x = x\n",
    "        self.y = y\n",
    "        out = self.x + self.y\n",
    "        return out\n",
    "    def forwardMul(self,x,y):\n",
    "        self.x = x\n",
    "        self.y = y\n",
    "        out = self.x * self.y\n",
    "        return out\n",
    "    def backwardMul(self,dout):\n",
    "        dx = dout*self.y\n",
    "        dy = dout*self.x\n",
    "        return dx, dy\n",
    "    def backwardAdd(self,dout):\n",
    "        dx = dout\n",
    "        dy = dout\n",
    "        return dx, dy\n",
    "    \n",
    "apple = 100\n",
    "appleNum = 2\n",
    "orange = 150\n",
    "orangeNum = 3\n",
    "tax = 1.1\n",
    "# price출력 (100*2+150*3)*1.1\n",
    "# dapple / dappleNum / dorange / dorangeNum / dtax\n",
    "\n",
    "apl = CalcLayer()\n",
    "orl = CalcLayer()\n",
    "addl = CalcLayer()\n",
    "txl = CalcLayer()\n",
    "\n",
    "appleprice = apl.forwardMul(apple,appleNum)\n",
    "orangeprice = orl.forwardMul(orange,orangeNum)\n",
    "addprice = addl.forwardAdd(appleprice,orangeprice)\n",
    "totprice = txl.forwardMul(addprice,tax)\n",
    "\n",
    "print(totprice)"
   ]
  },
  {
   "cell_type": "code",
   "execution_count": 2,
   "metadata": {},
   "outputs": [],
   "source": [
    "daddprice, dtax = txl.backwardMul(1)"
   ]
  },
  {
   "cell_type": "code",
   "execution_count": 3,
   "metadata": {},
   "outputs": [
    {
     "data": {
      "text/plain": [
       "(650, 1.1)"
      ]
     },
     "execution_count": 3,
     "metadata": {},
     "output_type": "execute_result"
    }
   ],
   "source": [
    "dtax, daddprice"
   ]
  },
  {
   "cell_type": "code",
   "execution_count": 4,
   "metadata": {},
   "outputs": [
    {
     "name": "stdout",
     "output_type": "stream",
     "text": [
      "1.1 1.1\n"
     ]
    }
   ],
   "source": [
    "dappleprice, dorangeprice = addl.backwardAdd(daddprice)\n",
    "print(dappleprice, dorangeprice)"
   ]
  },
  {
   "cell_type": "code",
   "execution_count": 5,
   "metadata": {},
   "outputs": [
    {
     "name": "stdout",
     "output_type": "stream",
     "text": [
      "2.2 110.00000000000001\n"
     ]
    }
   ],
   "source": [
    "dapple, dappleNum = apl.backwardMul(dappleprice)\n",
    "print(dapple, dappleNum)"
   ]
  },
  {
   "cell_type": "code",
   "execution_count": 6,
   "metadata": {},
   "outputs": [
    {
     "name": "stdout",
     "output_type": "stream",
     "text": [
      "3.3000000000000003 165.0\n"
     ]
    }
   ],
   "source": [
    "dorange, dorangeNum = orl.backwardMul(dorangeprice)\n",
    "print(dorange, dorangeNum)"
   ]
  },
  {
   "cell_type": "code",
   "execution_count": 7,
   "metadata": {},
   "outputs": [
    {
     "name": "stdout",
     "output_type": "stream",
     "text": [
      "715.0000000000001 2.2 110.00000000000001 3.3000000000000003 165.0 650\n"
     ]
    }
   ],
   "source": [
    "print(totprice, dapple, dappleNum, dorange, dorangeNum, dtax)"
   ]
  },
  {
   "cell_type": "code",
   "execution_count": 9,
   "metadata": {},
   "outputs": [
    {
     "data": {
      "text/plain": [
       "array([[ 3,  6,  9, 12, 15, 18, 21, 24, 27]])"
      ]
     },
     "execution_count": 9,
     "metadata": {},
     "output_type": "execute_result"
    }
   ],
   "source": [
    "import tensorflow as tf\n",
    "import numpy as np\n",
    "num = [[3]]\n",
    "x = tf.placeholder(dtype=tf.int32, shape=[None,1])\n",
    "w = tf.Variable(np.arange(1,10))\n",
    "y = x * w\n",
    "init = tf.global_variables_initializer()\n",
    "sess = tf.Session()\n",
    "sess.run(init)\n",
    "sess.run(y, feed_dict={x:num})"
   ]
  },
  {
   "cell_type": "code",
   "execution_count": 12,
   "metadata": {},
   "outputs": [],
   "source": [
    "def googoo(dan):\n",
    "    num = [[dan]]\n",
    "    x = tf.placeholder(dtype=tf.int32, shape=[None,1])\n",
    "    w = tf.Variable(np.arange(1,10))\n",
    "    y = x * w\n",
    "    init = tf.global_variables_initializer()\n",
    "    sess = tf.Session()\n",
    "    sess.run(init)\n",
    "    print(sess.run(y, feed_dict={x:num}))"
   ]
  },
  {
   "cell_type": "code",
   "execution_count": 13,
   "metadata": {},
   "outputs": [
    {
     "name": "stdout",
     "output_type": "stream",
     "text": [
      "[[ 3  6  9 12 15 18 21 24 27]]\n"
     ]
    }
   ],
   "source": [
    "googoo(3)"
   ]
  },
  {
   "cell_type": "code",
   "execution_count": null,
   "metadata": {},
   "outputs": [],
   "source": []
  }
 ],
 "metadata": {
  "kernelspec": {
   "display_name": "Python 3",
   "language": "python",
   "name": "python3"
  },
  "language_info": {
   "codemirror_mode": {
    "name": "ipython",
    "version": 3
   },
   "file_extension": ".py",
   "mimetype": "text/x-python",
   "name": "python",
   "nbconvert_exporter": "python",
   "pygments_lexer": "ipython3",
   "version": "3.7.3"
  }
 },
 "nbformat": 4,
 "nbformat_minor": 2
}
