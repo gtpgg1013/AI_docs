{
 "cells": [
  {
   "cell_type": "code",
   "execution_count": 1,
   "metadata": {},
   "outputs": [],
   "source": [
    "import pandas as pd\n",
    "import numpy as np"
   ]
  },
  {
   "cell_type": "code",
   "execution_count": 14,
   "metadata": {},
   "outputs": [
    {
     "data": {
      "text/plain": [
       "array([[0., 0., 1., 0., 1., 1., 0., 1., 1.]])"
      ]
     },
     "execution_count": 14,
     "metadata": {},
     "output_type": "execute_result"
    }
   ],
   "source": [
    "from sklearn.preprocessing import Binarizer # 복습\n",
    "tmp = np.random.randn(9)*10 # 요놈 연속형 변수라고 가정\n",
    "tmp\n",
    "tmp = tmp.reshape(1,-1) # 써먹을 놈을 2차원 dimension으로 해줘야 함\n",
    "bnr = Binarizer(0).fit(tmp)\n",
    "bnr.transform(tmp)"
   ]
  },
  {
   "cell_type": "code",
   "execution_count": 13,
   "metadata": {},
   "outputs": [],
   "source": [
    "# 데이터 구조를 다시 파악 : 재구조화\n",
    "# pivot table\n",
    "# melt\n",
    "# stack / unstack\n",
    "# wide"
   ]
  },
  {
   "cell_type": "code",
   "execution_count": 15,
   "metadata": {},
   "outputs": [],
   "source": [
    "# 이항 변수로 변경을 많이 하게 됨\n",
    "# 범주형 변수(male/female, 10대/20대.../80대, A/B/C/D/F) : 요건 수치연산이랑 관련이 없다!\n",
    "# => 이항 변수화(성별 : 0 => 10, 1 => 01)\n",
    "# 연령대 : 10대(0) => 10000000, 20대(1) => 01000000 ... 80대(7) => 00000001\n",
    "\n",
    "# 요렇게 이항변수화 하기 : OneHotEncoder()"
   ]
  },
  {
   "cell_type": "code",
   "execution_count": 26,
   "metadata": {},
   "outputs": [
    {
     "data": {
      "text/plain": [
       "array([[0, 1, 1],\n",
       "       [0, 2, 2],\n",
       "       [1, 0, 3],\n",
       "       [1, 1, 4],\n",
       "       [0, 0, 0]])"
      ]
     },
     "execution_count": 26,
     "metadata": {},
     "output_type": "execute_result"
    }
   ],
   "source": [
    "from sklearn.preprocessing import OneHotEncoder\n",
    "# 범주형 변수\n",
    "# [성별(1/0), 연령대(0/1/2), 성적(0/1/2/3/4)]\n",
    "# feature 3개 : 3차원\n",
    "data = np.array([[0,1,1], # 여성, 30대, B학점\n",
    "                [0,2,2], # 여성, 40대, C학점\n",
    "                [1,0,3], # 남성, 20대, D학점\n",
    "                [1,1,4],\n",
    "                [0,0,0]\n",
    "                ]) # 남성, 30대, F학점\n",
    "data"
   ]
  },
  {
   "cell_type": "code",
   "execution_count": 27,
   "metadata": {},
   "outputs": [
    {
     "data": {
      "text/plain": [
       "OneHotEncoder(categorical_features=None, categories=None,\n",
       "       dtype=<class 'numpy.float64'>, handle_unknown='error',\n",
       "       n_values=None, sparse=True)"
      ]
     },
     "execution_count": 27,
     "metadata": {},
     "output_type": "execute_result"
    }
   ],
   "source": [
    "# OneHotEncoding의 순서\n",
    "# 1. 객체 생성\n",
    "ohe = OneHotEncoder()\n",
    "ohe"
   ]
  },
  {
   "cell_type": "code",
   "execution_count": 28,
   "metadata": {},
   "outputs": [
    {
     "name": "stderr",
     "output_type": "stream",
     "text": [
      "C:\\Users\\user\\Anaconda3\\lib\\site-packages\\sklearn\\preprocessing\\_encoders.py:371: FutureWarning: The handling of integer data will change in version 0.22. Currently, the categories are determined based on the range [0, max(values)], while in the future they will be determined based on the unique values.\n",
      "If you want the future behaviour and silence this warning, you can specify \"categories='auto'\".\n",
      "In case you used a LabelEncoder before this OneHotEncoder to convert the categories to integers, then you can now use the OneHotEncoder directly.\n",
      "  warnings.warn(msg, FutureWarning)\n"
     ]
    },
    {
     "data": {
      "text/plain": [
       "OneHotEncoder(categorical_features=None, categories=None,\n",
       "       dtype=<class 'numpy.float64'>, handle_unknown='error',\n",
       "       n_values=None, sparse=True)"
      ]
     },
     "execution_count": 28,
     "metadata": {},
     "output_type": "execute_result"
    }
   ],
   "source": [
    "# 2. 대상 데이터\n",
    "ohe.fit(data) # data 변수에 저장된 data에 맞추어(fit)서 이항변수화 시킴\n",
    "# type(ohe.fit(data))"
   ]
  },
  {
   "cell_type": "code",
   "execution_count": 29,
   "metadata": {},
   "outputs": [
    {
     "data": {
      "text/plain": [
       "array([0, 1, 2, 3, 4, 5, 6, 7, 8, 9], dtype=int64)"
      ]
     },
     "execution_count": 29,
     "metadata": {},
     "output_type": "execute_result"
    }
   ],
   "source": [
    "ohe.active_features_ # 근데 얘네 deprecated...?\n",
    "# feature의 가짓수가 성별(1/0), 연령대(0/1/2), 성적(0/1/2/3/4) \n",
    "# array([0, 1, 2, 3, 4, 5, 6, 7, 8, 9], dtype=int64)\n",
    "# array([성별(1/0), 연령대(0/1/2), 성적(0/1/2/3/4)]) : 개수가 똑같"
   ]
  },
  {
   "cell_type": "code",
   "execution_count": 33,
   "metadata": {},
   "outputs": [
    {
     "data": {
      "text/plain": [
       "array([2, 3, 5])"
      ]
     },
     "execution_count": 33,
     "metadata": {},
     "output_type": "execute_result"
    }
   ],
   "source": [
    "ohe.n_values_\n",
    "# 각 feature별 범주의 갯수"
   ]
  },
  {
   "cell_type": "code",
   "execution_count": 34,
   "metadata": {},
   "outputs": [
    {
     "data": {
      "text/plain": [
       "array([ 0,  2,  5, 10], dtype=int32)"
      ]
     },
     "execution_count": 34,
     "metadata": {},
     "output_type": "execute_result"
    }
   ],
   "source": [
    "ohe.feature_indices_ # 0,2 : 0이상 2미만 : 같은식 반복\n",
    "# feature별 범위"
   ]
  },
  {
   "cell_type": "code",
   "execution_count": 38,
   "metadata": {},
   "outputs": [
    {
     "data": {
      "text/plain": [
       "[array([0., 1.]), array([0., 1., 2.]), array([0., 1., 2., 3., 4.])]"
      ]
     },
     "execution_count": 38,
     "metadata": {},
     "output_type": "execute_result"
    }
   ],
   "source": [
    "ohe.categories_"
   ]
  },
  {
   "cell_type": "code",
   "execution_count": 40,
   "metadata": {},
   "outputs": [
    {
     "data": {
      "text/plain": [
       "array([[1., 0., 0., 1., 0., 0., 0., 0., 1., 0.]])"
      ]
     },
     "execution_count": 40,
     "metadata": {},
     "output_type": "execute_result"
    }
   ],
   "source": [
    "# 예) 여성, 30대 D학점(0,1,3)\n",
    "# 0 -> 10, 1 -> 010, D ->00010\n",
    "test = np.array([[0,1,3]])\n",
    "# ohe.transform(test) # 객체\n",
    "ohe.transform(test).toarray() # 한줄로 변환해줌 : 끊어서 읽을 것\n",
    "# onehotencoding : sparse matrix : 희소행렬로 return"
   ]
  },
  {
   "cell_type": "code",
   "execution_count": null,
   "metadata": {},
   "outputs": [],
   "source": [
    "# 연속형 변수 -> 이산화"
   ]
  }
 ],
 "metadata": {
  "kernelspec": {
   "display_name": "Python 3",
   "language": "python",
   "name": "python3"
  },
  "language_info": {
   "codemirror_mode": {
    "name": "ipython",
    "version": 3
   },
   "file_extension": ".py",
   "mimetype": "text/x-python",
   "name": "python",
   "nbconvert_exporter": "python",
   "pygments_lexer": "ipython3",
   "version": "3.7.3"
  }
 },
 "nbformat": 4,
 "nbformat_minor": 2
}
