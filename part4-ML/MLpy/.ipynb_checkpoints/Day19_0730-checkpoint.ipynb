{
 "cells": [
  {
   "cell_type": "code",
   "execution_count": 1,
   "metadata": {},
   "outputs": [],
   "source": [
    "import pandas as pd\n",
    "import numpy as np\n",
    "import tensorflow as tf"
   ]
  },
  {
   "cell_type": "code",
   "execution_count": 31,
   "metadata": {},
   "outputs": [],
   "source": [
    "x1data = [70,90,88,95,75]\n",
    "x2data = [80,88,90,98,65]\n",
    "x3data = [75,93,90,100,70]\n",
    "ydata = [150,180,188,200,170]"
   ]
  },
  {
   "cell_type": "code",
   "execution_count": 32,
   "metadata": {},
   "outputs": [],
   "source": [
    "x1 = tf.placeholder(dtype=tf.float32)\n",
    "x2 = tf.placeholder(dtype=tf.float32)\n",
    "x3 = tf.placeholder(dtype=tf.float32)\n",
    "y = tf.placeholder(dtype=tf.float32)\n",
    "w1 = tf.Variable(tf.random_normal([1]), name=\"weight1\")\n",
    "w2 = tf.Variable(tf.random_normal([1]), name=\"weight2\")\n",
    "w3 = tf.Variable(tf.random_normal([1]), name=\"weight3\")\n",
    "b = tf.Variable(tf.random_normal([1]), name='bias')\n",
    "hf = x1*w1 + x2*w2 + x3*w3 + b\n",
    "cost = tf.reduce_mean(tf.square(hf-y))"
   ]
  },
  {
   "cell_type": "code",
   "execution_count": 33,
   "metadata": {},
   "outputs": [],
   "source": [
    "train = tf.train.GradientDescentOptimizer(1e-5).minimize(cost)\n",
    "sess = tf.Session()\n",
    "init = tf.global_variables_initializer()\n",
    "sess.run(init)"
   ]
  },
  {
   "cell_type": "code",
   "execution_count": 34,
   "metadata": {},
   "outputs": [
    {
     "name": "stdout",
     "output_type": "stream",
     "text": [
      "cost: 155619.375, hf: [-184.9645  -228.98915 -227.11874 -244.21811 -189.12434]\n",
      "cost: 54.78496551513672, hf: [144.44135 192.48682 185.55101 201.33975 161.09421]\n",
      "cost: 33.05022048950195, hf: [145.96974 190.20323 186.63206 199.60005 163.45241]\n",
      "cost: 21.567861557006836, hf: [147.28404 188.4789  187.44444 198.3791  164.93687]\n",
      "cost: 15.489974975585938, hf: [148.24278 187.22336 188.03609 197.49162 166.01353]\n",
      "cost: 12.272528648376465, hf: [148.9401  186.30977 188.46689 196.84616 166.79666]\n",
      "cost: 10.568875312805176, hf: [149.44719 185.64485 188.78053 196.3767  167.36621]\n",
      "cost: 9.666718482971191, hf: [149.81583 185.16107 189.00912 196.03531 167.78056]\n",
      "cost: 9.188359260559082, hf: [150.08359 184.80888 189.17561 195.78706 168.08205]\n",
      "cost: 8.934652328491211, hf: [150.27869 184.55234 189.29712 195.60669 168.30055]\n",
      "cost: 8.799673080444336, hf: [150.42004 184.36569 189.38586 195.47559 168.45996]\n",
      "[142.55951]\n"
     ]
    }
   ],
   "source": [
    "for step in range(100001):\n",
    "    cv, hv, _ = sess.run([cost, hf, train],\n",
    "                        feed_dict={x1:x1data,x2:x2data,x3:x3data,y:ydata})\n",
    "    if step%10000==0:\n",
    "        print(\"cost: {}, hf: {}\".format(cv,hv))\n",
    "print(sess.run(hf,feed_dict={x1:69,x2:90,x3:80}))"
   ]
  },
  {
   "cell_type": "code",
   "execution_count": 29,
   "metadata": {},
   "outputs": [],
   "source": [
    "# vol.2\n",
    "xdata = [[70,90,88,95,75],[80,88,90,98,65],[75,93,90,100,70]]\n",
    "ydata = [150,180,188,200,170]"
   ]
  },
  {
   "cell_type": "code",
   "execution_count": 35,
   "metadata": {},
   "outputs": [
    {
     "data": {
      "text/plain": [
       "(3, 5)"
      ]
     },
     "execution_count": 35,
     "metadata": {},
     "output_type": "execute_result"
    }
   ],
   "source": [
    "np.shape(xdata)"
   ]
  },
  {
   "cell_type": "code",
   "execution_count": 39,
   "metadata": {},
   "outputs": [],
   "source": [
    "xdata = np.array(xdata).T"
   ]
  },
  {
   "cell_type": "code",
   "execution_count": 41,
   "metadata": {},
   "outputs": [
    {
     "data": {
      "text/plain": [
       "(5, 3)"
      ]
     },
     "execution_count": 41,
     "metadata": {},
     "output_type": "execute_result"
    }
   ],
   "source": [
    "xdata.shape"
   ]
  },
  {
   "cell_type": "code",
   "execution_count": 64,
   "metadata": {},
   "outputs": [
    {
     "data": {
      "text/plain": [
       "array([[ 70,  80,  75],\n",
       "       [ 90,  88,  93],\n",
       "       [ 88,  90,  90],\n",
       "       [ 95,  98, 100],\n",
       "       [ 75,  65,  70]])"
      ]
     },
     "execution_count": 64,
     "metadata": {},
     "output_type": "execute_result"
    }
   ],
   "source": [
    "xdata"
   ]
  },
  {
   "cell_type": "code",
   "execution_count": 65,
   "metadata": {},
   "outputs": [
    {
     "data": {
      "text/plain": [
       "numpy.ndarray"
      ]
     },
     "execution_count": 65,
     "metadata": {},
     "output_type": "execute_result"
    }
   ],
   "source": [
    "type(xdata)"
   ]
  },
  {
   "cell_type": "code",
   "execution_count": 47,
   "metadata": {},
   "outputs": [],
   "source": [
    "ydata = np.array(ydata).reshape(-1,1)"
   ]
  },
  {
   "cell_type": "code",
   "execution_count": 49,
   "metadata": {},
   "outputs": [
    {
     "data": {
      "text/plain": [
       "array([[150],\n",
       "       [180],\n",
       "       [188],\n",
       "       [200],\n",
       "       [170]])"
      ]
     },
     "execution_count": 49,
     "metadata": {},
     "output_type": "execute_result"
    }
   ],
   "source": [
    "ydata"
   ]
  },
  {
   "cell_type": "code",
   "execution_count": 56,
   "metadata": {},
   "outputs": [],
   "source": [
    "x = tf.placeholder(dtype=tf.float32, shape=[None,3])\n",
    "y = tf.placeholder(dtype=tf.float32, shape=[None,1])\n",
    "w = tf.Variable(tf.random_normal([3,1]), name=\"weight\")\n",
    "b = tf.Variable(tf.random_normal([1]), name=\"bias\") \n",
    "# 이거를 [5,1]로 하는 것과 뭐가 다른가?"
   ]
  },
  {
   "cell_type": "code",
   "execution_count": 58,
   "metadata": {},
   "outputs": [],
   "source": [
    "hf = tf.matmul(x,w) + b\n",
    "cost = tf.reduce_mean(tf.square(hf-y))\n",
    "train = tf.train.GradientDescentOptimizer(1e-5).minimize(cost)"
   ]
  },
  {
   "cell_type": "code",
   "execution_count": 60,
   "metadata": {},
   "outputs": [],
   "source": [
    "sess = tf.Session()\n",
    "sess.run(tf.global_variables_initializer())"
   ]
  },
  {
   "cell_type": "code",
   "execution_count": 68,
   "metadata": {},
   "outputs": [
    {
     "name": "stdout",
     "output_type": "stream",
     "text": [
      "cost: 8.837275505065918, hf: [[150.82047]\n",
      " [184.06213]\n",
      " [189.43027]\n",
      " [195.14178]\n",
      " [168.83194]]\n",
      "cost: 8.836099624633789, hf: [[150.82436]\n",
      " [184.0558 ]\n",
      " [189.43346]\n",
      " [195.13713]\n",
      " [168.83849]]\n",
      "cost: 8.834916114807129, hf: [[150.82787]\n",
      " [184.04958]\n",
      " [189.43657]\n",
      " [195.13246]\n",
      " [168.84523]]\n",
      "cost: 8.833982467651367, hf: [[150.83205]\n",
      " [184.0435 ]\n",
      " [189.43959]\n",
      " [195.12825]\n",
      " [168.85051]]\n",
      "cost: 8.833050727844238, hf: [[150.83635]\n",
      " [184.0378 ]\n",
      " [189.44243]\n",
      " [195.12459]\n",
      " [168.85469]]\n",
      "cost: 8.832119941711426, hf: [[150.84045]\n",
      " [184.03229]\n",
      " [189.44513]\n",
      " [195.1211 ]\n",
      " [168.85861]]\n",
      "[[324.23206]]\n"
     ]
    }
   ],
   "source": [
    "for step in range(10001):\n",
    "    cv, hv, _ = sess.run([cost, hf, train],\n",
    "                        feed_dict={x:xdata,y:ydata})\n",
    "    if step%2000==0:\n",
    "        print(\"cost: {}, hf: {}\".format(cv,hv))\n",
    "print(sess.run(hf,feed_dict={x:np.array([[100,70,60]])}))"
   ]
  },
  {
   "cell_type": "code",
   "execution_count": 71,
   "metadata": {},
   "outputs": [
    {
     "data": {
      "text/plain": [
       "array([[ 80.,  79.,  77., 149.],\n",
       "       [ 93.,  88.,  93., 185.],\n",
       "       [ 89.,  91.,  90., 180.],\n",
       "       [ 96.,  98., 100., 196.],\n",
       "       [ 73.,  66.,  70., 142.],\n",
       "       [ 53.,  46.,  55., 101.],\n",
       "       [ 69.,  74.,  77., 149.],\n",
       "       [ 47.,  56.,  60., 115.],\n",
       "       [ 87.,  79.,  90., 175.],\n",
       "       [ 79.,  70.,  88., 164.],\n",
       "       [ 69.,  70.,  73., 141.],\n",
       "       [ 70.,  65.,  74., 141.],\n",
       "       [ 93.,  95.,  91., 184.],\n",
       "       [ 79.,  80.,  73., 152.],\n",
       "       [ 70.,  73.,  78., 148.],\n",
       "       [ 93.,  89.,  96., 192.],\n",
       "       [ 78.,  75.,  68., 147.],\n",
       "       [ 81.,  90.,  93., 183.],\n",
       "       [ 88.,  92.,  86., 177.],\n",
       "       [ 78.,  83.,  77., 159.],\n",
       "       [ 82.,  86.,  90., 177.],\n",
       "       [ 86.,  82.,  89., 175.],\n",
       "       [ 78.,  83.,  85., 175.],\n",
       "       [ 76.,  83.,  71., 149.],\n",
       "       [ 96.,  93.,  95., 192.]])"
      ]
     },
     "execution_count": 71,
     "metadata": {},
     "output_type": "execute_result"
    }
   ],
   "source": [
    "# 성적 데이터 예측\n",
    "# 이게 아까 위에 있었던 컴마!\n",
    "xy = np.loadtxt(\"test-score.csv\", delimiter=',')\n",
    "xy"
   ]
  },
  {
   "cell_type": "code",
   "execution_count": 88,
   "metadata": {},
   "outputs": [
    {
     "data": {
      "text/plain": [
       "(25, 3)"
      ]
     },
     "execution_count": 88,
     "metadata": {},
     "output_type": "execute_result"
    }
   ],
   "source": [
    "# xdata : 1~3열 / ydata : 4열\n",
    "# 예상\n",
    "xdata = xy[:,:3]\n",
    "ydata = xy[:,-1].reshape(-1,1)\n",
    "xdata.shape"
   ]
  },
  {
   "cell_type": "code",
   "execution_count": 103,
   "metadata": {},
   "outputs": [
    {
     "data": {
      "text/plain": [
       "(25, 1)"
      ]
     },
     "execution_count": 103,
     "metadata": {},
     "output_type": "execute_result"
    }
   ],
   "source": [
    "ydata.shape"
   ]
  },
  {
   "cell_type": "code",
   "execution_count": 104,
   "metadata": {},
   "outputs": [
    {
     "name": "stdout",
     "output_type": "stream",
     "text": [
      "[[ 53.  46.  55.]\n",
      " [ 89.  91.  90.]\n",
      " [ 93.  95.  91.]\n",
      " [ 93.  89.  96.]\n",
      " [ 96.  98. 100.]\n",
      " [ 73.  66.  70.]\n",
      " [ 82.  86.  90.]\n",
      " [ 81.  90.  93.]\n",
      " [ 86.  82.  89.]\n",
      " [ 88.  92.  86.]\n",
      " [ 96.  93.  95.]\n",
      " [ 47.  56.  60.]\n",
      " [ 69.  70.  73.]\n",
      " [ 70.  73.  78.]\n",
      " [ 78.  83.  77.]\n",
      " [ 69.  74.  77.]]\n",
      "[[87. 79. 90.]\n",
      " [78. 75. 68.]\n",
      " [80. 79. 77.]\n",
      " [76. 83. 71.]\n",
      " [70. 65. 74.]\n",
      " [79. 70. 88.]\n",
      " [79. 80. 73.]\n",
      " [93. 88. 93.]\n",
      " [78. 83. 85.]]\n"
     ]
    }
   ],
   "source": [
    "from sklearn.model_selection import train_test_split\n",
    "xtrain, xtest, ytrain, ytest = \\\n",
    "    train_test_split(xdata,ydata,test_size=0.33, random_state=42)\n",
    "print(xtrain)\n",
    "print(xtest)"
   ]
  },
  {
   "cell_type": "code",
   "execution_count": 105,
   "metadata": {},
   "outputs": [
    {
     "name": "stdout",
     "output_type": "stream",
     "text": [
      "cost: 58647.53125\n",
      "cost: 7.196833610534668\n",
      "cost: 5.0481858253479\n",
      "cost: 4.865922451019287\n",
      "cost: 4.847195148468018\n",
      "cost: 4.843062400817871\n",
      "cost: 4.840298175811768\n",
      "cost: 4.837664604187012\n",
      "cost: 4.8350677490234375\n",
      "cost: 4.8324689865112305\n",
      "cost: 4.829882621765137\n",
      "[[187.16643]\n",
      " [169.89624]\n",
      " [182.64221]]\n"
     ]
    }
   ],
   "source": [
    "x = tf.placeholder(dtype=tf.float32, shape=[None,3])\n",
    "y = tf.placeholder(dtype=tf.float32, shape=[None,1])\n",
    "w = tf.Variable(tf.random_normal([3,1]), name=\"weight\")\n",
    "b = tf.Variable(tf.random_normal([1]), name=\"bias\") \n",
    "\n",
    "hf = tf.matmul(x,w) + b\n",
    "cost = tf.reduce_mean(tf.square(hf-y))\n",
    "train = tf.train.GradientDescentOptimizer(3e-5).minimize(cost)\n",
    "\n",
    "sess = tf.Session()\n",
    "sess.run(tf.global_variables_initializer())\n",
    "\n",
    "for step in range(20001):\n",
    "    cv, hv, _ = sess.run([cost, hf, train],\n",
    "                        feed_dict={x:xtrain,y:ytrain})\n",
    "    if step%2000==0:\n",
    "        print(\"cost: {}\".format(cv))\n",
    "xtest = np.array([[100,70,102],[60,70,100],[80,90,95]])\n",
    "print(sess.run(hf,feed_dict={x:xtest}))"
   ]
  },
  {
   "cell_type": "code",
   "execution_count": 101,
   "metadata": {},
   "outputs": [],
   "source": [
    "# 주식 관련 단순선형 회귀모형 구축 : close / volume 예측\n",
    "# 오늘 종가 예측"
   ]
  },
  {
   "cell_type": "code",
   "execution_count": 154,
   "metadata": {},
   "outputs": [],
   "source": [
    "stock = pd.read_csv(\"samsung5Y.csv\")"
   ]
  },
  {
   "cell_type": "code",
   "execution_count": 174,
   "metadata": {},
   "outputs": [
    {
     "data": {
      "text/plain": [
       "array([[27760., 28160., 27480., 27900.],\n",
       "       [27480., 27700., 26720., 26860.],\n",
       "       [26100., 26560., 25840., 25840.],\n",
       "       ...,\n",
       "       [47150., 47200., 46600., 47200.],\n",
       "       [46650., 47150., 46550., 47150.],\n",
       "       [46800., 47050., 46000., 46100.]])"
      ]
     },
     "execution_count": 174,
     "metadata": {},
     "output_type": "execute_result"
    }
   ],
   "source": [
    "# predicting volume\n",
    "xdata = stock[['Open','High','Low','Close']].values\n",
    "xdata"
   ]
  },
  {
   "cell_type": "code",
   "execution_count": 175,
   "metadata": {},
   "outputs": [
    {
     "data": {
      "text/plain": [
       "array([[17359450.],\n",
       "       [24351350.],\n",
       "       [28231050.],\n",
       "       ...,\n",
       "       [ 8408838.],\n",
       "       [ 7873886.],\n",
       "       [ 6856846.]], dtype=float32)"
      ]
     },
     "execution_count": 175,
     "metadata": {},
     "output_type": "execute_result"
    }
   ],
   "source": [
    "ydata = stock[['Volume']].values\n",
    "ydata = ydata.astype(np.float32)\n",
    "ydata"
   ]
  },
  {
   "cell_type": "code",
   "execution_count": 176,
   "metadata": {
    "scrolled": true
   },
   "outputs": [
    {
     "data": {
      "text/plain": [
       "array([[0.26838437],\n",
       "       [0.37648207],\n",
       "       [0.43646386],\n",
       "       ...,\n",
       "       [0.13000415],\n",
       "       [0.12173358],\n",
       "       [0.10600971]], dtype=float32)"
      ]
     },
     "execution_count": 176,
     "metadata": {},
     "output_type": "execute_result"
    }
   ],
   "source": [
    "def mnscaler(data):\n",
    "    minv = data.min()\n",
    "    maxv = data.max()\n",
    "    data = (data - minv) / (maxv - minv)\n",
    "    return data\n",
    "\n",
    "# mnscaler(ydata)\n",
    "ydata = mnscaler(ydata)\n",
    "ydata"
   ]
  },
  {
   "cell_type": "code",
   "execution_count": 177,
   "metadata": {},
   "outputs": [
    {
     "data": {
      "text/plain": [
       "array([[ 0.9732817 ],\n",
       "       [ 2.2428808 ],\n",
       "       [ 2.9473624 ],\n",
       "       ...,\n",
       "       [-0.6519834 ],\n",
       "       [-0.74912065],\n",
       "       [-0.9337962 ]], dtype=float32)"
      ]
     },
     "execution_count": 177,
     "metadata": {},
     "output_type": "execute_result"
    }
   ],
   "source": [
    "ydata = scaler.fit_transform(ydata)\n",
    "ydata"
   ]
  },
  {
   "cell_type": "code",
   "execution_count": 178,
   "metadata": {},
   "outputs": [
    {
     "data": {
      "text/plain": [
       "array([[0.09090909, 0.09090909, 0.09090909, 0.18181818, 0.        ],\n",
       "       [0.18181818, 0.18181818, 0.        , 1.        , 0.09090909]])"
      ]
     },
     "execution_count": 178,
     "metadata": {},
     "output_type": "execute_result"
    }
   ],
   "source": [
    "from sklearn.preprocessing import StandardScaler, MinMaxScaler, scale\n",
    "# 외않되?\n",
    "\n",
    "tmp = np.array([[2,2,2,3,1],[3,3,1,12,2]])\n",
    "\n",
    "mnscaler(tmp)\n",
    "\n",
    "# scale(tmp)"
   ]
  },
  {
   "cell_type": "code",
   "execution_count": 179,
   "metadata": {},
   "outputs": [
    {
     "data": {
      "text/plain": [
       "array([[27760., 27480., 26100., ..., 47150., 46650., 46800.],\n",
       "       [28160., 27700., 26560., ..., 47200., 47150., 47050.],\n",
       "       [27480., 26720., 25840., ..., 46600., 46550., 46000.],\n",
       "       [27900., 26860., 25840., ..., 47200., 47150., 46100.]])"
      ]
     },
     "execution_count": 179,
     "metadata": {},
     "output_type": "execute_result"
    }
   ],
   "source": [
    "xdata.T"
   ]
  },
  {
   "cell_type": "code",
   "execution_count": 180,
   "metadata": {},
   "outputs": [],
   "source": [
    "mnscaler(xdata)\n",
    "scaler = StandardScaler()"
   ]
  },
  {
   "cell_type": "code",
   "execution_count": 181,
   "metadata": {
    "scrolled": false
   },
   "outputs": [
    {
     "data": {
      "text/plain": [
       "array([[ 1.        ,  1.        ,  1.        , ...,  1.        ,\n",
       "         1.        ,  1.        ],\n",
       "       [-0.86348912, -0.89040371, -1.0230542 , ...,  1.00034628,\n",
       "         0.95228452,  0.96670305],\n",
       "       [-0.85274146, -0.89658923, -1.00525544, ...,  0.96217491,\n",
       "         0.95740884,  0.94787672],\n",
       "       [-0.86472531, -0.93857448, -1.02408403, ...,  0.99316416,\n",
       "         0.98830566,  0.93486219],\n",
       "       [-0.85139177, -0.95148702, -1.04965735, ...,  1.00614499,\n",
       "         1.00133272,  0.90027502]])"
      ]
     },
     "execution_count": 181,
     "metadata": {},
     "output_type": "execute_result"
    }
   ],
   "source": [
    "xdata = mnscaler(xdata)\n",
    "xdata = scaler.fit_transform(xdata)\n",
    "xbdata = np.vstack([np.ones_like(ydata.T),xdata.T])\n",
    "xbdata\n",
    "xbdata "
   ]
  },
  {
   "cell_type": "code",
   "execution_count": 182,
   "metadata": {},
   "outputs": [],
   "source": [
    "ydata = ydata.T"
   ]
  },
  {
   "cell_type": "code",
   "execution_count": 183,
   "metadata": {
    "scrolled": true
   },
   "outputs": [
    {
     "name": "stdout",
     "output_type": "stream",
     "text": [
      "(5, 1225) (1, 1225)\n"
     ]
    }
   ],
   "source": [
    "print(xbdata.shape, ydata.shape)"
   ]
  },
  {
   "cell_type": "code",
   "execution_count": 184,
   "metadata": {},
   "outputs": [],
   "source": [
    "from sklearn.model_selection import train_test_split\n",
    "\n",
    "xtrain, xtest, ytrain, ytest = \\\n",
    "    train_test_split(xbdata.T,ydata.T,test_size=0.2, random_state=42)\n",
    "\n",
    "xtrain = xtrain.T\n",
    "xtest = xtest.T\n",
    "ytrain = ytrain.T\n",
    "ytest = ytest.T"
   ]
  },
  {
   "cell_type": "code",
   "execution_count": 185,
   "metadata": {},
   "outputs": [
    {
     "data": {
      "text/plain": [
       "(1, 245)"
      ]
     },
     "execution_count": 185,
     "metadata": {},
     "output_type": "execute_result"
    }
   ],
   "source": [
    "ytest.shape"
   ]
  },
  {
   "cell_type": "code",
   "execution_count": 186,
   "metadata": {},
   "outputs": [
    {
     "name": "stdout",
     "output_type": "stream",
     "text": [
      "step : 0, cost : 1.8185852766036987\n",
      "w : [[-0.4201409   1.2455058   0.94170713 -1.5680352   0.13198116]]\n",
      "step : 30000, cost : 0.7673115730285645\n",
      "w : [[ 8.5469658e-08 -2.0347328e+00  1.8196360e+01 -1.3037555e+01\n",
      "  -3.1692650e+00]]\n",
      "step : 60000, cost : 0.7671512961387634\n",
      "w : [[ 1.2255629e-07 -2.2651424e+00  1.8419609e+01 -1.2788194e+01\n",
      "  -3.4115474e+00]]\n",
      "step : 90000, cost : 0.7671409845352173\n",
      "w : [[ 8.8793797e-08 -2.2907610e+00  1.8442009e+01 -1.2758028e+01\n",
      "  -3.4385037e+00]]\n",
      "step : 120000, cost : 0.7671409845352173\n",
      "w : [[ 8.8436494e-08 -2.2907610e+00  1.8442009e+01 -1.2758028e+01\n",
      "  -3.4385037e+00]]\n",
      "step : 150000, cost : 0.7671409845352173\n",
      "w : [[ 8.8079190e-08 -2.2907610e+00  1.8442009e+01 -1.2758028e+01\n",
      "  -3.4385037e+00]]\n",
      "step : 180000, cost : 0.7671409845352173\n",
      "w : [[ 8.7721887e-08 -2.2907610e+00  1.8442009e+01 -1.2758028e+01\n",
      "  -3.4385037e+00]]\n",
      "step : 210000, cost : 0.7671409845352173\n",
      "w : [[ 1.3095047e-07 -2.2907610e+00  1.8442009e+01 -1.2758028e+01\n",
      "  -3.4385037e+00]]\n",
      "step : 240000, cost : 0.7671409845352173\n",
      "w : [[ 1.3059316e-07 -2.2907610e+00  1.8442009e+01 -1.2758028e+01\n",
      "  -3.4385037e+00]]\n",
      "step : 270000, cost : 0.7671409845352173\n",
      "w : [[ 1.3023586e-07 -2.2907610e+00  1.8442009e+01 -1.2758028e+01\n",
      "  -3.4385037e+00]]\n",
      "step : 300000, cost : 0.7671409845352173\n",
      "w : [[ 1.2987856e-07 -2.2907610e+00  1.8442009e+01 -1.2758028e+01\n",
      "  -3.4385037e+00]]\n",
      "mse: 0.5234432220458984\n"
     ]
    }
   ],
   "source": [
    "from sklearn.metrics import mean_squared_error, mean_squared_log_error\n",
    "\n",
    "w = tf.Variable(tf.random_normal([1,5]))\n",
    "x = tf.placeholder(dtype=tf.float32, shape=[5,None])\n",
    "y = tf.placeholder(dtype=tf.float32, shape=[1,None])\n",
    "hf = tf.matmul(w,x)\n",
    "cost = tf.reduce_mean(tf.square(hf-y))\n",
    "\n",
    "train = tf.train.GradientDescentOptimizer(0.2).minimize(cost)\n",
    "\n",
    "with tf.Session() as sess:\n",
    "    init = tf.global_variables_initializer()\n",
    "    sess.run(init)\n",
    "    for step in range(300001):\n",
    "        sess.run(train, feed_dict={x:xbdata,y:ydata})\n",
    "        if step%30000==0:\n",
    "            print(\"step : {}, cost : {}\".\\\n",
    "                  format(step,sess.run(cost,feed_dict={x:xtrain,y:ytrain})))\n",
    "            print(\"w : {}\".format(sess.run(w)))\n",
    "    \n",
    "    # test\n",
    "    # sess.run이 ndarray!\n",
    "    pred = sess.run(hf, feed_dict={x:xtest})\n",
    "#     print(pred)\n",
    "    print(\"mse: {}\".format(mean_squared_error(pred,ytest)))\n",
    "#     print(\"msle: {}\".format(mean_squared_log_error(pred,ytest)))\n",
    "# 좀 이상하다"
   ]
  },
  {
   "cell_type": "code",
   "execution_count": null,
   "metadata": {},
   "outputs": [],
   "source": [
    "from sklearn.metrics import mean_squared_error, mean_squared_log_error\n",
    "\n",
    "# hidden layer 갯수를 20개로\n",
    "w1 = tf.Variable(tf.random_normal([20,5]))\n",
    "x = tf.placeholder(dtype=tf.float32, shape=[5,None])\n",
    "y = tf.placeholder(dtype=tf.float32, shape=[1,None])\n",
    "hf = tf.matmul(w,x)\n",
    "cost = tf.reduce_mean(tf.square(hf-y))\n",
    "\n",
    "train = tf.train.GradientDescentOptimizer(0.2).minimize(cost)\n",
    "\n",
    "with tf.Session() as sess:\n",
    "    init = tf.global_variables_initializer()\n",
    "    sess.run(init)\n",
    "    for step in range(300001):\n",
    "        sess.run(train, feed_dict={x:xbdata,y:ydata})\n",
    "        if step%30000==0:\n",
    "            print(\"step : {}, cost : {}\".\\\n",
    "                  format(step,sess.run(cost,feed_dict={x:xtrain,y:ytrain})))\n",
    "            print(\"w : {}\".format(sess.run(w)))\n",
    "    \n",
    "    # test\n",
    "    # sess.run이 ndarray!\n",
    "    pred = sess.run(hf, feed_dict={x:xtest})\n",
    "#     print(pred)\n",
    "    print(\"mse: {}\".format(mean_squared_error(pred,ytest)))\n",
    "#     print(\"msle: {}\".format(mean_squared_log_error(pred,ytest)))\n",
    "# 좀 이상하다"
   ]
  },
  {
   "cell_type": "code",
   "execution_count": 114,
   "metadata": {},
   "outputs": [],
   "source": [
    "QUEUE_LENGTH = 20\n",
    "# queue의 길이는 대략 몇으로 할 것인가?\n",
    "q = tf.FIFOQueue(QUEUE_LENGTH, \"float\")\n",
    "# 데이터가 20개까지 float형식으로 저장"
   ]
  },
  {
   "cell_type": "code",
   "execution_count": 115,
   "metadata": {},
   "outputs": [],
   "source": [
    "enq_ops1 = q.enqueue_many(([1.,2.,3.,4.],))\n",
    "enq_ops2 = q.enqueue_many(([11.,22.,33.,44.],))\n",
    "enq_ops3 = q.enqueue_many(([111.,222.,333.,444.],))\n",
    "# 한번에 4개씩..? q에 집어넣어라!\n",
    "qr = tf.train.QueueRunner(q, [enq_ops1, enq_ops2, enq_ops3])\n",
    "# 쓰레드 3개 지정!\n",
    "# 3개의 스레드가 동작되어져서 데이터가 읽어지는 것"
   ]
  },
  {
   "cell_type": "code",
   "execution_count": 123,
   "metadata": {},
   "outputs": [
    {
     "name": "stdout",
     "output_type": "stream",
     "text": [
      "1.0\n",
      "2.0\n",
      "3.0\n",
      "4.0\n",
      "11.0\n",
      "22.0\n",
      "33.0\n",
      "44.0\n",
      "11.0\n",
      "22.0\n"
     ]
    }
   ],
   "source": [
    "sess = tf.Session()\n",
    "coord = tf.train.Coordinator()\n",
    "threads = qr.create_threads(sess, coord=coord, start=True)\n",
    "\n",
    "# 요 순서는 thread 순서에 따라 꼭 되는 것이 아니라, CPU 상황에 따라 되므로\n",
    "# 잘 모름!\n",
    "for step in range(10):\n",
    "    print(sess.run(q.dequeue()))\n",
    "    \n",
    "coord.request_stop() # 스레드 정지\n",
    "coord.join(threads) # 정지될 때 까지 기다리는 함수 : 막판 새치기 가능?!"
   ]
  },
  {
   "cell_type": "code",
   "execution_count": 187,
   "metadata": {},
   "outputs": [],
   "source": [
    "# 파일에서 데이터 읽기\n",
    "# 1. 파일 목록 읽기\n",
    "# 2. 파일 목록을 파일 이름 큐에 저장\n",
    "# 3. reader가 파일이름 큐에서 파일명을 하나씩 읽어옴\n",
    "# 4. decoder는 파일에 있는 데이터를 읽어들인다\n",
    "# 5. 데이터를 정제(전처리)\n",
    "# 6. 정제된 데이터를 example queue에 저장\n",
    "# 7. example queue에서 데이터를 가져와 학습"
   ]
  },
  {
   "cell_type": "code",
   "execution_count": 199,
   "metadata": {},
   "outputs": [],
   "source": [
    "sess = tf.Session()\n",
    "queue = tf.train.string_input_producer(['q_runner/q_1.txt','q_runner/q_2.txt','q_runner/q_3.txt'],\\\n",
    "                              shuffle=False)\n",
    "coord = tf.train.Coordinator()"
   ]
  },
  {
   "cell_type": "code",
   "execution_count": 200,
   "metadata": {},
   "outputs": [
    {
     "name": "stdout",
     "output_type": "stream",
     "text": [
      "Tensor(\"ReaderReadV2_4:0\", shape=(), dtype=string) Tensor(\"ReaderReadV2_4:1\", shape=(), dtype=string)\n"
     ]
    }
   ],
   "source": [
    "reader = tf.TextLineReader()\n",
    "key, value = reader.read(queue=queue)\n",
    "print(key, value)\n",
    "# print(sess.run(key))\n",
    "# print(sess.run(value))"
   ]
  },
  {
   "cell_type": "code",
   "execution_count": null,
   "metadata": {},
   "outputs": [],
   "source": [
    "for i in range(100):\n",
    "    speed, distance = tf.decode_csv(value, record_defaults=[[0],[0]])\n",
    "    # 누락치 값에 대해서는 0,0으로 해주겠다!\n",
    "    print(sess.run([speed, distance]))\n",
    "coord.request_stop() # 스레드 정지\n",
    "coord.join(threads) # 정지될 때 까지 기다리는 함수 : 막판 새치기 가능?!"
   ]
  },
  {
   "cell_type": "code",
   "execution_count": null,
   "metadata": {},
   "outputs": [],
   "source": []
  }
 ],
 "metadata": {
  "kernelspec": {
   "display_name": "Python 3",
   "language": "python",
   "name": "python3"
  },
  "language_info": {
   "codemirror_mode": {
    "name": "ipython",
    "version": 3
   },
   "file_extension": ".py",
   "mimetype": "text/x-python",
   "name": "python",
   "nbconvert_exporter": "python",
   "pygments_lexer": "ipython3",
   "version": "3.7.3"
  }
 },
 "nbformat": 4,
 "nbformat_minor": 2
}
